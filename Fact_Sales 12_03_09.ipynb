{
 "cells": [
  {
   "cell_type": "code",
   "execution_count": 0,
   "metadata": {
    "application/vnd.databricks.v1+cell": {
     "cellMetadata": {
      "byteLimit": 2048000,
      "rowLimit": 10000
     },
     "inputWidgets": {},
     "nuid": "7877d63a-e663-4e18-b7d4-53317bbd982c",
     "showTitle": false,
     "tableResultSettingsMap": {},
     "title": ""
    }
   },
   "outputs": [],
   "source": [
    "from pyspark.sql import SparkSession "
   ]
  },
  {
   "cell_type": "code",
   "execution_count": 0,
   "metadata": {
    "application/vnd.databricks.v1+cell": {
     "cellMetadata": {
      "byteLimit": 2048000,
      "rowLimit": 10000
     },
     "inputWidgets": {},
     "nuid": "e88f73e1-76b0-48cc-b5b3-7627b781097a",
     "showTitle": false,
     "tableResultSettingsMap": {},
     "title": ""
    }
   },
   "outputs": [],
   "source": [
    "from pyspark.sql import functions as F\n",
    "from pyspark.sql.window import Window\n",
    "from pyspark.sql.functions import *\n",
    "from pyspark.sql.types import StructType, StructField, LongType, StringType, DateType, IntegerType"
   ]
  },
  {
   "cell_type": "code",
   "execution_count": 0,
   "metadata": {
    "application/vnd.databricks.v1+cell": {
     "cellMetadata": {
      "byteLimit": 2048000,
      "rowLimit": 10000
     },
     "inputWidgets": {},
     "nuid": "9f001319-ad9c-478d-98e3-2175648e46b3",
     "showTitle": false,
     "tableResultSettingsMap": {},
     "title": ""
    }
   },
   "outputs": [],
   "source": [
    "from itertools import chain"
   ]
  },
  {
   "cell_type": "code",
   "execution_count": 0,
   "metadata": {
    "application/vnd.databricks.v1+cell": {
     "cellMetadata": {
      "byteLimit": 2048000,
      "rowLimit": 10000
     },
     "inputWidgets": {},
     "nuid": "96dab482-51a2-4b4c-b1fc-9e9803bd5f87",
     "showTitle": false,
     "tableResultSettingsMap": {},
     "title": ""
    }
   },
   "outputs": [],
   "source": [
    "import datetime\n",
    "from datetime import timedelta"
   ]
  },
  {
   "cell_type": "code",
   "execution_count": 0,
   "metadata": {
    "application/vnd.databricks.v1+cell": {
     "cellMetadata": {
      "byteLimit": 2048000,
      "rowLimit": 10000
     },
     "inputWidgets": {},
     "nuid": "24d0b9cc-38bf-43b4-9791-137736c3ce6c",
     "showTitle": false,
     "tableResultSettingsMap": {},
     "title": ""
    }
   },
   "outputs": [],
   "source": [
    "spark = SparkSession.builder.appName('FactSales2Dimensionality').getOrCreate()"
   ]
  },
  {
   "cell_type": "code",
   "execution_count": 0,
   "metadata": {
    "application/vnd.databricks.v1+cell": {
     "cellMetadata": {
      "byteLimit": 2048000,
      "rowLimit": 10000
     },
     "inputWidgets": {},
     "nuid": "fe8436e5-54e9-4293-b0dc-5c8139a70bf4",
     "showTitle": false,
     "tableResultSettingsMap": {},
     "title": ""
    }
   },
   "outputs": [
    {
     "output_type": "stream",
     "name": "stdout",
     "output_type": "stream",
     "text": [
      "Out[5]: [FileInfo(path='dbfs:/FileStore/tables/an_utd_python_s3_us_west_1_amazonaws_com_yelp_labelled.txt', name='an_utd_python_s3_us_west_1_amazonaws_com_yelp_labelled.txt', size=61320, modificationTime=1687812855000),\n FileInfo(path='dbfs:/FileStore/tables/crime_data.csv', name='crime_data.csv', size=1440, modificationTime=1687816551000),\n FileInfo(path='dbfs:/FileStore/tables/fact_sales.csv', name='fact_sales.csv', size=2348, modificationTime=1749790542000),\n FileInfo(path='dbfs:/FileStore/tables/fact_sales_data_v2.csv', name='fact_sales_data_v2.csv', size=3113, modificationTime=1750096783000),\n FileInfo(path='dbfs:/FileStore/tables/students-1.csv', name='students-1.csv', size=94, modificationTime=1749433987000),\n FileInfo(path='dbfs:/FileStore/tables/students-2.csv', name='students-2.csv', size=94, modificationTime=1749437015000),\n FileInfo(path='dbfs:/FileStore/tables/students.csv', name='students.csv', size=94, modificationTime=1749433896000)]"
     ]
    }
   ],
   "source": [
    "dbutils.fs.ls(\"/FileStore/tables/\")"
   ]
  },
  {
   "cell_type": "code",
   "execution_count": 0,
   "metadata": {
    "application/vnd.databricks.v1+cell": {
     "cellMetadata": {
      "byteLimit": 2048000,
      "rowLimit": 10000
     },
     "inputWidgets": {},
     "nuid": "5a61408e-9a73-4a86-bf5c-b8a0741891bf",
     "showTitle": false,
     "tableResultSettingsMap": {},
     "title": ""
    }
   },
   "outputs": [],
   "source": [
    "df = spark.read.csv(\"/FileStore/tables/fact_sales_data_v2.csv\", header=True, inferSchema=True)"
   ]
  },
  {
   "cell_type": "code",
   "execution_count": 0,
   "metadata": {
    "application/vnd.databricks.v1+cell": {
     "cellMetadata": {
      "byteLimit": 2048000,
      "rowLimit": 10000
     },
     "inputWidgets": {},
     "nuid": "5a99dd27-b242-42a5-babc-7fe318576225",
     "showTitle": false,
     "tableResultSettingsMap": {},
     "title": ""
    }
   },
   "outputs": [
    {
     "output_type": "display_data",
     "data": {
      "text/html": [
       "<style scoped>\n",
       "  .table-result-container {\n",
       "    max-height: 300px;\n",
       "    overflow: auto;\n",
       "  }\n",
       "  table, th, td {\n",
       "    border: 1px solid black;\n",
       "    border-collapse: collapse;\n",
       "  }\n",
       "  th, td {\n",
       "    padding: 5px;\n",
       "  }\n",
       "  th {\n",
       "    text-align: left;\n",
       "  }\n",
       "</style><div class='table-result-container'><table class='table-result'><thead style='background-color: white'><tr><th>ProductCategory</th><th>ProductName</th><th>Brand</th><th>StoreRegion</th><th>StoreName</th><th>StoreType</th><th>SalesRep</th><th>Department</th><th>EmployeeRole</th><th>UnitsSold</th><th>UnitPrice</th><th>Discount</th><th>SaleDate</th></tr></thead><tbody><tr><td>Furniture</td><td>T-shirt</td><td>BrandB</td><td>East</td><td>StoreX</td><td>Franchise</td><td>Martha Long</td><td>Electronics</td><td>Cashier</td><td>12.0</td><td>-1.0</td><td>5.0</td><td>2022-12-14</td></tr><tr><td>Clothing</td><td>Tablet</td><td>BrandC</td><td>East</td><td>StoreZ</td><td>Franchise</td><td>Martha Long</td><td>Home</td><td>Sales Associate</td><td>null</td><td>272.49</td><td>null</td><td>2023-02-24</td></tr><tr><td>Clothing</td><td>Tablet</td><td>BrandA</td><td>South</td><td>StoreX</td><td>Retail</td><td>Emily Vazquez</td><td>Apparel</td><td>Cashier</td><td>null</td><td>484.75</td><td>15.0</td><td>2025-03-24</td></tr><tr><td>Electronics</td><td>Smartphone</td><td>BrandB</td><td>West</td><td>StoreY</td><td>Outlet</td><td>Charles Fields</td><td>Apparel</td><td>Cashier</td><td>null</td><td>205.74</td><td>10.0</td><td>2023-09-30</td></tr><tr><td>Furniture</td><td>T-shirt</td><td>BrandC</td><td>East</td><td>StoreZ</td><td>Outlet</td><td>Wendy Castillo</td><td>Home</td><td>Manager</td><td>46.0</td><td>20.25</td><td>5.0</td><td>2022-10-14</td></tr><tr><td>Furniture</td><td>T-shirt</td><td>BrandC</td><td>South</td><td>StoreY</td><td>Retail</td><td>Wendy Castillo</td><td>Home</td><td>Manager</td><td>null</td><td>361.06</td><td>10.0</td><td>2024-02-23</td></tr><tr><td>Clothing</td><td>T-shirt</td><td>BrandC</td><td>South</td><td>StoreY</td><td>Outlet</td><td>John Harris</td><td>Home</td><td>Cashier</td><td>37.0</td><td>492.65</td><td>5.0</td><td>2024-05-06</td></tr><tr><td>Electronics</td><td>Smartphone</td><td>BrandC</td><td>South</td><td>StoreX</td><td>Outlet</td><td>Charles Fields</td><td>Home</td><td>Sales Associate</td><td>37.0</td><td>293.87</td><td>15.0</td><td>2023-04-04</td></tr><tr><td>Clothing</td><td>Jeans</td><td>BrandA</td><td>South</td><td>StoreY</td><td>Retail</td><td>Wendy Castillo</td><td>Electronics</td><td>Manager</td><td>23.0</td><td>189.47</td><td>15.0</td><td>2022-12-26</td></tr><tr><td>Furniture</td><td>T-shirt</td><td>BrandB</td><td>East</td><td>StoreZ</td><td>Franchise</td><td>Charles Fields</td><td>Apparel</td><td>Manager</td><td>25.0</td><td>359.08</td><td>10.0</td><td>2022-10-28</td></tr><tr><td>Clothing</td><td>Desk</td><td>BrandC</td><td>South</td><td>StoreZ</td><td>Retail</td><td>Wendy Castillo</td><td>Home</td><td>Manager</td><td>null</td><td>438.28</td><td>null</td><td>2025-05-12</td></tr><tr><td>Clothing</td><td>Desk</td><td>BrandB</td><td>North</td><td>StoreZ</td><td>Retail</td><td>Kelly Moore</td><td>Apparel</td><td>Sales Associate</td><td>null</td><td>-1.0</td><td>0.0</td><td>2024-11-14</td></tr><tr><td>Electronics</td><td>Tablet</td><td>BrandB</td><td>North</td><td>StoreX</td><td>Outlet</td><td>Kara Lewis</td><td>Electronics</td><td>Manager</td><td>null</td><td>490.01</td><td>null</td><td>2025-05-20</td></tr><tr><td>Furniture</td><td>Tablet</td><td>BrandC</td><td>East</td><td>StoreX</td><td>Retail</td><td>Emily Vazquez</td><td>Apparel</td><td>Manager</td><td>15.0</td><td>139.58</td><td>5.0</td><td>2023-11-09</td></tr><tr><td>Electronics</td><td>Chair</td><td>BrandA</td><td>West</td><td>StoreY</td><td>Franchise</td><td>James Austin</td><td>Electronics</td><td>Cashier</td><td>null</td><td>67.66</td><td>15.0</td><td>2025-03-27</td></tr><tr><td>Electronics</td><td>Desk</td><td>BrandA</td><td>East</td><td>StoreX</td><td>Franchise</td><td>Emily Vazquez</td><td>Home</td><td>Manager</td><td>19.0</td><td>330.2</td><td>10.0</td><td>2022-12-16</td></tr><tr><td>Furniture</td><td>T-shirt</td><td>BrandC</td><td>West</td><td>StoreY</td><td>Franchise</td><td>Martha Long</td><td>Home</td><td>Cashier</td><td>7.0</td><td>290.63</td><td>15.0</td><td>2022-07-28</td></tr><tr><td>Electronics</td><td>Desk</td><td>BrandC</td><td>North</td><td>StoreY</td><td>Outlet</td><td>Charles Fields</td><td>Home</td><td>Cashier</td><td>7.0</td><td>349.27</td><td>10.0</td><td>2022-07-04</td></tr><tr><td>Furniture</td><td>Jeans</td><td>BrandC</td><td>East</td><td>StoreZ</td><td>Franchise</td><td>Wendy Castillo</td><td>Home</td><td>Manager</td><td>null</td><td>267.61</td><td>0.0</td><td>2022-11-27</td></tr><tr><td>Electronics</td><td>Jeans</td><td>BrandB</td><td>East</td><td>StoreZ</td><td>Outlet</td><td>James Austin</td><td>Home</td><td>Manager</td><td>41.0</td><td>52.57</td><td>null</td><td>2025-03-16</td></tr><tr><td>Clothing</td><td>null</td><td>BrandB</td><td>East</td><td>StoreZ</td><td>Franchise</td><td>Kyle Lin</td><td>Electronics</td><td>Manager</td><td>null</td><td>85.99</td><td>0.0</td><td>2024-03-05</td></tr><tr><td>Electronics</td><td>T-shirt</td><td>BrandA</td><td>South</td><td>StoreX</td><td>Retail</td><td>Kelly Moore</td><td>Apparel</td><td>Sales Associate</td><td>null</td><td>-1.0</td><td>5.0</td><td>2025-04-06</td></tr><tr><td>Furniture</td><td>null</td><td>BrandA</td><td>South</td><td>StoreZ</td><td>Retail</td><td>Billy Perez</td><td>Apparel</td><td>Sales Associate</td><td>22.0</td><td>444.29</td><td>null</td><td>2024-03-05</td></tr><tr><td>Clothing</td><td>Desk</td><td>BrandB</td><td>North</td><td>StoreX</td><td>Franchise</td><td>John Harris</td><td>Apparel</td><td>Manager</td><td>41.0</td><td>283.25</td><td>null</td><td>2023-02-06</td></tr><tr><td>Furniture</td><td>null</td><td>BrandA</td><td>North</td><td>StoreZ</td><td>Franchise</td><td>Charles Fields</td><td>Home</td><td>Cashier</td><td>16.0</td><td>238.49</td><td>0.0</td><td>2024-08-27</td></tr><tr><td>Clothing</td><td>Jeans</td><td>BrandC</td><td>North</td><td>StoreY</td><td>Retail</td><td>Kyle Lin</td><td>Electronics</td><td>Sales Associate</td><td>null</td><td>414.77</td><td>0.0</td><td>2023-01-18</td></tr><tr><td>Furniture</td><td>Smartphone</td><td>BrandC</td><td>West</td><td>StoreX</td><td>Retail</td><td>Kyle Lin</td><td>Home</td><td>Cashier</td><td>null</td><td>21.38</td><td>5.0</td><td>2022-10-11</td></tr><tr><td>Furniture</td><td>Desk</td><td>BrandB</td><td>West</td><td>StoreX</td><td>Outlet</td><td>John Harris</td><td>Electronics</td><td>Manager</td><td>null</td><td>279.35</td><td>null</td><td>2023-10-11</td></tr><tr><td>Furniture</td><td>Tablet</td><td>BrandA</td><td>South</td><td>StoreY</td><td>Retail</td><td>Billy Perez</td><td>Electronics</td><td>Cashier</td><td>37.0</td><td>415.6</td><td>15.0</td><td>2022-08-23</td></tr><tr><td>Furniture</td><td>Desk</td><td>BrandA</td><td>South</td><td>StoreZ</td><td>Franchise</td><td>Emily Vazquez</td><td>Electronics</td><td>Sales Associate</td><td>null</td><td>359.04</td><td>0.0</td><td>2024-01-20</td></tr></tbody></table></div>"
      ]
     },
     "metadata": {
      "application/vnd.databricks.v1+output": {
       "addedWidgets": {},
       "aggData": [],
       "aggError": "",
       "aggOverflow": false,
       "aggSchema": [],
       "aggSeriesLimitReached": false,
       "aggType": "",
       "arguments": {},
       "columnCustomDisplayInfos": {},
       "data": [
        [
         "Furniture",
         "T-shirt",
         "BrandB",
         "East",
         "StoreX",
         "Franchise",
         "Martha Long",
         "Electronics",
         "Cashier",
         12.0,
         -1.0,
         5.0,
         "2022-12-14"
        ],
        [
         "Clothing",
         "Tablet",
         "BrandC",
         "East",
         "StoreZ",
         "Franchise",
         "Martha Long",
         "Home",
         "Sales Associate",
         null,
         272.49,
         null,
         "2023-02-24"
        ],
        [
         "Clothing",
         "Tablet",
         "BrandA",
         "South",
         "StoreX",
         "Retail",
         "Emily Vazquez",
         "Apparel",
         "Cashier",
         null,
         484.75,
         15.0,
         "2025-03-24"
        ],
        [
         "Electronics",
         "Smartphone",
         "BrandB",
         "West",
         "StoreY",
         "Outlet",
         "Charles Fields",
         "Apparel",
         "Cashier",
         null,
         205.74,
         10.0,
         "2023-09-30"
        ],
        [
         "Furniture",
         "T-shirt",
         "BrandC",
         "East",
         "StoreZ",
         "Outlet",
         "Wendy Castillo",
         "Home",
         "Manager",
         46.0,
         20.25,
         5.0,
         "2022-10-14"
        ],
        [
         "Furniture",
         "T-shirt",
         "BrandC",
         "South",
         "StoreY",
         "Retail",
         "Wendy Castillo",
         "Home",
         "Manager",
         null,
         361.06,
         10.0,
         "2024-02-23"
        ],
        [
         "Clothing",
         "T-shirt",
         "BrandC",
         "South",
         "StoreY",
         "Outlet",
         "John Harris",
         "Home",
         "Cashier",
         37.0,
         492.65,
         5.0,
         "2024-05-06"
        ],
        [
         "Electronics",
         "Smartphone",
         "BrandC",
         "South",
         "StoreX",
         "Outlet",
         "Charles Fields",
         "Home",
         "Sales Associate",
         37.0,
         293.87,
         15.0,
         "2023-04-04"
        ],
        [
         "Clothing",
         "Jeans",
         "BrandA",
         "South",
         "StoreY",
         "Retail",
         "Wendy Castillo",
         "Electronics",
         "Manager",
         23.0,
         189.47,
         15.0,
         "2022-12-26"
        ],
        [
         "Furniture",
         "T-shirt",
         "BrandB",
         "East",
         "StoreZ",
         "Franchise",
         "Charles Fields",
         "Apparel",
         "Manager",
         25.0,
         359.08,
         10.0,
         "2022-10-28"
        ],
        [
         "Clothing",
         "Desk",
         "BrandC",
         "South",
         "StoreZ",
         "Retail",
         "Wendy Castillo",
         "Home",
         "Manager",
         null,
         438.28,
         null,
         "2025-05-12"
        ],
        [
         "Clothing",
         "Desk",
         "BrandB",
         "North",
         "StoreZ",
         "Retail",
         "Kelly Moore",
         "Apparel",
         "Sales Associate",
         null,
         -1.0,
         0.0,
         "2024-11-14"
        ],
        [
         "Electronics",
         "Tablet",
         "BrandB",
         "North",
         "StoreX",
         "Outlet",
         "Kara Lewis",
         "Electronics",
         "Manager",
         null,
         490.01,
         null,
         "2025-05-20"
        ],
        [
         "Furniture",
         "Tablet",
         "BrandC",
         "East",
         "StoreX",
         "Retail",
         "Emily Vazquez",
         "Apparel",
         "Manager",
         15.0,
         139.58,
         5.0,
         "2023-11-09"
        ],
        [
         "Electronics",
         "Chair",
         "BrandA",
         "West",
         "StoreY",
         "Franchise",
         "James Austin",
         "Electronics",
         "Cashier",
         null,
         67.66,
         15.0,
         "2025-03-27"
        ],
        [
         "Electronics",
         "Desk",
         "BrandA",
         "East",
         "StoreX",
         "Franchise",
         "Emily Vazquez",
         "Home",
         "Manager",
         19.0,
         330.2,
         10.0,
         "2022-12-16"
        ],
        [
         "Furniture",
         "T-shirt",
         "BrandC",
         "West",
         "StoreY",
         "Franchise",
         "Martha Long",
         "Home",
         "Cashier",
         7.0,
         290.63,
         15.0,
         "2022-07-28"
        ],
        [
         "Electronics",
         "Desk",
         "BrandC",
         "North",
         "StoreY",
         "Outlet",
         "Charles Fields",
         "Home",
         "Cashier",
         7.0,
         349.27,
         10.0,
         "2022-07-04"
        ],
        [
         "Furniture",
         "Jeans",
         "BrandC",
         "East",
         "StoreZ",
         "Franchise",
         "Wendy Castillo",
         "Home",
         "Manager",
         null,
         267.61,
         0.0,
         "2022-11-27"
        ],
        [
         "Electronics",
         "Jeans",
         "BrandB",
         "East",
         "StoreZ",
         "Outlet",
         "James Austin",
         "Home",
         "Manager",
         41.0,
         52.57,
         null,
         "2025-03-16"
        ],
        [
         "Clothing",
         null,
         "BrandB",
         "East",
         "StoreZ",
         "Franchise",
         "Kyle Lin",
         "Electronics",
         "Manager",
         null,
         85.99,
         0.0,
         "2024-03-05"
        ],
        [
         "Electronics",
         "T-shirt",
         "BrandA",
         "South",
         "StoreX",
         "Retail",
         "Kelly Moore",
         "Apparel",
         "Sales Associate",
         null,
         -1.0,
         5.0,
         "2025-04-06"
        ],
        [
         "Furniture",
         null,
         "BrandA",
         "South",
         "StoreZ",
         "Retail",
         "Billy Perez",
         "Apparel",
         "Sales Associate",
         22.0,
         444.29,
         null,
         "2024-03-05"
        ],
        [
         "Clothing",
         "Desk",
         "BrandB",
         "North",
         "StoreX",
         "Franchise",
         "John Harris",
         "Apparel",
         "Manager",
         41.0,
         283.25,
         null,
         "2023-02-06"
        ],
        [
         "Furniture",
         null,
         "BrandA",
         "North",
         "StoreZ",
         "Franchise",
         "Charles Fields",
         "Home",
         "Cashier",
         16.0,
         238.49,
         0.0,
         "2024-08-27"
        ],
        [
         "Clothing",
         "Jeans",
         "BrandC",
         "North",
         "StoreY",
         "Retail",
         "Kyle Lin",
         "Electronics",
         "Sales Associate",
         null,
         414.77,
         0.0,
         "2023-01-18"
        ],
        [
         "Furniture",
         "Smartphone",
         "BrandC",
         "West",
         "StoreX",
         "Retail",
         "Kyle Lin",
         "Home",
         "Cashier",
         null,
         21.38,
         5.0,
         "2022-10-11"
        ],
        [
         "Furniture",
         "Desk",
         "BrandB",
         "West",
         "StoreX",
         "Outlet",
         "John Harris",
         "Electronics",
         "Manager",
         null,
         279.35,
         null,
         "2023-10-11"
        ],
        [
         "Furniture",
         "Tablet",
         "BrandA",
         "South",
         "StoreY",
         "Retail",
         "Billy Perez",
         "Electronics",
         "Cashier",
         37.0,
         415.6,
         15.0,
         "2022-08-23"
        ],
        [
         "Furniture",
         "Desk",
         "BrandA",
         "South",
         "StoreZ",
         "Franchise",
         "Emily Vazquez",
         "Electronics",
         "Sales Associate",
         null,
         359.04,
         0.0,
         "2024-01-20"
        ]
       ],
       "datasetInfos": [],
       "dbfsResultPath": null,
       "isJsonSchema": true,
       "metadata": {},
       "overflow": false,
       "plotOptions": {
        "customPlotOptions": {},
        "displayType": "table",
        "pivotAggregation": null,
        "pivotColumns": null,
        "xColumns": null,
        "yColumns": null
       },
       "removedWidgets": [],
       "schema": [
        {
         "metadata": "{}",
         "name": "ProductCategory",
         "type": "\"string\""
        },
        {
         "metadata": "{}",
         "name": "ProductName",
         "type": "\"string\""
        },
        {
         "metadata": "{}",
         "name": "Brand",
         "type": "\"string\""
        },
        {
         "metadata": "{}",
         "name": "StoreRegion",
         "type": "\"string\""
        },
        {
         "metadata": "{}",
         "name": "StoreName",
         "type": "\"string\""
        },
        {
         "metadata": "{}",
         "name": "StoreType",
         "type": "\"string\""
        },
        {
         "metadata": "{}",
         "name": "SalesRep",
         "type": "\"string\""
        },
        {
         "metadata": "{}",
         "name": "Department",
         "type": "\"string\""
        },
        {
         "metadata": "{}",
         "name": "EmployeeRole",
         "type": "\"string\""
        },
        {
         "metadata": "{}",
         "name": "UnitsSold",
         "type": "\"double\""
        },
        {
         "metadata": "{}",
         "name": "UnitPrice",
         "type": "\"double\""
        },
        {
         "metadata": "{}",
         "name": "Discount",
         "type": "\"double\""
        },
        {
         "metadata": "{\"__detected_date_formats\":\"yyyy-M-d\"}",
         "name": "SaleDate",
         "type": "\"date\""
        }
       ],
       "type": "table"
      }
     },
     "output_type": "display_data"
    }
   ],
   "source": [
    "display(df)"
   ]
  },
  {
   "cell_type": "markdown",
   "metadata": {
    "application/vnd.databricks.v1+cell": {
     "cellMetadata": {},
     "inputWidgets": {},
     "nuid": "b1718cca-ae68-46ef-a6a5-2e98d25a8d06",
     "showTitle": false,
     "tableResultSettingsMap": {},
     "title": ""
    }
   },
   "source": [
    "We will replace null or improper values with either mean or median of the product name or category in case of UnitPrice. In case of UnitsSold we will use mean of UnitsSold in the name or category type. In case of discount, we will use median of discount in the name or category type."
   ]
  },
  {
   "cell_type": "code",
   "execution_count": 0,
   "metadata": {
    "application/vnd.databricks.v1+cell": {
     "cellMetadata": {
      "byteLimit": 2048000,
      "rowLimit": 10000
     },
     "inputWidgets": {},
     "nuid": "643aab2b-93ed-4bf3-8136-76d17b00ec13",
     "showTitle": false,
     "tableResultSettingsMap": {},
     "title": ""
    }
   },
   "outputs": [],
   "source": [
    "#Compute the most frequent ProductName per (ProductCategory)\n",
    "product_mode_df = (\n",
    "    df.filter(F.col(\"ProductName\").isNotNull())\n",
    "      .groupBy(\"ProductCategory\", \"ProductName\")\n",
    "      .agg(F.count(\"*\").alias(\"count\"))\n",
    ")"
   ]
  },
  {
   "cell_type": "code",
   "execution_count": 0,
   "metadata": {
    "application/vnd.databricks.v1+cell": {
     "cellMetadata": {
      "byteLimit": 2048000,
      "rowLimit": 10000
     },
     "inputWidgets": {},
     "nuid": "33d5d7f3-66ef-4be9-aa41-694082261c58",
     "showTitle": false,
     "tableResultSettingsMap": {},
     "title": ""
    }
   },
   "outputs": [
    {
     "output_type": "display_data",
     "data": {
      "text/html": [
       "<style scoped>\n",
       "  .table-result-container {\n",
       "    max-height: 300px;\n",
       "    overflow: auto;\n",
       "  }\n",
       "  table, th, td {\n",
       "    border: 1px solid black;\n",
       "    border-collapse: collapse;\n",
       "  }\n",
       "  th, td {\n",
       "    padding: 5px;\n",
       "  }\n",
       "  th {\n",
       "    text-align: left;\n",
       "  }\n",
       "</style><div class='table-result-container'><table class='table-result'><thead style='background-color: white'><tr><th>ProductCategory</th><th>ProductName</th><th>count</th></tr></thead><tbody><tr><td>Furniture</td><td>T-shirt</td><td>5</td></tr><tr><td>Clothing</td><td>T-shirt</td><td>1</td></tr><tr><td>Electronics</td><td>Desk</td><td>2</td></tr><tr><td>Furniture</td><td>Jeans</td><td>1</td></tr><tr><td>Electronics</td><td>Tablet</td><td>1</td></tr><tr><td>Electronics</td><td>T-shirt</td><td>1</td></tr><tr><td>Furniture</td><td>Smartphone</td><td>1</td></tr><tr><td>Electronics</td><td>Chair</td><td>1</td></tr><tr><td>Furniture</td><td>Desk</td><td>2</td></tr><tr><td>Clothing</td><td>Desk</td><td>3</td></tr><tr><td>Clothing</td><td>Tablet</td><td>2</td></tr><tr><td>Electronics</td><td>Smartphone</td><td>2</td></tr><tr><td>Clothing</td><td>Jeans</td><td>2</td></tr><tr><td>Electronics</td><td>Jeans</td><td>1</td></tr><tr><td>Furniture</td><td>Tablet</td><td>2</td></tr></tbody></table></div>"
      ]
     },
     "metadata": {
      "application/vnd.databricks.v1+output": {
       "addedWidgets": {},
       "aggData": [],
       "aggError": "",
       "aggOverflow": false,
       "aggSchema": [],
       "aggSeriesLimitReached": false,
       "aggType": "",
       "arguments": {},
       "columnCustomDisplayInfos": {},
       "data": [
        [
         "Furniture",
         "T-shirt",
         5
        ],
        [
         "Clothing",
         "T-shirt",
         1
        ],
        [
         "Electronics",
         "Desk",
         2
        ],
        [
         "Furniture",
         "Jeans",
         1
        ],
        [
         "Electronics",
         "Tablet",
         1
        ],
        [
         "Electronics",
         "T-shirt",
         1
        ],
        [
         "Furniture",
         "Smartphone",
         1
        ],
        [
         "Electronics",
         "Chair",
         1
        ],
        [
         "Furniture",
         "Desk",
         2
        ],
        [
         "Clothing",
         "Desk",
         3
        ],
        [
         "Clothing",
         "Tablet",
         2
        ],
        [
         "Electronics",
         "Smartphone",
         2
        ],
        [
         "Clothing",
         "Jeans",
         2
        ],
        [
         "Electronics",
         "Jeans",
         1
        ],
        [
         "Furniture",
         "Tablet",
         2
        ]
       ],
       "datasetInfos": [],
       "dbfsResultPath": null,
       "isJsonSchema": true,
       "metadata": {},
       "overflow": false,
       "plotOptions": {
        "customPlotOptions": {},
        "displayType": "table",
        "pivotAggregation": null,
        "pivotColumns": null,
        "xColumns": null,
        "yColumns": null
       },
       "removedWidgets": [],
       "schema": [
        {
         "metadata": "{}",
         "name": "ProductCategory",
         "type": "\"string\""
        },
        {
         "metadata": "{}",
         "name": "ProductName",
         "type": "\"string\""
        },
        {
         "metadata": "{}",
         "name": "count",
         "type": "\"long\""
        }
       ],
       "type": "table"
      }
     },
     "output_type": "display_data"
    }
   ],
   "source": [
    "display(product_mode_df)"
   ]
  },
  {
   "cell_type": "code",
   "execution_count": 0,
   "metadata": {
    "application/vnd.databricks.v1+cell": {
     "cellMetadata": {
      "byteLimit": 2048000,
      "rowLimit": 10000
     },
     "inputWidgets": {},
     "nuid": "dfcc9658-e9d0-43a5-86fb-bb93425a1b68",
     "showTitle": false,
     "tableResultSettingsMap": {},
     "title": ""
    }
   },
   "outputs": [],
   "source": [
    "#Assign a Rank by count within each (ProductCategory)\n",
    "window_spec = Window.partitionBy(\"ProductCategory\").orderBy(F.desc(\"count\"))"
   ]
  },
  {
   "cell_type": "code",
   "execution_count": 0,
   "metadata": {
    "application/vnd.databricks.v1+cell": {
     "cellMetadata": {
      "byteLimit": 2048000,
      "rowLimit": 10000
     },
     "inputWidgets": {},
     "nuid": "96782ebc-898c-4d6b-8832-9d59f652a5ca",
     "showTitle": false,
     "tableResultSettingsMap": {},
     "title": ""
    }
   },
   "outputs": [],
   "source": [
    "most_common_names = (\n",
    "    product_mode_df\n",
    "    .withColumn(\"rank\", F.row_number().over(window_spec))\n",
    "    .filter(F.col(\"rank\") == 1)\n",
    "    .select(\"ProductCategory\", F.col(\"ProductName\").alias(\"MostCommonProductName\"))\n",
    ")"
   ]
  },
  {
   "cell_type": "code",
   "execution_count": 0,
   "metadata": {
    "application/vnd.databricks.v1+cell": {
     "cellMetadata": {
      "byteLimit": 2048000,
      "rowLimit": 10000
     },
     "inputWidgets": {},
     "nuid": "29f6d3d1-0e96-4d0a-b483-4ab3d6d8f561",
     "showTitle": false,
     "tableResultSettingsMap": {},
     "title": ""
    }
   },
   "outputs": [
    {
     "output_type": "display_data",
     "data": {
      "text/html": [
       "<style scoped>\n",
       "  .table-result-container {\n",
       "    max-height: 300px;\n",
       "    overflow: auto;\n",
       "  }\n",
       "  table, th, td {\n",
       "    border: 1px solid black;\n",
       "    border-collapse: collapse;\n",
       "  }\n",
       "  th, td {\n",
       "    padding: 5px;\n",
       "  }\n",
       "  th {\n",
       "    text-align: left;\n",
       "  }\n",
       "</style><div class='table-result-container'><table class='table-result'><thead style='background-color: white'><tr><th>ProductCategory</th><th>MostCommonProductName</th></tr></thead><tbody><tr><td>Clothing</td><td>Desk</td></tr><tr><td>Electronics</td><td>Desk</td></tr><tr><td>Furniture</td><td>T-shirt</td></tr></tbody></table></div>"
      ]
     },
     "metadata": {
      "application/vnd.databricks.v1+output": {
       "addedWidgets": {},
       "aggData": [],
       "aggError": "",
       "aggOverflow": false,
       "aggSchema": [],
       "aggSeriesLimitReached": false,
       "aggType": "",
       "arguments": {},
       "columnCustomDisplayInfos": {},
       "data": [
        [
         "Clothing",
         "Desk"
        ],
        [
         "Electronics",
         "Desk"
        ],
        [
         "Furniture",
         "T-shirt"
        ]
       ],
       "datasetInfos": [],
       "dbfsResultPath": null,
       "isJsonSchema": true,
       "metadata": {},
       "overflow": false,
       "plotOptions": {
        "customPlotOptions": {},
        "displayType": "table",
        "pivotAggregation": null,
        "pivotColumns": null,
        "xColumns": null,
        "yColumns": null
       },
       "removedWidgets": [],
       "schema": [
        {
         "metadata": "{}",
         "name": "ProductCategory",
         "type": "\"string\""
        },
        {
         "metadata": "{}",
         "name": "MostCommonProductName",
         "type": "\"string\""
        }
       ],
       "type": "table"
      }
     },
     "output_type": "display_data"
    }
   ],
   "source": [
    "display(most_common_names)"
   ]
  },
  {
   "cell_type": "markdown",
   "metadata": {
    "application/vnd.databricks.v1+cell": {
     "cellMetadata": {},
     "inputWidgets": {},
     "nuid": "7b8f63d6-5ae5-42ec-b8b8-53de13776703",
     "showTitle": false,
     "tableResultSettingsMap": {},
     "title": ""
    }
   },
   "source": [
    "We can see that the most common ProductName for each ProductCategory may not be intuitive. For example:\n",
    "\n",
    "\"Clothing\" → \"Desk\"\n",
    "\n",
    "\"Electronics\" → \"Desk\"\n",
    "\n",
    "So we will hardcode the entry and not go with the statistically obtained values (Reason being our dataset is very small so this method apperas more true)"
   ]
  },
  {
   "cell_type": "code",
   "execution_count": 0,
   "metadata": {
    "application/vnd.databricks.v1+cell": {
     "cellMetadata": {
      "byteLimit": 2048000,
      "rowLimit": 10000
     },
     "inputWidgets": {},
     "nuid": "136bd177-8b58-4194-acd1-a4d163d7d3f2",
     "showTitle": false,
     "tableResultSettingsMap": {},
     "title": ""
    }
   },
   "outputs": [],
   "source": [
    "impute_mapping = {\n",
    "    \"Clothing\": \"T-shirt\",\n",
    "    \"Electronics\": \"Smartphone\",\n",
    "    \"Furniture\": \"Desk\"\n",
    "}"
   ]
  },
  {
   "cell_type": "code",
   "execution_count": 0,
   "metadata": {
    "application/vnd.databricks.v1+cell": {
     "cellMetadata": {
      "byteLimit": 2048000,
      "rowLimit": 10000
     },
     "inputWidgets": {},
     "nuid": "78f6767e-e6e2-43d4-82da-72636a66ad11",
     "showTitle": false,
     "tableResultSettingsMap": {},
     "title": ""
    }
   },
   "outputs": [],
   "source": [
    "df_imputed = df.withColumn(\n",
    "    \"ProductName\",\n",
    "    F.when(\n",
    "        F.col(\"ProductName\").isNull(),\n",
    "        F.coalesce(\n",
    "            F.create_map([F.lit(x) for x in chain(*impute_mapping.items())])[F.col(\"ProductCategory\")],\n",
    "            F.lit(\"Unknown_Product\")\n",
    "        )\n",
    "    ).otherwise(F.col(\"ProductName\"))\n",
    ")"
   ]
  },
  {
   "cell_type": "code",
   "execution_count": 0,
   "metadata": {
    "application/vnd.databricks.v1+cell": {
     "cellMetadata": {
      "byteLimit": 2048000,
      "rowLimit": 10000
     },
     "inputWidgets": {},
     "nuid": "977bf1da-3917-4660-8d40-5be2f17da420",
     "showTitle": false,
     "tableResultSettingsMap": {},
     "title": ""
    }
   },
   "outputs": [
    {
     "output_type": "display_data",
     "data": {
      "text/html": [
       "<style scoped>\n",
       "  .table-result-container {\n",
       "    max-height: 300px;\n",
       "    overflow: auto;\n",
       "  }\n",
       "  table, th, td {\n",
       "    border: 1px solid black;\n",
       "    border-collapse: collapse;\n",
       "  }\n",
       "  th, td {\n",
       "    padding: 5px;\n",
       "  }\n",
       "  th {\n",
       "    text-align: left;\n",
       "  }\n",
       "</style><div class='table-result-container'><table class='table-result'><thead style='background-color: white'><tr><th>ProductCategory</th><th>ProductName</th><th>Brand</th><th>StoreRegion</th><th>StoreName</th><th>StoreType</th><th>SalesRep</th><th>Department</th><th>EmployeeRole</th><th>UnitsSold</th><th>UnitPrice</th><th>Discount</th><th>SaleDate</th></tr></thead><tbody><tr><td>Furniture</td><td>T-shirt</td><td>BrandB</td><td>East</td><td>StoreX</td><td>Franchise</td><td>Martha Long</td><td>Electronics</td><td>Cashier</td><td>12.0</td><td>-1.0</td><td>5.0</td><td>2022-12-14</td></tr><tr><td>Clothing</td><td>Tablet</td><td>BrandC</td><td>East</td><td>StoreZ</td><td>Franchise</td><td>Martha Long</td><td>Home</td><td>Sales Associate</td><td>null</td><td>272.49</td><td>null</td><td>2023-02-24</td></tr><tr><td>Clothing</td><td>Tablet</td><td>BrandA</td><td>South</td><td>StoreX</td><td>Retail</td><td>Emily Vazquez</td><td>Apparel</td><td>Cashier</td><td>null</td><td>484.75</td><td>15.0</td><td>2025-03-24</td></tr><tr><td>Electronics</td><td>Smartphone</td><td>BrandB</td><td>West</td><td>StoreY</td><td>Outlet</td><td>Charles Fields</td><td>Apparel</td><td>Cashier</td><td>null</td><td>205.74</td><td>10.0</td><td>2023-09-30</td></tr><tr><td>Furniture</td><td>T-shirt</td><td>BrandC</td><td>East</td><td>StoreZ</td><td>Outlet</td><td>Wendy Castillo</td><td>Home</td><td>Manager</td><td>46.0</td><td>20.25</td><td>5.0</td><td>2022-10-14</td></tr><tr><td>Furniture</td><td>T-shirt</td><td>BrandC</td><td>South</td><td>StoreY</td><td>Retail</td><td>Wendy Castillo</td><td>Home</td><td>Manager</td><td>null</td><td>361.06</td><td>10.0</td><td>2024-02-23</td></tr><tr><td>Clothing</td><td>T-shirt</td><td>BrandC</td><td>South</td><td>StoreY</td><td>Outlet</td><td>John Harris</td><td>Home</td><td>Cashier</td><td>37.0</td><td>492.65</td><td>5.0</td><td>2024-05-06</td></tr><tr><td>Electronics</td><td>Smartphone</td><td>BrandC</td><td>South</td><td>StoreX</td><td>Outlet</td><td>Charles Fields</td><td>Home</td><td>Sales Associate</td><td>37.0</td><td>293.87</td><td>15.0</td><td>2023-04-04</td></tr><tr><td>Clothing</td><td>Jeans</td><td>BrandA</td><td>South</td><td>StoreY</td><td>Retail</td><td>Wendy Castillo</td><td>Electronics</td><td>Manager</td><td>23.0</td><td>189.47</td><td>15.0</td><td>2022-12-26</td></tr><tr><td>Furniture</td><td>T-shirt</td><td>BrandB</td><td>East</td><td>StoreZ</td><td>Franchise</td><td>Charles Fields</td><td>Apparel</td><td>Manager</td><td>25.0</td><td>359.08</td><td>10.0</td><td>2022-10-28</td></tr><tr><td>Clothing</td><td>Desk</td><td>BrandC</td><td>South</td><td>StoreZ</td><td>Retail</td><td>Wendy Castillo</td><td>Home</td><td>Manager</td><td>null</td><td>438.28</td><td>null</td><td>2025-05-12</td></tr><tr><td>Clothing</td><td>Desk</td><td>BrandB</td><td>North</td><td>StoreZ</td><td>Retail</td><td>Kelly Moore</td><td>Apparel</td><td>Sales Associate</td><td>null</td><td>-1.0</td><td>0.0</td><td>2024-11-14</td></tr><tr><td>Electronics</td><td>Tablet</td><td>BrandB</td><td>North</td><td>StoreX</td><td>Outlet</td><td>Kara Lewis</td><td>Electronics</td><td>Manager</td><td>null</td><td>490.01</td><td>null</td><td>2025-05-20</td></tr><tr><td>Furniture</td><td>Tablet</td><td>BrandC</td><td>East</td><td>StoreX</td><td>Retail</td><td>Emily Vazquez</td><td>Apparel</td><td>Manager</td><td>15.0</td><td>139.58</td><td>5.0</td><td>2023-11-09</td></tr><tr><td>Electronics</td><td>Chair</td><td>BrandA</td><td>West</td><td>StoreY</td><td>Franchise</td><td>James Austin</td><td>Electronics</td><td>Cashier</td><td>null</td><td>67.66</td><td>15.0</td><td>2025-03-27</td></tr><tr><td>Electronics</td><td>Desk</td><td>BrandA</td><td>East</td><td>StoreX</td><td>Franchise</td><td>Emily Vazquez</td><td>Home</td><td>Manager</td><td>19.0</td><td>330.2</td><td>10.0</td><td>2022-12-16</td></tr><tr><td>Furniture</td><td>T-shirt</td><td>BrandC</td><td>West</td><td>StoreY</td><td>Franchise</td><td>Martha Long</td><td>Home</td><td>Cashier</td><td>7.0</td><td>290.63</td><td>15.0</td><td>2022-07-28</td></tr><tr><td>Electronics</td><td>Desk</td><td>BrandC</td><td>North</td><td>StoreY</td><td>Outlet</td><td>Charles Fields</td><td>Home</td><td>Cashier</td><td>7.0</td><td>349.27</td><td>10.0</td><td>2022-07-04</td></tr><tr><td>Furniture</td><td>Jeans</td><td>BrandC</td><td>East</td><td>StoreZ</td><td>Franchise</td><td>Wendy Castillo</td><td>Home</td><td>Manager</td><td>null</td><td>267.61</td><td>0.0</td><td>2022-11-27</td></tr><tr><td>Electronics</td><td>Jeans</td><td>BrandB</td><td>East</td><td>StoreZ</td><td>Outlet</td><td>James Austin</td><td>Home</td><td>Manager</td><td>41.0</td><td>52.57</td><td>null</td><td>2025-03-16</td></tr><tr><td>Clothing</td><td>T-shirt</td><td>BrandB</td><td>East</td><td>StoreZ</td><td>Franchise</td><td>Kyle Lin</td><td>Electronics</td><td>Manager</td><td>null</td><td>85.99</td><td>0.0</td><td>2024-03-05</td></tr><tr><td>Electronics</td><td>T-shirt</td><td>BrandA</td><td>South</td><td>StoreX</td><td>Retail</td><td>Kelly Moore</td><td>Apparel</td><td>Sales Associate</td><td>null</td><td>-1.0</td><td>5.0</td><td>2025-04-06</td></tr><tr><td>Furniture</td><td>Desk</td><td>BrandA</td><td>South</td><td>StoreZ</td><td>Retail</td><td>Billy Perez</td><td>Apparel</td><td>Sales Associate</td><td>22.0</td><td>444.29</td><td>null</td><td>2024-03-05</td></tr><tr><td>Clothing</td><td>Desk</td><td>BrandB</td><td>North</td><td>StoreX</td><td>Franchise</td><td>John Harris</td><td>Apparel</td><td>Manager</td><td>41.0</td><td>283.25</td><td>null</td><td>2023-02-06</td></tr><tr><td>Furniture</td><td>Desk</td><td>BrandA</td><td>North</td><td>StoreZ</td><td>Franchise</td><td>Charles Fields</td><td>Home</td><td>Cashier</td><td>16.0</td><td>238.49</td><td>0.0</td><td>2024-08-27</td></tr><tr><td>Clothing</td><td>Jeans</td><td>BrandC</td><td>North</td><td>StoreY</td><td>Retail</td><td>Kyle Lin</td><td>Electronics</td><td>Sales Associate</td><td>null</td><td>414.77</td><td>0.0</td><td>2023-01-18</td></tr><tr><td>Furniture</td><td>Smartphone</td><td>BrandC</td><td>West</td><td>StoreX</td><td>Retail</td><td>Kyle Lin</td><td>Home</td><td>Cashier</td><td>null</td><td>21.38</td><td>5.0</td><td>2022-10-11</td></tr><tr><td>Furniture</td><td>Desk</td><td>BrandB</td><td>West</td><td>StoreX</td><td>Outlet</td><td>John Harris</td><td>Electronics</td><td>Manager</td><td>null</td><td>279.35</td><td>null</td><td>2023-10-11</td></tr><tr><td>Furniture</td><td>Tablet</td><td>BrandA</td><td>South</td><td>StoreY</td><td>Retail</td><td>Billy Perez</td><td>Electronics</td><td>Cashier</td><td>37.0</td><td>415.6</td><td>15.0</td><td>2022-08-23</td></tr><tr><td>Furniture</td><td>Desk</td><td>BrandA</td><td>South</td><td>StoreZ</td><td>Franchise</td><td>Emily Vazquez</td><td>Electronics</td><td>Sales Associate</td><td>null</td><td>359.04</td><td>0.0</td><td>2024-01-20</td></tr></tbody></table></div>"
      ]
     },
     "metadata": {
      "application/vnd.databricks.v1+output": {
       "addedWidgets": {},
       "aggData": [],
       "aggError": "",
       "aggOverflow": false,
       "aggSchema": [],
       "aggSeriesLimitReached": false,
       "aggType": "",
       "arguments": {},
       "columnCustomDisplayInfos": {},
       "data": [
        [
         "Furniture",
         "T-shirt",
         "BrandB",
         "East",
         "StoreX",
         "Franchise",
         "Martha Long",
         "Electronics",
         "Cashier",
         12.0,
         -1.0,
         5.0,
         "2022-12-14"
        ],
        [
         "Clothing",
         "Tablet",
         "BrandC",
         "East",
         "StoreZ",
         "Franchise",
         "Martha Long",
         "Home",
         "Sales Associate",
         null,
         272.49,
         null,
         "2023-02-24"
        ],
        [
         "Clothing",
         "Tablet",
         "BrandA",
         "South",
         "StoreX",
         "Retail",
         "Emily Vazquez",
         "Apparel",
         "Cashier",
         null,
         484.75,
         15.0,
         "2025-03-24"
        ],
        [
         "Electronics",
         "Smartphone",
         "BrandB",
         "West",
         "StoreY",
         "Outlet",
         "Charles Fields",
         "Apparel",
         "Cashier",
         null,
         205.74,
         10.0,
         "2023-09-30"
        ],
        [
         "Furniture",
         "T-shirt",
         "BrandC",
         "East",
         "StoreZ",
         "Outlet",
         "Wendy Castillo",
         "Home",
         "Manager",
         46.0,
         20.25,
         5.0,
         "2022-10-14"
        ],
        [
         "Furniture",
         "T-shirt",
         "BrandC",
         "South",
         "StoreY",
         "Retail",
         "Wendy Castillo",
         "Home",
         "Manager",
         null,
         361.06,
         10.0,
         "2024-02-23"
        ],
        [
         "Clothing",
         "T-shirt",
         "BrandC",
         "South",
         "StoreY",
         "Outlet",
         "John Harris",
         "Home",
         "Cashier",
         37.0,
         492.65,
         5.0,
         "2024-05-06"
        ],
        [
         "Electronics",
         "Smartphone",
         "BrandC",
         "South",
         "StoreX",
         "Outlet",
         "Charles Fields",
         "Home",
         "Sales Associate",
         37.0,
         293.87,
         15.0,
         "2023-04-04"
        ],
        [
         "Clothing",
         "Jeans",
         "BrandA",
         "South",
         "StoreY",
         "Retail",
         "Wendy Castillo",
         "Electronics",
         "Manager",
         23.0,
         189.47,
         15.0,
         "2022-12-26"
        ],
        [
         "Furniture",
         "T-shirt",
         "BrandB",
         "East",
         "StoreZ",
         "Franchise",
         "Charles Fields",
         "Apparel",
         "Manager",
         25.0,
         359.08,
         10.0,
         "2022-10-28"
        ],
        [
         "Clothing",
         "Desk",
         "BrandC",
         "South",
         "StoreZ",
         "Retail",
         "Wendy Castillo",
         "Home",
         "Manager",
         null,
         438.28,
         null,
         "2025-05-12"
        ],
        [
         "Clothing",
         "Desk",
         "BrandB",
         "North",
         "StoreZ",
         "Retail",
         "Kelly Moore",
         "Apparel",
         "Sales Associate",
         null,
         -1.0,
         0.0,
         "2024-11-14"
        ],
        [
         "Electronics",
         "Tablet",
         "BrandB",
         "North",
         "StoreX",
         "Outlet",
         "Kara Lewis",
         "Electronics",
         "Manager",
         null,
         490.01,
         null,
         "2025-05-20"
        ],
        [
         "Furniture",
         "Tablet",
         "BrandC",
         "East",
         "StoreX",
         "Retail",
         "Emily Vazquez",
         "Apparel",
         "Manager",
         15.0,
         139.58,
         5.0,
         "2023-11-09"
        ],
        [
         "Electronics",
         "Chair",
         "BrandA",
         "West",
         "StoreY",
         "Franchise",
         "James Austin",
         "Electronics",
         "Cashier",
         null,
         67.66,
         15.0,
         "2025-03-27"
        ],
        [
         "Electronics",
         "Desk",
         "BrandA",
         "East",
         "StoreX",
         "Franchise",
         "Emily Vazquez",
         "Home",
         "Manager",
         19.0,
         330.2,
         10.0,
         "2022-12-16"
        ],
        [
         "Furniture",
         "T-shirt",
         "BrandC",
         "West",
         "StoreY",
         "Franchise",
         "Martha Long",
         "Home",
         "Cashier",
         7.0,
         290.63,
         15.0,
         "2022-07-28"
        ],
        [
         "Electronics",
         "Desk",
         "BrandC",
         "North",
         "StoreY",
         "Outlet",
         "Charles Fields",
         "Home",
         "Cashier",
         7.0,
         349.27,
         10.0,
         "2022-07-04"
        ],
        [
         "Furniture",
         "Jeans",
         "BrandC",
         "East",
         "StoreZ",
         "Franchise",
         "Wendy Castillo",
         "Home",
         "Manager",
         null,
         267.61,
         0.0,
         "2022-11-27"
        ],
        [
         "Electronics",
         "Jeans",
         "BrandB",
         "East",
         "StoreZ",
         "Outlet",
         "James Austin",
         "Home",
         "Manager",
         41.0,
         52.57,
         null,
         "2025-03-16"
        ],
        [
         "Clothing",
         "T-shirt",
         "BrandB",
         "East",
         "StoreZ",
         "Franchise",
         "Kyle Lin",
         "Electronics",
         "Manager",
         null,
         85.99,
         0.0,
         "2024-03-05"
        ],
        [
         "Electronics",
         "T-shirt",
         "BrandA",
         "South",
         "StoreX",
         "Retail",
         "Kelly Moore",
         "Apparel",
         "Sales Associate",
         null,
         -1.0,
         5.0,
         "2025-04-06"
        ],
        [
         "Furniture",
         "Desk",
         "BrandA",
         "South",
         "StoreZ",
         "Retail",
         "Billy Perez",
         "Apparel",
         "Sales Associate",
         22.0,
         444.29,
         null,
         "2024-03-05"
        ],
        [
         "Clothing",
         "Desk",
         "BrandB",
         "North",
         "StoreX",
         "Franchise",
         "John Harris",
         "Apparel",
         "Manager",
         41.0,
         283.25,
         null,
         "2023-02-06"
        ],
        [
         "Furniture",
         "Desk",
         "BrandA",
         "North",
         "StoreZ",
         "Franchise",
         "Charles Fields",
         "Home",
         "Cashier",
         16.0,
         238.49,
         0.0,
         "2024-08-27"
        ],
        [
         "Clothing",
         "Jeans",
         "BrandC",
         "North",
         "StoreY",
         "Retail",
         "Kyle Lin",
         "Electronics",
         "Sales Associate",
         null,
         414.77,
         0.0,
         "2023-01-18"
        ],
        [
         "Furniture",
         "Smartphone",
         "BrandC",
         "West",
         "StoreX",
         "Retail",
         "Kyle Lin",
         "Home",
         "Cashier",
         null,
         21.38,
         5.0,
         "2022-10-11"
        ],
        [
         "Furniture",
         "Desk",
         "BrandB",
         "West",
         "StoreX",
         "Outlet",
         "John Harris",
         "Electronics",
         "Manager",
         null,
         279.35,
         null,
         "2023-10-11"
        ],
        [
         "Furniture",
         "Tablet",
         "BrandA",
         "South",
         "StoreY",
         "Retail",
         "Billy Perez",
         "Electronics",
         "Cashier",
         37.0,
         415.6,
         15.0,
         "2022-08-23"
        ],
        [
         "Furniture",
         "Desk",
         "BrandA",
         "South",
         "StoreZ",
         "Franchise",
         "Emily Vazquez",
         "Electronics",
         "Sales Associate",
         null,
         359.04,
         0.0,
         "2024-01-20"
        ]
       ],
       "datasetInfos": [],
       "dbfsResultPath": null,
       "isJsonSchema": true,
       "metadata": {},
       "overflow": false,
       "plotOptions": {
        "customPlotOptions": {},
        "displayType": "table",
        "pivotAggregation": null,
        "pivotColumns": null,
        "xColumns": null,
        "yColumns": null
       },
       "removedWidgets": [],
       "schema": [
        {
         "metadata": "{}",
         "name": "ProductCategory",
         "type": "\"string\""
        },
        {
         "metadata": "{}",
         "name": "ProductName",
         "type": "\"string\""
        },
        {
         "metadata": "{}",
         "name": "Brand",
         "type": "\"string\""
        },
        {
         "metadata": "{}",
         "name": "StoreRegion",
         "type": "\"string\""
        },
        {
         "metadata": "{}",
         "name": "StoreName",
         "type": "\"string\""
        },
        {
         "metadata": "{}",
         "name": "StoreType",
         "type": "\"string\""
        },
        {
         "metadata": "{}",
         "name": "SalesRep",
         "type": "\"string\""
        },
        {
         "metadata": "{}",
         "name": "Department",
         "type": "\"string\""
        },
        {
         "metadata": "{}",
         "name": "EmployeeRole",
         "type": "\"string\""
        },
        {
         "metadata": "{}",
         "name": "UnitsSold",
         "type": "\"double\""
        },
        {
         "metadata": "{}",
         "name": "UnitPrice",
         "type": "\"double\""
        },
        {
         "metadata": "{}",
         "name": "Discount",
         "type": "\"double\""
        },
        {
         "metadata": "{\"__detected_date_formats\":\"yyyy-M-d\"}",
         "name": "SaleDate",
         "type": "\"date\""
        }
       ],
       "type": "table"
      }
     },
     "output_type": "display_data"
    }
   ],
   "source": [
    "display(df_imputed)"
   ]
  },
  {
   "cell_type": "code",
   "execution_count": 0,
   "metadata": {
    "application/vnd.databricks.v1+cell": {
     "cellMetadata": {
      "byteLimit": 2048000,
      "rowLimit": 10000
     },
     "inputWidgets": {},
     "nuid": "6b3cfc17-737b-445b-8688-76fa27f2911d",
     "showTitle": false,
     "tableResultSettingsMap": {},
     "title": ""
    }
   },
   "outputs": [],
   "source": [
    "df_imputed.write.format(\"delta\").mode(\"overwrite\").save(\"/delta/fact_sales_stage1\")"
   ]
  }
 ],
 "metadata": {
  "application/vnd.databricks.v1+notebook": {
   "computePreferences": null,
   "dashboards": [],
   "environmentMetadata": {
    "base_environment": "",
    "environment_version": "1"
   },
   "inputWidgetPreferences": null,
   "language": "python",
   "notebookMetadata": {
    "pythonIndentUnit": 4
   },
   "notebookName": "Fact_Sales 12:03:09",
   "widgets": {}
  }
 },
 "nbformat": 4,
 "nbformat_minor": 0
}