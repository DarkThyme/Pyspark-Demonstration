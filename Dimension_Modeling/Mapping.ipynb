{
 "cells": [
  {
   "cell_type": "code",
   "execution_count": 0,
   "metadata": {
    "application/vnd.databricks.v1+cell": {
     "cellMetadata": {
      "byteLimit": 2048000,
      "rowLimit": 10000
     },
     "inputWidgets": {},
     "nuid": "7a4e1887-48f5-46da-b801-30d96b36055a",
     "showTitle": false,
     "tableResultSettingsMap": {},
     "title": ""
    }
   },
   "outputs": [],
   "source": [
    "from pyspark.sql import SparkSession \n",
    "spark = SparkSession.builder.appName('Mapping').getOrCreate()"
   ]
  },
  {
   "cell_type": "code",
   "execution_count": 0,
   "metadata": {
    "application/vnd.databricks.v1+cell": {
     "cellMetadata": {
      "byteLimit": 2048000,
      "rowLimit": 10000
     },
     "inputWidgets": {},
     "nuid": "859e616c-3fe6-48f2-b360-a0f033a03c88",
     "showTitle": false,
     "tableResultSettingsMap": {},
     "title": ""
    }
   },
   "outputs": [
    {
     "output_type": "stream",
     "name": "stdout",
     "output_type": "stream",
     "text": [
      "Out[2]: [FileInfo(path='dbfs:/FileStore/tables/Custom_Mapping_DIM.csv', name='Custom_Mapping_DIM.csv', size=224, modificationTime=1750890784000),\n FileInfo(path='dbfs:/FileStore/tables/Dim_CustomerType.csv', name='Dim_CustomerType.csv', size=65, modificationTime=1750890993000),\n FileInfo(path='dbfs:/FileStore/tables/Dim_ProductCategory.csv', name='Dim_ProductCategory.csv', size=113, modificationTime=1750891112000),\n FileInfo(path='dbfs:/FileStore/tables/Dim_StoreRegion.csv', name='Dim_StoreRegion.csv', size=69, modificationTime=1750891157000),\n FileInfo(path='dbfs:/FileStore/tables/Fact_Transactions.csv', name='Fact_Transactions.csv', size=330, modificationTime=1750891215000),\n FileInfo(path='dbfs:/FileStore/tables/sales.csv', name='sales.csv', size=3308303, modificationTime=1750795238000)]"
     ]
    }
   ],
   "source": [
    "dbutils.fs.ls(\"/FileStore/tables/\")"
   ]
  },
  {
   "cell_type": "code",
   "execution_count": 0,
   "metadata": {
    "application/vnd.databricks.v1+cell": {
     "cellMetadata": {
      "byteLimit": 2048000,
      "rowLimit": 10000
     },
     "inputWidgets": {},
     "nuid": "a8a24d57-48c7-48cc-b4f0-8e7ce121fa65",
     "showTitle": false,
     "tableResultSettingsMap": {},
     "title": ""
    }
   },
   "outputs": [
    {
     "output_type": "stream",
     "name": "stdout",
     "output_type": "stream",
     "text": [
      "+---------------+-----------+------------+-----------------+\n|ProductCategory|StoreRegion|CustomerType|     MappingLabel|\n+---------------+-----------+------------+-----------------+\n|         Tablet|       East|      Retail|        Side Head|\n|         Laptop|       West|      Retail|      Premium Box|\n|         Mobile|      North|   Wholesale|North Dist Mobile|\n|         Tablet|      South|      Retail|      Tablet Push|\n|         Laptop|      North|   Wholesale|    Laptop Supply|\n+---------------+-----------+------------+-----------------+\n\n"
     ]
    }
   ],
   "source": [
    "df_Custom_Mapping_DIM = spark.read.csv(\"/FileStore/tables/Custom_Mapping_DIM.csv\", header=True, inferSchema=True)\n",
    "df_Custom_Mapping_DIM.show()"
   ]
  },
  {
   "cell_type": "code",
   "execution_count": 0,
   "metadata": {
    "application/vnd.databricks.v1+cell": {
     "cellMetadata": {
      "byteLimit": 2048000,
      "rowLimit": 10000
     },
     "inputWidgets": {},
     "nuid": "fc2cf02c-96f3-4688-acf4-977305b5c4dc",
     "showTitle": false,
     "tableResultSettingsMap": {},
     "title": ""
    }
   },
   "outputs": [
    {
     "output_type": "stream",
     "name": "stdout",
     "output_type": "stream",
     "text": [
      "+------------+--------------+-------+\n|CustomerType|CustomerTypeID|Segment|\n+------------+--------------+-------+\n|      Retail|             1|    B2C|\n|   Wholesale|             2|    B2B|\n+------------+--------------+-------+\n\n"
     ]
    }
   ],
   "source": [
    "df_Dim_CustomerType = spark.read.csv(\"/FileStore/tables/Dim_CustomerType.csv\", header=True, inferSchema=True)\n",
    "df_Dim_CustomerType.show()"
   ]
  },
  {
   "cell_type": "code",
   "execution_count": 0,
   "metadata": {
    "application/vnd.databricks.v1+cell": {
     "cellMetadata": {
      "byteLimit": 2048000,
      "rowLimit": 10000
     },
     "inputWidgets": {},
     "nuid": "e875c7f3-f9c0-49cc-b9cb-472be13b84e8",
     "showTitle": false,
     "tableResultSettingsMap": {},
     "title": ""
    }
   },
   "outputs": [
    {
     "output_type": "stream",
     "name": "stdout",
     "output_type": "stream",
     "text": [
      "+---------------+-----------------+-------------+\n|ProductCategory|ProductCategoryID|CategoryGroup|\n+---------------+-----------------+-------------+\n|         Laptop|              101|    Computing|\n|         Mobile|              102|  Electronics|\n|         Tablet|              103|    Computing|\n+---------------+-----------------+-------------+\n\n"
     ]
    }
   ],
   "source": [
    "df_Dim_ProductCategory = spark.read.csv(\"/FileStore/tables/Dim_ProductCategory.csv\", header=True, inferSchema=True)\n",
    "df_Dim_ProductCategory.show()"
   ]
  },
  {
   "cell_type": "code",
   "execution_count": 0,
   "metadata": {
    "application/vnd.databricks.v1+cell": {
     "cellMetadata": {
      "byteLimit": 2048000,
      "rowLimit": 10000
     },
     "inputWidgets": {},
     "nuid": "59882579-fc9c-4618-9604-3270f1807b50",
     "showTitle": false,
     "tableResultSettingsMap": {},
     "title": ""
    }
   },
   "outputs": [
    {
     "output_type": "stream",
     "name": "stdout",
     "output_type": "stream",
     "text": [
      "+-----------+--------+---------+\n|StoreRegion|RegionID|Territory|\n+-----------+--------+---------+\n|      North|       1|        A|\n|      South|       2|        B|\n|       East|       3|        C|\n|       West|       4|        D|\n+-----------+--------+---------+\n\n"
     ]
    }
   ],
   "source": [
    "df_Dim_StoreRegion = spark.read.csv(\"/FileStore/tables/Dim_StoreRegion.csv\", header=True, inferSchema=True)\n",
    "df_Dim_StoreRegion.show()"
   ]
  },
  {
   "cell_type": "code",
   "execution_count": 0,
   "metadata": {
    "application/vnd.databricks.v1+cell": {
     "cellMetadata": {
      "byteLimit": 2048000,
      "rowLimit": 10000
     },
     "inputWidgets": {},
     "nuid": "1964c01e-217b-48d7-8623-d69bbfc4222a",
     "showTitle": false,
     "tableResultSettingsMap": {},
     "title": ""
    }
   },
   "outputs": [
    {
     "output_type": "stream",
     "name": "stdout",
     "output_type": "stream",
     "text": [
      "+-------------+---------------+-----------+------------+------+\n|TransactionID|ProductCategory|StoreRegion|CustomerType|Amount|\n+-------------+---------------+-----------+------------+------+\n|            1|         Laptop|      North|      Retail|  1200|\n|            2|         Mobile|      South|   Wholesale|   800|\n|            3|         Tablet|       East|      Retail|   300|\n|            4|         Laptop|       West|      Retail|  1500|\n|            5|         Tablet|      North|   Wholesale|   400|\n|            6|         Mobile|       East|      Retail|   900|\n|            7|         Mobile|      South|      Retail|   850|\n|            8|         Laptop|       West|   Wholesale|  1700|\n|            9|         Tablet|       East|      Retail|   350|\n|           10|         Mobile|      North|      Retail|   950|\n+-------------+---------------+-----------+------------+------+\n\n"
     ]
    }
   ],
   "source": [
    "df_Fact_Transactions = spark.read.csv(\"/FileStore/tables/Fact_Transactions.csv\", header=True, inferSchema=True)\n",
    "df_Fact_Transactions.show()"
   ]
  },
  {
   "cell_type": "code",
   "execution_count": 0,
   "metadata": {
    "application/vnd.databricks.v1+cell": {
     "cellMetadata": {
      "byteLimit": 2048000,
      "rowLimit": 10000
     },
     "inputWidgets": {},
     "nuid": "9dfe832f-d7c1-492e-9aaf-de33241d6667",
     "showTitle": false,
     "tableResultSettingsMap": {},
     "title": ""
    }
   },
   "outputs": [],
   "source": [
    "from pyspark.sql.functions import sha2, concat_ws, col\n",
    "df_Custom_Mapping_DIM = df_Custom_Mapping_DIM.withColumn(\"DIM_CustomLabelID\",\n",
    "                                                  sha2(concat_ws(\"||\", col(\"ProductCategory\"), col(\"StoreRegion\"), col(\"CustomerType\")), 256))"
   ]
  },
  {
   "cell_type": "code",
   "execution_count": 0,
   "metadata": {
    "application/vnd.databricks.v1+cell": {
     "cellMetadata": {
      "byteLimit": 2048000,
      "rowLimit": 10000
     },
     "inputWidgets": {},
     "nuid": "8816027c-141a-401e-aaad-9f2691ed111f",
     "showTitle": false,
     "tableResultSettingsMap": {},
     "title": ""
    }
   },
   "outputs": [
    {
     "output_type": "stream",
     "name": "stdout",
     "output_type": "stream",
     "text": [
      "+-----------------+---------------+-----------+------------+-----------------+\n|DIM_CustomLabelID|ProductCategory|StoreRegion|CustomerType|     MappingLabel|\n+-----------------+---------------+-----------+------------+-----------------+\n|       -109225604|         Tablet|       East|      Retail|        Side Head|\n|      -1989734020|         Laptop|       West|      Retail|      Premium Box|\n|       1586346454|         Mobile|      North|   Wholesale|North Dist Mobile|\n|      -1031006801|         Tablet|      South|      Retail|      Tablet Push|\n|       -132973822|         Laptop|      North|   Wholesale|    Laptop Supply|\n+-----------------+---------------+-----------+------------+-----------------+\n\n"
     ]
    }
   ],
   "source": [
    "from pyspark.sql.functions import hash, trim, upper, col\n",
    "\n",
    "df_Custom_Mapping_DIM = df_Custom_Mapping_DIM.withColumn(\"DIM_CustomLabelID\",hash(col(\"DIM_CustomLabelID\")).cast(\"bigint\"))\n",
    "df_Custom_Mapping_DIM = df_Custom_Mapping_DIM.select(\"DIM_CustomLabelID\", \"ProductCategory\", \"StoreRegion\", \"CustomerType\", \"MappingLabel\")\n",
    "df_Custom_Mapping_DIM.show()"
   ]
  },
  {
   "cell_type": "code",
   "execution_count": 0,
   "metadata": {
    "application/vnd.databricks.v1+cell": {
     "cellMetadata": {
      "byteLimit": 2048000,
      "rowLimit": 10000
     },
     "inputWidgets": {},
     "nuid": "52c0316c-e666-4eb5-b9ab-132879f75a06",
     "showTitle": false,
     "tableResultSettingsMap": {},
     "title": ""
    }
   },
   "outputs": [],
   "source": [
    "df_Custom_Mapping_DIM.write.format(\"delta\").mode(\"overwrite\").saveAsTable(\"DIM_CustomLabel\")"
   ]
  },
  {
   "cell_type": "code",
   "execution_count": 0,
   "metadata": {
    "application/vnd.databricks.v1+cell": {
     "cellMetadata": {
      "byteLimit": 2048000,
      "rowLimit": 10000
     },
     "inputWidgets": {},
     "nuid": "24e8bcd7-ac7a-4666-ad32-60855edb7e94",
     "showTitle": false,
     "tableResultSettingsMap": {},
     "title": ""
    }
   },
   "outputs": [],
   "source": [
    "#ProductCategory DIM\n",
    "df_Dim_ProductCategory = df_Dim_ProductCategory \\\n",
    "    .withColumn(\"ProductCategory\", trim(upper(col(\"ProductCategory\")))) \\\n",
    "    .withColumn(\"DIM_ProductCategoryID\", hash(col(\"ProductCategory\")).cast(\"bigint\"))\n",
    "\n",
    "#StoreRegion DIM\n",
    "df_Dim_StoreRegion = df_Dim_StoreRegion \\\n",
    "    .withColumn(\"StoreRegion\", trim(upper(col(\"StoreRegion\")))) \\\n",
    "    .withColumn(\"DIM_StoreRegionID\", hash(col(\"StoreRegion\")).cast(\"bigint\"))\n",
    "\n",
    "#CustomerType DIM\n",
    "df_Dim_CustomerType = df_Dim_CustomerType \\\n",
    "    .withColumn(\"CustomerType\", trim(upper(col(\"CustomerType\")))) \\\n",
    "    .withColumn(\"DIM_CustomerTypeID\", hash(col(\"CustomerType\")).cast(\"bigint\"))"
   ]
  },
  {
   "cell_type": "code",
   "execution_count": 0,
   "metadata": {
    "application/vnd.databricks.v1+cell": {
     "cellMetadata": {
      "byteLimit": 2048000,
      "rowLimit": 10000
     },
     "inputWidgets": {},
     "nuid": "78f7a536-77aa-4ac2-9206-f927c2e9f239",
     "showTitle": false,
     "tableResultSettingsMap": {},
     "title": ""
    }
   },
   "outputs": [
    {
     "output_type": "stream",
     "name": "stdout",
     "output_type": "stream",
     "text": [
      "+---------------+-----------------+-------------+---------------------+\n|ProductCategory|ProductCategoryID|CategoryGroup|DIM_ProductCategoryID|\n+---------------+-----------------+-------------+---------------------+\n|         LAPTOP|              101|    Computing|           2110147584|\n|         MOBILE|              102|  Electronics|          -1314911383|\n|         TABLET|              103|    Computing|            178668753|\n+---------------+-----------------+-------------+---------------------+\n\n"
     ]
    }
   ],
   "source": [
    "df_Dim_ProductCategory.show()"
   ]
  },
  {
   "cell_type": "code",
   "execution_count": 0,
   "metadata": {
    "application/vnd.databricks.v1+cell": {
     "cellMetadata": {
      "byteLimit": 2048000,
      "rowLimit": 10000
     },
     "inputWidgets": {},
     "nuid": "d5a4f6c6-9578-4b33-b934-529bbcf8b5e1",
     "showTitle": false,
     "tableResultSettingsMap": {},
     "title": ""
    }
   },
   "outputs": [
    {
     "output_type": "stream",
     "name": "stdout",
     "output_type": "stream",
     "text": [
      "+-----------+--------+---------+-----------------+\n|StoreRegion|RegionID|Territory|DIM_StoreRegionID|\n+-----------+--------+---------+-----------------+\n|      NORTH|       1|        A|       1869582694|\n|      SOUTH|       2|        B|        -96241737|\n|       EAST|       3|        C|      -1592160435|\n|       WEST|       4|        D|       -402154387|\n+-----------+--------+---------+-----------------+\n\n"
     ]
    }
   ],
   "source": [
    "df_Dim_StoreRegion.show()"
   ]
  },
  {
   "cell_type": "code",
   "execution_count": 0,
   "metadata": {
    "application/vnd.databricks.v1+cell": {
     "cellMetadata": {
      "byteLimit": 2048000,
      "rowLimit": 10000
     },
     "inputWidgets": {},
     "nuid": "1a927814-71dc-4914-b625-280feeed9106",
     "showTitle": false,
     "tableResultSettingsMap": {},
     "title": ""
    }
   },
   "outputs": [
    {
     "output_type": "stream",
     "name": "stdout",
     "output_type": "stream",
     "text": [
      "+------------+--------------+-------+------------------+\n|CustomerType|CustomerTypeID|Segment|DIM_CustomerTypeID|\n+------------+--------------+-------+------------------+\n|      RETAIL|             1|    B2C|       -2034590472|\n|   WHOLESALE|             2|    B2B|        2128323039|\n+------------+--------------+-------+------------------+\n\n"
     ]
    }
   ],
   "source": [
    "df_Dim_CustomerType.show()"
   ]
  },
  {
   "cell_type": "code",
   "execution_count": 0,
   "metadata": {
    "application/vnd.databricks.v1+cell": {
     "cellMetadata": {
      "byteLimit": 2048000,
      "rowLimit": 10000
     },
     "inputWidgets": {},
     "nuid": "5ac575f9-f289-415f-93db-d7e7e47cfb01",
     "showTitle": false,
     "tableResultSettingsMap": {},
     "title": ""
    }
   },
   "outputs": [],
   "source": [
    "df_Dim_ProductCategory.write.format(\"delta\").mode(\"overwrite\").saveAsTable(\"DIM_ProductCategory_Hashed\")\n",
    "df_Dim_StoreRegion.write.format(\"delta\").mode(\"overwrite\").saveAsTable(\"DIM_StoreRegion_Hashed\")\n",
    "df_Dim_CustomerType.write.format(\"delta\").mode(\"overwrite\").saveAsTable(\"DIM_CustomerType_Hashed\")\n"
   ]
  },
  {
   "cell_type": "code",
   "execution_count": 0,
   "metadata": {
    "application/vnd.databricks.v1+cell": {
     "cellMetadata": {
      "byteLimit": 2048000,
      "rowLimit": 10000
     },
     "inputWidgets": {},
     "nuid": "26d74ca3-93cc-46cb-bde0-e4d57928157c",
     "showTitle": false,
     "tableResultSettingsMap": {},
     "title": ""
    }
   },
   "outputs": [],
   "source": [
    "df_fact_cleaned_input = df_Fact_Transactions \\\n",
    "    .withColumn(\"ProductCategory\", upper(trim(col(\"ProductCategory\")))) \\\n",
    "    .withColumn(\"StoreRegion\", upper(trim(col(\"StoreRegion\")))) \\\n",
    "    .withColumn(\"CustomerType\", upper(trim(col(\"CustomerType\"))))"
   ]
  },
  {
   "cell_type": "markdown",
   "metadata": {
    "application/vnd.databricks.v1+cell": {
     "cellMetadata": {},
     "inputWidgets": {},
     "nuid": "36efeea6-331e-4d36-bd1f-dfa33a552796",
     "showTitle": false,
     "tableResultSettingsMap": {},
     "title": ""
    }
   },
   "source": [
    "Normalize these tables so that t"
   ]
  },
  {
   "cell_type": "code",
   "execution_count": 0,
   "metadata": {
    "application/vnd.databricks.v1+cell": {
     "cellMetadata": {
      "byteLimit": 2048000,
      "rowLimit": 10000
     },
     "inputWidgets": {},
     "nuid": "87159fda-efe2-4a89-a27c-8e33420769ea",
     "showTitle": false,
     "tableResultSettingsMap": {},
     "title": ""
    }
   },
   "outputs": [],
   "source": [
    "df_fact_norm = df_fact_cleaned_input \\\n",
    "    .withColumn(\"ProductCategory\", upper(trim(col(\"ProductCategory\")))) \\\n",
    "    .withColumn(\"StoreRegion\", upper(trim(col(\"StoreRegion\")))) \\\n",
    "    .withColumn(\"CustomerType\", upper(trim(col(\"CustomerType\"))))\n",
    "\n",
    "\n",
    "df_Dim_ProductCategory_norm = df_Dim_ProductCategory \\\n",
    "    .withColumn(\"ProductCategory\", upper(trim(col(\"ProductCategory\"))))\n",
    "\n",
    "df_Dim_StoreRegion_norm = df_Dim_StoreRegion \\\n",
    "    .withColumn(\"StoreRegion\", upper(trim(col(\"StoreRegion\"))))\n",
    "\n",
    "df_Dim_CustomerType_norm = df_Dim_CustomerType \\\n",
    "    .withColumn(\"CustomerType\", upper(trim(col(\"CustomerType\"))))\n",
    "\n",
    "df_Custom_Mapping_DIM_norm = df_Custom_Mapping_DIM \\\n",
    "    .withColumn(\"ProductCategory\", upper(trim(col(\"ProductCategory\")))) \\\n",
    "    .withColumn(\"StoreRegion\", upper(trim(col(\"StoreRegion\")))) \\\n",
    "    .withColumn(\"CustomerType\", upper(trim(col(\"CustomerType\"))))\n"
   ]
  },
  {
   "cell_type": "code",
   "execution_count": 0,
   "metadata": {
    "application/vnd.databricks.v1+cell": {
     "cellMetadata": {
      "byteLimit": 2048000,
      "rowLimit": 10000
     },
     "inputWidgets": {},
     "nuid": "aadca5bd-1f51-4ba4-b5ce-dc2b3c5927ac",
     "showTitle": false,
     "tableResultSettingsMap": {},
     "title": ""
    }
   },
   "outputs": [],
   "source": [
    "#Join with ProductCategory dimension\n",
    "df_fact_enriched = df_fact_norm.join(\n",
    "    df_Dim_ProductCategory_norm.select(\"ProductCategory\", \"DIM_ProductCategoryID\"),\n",
    "    on=\"ProductCategory\", how=\"left\")\n",
    "\n",
    "#Join with StoreRegion dimension\n",
    "df_fact_enriched = df_fact_enriched.join(\n",
    "    df_Dim_StoreRegion_norm.select(\"StoreRegion\", \"DIM_StoreRegionID\"),\n",
    "    on=\"StoreRegion\", how=\"left\")\n",
    "\n",
    "#Join with CustomerType dimension\n",
    "df_fact_enriched = df_fact_enriched.join(\n",
    "    df_Dim_CustomerType_norm.select(\"CustomerType\", \"DIM_CustomerTypeID\"),\n",
    "    on=\"CustomerType\", how=\"left\")\n"
   ]
  },
  {
   "cell_type": "code",
   "execution_count": 0,
   "metadata": {
    "application/vnd.databricks.v1+cell": {
     "cellMetadata": {
      "byteLimit": 2048000,
      "rowLimit": 10000
     },
     "inputWidgets": {},
     "nuid": "67eed896-d3bb-4034-b6bf-887ff76b3272",
     "showTitle": false,
     "tableResultSettingsMap": {},
     "title": ""
    }
   },
   "outputs": [],
   "source": [
    "df_fact_final = df_fact_enriched.join(\n",
    "    df_Custom_Mapping_DIM_norm.select(\"ProductCategory\", \"StoreRegion\", \"CustomerType\", \"DIM_CustomLabelID\"),\n",
    "    on=[\"ProductCategory\", \"StoreRegion\", \"CustomerType\"],\n",
    "    how=\"left\")"
   ]
  },
  {
   "cell_type": "code",
   "execution_count": 0,
   "metadata": {
    "application/vnd.databricks.v1+cell": {
     "cellMetadata": {
      "byteLimit": 2048000,
      "rowLimit": 10000
     },
     "inputWidgets": {},
     "nuid": "304714b5-93b1-46b0-84f6-c450083a635b",
     "showTitle": false,
     "tableResultSettingsMap": {},
     "title": ""
    }
   },
   "outputs": [
    {
     "output_type": "stream",
     "name": "stdout",
     "output_type": "stream",
     "text": [
      "+---------------+-----------+------------+-------------+------+---------------------+-----------------+------------------+-----------------+\n|ProductCategory|StoreRegion|CustomerType|TransactionID|Amount|DIM_ProductCategoryID|DIM_StoreRegionID|DIM_CustomerTypeID|DIM_CustomLabelID|\n+---------------+-----------+------------+-------------+------+---------------------+-----------------+------------------+-----------------+\n|         LAPTOP|      NORTH|      RETAIL|            1|  1200|           2110147584|       1869582694|       -2034590472|             null|\n|         MOBILE|      SOUTH|   WHOLESALE|            2|   800|          -1314911383|        -96241737|        2128323039|             null|\n|         TABLET|       EAST|      RETAIL|            3|   300|            178668753|      -1592160435|       -2034590472|       -109225604|\n|         LAPTOP|       WEST|      RETAIL|            4|  1500|           2110147584|       -402154387|       -2034590472|      -1989734020|\n|         TABLET|      NORTH|   WHOLESALE|            5|   400|            178668753|       1869582694|        2128323039|             null|\n|         MOBILE|       EAST|      RETAIL|            6|   900|          -1314911383|      -1592160435|       -2034590472|             null|\n|         MOBILE|      SOUTH|      RETAIL|            7|   850|          -1314911383|        -96241737|       -2034590472|             null|\n|         LAPTOP|       WEST|   WHOLESALE|            8|  1700|           2110147584|       -402154387|        2128323039|             null|\n|         TABLET|       EAST|      RETAIL|            9|   350|            178668753|      -1592160435|       -2034590472|       -109225604|\n|         MOBILE|      NORTH|      RETAIL|           10|   950|          -1314911383|       1869582694|       -2034590472|             null|\n+---------------+-----------+------------+-------------+------+---------------------+-----------------+------------------+-----------------+\n\n"
     ]
    }
   ],
   "source": [
    "df_fact_final.show()"
   ]
  },
  {
   "cell_type": "code",
   "execution_count": 0,
   "metadata": {
    "application/vnd.databricks.v1+cell": {
     "cellMetadata": {
      "byteLimit": 2048000,
      "rowLimit": 10000
     },
     "inputWidgets": {},
     "nuid": "5924a024-ce14-40c5-97d2-19127bf83788",
     "showTitle": false,
     "tableResultSettingsMap": {},
     "title": ""
    }
   },
   "outputs": [
    {
     "output_type": "stream",
     "name": "stdout",
     "output_type": "stream",
     "text": [
      "+-------------+---------------------+-----------------+------------------+-----------------+------+\n|TransactionID|DIM_ProductCategoryID|DIM_StoreRegionID|DIM_CustomerTypeID|DIM_CustomLabelID|Amount|\n+-------------+---------------------+-----------------+------------------+-----------------+------+\n|            1|           2110147584|       1869582694|       -2034590472|             null|  1200|\n|            2|          -1314911383|        -96241737|        2128323039|             null|   800|\n|            3|            178668753|      -1592160435|       -2034590472|       -109225604|   300|\n|            4|           2110147584|       -402154387|       -2034590472|      -1989734020|  1500|\n|            5|            178668753|       1869582694|        2128323039|             null|   400|\n|            6|          -1314911383|      -1592160435|       -2034590472|             null|   900|\n|            7|          -1314911383|        -96241737|       -2034590472|             null|   850|\n|            8|           2110147584|       -402154387|        2128323039|             null|  1700|\n|            9|            178668753|      -1592160435|       -2034590472|       -109225604|   350|\n|           10|          -1314911383|       1869582694|       -2034590472|             null|   950|\n+-------------+---------------------+-----------------+------------------+-----------------+------+\n\n"
     ]
    }
   ],
   "source": [
    "#Check \n",
    "df_fact_cleaned = df_fact_final.select(\n",
    "    \"TransactionID\", \"DIM_ProductCategoryID\", \"DIM_StoreRegionID\",\n",
    "    \"DIM_CustomerTypeID\", \"DIM_CustomLabelID\", \"Amount\")\n",
    "df_fact_cleaned.show()"
   ]
  },
  {
   "cell_type": "code",
   "execution_count": 0,
   "metadata": {
    "application/vnd.databricks.v1+cell": {
     "cellMetadata": {
      "byteLimit": 2048000,
      "rowLimit": 10000
     },
     "inputWidgets": {},
     "nuid": "d358cd3c-bfc0-46ee-b6cd-8ea075f8a431",
     "showTitle": false,
     "tableResultSettingsMap": {},
     "title": ""
    }
   },
   "outputs": [],
   "source": [
    "df_fact_cleaned.write.format(\"delta\").mode(\"overwrite\").option(\"overwriteSchema\", \"true\").saveAsTable(\"fact_transactions_cleaned\")"
   ]
  }
 ],
 "metadata": {
  "application/vnd.databricks.v1+notebook": {
   "computePreferences": null,
   "dashboards": [],
   "environmentMetadata": {
    "base_environment": "",
    "environment_version": "1"
   },
   "inputWidgetPreferences": null,
   "language": "python",
   "notebookMetadata": {
    "pythonIndentUnit": 4
   },
   "notebookName": "Mapping",
   "widgets": {}
  }
 },
 "nbformat": 4,
 "nbformat_minor": 0
}