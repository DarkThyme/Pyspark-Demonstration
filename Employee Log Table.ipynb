{
 "cells": [
  {
   "cell_type": "code",
   "execution_count": 0,
   "metadata": {
    "application/vnd.databricks.v1+cell": {
     "cellMetadata": {
      "byteLimit": 2048000,
      "rowLimit": 10000
     },
     "inputWidgets": {},
     "nuid": "567f2f5c-3e40-45de-87bc-d389c7e31053",
     "showTitle": false,
     "tableResultSettingsMap": {},
     "title": ""
    }
   },
   "outputs": [],
   "source": [
    "from pyspark.sql import SparkSession\n",
    "from pyspark.sql.functions import *\n",
    "from pyspark.sql.types import *\n",
    "from pyspark.sql.window import Window"
   ]
  },
  {
   "cell_type": "code",
   "execution_count": 0,
   "metadata": {
    "application/vnd.databricks.v1+cell": {
     "cellMetadata": {
      "byteLimit": 2048000,
      "rowLimit": 10000
     },
     "inputWidgets": {},
     "nuid": "fdb1b9b2-b43c-43da-993b-9981ca6d8d4b",
     "showTitle": false,
     "tableResultSettingsMap": {},
     "title": ""
    }
   },
   "outputs": [],
   "source": [
    "employees_data = [\n",
    "    (101, 'Alice'),\n",
    "    (102, 'Bob'),\n",
    "    (103, 'Charlie')\n",
    "]\n",
    "\n",
    "employees_schema = StructType([\n",
    "    StructField(\"emp_id\", IntegerType(), False),\n",
    "    StructField(\"emp_name\", StringType(), False)\n",
    "])"
   ]
  },
  {
   "cell_type": "code",
   "execution_count": 0,
   "metadata": {
    "application/vnd.databricks.v1+cell": {
     "cellMetadata": {
      "byteLimit": 2048000,
      "rowLimit": 10000
     },
     "inputWidgets": {},
     "nuid": "44c8b0c7-ffce-4b6b-8930-611b70487378",
     "showTitle": false,
     "tableResultSettingsMap": {},
     "title": ""
    }
   },
   "outputs": [],
   "source": [
    "employees_df = spark.createDataFrame(employees_data, employees_schema)"
   ]
  },
  {
   "cell_type": "code",
   "execution_count": 0,
   "metadata": {
    "application/vnd.databricks.v1+cell": {
     "cellMetadata": {
      "byteLimit": 2048000,
      "rowLimit": 10000
     },
     "inputWidgets": {},
     "nuid": "fbce59bd-6fd3-4a65-8bdf-d23994088f91",
     "showTitle": false,
     "tableResultSettingsMap": {},
     "title": ""
    }
   },
   "outputs": [],
   "source": [
    "attendance_data = [\n",
    "    (101, '2025-08-08 09:00:00', 'IN'),\n",
    "    (101, '2025-08-08 17:00:00', 'OUT'),\n",
    "    (102, '2025-08-08 08:30:00', 'IN'),\n",
    "    (102, '2025-08-08 16:30:00', 'OUT'),\n",
    "    (103, '2025-08-08 10:00:00', 'IN'),\n",
    "    (103, '2025-08-08 18:00:00', 'OUT')\n",
    "]\n",
    "\n",
    "attendance_schema = StructType([\n",
    "    StructField(\"emp_id\", IntegerType(), False),\n",
    "    StructField(\"punch_time\", StringType(), False),\n",
    "    StructField(\"punch_type\", StringType(), False)\n",
    "])"
   ]
  },
  {
   "cell_type": "code",
   "execution_count": 0,
   "metadata": {
    "application/vnd.databricks.v1+cell": {
     "cellMetadata": {
      "byteLimit": 2048000,
      "rowLimit": 10000
     },
     "inputWidgets": {},
     "nuid": "ea4a01f8-b594-4ddb-aebe-b11533a166e0",
     "showTitle": false,
     "tableResultSettingsMap": {},
     "title": ""
    }
   },
   "outputs": [],
   "source": [
    "attendance_logs_df = spark.createDataFrame(attendance_data, attendance_schema)"
   ]
  },
  {
   "cell_type": "code",
   "execution_count": 0,
   "metadata": {
    "application/vnd.databricks.v1+cell": {
     "cellMetadata": {
      "byteLimit": 2048000,
      "rowLimit": 10000
     },
     "inputWidgets": {},
     "nuid": "236586de-334e-428a-9e05-ec6fa5518266",
     "showTitle": false,
     "tableResultSettingsMap": {},
     "title": ""
    }
   },
   "outputs": [],
   "source": [
    "attendance_logs_df = attendance_logs_df.withColumn(\n",
    "    \"punch_time\", to_timestamp(col(\"punch_time\"), \"yyyy-MM-dd HH:mm:ss\")\n",
    ").withColumn(\n",
    "    \"work_date\", to_date(col(\"punch_time\"))\n",
    ")"
   ]
  },
  {
   "cell_type": "code",
   "execution_count": 0,
   "metadata": {
    "application/vnd.databricks.v1+cell": {
     "cellMetadata": {
      "byteLimit": 2048000,
      "rowLimit": 10000
     },
     "inputWidgets": {},
     "nuid": "ab236f0b-20ac-467d-8a8d-5fe21d67e824",
     "showTitle": false,
     "tableResultSettingsMap": {},
     "title": ""
    }
   },
   "outputs": [],
   "source": [
    "employees_df.createOrReplaceTempView(\"employees\")\n",
    "attendance_logs_df.createOrReplaceTempView(\"attendance_logs\")"
   ]
  },
  {
   "cell_type": "code",
   "execution_count": 0,
   "metadata": {
    "application/vnd.databricks.v1+cell": {
     "cellMetadata": {
      "byteLimit": 2048000,
      "rowLimit": 10000
     },
     "inputWidgets": {},
     "nuid": "3fc6c4ba-49bf-4c22-af8e-baea202b73f2",
     "showTitle": false,
     "tableResultSettingsMap": {},
     "title": ""
    }
   },
   "outputs": [
    {
     "output_type": "stream",
     "name": "stdout",
     "output_type": "stream",
     "text": [
      "+------+--------+\n|emp_id|emp_name|\n+------+--------+\n|   101|   Alice|\n|   102|     Bob|\n|   103| Charlie|\n+------+--------+\n\n"
     ]
    }
   ],
   "source": [
    "employees_df.show()"
   ]
  },
  {
   "cell_type": "code",
   "execution_count": 0,
   "metadata": {
    "application/vnd.databricks.v1+cell": {
     "cellMetadata": {
      "byteLimit": 2048000,
      "rowLimit": 10000
     },
     "inputWidgets": {},
     "nuid": "2a98da0b-e81a-4621-a009-ed0dbb25063b",
     "showTitle": false,
     "tableResultSettingsMap": {},
     "title": ""
    }
   },
   "outputs": [
    {
     "output_type": "display_data",
     "data": {
      "text/html": [
       "<style scoped>\n",
       "  .table-result-container {\n",
       "    max-height: 300px;\n",
       "    overflow: auto;\n",
       "  }\n",
       "  table, th, td {\n",
       "    border: 1px solid black;\n",
       "    border-collapse: collapse;\n",
       "  }\n",
       "  th, td {\n",
       "    padding: 5px;\n",
       "  }\n",
       "  th {\n",
       "    text-align: left;\n",
       "  }\n",
       "</style><div class='table-result-container'><table class='table-result'><thead style='background-color: white'><tr><th>emp_id</th><th>punch_time</th><th>punch_type</th><th>work_date</th></tr></thead><tbody><tr><td>101</td><td>2025-08-08T09:00:00.000Z</td><td>IN</td><td>2025-08-08</td></tr><tr><td>101</td><td>2025-08-08T17:00:00.000Z</td><td>OUT</td><td>2025-08-08</td></tr><tr><td>102</td><td>2025-08-08T08:30:00.000Z</td><td>IN</td><td>2025-08-08</td></tr><tr><td>102</td><td>2025-08-08T16:30:00.000Z</td><td>OUT</td><td>2025-08-08</td></tr><tr><td>103</td><td>2025-08-08T10:00:00.000Z</td><td>IN</td><td>2025-08-08</td></tr><tr><td>103</td><td>2025-08-08T18:00:00.000Z</td><td>OUT</td><td>2025-08-08</td></tr></tbody></table></div>"
      ]
     },
     "metadata": {
      "application/vnd.databricks.v1+output": {
       "addedWidgets": {},
       "aggData": [],
       "aggError": "",
       "aggOverflow": false,
       "aggSchema": [],
       "aggSeriesLimitReached": false,
       "aggType": "",
       "arguments": {},
       "columnCustomDisplayInfos": {},
       "data": [
        [
         101,
         "2025-08-08T09:00:00.000Z",
         "IN",
         "2025-08-08"
        ],
        [
         101,
         "2025-08-08T17:00:00.000Z",
         "OUT",
         "2025-08-08"
        ],
        [
         102,
         "2025-08-08T08:30:00.000Z",
         "IN",
         "2025-08-08"
        ],
        [
         102,
         "2025-08-08T16:30:00.000Z",
         "OUT",
         "2025-08-08"
        ],
        [
         103,
         "2025-08-08T10:00:00.000Z",
         "IN",
         "2025-08-08"
        ],
        [
         103,
         "2025-08-08T18:00:00.000Z",
         "OUT",
         "2025-08-08"
        ]
       ],
       "datasetInfos": [],
       "dbfsResultPath": null,
       "isJsonSchema": true,
       "metadata": {},
       "overflow": false,
       "plotOptions": {
        "customPlotOptions": {},
        "displayType": "table",
        "pivotAggregation": null,
        "pivotColumns": null,
        "xColumns": null,
        "yColumns": null
       },
       "removedWidgets": [],
       "schema": [
        {
         "metadata": "{}",
         "name": "emp_id",
         "type": "\"integer\""
        },
        {
         "metadata": "{}",
         "name": "punch_time",
         "type": "\"timestamp\""
        },
        {
         "metadata": "{}",
         "name": "punch_type",
         "type": "\"string\""
        },
        {
         "metadata": "{}",
         "name": "work_date",
         "type": "\"date\""
        }
       ],
       "type": "table"
      }
     },
     "output_type": "display_data"
    }
   ],
   "source": [
    "display(attendance_logs_df)"
   ]
  },
  {
   "cell_type": "markdown",
   "metadata": {
    "application/vnd.databricks.v1+cell": {
     "cellMetadata": {},
     "inputWidgets": {},
     "nuid": "a8defdf0-a4ab-45f6-aa01-e1f3c43f61fd",
     "showTitle": false,
     "tableResultSettingsMap": {},
     "title": ""
    }
   },
   "source": [
    "Method 1 --> Using punch_type"
   ]
  },
  {
   "cell_type": "code",
   "execution_count": 0,
   "metadata": {
    "application/vnd.databricks.v1+cell": {
     "cellMetadata": {
      "byteLimit": 2048000,
      "rowLimit": 10000
     },
     "inputWidgets": {},
     "nuid": "c35e6e7a-fae2-44b8-b79f-da63027f4078",
     "showTitle": false,
     "tableResultSettingsMap": {},
     "title": ""
    }
   },
   "outputs": [],
   "source": [
    "window_spec = Window.partitionBy(\"emp_id\", \"work_date\").orderBy(\"punch_time\")"
   ]
  },
  {
   "cell_type": "code",
   "execution_count": 0,
   "metadata": {
    "application/vnd.databricks.v1+cell": {
     "cellMetadata": {
      "byteLimit": 2048000,
      "rowLimit": 10000
     },
     "inputWidgets": {},
     "nuid": "9c986e1b-b65b-4c17-9589-9b9459f4b203",
     "showTitle": false,
     "tableResultSettingsMap": {},
     "title": ""
    }
   },
   "outputs": [],
   "source": [
    "joined_df = attendance_logs_df.join(employees_df, \"emp_id\")"
   ]
  },
  {
   "cell_type": "code",
   "execution_count": 0,
   "metadata": {
    "application/vnd.databricks.v1+cell": {
     "cellMetadata": {
      "byteLimit": 2048000,
      "rowLimit": 10000
     },
     "inputWidgets": {},
     "nuid": "56a9ebfe-89db-4b23-81be-c21a28fbcaad",
     "showTitle": false,
     "tableResultSettingsMap": {},
     "title": ""
    }
   },
   "outputs": [],
   "source": [
    "punch_duration_df = joined_df.select(\n",
    "    col(\"emp_name\"),\n",
    "    col(\"emp_id\"),\n",
    "    col(\"work_date\"),\n",
    "    col(\"punch_time\"),\n",
    "    col(\"punch_type\"),\n",
    "    lag(col(\"punch_time\")).over(window_spec).alias(\"previous_punch\")\n",
    ")"
   ]
  },
  {
   "cell_type": "code",
   "execution_count": 0,
   "metadata": {
    "application/vnd.databricks.v1+cell": {
     "cellMetadata": {
      "byteLimit": 2048000,
      "rowLimit": 10000
     },
     "inputWidgets": {},
     "nuid": "13e7a7c7-eaa0-4ad8-bdcc-c8bc0b449279",
     "showTitle": false,
     "tableResultSettingsMap": {},
     "title": ""
    }
   },
   "outputs": [],
   "source": [
    "daily_metrics_method1 = punch_duration_df.groupBy(\"emp_id\", \"emp_name\", \"work_date\").agg(\n",
    "    min(when(col(\"punch_type\") == \"IN\", col(\"punch_time\"))).alias(\"first_in\"),\n",
    "    max(when(col(\"punch_type\") == \"OUT\", col(\"punch_time\"))).alias(\"last_out\"),\n",
    "    round(\n",
    "        sum(\n",
    "            when(\n",
    "                (col(\"punch_type\") == \"OUT\") & col(\"previous_punch\").isNotNull(),\n",
    "                (unix_timestamp(col(\"punch_time\")) - unix_timestamp(col(\"previous_punch\"))) / 3600.0\n",
    "            ).otherwise(0)\n",
    "        ), 2\n",
    "    ).alias(\"hours_at_work\")\n",
    ").orderBy(\"work_date\", \"emp_name\")"
   ]
  },
  {
   "cell_type": "code",
   "execution_count": 0,
   "metadata": {
    "application/vnd.databricks.v1+cell": {
     "cellMetadata": {
      "byteLimit": 2048000,
      "rowLimit": 10000
     },
     "inputWidgets": {},
     "nuid": "d00d41eb-5842-42ff-ace6-d9745fb477ea",
     "showTitle": false,
     "tableResultSettingsMap": {},
     "title": ""
    }
   },
   "outputs": [
    {
     "output_type": "stream",
     "name": "stdout",
     "output_type": "stream",
     "text": [
      "+------+--------+----------+-------------------+-------------------+-------------+\n|emp_id|emp_name|work_date |first_in           |last_out           |hours_at_work|\n+------+--------+----------+-------------------+-------------------+-------------+\n|101   |Alice   |2025-08-08|2025-08-08 09:00:00|2025-08-08 17:00:00|8.0          |\n|102   |Bob     |2025-08-08|2025-08-08 08:30:00|2025-08-08 16:30:00|8.0          |\n|103   |Charlie |2025-08-08|2025-08-08 10:00:00|2025-08-08 18:00:00|8.0          |\n+------+--------+----------+-------------------+-------------------+-------------+\n\n"
     ]
    }
   ],
   "source": [
    "daily_metrics_method1.show(truncate=False)"
   ]
  },
  {
   "cell_type": "markdown",
   "metadata": {
    "application/vnd.databricks.v1+cell": {
     "cellMetadata": {},
     "inputWidgets": {},
     "nuid": "ad307eb4-38f2-4f97-8469-5d579809aafe",
     "showTitle": false,
     "tableResultSettingsMap": {},
     "title": ""
    }
   },
   "source": [
    "Method 2 --> Sequence-Based Approach"
   ]
  },
  {
   "cell_type": "code",
   "execution_count": 0,
   "metadata": {
    "application/vnd.databricks.v1+cell": {
     "cellMetadata": {
      "byteLimit": 2048000,
      "rowLimit": 10000
     },
     "inputWidgets": {},
     "nuid": "505f7cd7-7aec-4ec4-9c55-63fa9eb373ed",
     "showTitle": false,
     "tableResultSettingsMap": {},
     "title": ""
    }
   },
   "outputs": [],
   "source": [
    "sequenced_punches_df = attendance_logs_df.alias(\"a\").join(\n",
    "    employees_df.alias(\"e\"),\n",
    "    col(\"a.emp_id\") == col(\"e.emp_id\")\n",
    ").select(\n",
    "    col(\"a.emp_id\"),\n",
    "    col(\"e.emp_name\"),\n",
    "    col(\"a.work_date\"),\n",
    "    col(\"a.punch_time\"),\n",
    "    row_number().over(\n",
    "        Window.partitionBy(\"a.emp_id\", \"a.work_date\").orderBy(\"a.punch_time\")\n",
    "    ).alias(\"punch_seq\")\n",
    ")"
   ]
  },
  {
   "cell_type": "code",
   "execution_count": 0,
   "metadata": {
    "application/vnd.databricks.v1+cell": {
     "cellMetadata": {
      "byteLimit": 2048000,
      "rowLimit": 10000
     },
     "inputWidgets": {},
     "nuid": "5b952d56-747e-45ac-bb85-8b46a89ea3b7",
     "showTitle": false,
     "tableResultSettingsMap": {},
     "title": ""
    }
   },
   "outputs": [],
   "source": [
    "punch_pairs_df = sequenced_punches_df.alias(\"p1\").join(\n",
    "    sequenced_punches_df.alias(\"p2\"),\n",
    "    (col(\"p1.emp_id\") == col(\"p2.emp_id\")) &\n",
    "    (col(\"p1.work_date\") == col(\"p2.work_date\")) &\n",
    "    (col(\"p2.punch_seq\") == col(\"p1.punch_seq\") + 1) &\n",
    "    (col(\"p1.punch_seq\") % 2 == 1)\n",
    ").select(\n",
    "    col(\"p1.emp_id\"),\n",
    "    col(\"p1.emp_name\"),\n",
    "    col(\"p1.work_date\"),\n",
    "    col(\"p1.punch_time\").alias(\"punch_in\"),\n",
    "    col(\"p2.punch_time\").alias(\"punch_out\"),\n",
    "    ((unix_timestamp(col(\"p2.punch_time\")) - unix_timestamp(col(\"p1.punch_time\"))) / 3600.0).alias(\"duration_hours\")\n",
    ")"
   ]
  },
  {
   "cell_type": "code",
   "execution_count": 0,
   "metadata": {
    "application/vnd.databricks.v1+cell": {
     "cellMetadata": {
      "byteLimit": 2048000,
      "rowLimit": 10000
     },
     "inputWidgets": {},
     "nuid": "7d40a6df-4d12-4e7e-a58f-709b4c68cfda",
     "showTitle": false,
     "tableResultSettingsMap": {},
     "title": ""
    }
   },
   "outputs": [],
   "source": [
    "daily_metrics_method2 = punch_pairs_df.groupBy(col(\"emp_id\"), col(\"emp_name\"), col(\"work_date\")).agg(\n",
    "    min(\"punch_in\").alias(\"first_in\"),\n",
    "    max(\"punch_out\").alias(\"last_out\"),\n",
    "    round(sum(\"duration_hours\"), 2).alias(\"hours_at_work\")\n",
    ").orderBy(\"work_date\", \"emp_name\")"
   ]
  },
  {
   "cell_type": "code",
   "execution_count": 0,
   "metadata": {
    "application/vnd.databricks.v1+cell": {
     "cellMetadata": {
      "byteLimit": 2048000,
      "rowLimit": 10000
     },
     "inputWidgets": {},
     "nuid": "3860182c-a4f0-4246-a528-d57988f2c1ea",
     "showTitle": false,
     "tableResultSettingsMap": {},
     "title": ""
    }
   },
   "outputs": [
    {
     "output_type": "stream",
     "name": "stdout",
     "output_type": "stream",
     "text": [
      "+------+--------+----------+-------------------+-------------------+-------------+\n|emp_id|emp_name|work_date |first_in           |last_out           |hours_at_work|\n+------+--------+----------+-------------------+-------------------+-------------+\n|101   |Alice   |2025-08-08|2025-08-08 09:00:00|2025-08-08 17:00:00|8.0          |\n|102   |Bob     |2025-08-08|2025-08-08 08:30:00|2025-08-08 16:30:00|8.0          |\n|103   |Charlie |2025-08-08|2025-08-08 10:00:00|2025-08-08 18:00:00|8.0          |\n+------+--------+----------+-------------------+-------------------+-------------+\n\n"
     ]
    }
   ],
   "source": [
    "daily_metrics_method2.show(truncate=False)"
   ]
  }
 ],
 "metadata": {
  "application/vnd.databricks.v1+notebook": {
   "computePreferences": {
    "hardware": {
     "accelerator": null,
     "gpuPoolId": null,
     "memory": null
    }
   },
   "dashboards": [],
   "environmentMetadata": {
    "base_environment": "",
    "environment_version": "2"
   },
   "inputWidgetPreferences": null,
   "language": "python",
   "notebookMetadata": {
    "pythonIndentUnit": 4
   },
   "notebookName": "Employee Log Table",
   "widgets": {}
  },
  "language_info": {
   "name": "python"
  }
 },
 "nbformat": 4,
 "nbformat_minor": 0
}