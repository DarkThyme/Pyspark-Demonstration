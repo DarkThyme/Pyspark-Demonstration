{
 "cells": [
  {
   "cell_type": "code",
   "execution_count": 0,
   "metadata": {
    "application/vnd.databricks.v1+cell": {
     "cellMetadata": {
      "byteLimit": 2048000,
      "rowLimit": 10000
     },
     "inputWidgets": {},
     "nuid": "6e534fe8-46d1-4a80-9c7b-f950cfe72c76",
     "showTitle": false,
     "tableResultSettingsMap": {},
     "title": ""
    }
   },
   "outputs": [],
   "source": [
    "from pyspark.sql import SparkSession "
   ]
  },
  {
   "cell_type": "code",
   "execution_count": 0,
   "metadata": {
    "application/vnd.databricks.v1+cell": {
     "cellMetadata": {
      "byteLimit": 2048000,
      "rowLimit": 10000
     },
     "inputWidgets": {},
     "nuid": "a96c32ba-662b-4e59-8dd7-c27f57faf192",
     "showTitle": false,
     "tableResultSettingsMap": {},
     "title": ""
    }
   },
   "outputs": [],
   "source": [
    "from pyspark.sql import functions as F\n",
    "from pyspark.sql.window import Window\n",
    "from pyspark.sql.functions import *\n",
    "from pyspark.sql.types import StructType, StructField, LongType, StringType, DateType, IntegerType"
   ]
  },
  {
   "cell_type": "code",
   "execution_count": 0,
   "metadata": {
    "application/vnd.databricks.v1+cell": {
     "cellMetadata": {
      "byteLimit": 2048000,
      "rowLimit": 10000
     },
     "inputWidgets": {},
     "nuid": "2ee56ae6-6de5-47c8-ab89-c2bfa78e4442",
     "showTitle": false,
     "tableResultSettingsMap": {},
     "title": ""
    }
   },
   "outputs": [],
   "source": [
    "spark = SparkSession.builder.appName('FactSales2Dimensionality').getOrCreate()"
   ]
  },
  {
   "cell_type": "code",
   "execution_count": 0,
   "metadata": {
    "application/vnd.databricks.v1+cell": {
     "cellMetadata": {
      "byteLimit": 2048000,
      "rowLimit": 10000
     },
     "inputWidgets": {},
     "nuid": "bc991dae-81ea-4ea2-bf9a-0c04a3e3e712",
     "showTitle": false,
     "tableResultSettingsMap": {},
     "title": ""
    }
   },
   "outputs": [],
   "source": [
    "df = spark.read.format(\"delta\").load(\"/delta/fact_sales_stage1\")"
   ]
  },
  {
   "cell_type": "code",
   "execution_count": 0,
   "metadata": {
    "application/vnd.databricks.v1+cell": {
     "cellMetadata": {
      "byteLimit": 2048000,
      "rowLimit": 10000
     },
     "inputWidgets": {},
     "nuid": "2532abfa-01d5-45c4-9577-b13653270d9f",
     "showTitle": false,
     "tableResultSettingsMap": {},
     "title": ""
    }
   },
   "outputs": [],
   "source": [
    "windowed_avg = df.groupBy(\"ProductCategory\").agg(F.mean(\"UnitsSold\").alias(\"avg_units\"))"
   ]
  },
  {
   "cell_type": "code",
   "execution_count": 0,
   "metadata": {
    "application/vnd.databricks.v1+cell": {
     "cellMetadata": {
      "byteLimit": 2048000,
      "rowLimit": 10000
     },
     "inputWidgets": {},
     "nuid": "ffdf1040-fa6b-4981-ae33-625dcc146c54",
     "showTitle": false,
     "tableResultSettingsMap": {},
     "title": ""
    }
   },
   "outputs": [],
   "source": [
    "df = df.join(windowed_avg, on=\"ProductCategory\", how=\"left\") \\\n",
    "       .withColumn(\"UnitsSold\", F.coalesce(\"UnitsSold\", \"avg_units\")) \\\n",
    "       .withColumn(\"UnitsSold\", F.round(F.col(\"UnitsSold\"), 2)) \\\n",
    "       .drop(\"avg_units\")"
   ]
  },
  {
   "cell_type": "code",
   "execution_count": 0,
   "metadata": {
    "application/vnd.databricks.v1+cell": {
     "cellMetadata": {
      "byteLimit": 2048000,
      "rowLimit": 10000
     },
     "inputWidgets": {},
     "nuid": "84da18f9-b47c-449a-ba3e-0ca37f97ec93",
     "showTitle": false,
     "tableResultSettingsMap": {},
     "title": ""
    }
   },
   "outputs": [
    {
     "output_type": "display_data",
     "data": {
      "text/html": [
       "<style scoped>\n",
       "  .table-result-container {\n",
       "    max-height: 300px;\n",
       "    overflow: auto;\n",
       "  }\n",
       "  table, th, td {\n",
       "    border: 1px solid black;\n",
       "    border-collapse: collapse;\n",
       "  }\n",
       "  th, td {\n",
       "    padding: 5px;\n",
       "  }\n",
       "  th {\n",
       "    text-align: left;\n",
       "  }\n",
       "</style><div class='table-result-container'><table class='table-result'><thead style='background-color: white'><tr><th>ProductCategory</th><th>ProductName</th><th>Brand</th><th>StoreRegion</th><th>StoreName</th><th>StoreType</th><th>SalesRep</th><th>Department</th><th>EmployeeRole</th><th>UnitsSold</th><th>UnitPrice</th><th>Discount</th><th>SaleDate</th></tr></thead><tbody><tr><td>Furniture</td><td>T-shirt</td><td>BrandB</td><td>East</td><td>StoreX</td><td>Franchise</td><td>Martha Long</td><td>Electronics</td><td>Cashier</td><td>12.0</td><td>-1.0</td><td>5.0</td><td>2022-12-14</td></tr><tr><td>Clothing</td><td>Tablet</td><td>BrandC</td><td>East</td><td>StoreZ</td><td>Franchise</td><td>Martha Long</td><td>Home</td><td>Sales Associate</td><td>33.67</td><td>272.49</td><td>null</td><td>2023-02-24</td></tr><tr><td>Clothing</td><td>Tablet</td><td>BrandA</td><td>South</td><td>StoreX</td><td>Retail</td><td>Emily Vazquez</td><td>Apparel</td><td>Cashier</td><td>33.67</td><td>484.75</td><td>15.0</td><td>2025-03-24</td></tr><tr><td>Electronics</td><td>Smartphone</td><td>BrandB</td><td>West</td><td>StoreY</td><td>Outlet</td><td>Charles Fields</td><td>Apparel</td><td>Cashier</td><td>26.0</td><td>205.74</td><td>10.0</td><td>2023-09-30</td></tr><tr><td>Furniture</td><td>T-shirt</td><td>BrandC</td><td>East</td><td>StoreZ</td><td>Outlet</td><td>Wendy Castillo</td><td>Home</td><td>Manager</td><td>46.0</td><td>20.25</td><td>5.0</td><td>2022-10-14</td></tr><tr><td>Furniture</td><td>T-shirt</td><td>BrandC</td><td>South</td><td>StoreY</td><td>Retail</td><td>Wendy Castillo</td><td>Home</td><td>Manager</td><td>22.5</td><td>361.06</td><td>10.0</td><td>2024-02-23</td></tr><tr><td>Clothing</td><td>T-shirt</td><td>BrandC</td><td>South</td><td>StoreY</td><td>Outlet</td><td>John Harris</td><td>Home</td><td>Cashier</td><td>37.0</td><td>492.65</td><td>5.0</td><td>2024-05-06</td></tr><tr><td>Electronics</td><td>Smartphone</td><td>BrandC</td><td>South</td><td>StoreX</td><td>Outlet</td><td>Charles Fields</td><td>Home</td><td>Sales Associate</td><td>37.0</td><td>293.87</td><td>15.0</td><td>2023-04-04</td></tr><tr><td>Clothing</td><td>Jeans</td><td>BrandA</td><td>South</td><td>StoreY</td><td>Retail</td><td>Wendy Castillo</td><td>Electronics</td><td>Manager</td><td>23.0</td><td>189.47</td><td>15.0</td><td>2022-12-26</td></tr><tr><td>Furniture</td><td>T-shirt</td><td>BrandB</td><td>East</td><td>StoreZ</td><td>Franchise</td><td>Charles Fields</td><td>Apparel</td><td>Manager</td><td>25.0</td><td>359.08</td><td>10.0</td><td>2022-10-28</td></tr><tr><td>Clothing</td><td>Desk</td><td>BrandC</td><td>South</td><td>StoreZ</td><td>Retail</td><td>Wendy Castillo</td><td>Home</td><td>Manager</td><td>33.67</td><td>438.28</td><td>null</td><td>2025-05-12</td></tr><tr><td>Clothing</td><td>Desk</td><td>BrandB</td><td>North</td><td>StoreZ</td><td>Retail</td><td>Kelly Moore</td><td>Apparel</td><td>Sales Associate</td><td>33.67</td><td>-1.0</td><td>0.0</td><td>2024-11-14</td></tr><tr><td>Electronics</td><td>Tablet</td><td>BrandB</td><td>North</td><td>StoreX</td><td>Outlet</td><td>Kara Lewis</td><td>Electronics</td><td>Manager</td><td>26.0</td><td>490.01</td><td>null</td><td>2025-05-20</td></tr><tr><td>Furniture</td><td>Tablet</td><td>BrandC</td><td>East</td><td>StoreX</td><td>Retail</td><td>Emily Vazquez</td><td>Apparel</td><td>Manager</td><td>15.0</td><td>139.58</td><td>5.0</td><td>2023-11-09</td></tr><tr><td>Electronics</td><td>Chair</td><td>BrandA</td><td>West</td><td>StoreY</td><td>Franchise</td><td>James Austin</td><td>Electronics</td><td>Cashier</td><td>26.0</td><td>67.66</td><td>15.0</td><td>2025-03-27</td></tr><tr><td>Electronics</td><td>Desk</td><td>BrandA</td><td>East</td><td>StoreX</td><td>Franchise</td><td>Emily Vazquez</td><td>Home</td><td>Manager</td><td>19.0</td><td>330.2</td><td>10.0</td><td>2022-12-16</td></tr><tr><td>Furniture</td><td>T-shirt</td><td>BrandC</td><td>West</td><td>StoreY</td><td>Franchise</td><td>Martha Long</td><td>Home</td><td>Cashier</td><td>7.0</td><td>290.63</td><td>15.0</td><td>2022-07-28</td></tr><tr><td>Electronics</td><td>Desk</td><td>BrandC</td><td>North</td><td>StoreY</td><td>Outlet</td><td>Charles Fields</td><td>Home</td><td>Cashier</td><td>7.0</td><td>349.27</td><td>10.0</td><td>2022-07-04</td></tr><tr><td>Furniture</td><td>Jeans</td><td>BrandC</td><td>East</td><td>StoreZ</td><td>Franchise</td><td>Wendy Castillo</td><td>Home</td><td>Manager</td><td>22.5</td><td>267.61</td><td>0.0</td><td>2022-11-27</td></tr><tr><td>Electronics</td><td>Jeans</td><td>BrandB</td><td>East</td><td>StoreZ</td><td>Outlet</td><td>James Austin</td><td>Home</td><td>Manager</td><td>41.0</td><td>52.57</td><td>null</td><td>2025-03-16</td></tr><tr><td>Clothing</td><td>T-shirt</td><td>BrandB</td><td>East</td><td>StoreZ</td><td>Franchise</td><td>Kyle Lin</td><td>Electronics</td><td>Manager</td><td>33.67</td><td>85.99</td><td>0.0</td><td>2024-03-05</td></tr><tr><td>Electronics</td><td>T-shirt</td><td>BrandA</td><td>South</td><td>StoreX</td><td>Retail</td><td>Kelly Moore</td><td>Apparel</td><td>Sales Associate</td><td>26.0</td><td>-1.0</td><td>5.0</td><td>2025-04-06</td></tr><tr><td>Furniture</td><td>Desk</td><td>BrandA</td><td>South</td><td>StoreZ</td><td>Retail</td><td>Billy Perez</td><td>Apparel</td><td>Sales Associate</td><td>22.0</td><td>444.29</td><td>null</td><td>2024-03-05</td></tr><tr><td>Clothing</td><td>Desk</td><td>BrandB</td><td>North</td><td>StoreX</td><td>Franchise</td><td>John Harris</td><td>Apparel</td><td>Manager</td><td>41.0</td><td>283.25</td><td>null</td><td>2023-02-06</td></tr><tr><td>Furniture</td><td>Desk</td><td>BrandA</td><td>North</td><td>StoreZ</td><td>Franchise</td><td>Charles Fields</td><td>Home</td><td>Cashier</td><td>16.0</td><td>238.49</td><td>0.0</td><td>2024-08-27</td></tr><tr><td>Clothing</td><td>Jeans</td><td>BrandC</td><td>North</td><td>StoreY</td><td>Retail</td><td>Kyle Lin</td><td>Electronics</td><td>Sales Associate</td><td>33.67</td><td>414.77</td><td>0.0</td><td>2023-01-18</td></tr><tr><td>Furniture</td><td>Smartphone</td><td>BrandC</td><td>West</td><td>StoreX</td><td>Retail</td><td>Kyle Lin</td><td>Home</td><td>Cashier</td><td>22.5</td><td>21.38</td><td>5.0</td><td>2022-10-11</td></tr><tr><td>Furniture</td><td>Desk</td><td>BrandB</td><td>West</td><td>StoreX</td><td>Outlet</td><td>John Harris</td><td>Electronics</td><td>Manager</td><td>22.5</td><td>279.35</td><td>null</td><td>2023-10-11</td></tr><tr><td>Furniture</td><td>Tablet</td><td>BrandA</td><td>South</td><td>StoreY</td><td>Retail</td><td>Billy Perez</td><td>Electronics</td><td>Cashier</td><td>37.0</td><td>415.6</td><td>15.0</td><td>2022-08-23</td></tr><tr><td>Furniture</td><td>Desk</td><td>BrandA</td><td>South</td><td>StoreZ</td><td>Franchise</td><td>Emily Vazquez</td><td>Electronics</td><td>Sales Associate</td><td>22.5</td><td>359.04</td><td>0.0</td><td>2024-01-20</td></tr></tbody></table></div>"
      ]
     },
     "metadata": {
      "application/vnd.databricks.v1+output": {
       "addedWidgets": {},
       "aggData": [],
       "aggError": "",
       "aggOverflow": false,
       "aggSchema": [],
       "aggSeriesLimitReached": false,
       "aggType": "",
       "arguments": {},
       "columnCustomDisplayInfos": {},
       "data": [
        [
         "Furniture",
         "T-shirt",
         "BrandB",
         "East",
         "StoreX",
         "Franchise",
         "Martha Long",
         "Electronics",
         "Cashier",
         12.0,
         -1.0,
         5.0,
         "2022-12-14"
        ],
        [
         "Clothing",
         "Tablet",
         "BrandC",
         "East",
         "StoreZ",
         "Franchise",
         "Martha Long",
         "Home",
         "Sales Associate",
         33.67,
         272.49,
         null,
         "2023-02-24"
        ],
        [
         "Clothing",
         "Tablet",
         "BrandA",
         "South",
         "StoreX",
         "Retail",
         "Emily Vazquez",
         "Apparel",
         "Cashier",
         33.67,
         484.75,
         15.0,
         "2025-03-24"
        ],
        [
         "Electronics",
         "Smartphone",
         "BrandB",
         "West",
         "StoreY",
         "Outlet",
         "Charles Fields",
         "Apparel",
         "Cashier",
         26.0,
         205.74,
         10.0,
         "2023-09-30"
        ],
        [
         "Furniture",
         "T-shirt",
         "BrandC",
         "East",
         "StoreZ",
         "Outlet",
         "Wendy Castillo",
         "Home",
         "Manager",
         46.0,
         20.25,
         5.0,
         "2022-10-14"
        ],
        [
         "Furniture",
         "T-shirt",
         "BrandC",
         "South",
         "StoreY",
         "Retail",
         "Wendy Castillo",
         "Home",
         "Manager",
         22.5,
         361.06,
         10.0,
         "2024-02-23"
        ],
        [
         "Clothing",
         "T-shirt",
         "BrandC",
         "South",
         "StoreY",
         "Outlet",
         "John Harris",
         "Home",
         "Cashier",
         37.0,
         492.65,
         5.0,
         "2024-05-06"
        ],
        [
         "Electronics",
         "Smartphone",
         "BrandC",
         "South",
         "StoreX",
         "Outlet",
         "Charles Fields",
         "Home",
         "Sales Associate",
         37.0,
         293.87,
         15.0,
         "2023-04-04"
        ],
        [
         "Clothing",
         "Jeans",
         "BrandA",
         "South",
         "StoreY",
         "Retail",
         "Wendy Castillo",
         "Electronics",
         "Manager",
         23.0,
         189.47,
         15.0,
         "2022-12-26"
        ],
        [
         "Furniture",
         "T-shirt",
         "BrandB",
         "East",
         "StoreZ",
         "Franchise",
         "Charles Fields",
         "Apparel",
         "Manager",
         25.0,
         359.08,
         10.0,
         "2022-10-28"
        ],
        [
         "Clothing",
         "Desk",
         "BrandC",
         "South",
         "StoreZ",
         "Retail",
         "Wendy Castillo",
         "Home",
         "Manager",
         33.67,
         438.28,
         null,
         "2025-05-12"
        ],
        [
         "Clothing",
         "Desk",
         "BrandB",
         "North",
         "StoreZ",
         "Retail",
         "Kelly Moore",
         "Apparel",
         "Sales Associate",
         33.67,
         -1.0,
         0.0,
         "2024-11-14"
        ],
        [
         "Electronics",
         "Tablet",
         "BrandB",
         "North",
         "StoreX",
         "Outlet",
         "Kara Lewis",
         "Electronics",
         "Manager",
         26.0,
         490.01,
         null,
         "2025-05-20"
        ],
        [
         "Furniture",
         "Tablet",
         "BrandC",
         "East",
         "StoreX",
         "Retail",
         "Emily Vazquez",
         "Apparel",
         "Manager",
         15.0,
         139.58,
         5.0,
         "2023-11-09"
        ],
        [
         "Electronics",
         "Chair",
         "BrandA",
         "West",
         "StoreY",
         "Franchise",
         "James Austin",
         "Electronics",
         "Cashier",
         26.0,
         67.66,
         15.0,
         "2025-03-27"
        ],
        [
         "Electronics",
         "Desk",
         "BrandA",
         "East",
         "StoreX",
         "Franchise",
         "Emily Vazquez",
         "Home",
         "Manager",
         19.0,
         330.2,
         10.0,
         "2022-12-16"
        ],
        [
         "Furniture",
         "T-shirt",
         "BrandC",
         "West",
         "StoreY",
         "Franchise",
         "Martha Long",
         "Home",
         "Cashier",
         7.0,
         290.63,
         15.0,
         "2022-07-28"
        ],
        [
         "Electronics",
         "Desk",
         "BrandC",
         "North",
         "StoreY",
         "Outlet",
         "Charles Fields",
         "Home",
         "Cashier",
         7.0,
         349.27,
         10.0,
         "2022-07-04"
        ],
        [
         "Furniture",
         "Jeans",
         "BrandC",
         "East",
         "StoreZ",
         "Franchise",
         "Wendy Castillo",
         "Home",
         "Manager",
         22.5,
         267.61,
         0.0,
         "2022-11-27"
        ],
        [
         "Electronics",
         "Jeans",
         "BrandB",
         "East",
         "StoreZ",
         "Outlet",
         "James Austin",
         "Home",
         "Manager",
         41.0,
         52.57,
         null,
         "2025-03-16"
        ],
        [
         "Clothing",
         "T-shirt",
         "BrandB",
         "East",
         "StoreZ",
         "Franchise",
         "Kyle Lin",
         "Electronics",
         "Manager",
         33.67,
         85.99,
         0.0,
         "2024-03-05"
        ],
        [
         "Electronics",
         "T-shirt",
         "BrandA",
         "South",
         "StoreX",
         "Retail",
         "Kelly Moore",
         "Apparel",
         "Sales Associate",
         26.0,
         -1.0,
         5.0,
         "2025-04-06"
        ],
        [
         "Furniture",
         "Desk",
         "BrandA",
         "South",
         "StoreZ",
         "Retail",
         "Billy Perez",
         "Apparel",
         "Sales Associate",
         22.0,
         444.29,
         null,
         "2024-03-05"
        ],
        [
         "Clothing",
         "Desk",
         "BrandB",
         "North",
         "StoreX",
         "Franchise",
         "John Harris",
         "Apparel",
         "Manager",
         41.0,
         283.25,
         null,
         "2023-02-06"
        ],
        [
         "Furniture",
         "Desk",
         "BrandA",
         "North",
         "StoreZ",
         "Franchise",
         "Charles Fields",
         "Home",
         "Cashier",
         16.0,
         238.49,
         0.0,
         "2024-08-27"
        ],
        [
         "Clothing",
         "Jeans",
         "BrandC",
         "North",
         "StoreY",
         "Retail",
         "Kyle Lin",
         "Electronics",
         "Sales Associate",
         33.67,
         414.77,
         0.0,
         "2023-01-18"
        ],
        [
         "Furniture",
         "Smartphone",
         "BrandC",
         "West",
         "StoreX",
         "Retail",
         "Kyle Lin",
         "Home",
         "Cashier",
         22.5,
         21.38,
         5.0,
         "2022-10-11"
        ],
        [
         "Furniture",
         "Desk",
         "BrandB",
         "West",
         "StoreX",
         "Outlet",
         "John Harris",
         "Electronics",
         "Manager",
         22.5,
         279.35,
         null,
         "2023-10-11"
        ],
        [
         "Furniture",
         "Tablet",
         "BrandA",
         "South",
         "StoreY",
         "Retail",
         "Billy Perez",
         "Electronics",
         "Cashier",
         37.0,
         415.6,
         15.0,
         "2022-08-23"
        ],
        [
         "Furniture",
         "Desk",
         "BrandA",
         "South",
         "StoreZ",
         "Franchise",
         "Emily Vazquez",
         "Electronics",
         "Sales Associate",
         22.5,
         359.04,
         0.0,
         "2024-01-20"
        ]
       ],
       "datasetInfos": [],
       "dbfsResultPath": null,
       "isJsonSchema": true,
       "metadata": {},
       "overflow": false,
       "plotOptions": {
        "customPlotOptions": {},
        "displayType": "table",
        "pivotAggregation": null,
        "pivotColumns": null,
        "xColumns": null,
        "yColumns": null
       },
       "removedWidgets": [],
       "schema": [
        {
         "metadata": "{}",
         "name": "ProductCategory",
         "type": "\"string\""
        },
        {
         "metadata": "{}",
         "name": "ProductName",
         "type": "\"string\""
        },
        {
         "metadata": "{}",
         "name": "Brand",
         "type": "\"string\""
        },
        {
         "metadata": "{}",
         "name": "StoreRegion",
         "type": "\"string\""
        },
        {
         "metadata": "{}",
         "name": "StoreName",
         "type": "\"string\""
        },
        {
         "metadata": "{}",
         "name": "StoreType",
         "type": "\"string\""
        },
        {
         "metadata": "{}",
         "name": "SalesRep",
         "type": "\"string\""
        },
        {
         "metadata": "{}",
         "name": "Department",
         "type": "\"string\""
        },
        {
         "metadata": "{}",
         "name": "EmployeeRole",
         "type": "\"string\""
        },
        {
         "metadata": "{}",
         "name": "UnitsSold",
         "type": "\"double\""
        },
        {
         "metadata": "{}",
         "name": "UnitPrice",
         "type": "\"double\""
        },
        {
         "metadata": "{}",
         "name": "Discount",
         "type": "\"double\""
        },
        {
         "metadata": "{\"__detected_date_formats\":\"yyyy-M-d\"}",
         "name": "SaleDate",
         "type": "\"date\""
        }
       ],
       "type": "table"
      }
     },
     "output_type": "display_data"
    }
   ],
   "source": [
    "display(df)"
   ]
  },
  {
   "cell_type": "markdown",
   "metadata": {
    "application/vnd.databricks.v1+cell": {
     "cellMetadata": {},
     "inputWidgets": {},
     "nuid": "abffc363-6bb8-4f34-bc43-eabd804fb0d6",
     "showTitle": false,
     "tableResultSettingsMap": {},
     "title": ""
    }
   },
   "source": [
    "We filled null UnitsSold with mean per ProductCategory"
   ]
  },
  {
   "cell_type": "code",
   "execution_count": 0,
   "metadata": {
    "application/vnd.databricks.v1+cell": {
     "cellMetadata": {},
     "inputWidgets": {},
     "nuid": "82bfb7d8-89bd-4175-8779-62451a562050",
     "showTitle": false,
     "tableResultSettingsMap": {},
     "title": ""
    }
   },
   "outputs": [],
   "source": [
    "df.write.format(\"delta\").mode(\"overwrite\").save(\"/delta/fact_sales_final\")"
   ]
  },
  {
   "cell_type": "code",
   "execution_count": 0,
   "metadata": {
    "application/vnd.databricks.v1+cell": {
     "cellMetadata": {
      "byteLimit": 2048000,
      "rowLimit": 10000
     },
     "inputWidgets": {},
     "nuid": "a1caa3e6-9c81-4530-b534-746cf934db50",
     "showTitle": false,
     "tableResultSettingsMap": {},
     "title": ""
    }
   },
   "outputs": [],
   "source": [
    "median_values = df.filter(\"UnitPrice != -1\") \\\n",
    "    .groupBy(\"ProductCategory\") \\\n",
    "    .agg(F.expr('percentile_approx(UnitPrice, 0.5)').alias(\"median_price\"))"
   ]
  },
  {
   "cell_type": "markdown",
   "metadata": {
    "application/vnd.databricks.v1+cell": {
     "cellMetadata": {},
     "inputWidgets": {},
     "nuid": "c20bcb2c-cc37-47f3-b3df-657a3c325167",
     "showTitle": false,
     "tableResultSettingsMap": {},
     "title": ""
    }
   },
   "source": [
    "We filled null UnitPrice with median per ProductCategory"
   ]
  },
  {
   "cell_type": "code",
   "execution_count": 0,
   "metadata": {
    "application/vnd.databricks.v1+cell": {
     "cellMetadata": {
      "byteLimit": 2048000,
      "rowLimit": 10000
     },
     "inputWidgets": {},
     "nuid": "c0c85026-9d01-46dc-8371-6670b5fc463d",
     "showTitle": false,
     "tableResultSettingsMap": {},
     "title": ""
    }
   },
   "outputs": [],
   "source": [
    "df = df.join(median_values, on=\"ProductCategory\", how=\"left\") \\\n",
    "       .withColumn(\"UnitPrice\",F.round(F.when((F.col(\"UnitPrice\") == -1) | F.col(\"UnitPrice\").isNull(), F.col(\"median_price\")).otherwise(F.col(\"UnitPrice\")),2)) \\\n",
    "       .drop(\"median_price\")"
   ]
  },
  {
   "cell_type": "code",
   "execution_count": 0,
   "metadata": {
    "application/vnd.databricks.v1+cell": {
     "cellMetadata": {
      "byteLimit": 2048000,
      "rowLimit": 10000
     },
     "inputWidgets": {},
     "nuid": "d85a2cc5-17ae-4614-be0c-71220273cf24",
     "showTitle": false,
     "tableResultSettingsMap": {},
     "title": ""
    }
   },
   "outputs": [
    {
     "output_type": "display_data",
     "data": {
      "text/html": [
       "<style scoped>\n",
       "  .table-result-container {\n",
       "    max-height: 300px;\n",
       "    overflow: auto;\n",
       "  }\n",
       "  table, th, td {\n",
       "    border: 1px solid black;\n",
       "    border-collapse: collapse;\n",
       "  }\n",
       "  th, td {\n",
       "    padding: 5px;\n",
       "  }\n",
       "  th {\n",
       "    text-align: left;\n",
       "  }\n",
       "</style><div class='table-result-container'><table class='table-result'><thead style='background-color: white'><tr><th>ProductCategory</th><th>ProductName</th><th>Brand</th><th>StoreRegion</th><th>StoreName</th><th>StoreType</th><th>SalesRep</th><th>Department</th><th>EmployeeRole</th><th>UnitsSold</th><th>UnitPrice</th><th>Discount</th><th>SaleDate</th></tr></thead><tbody><tr><td>Furniture</td><td>T-shirt</td><td>BrandB</td><td>East</td><td>StoreX</td><td>Franchise</td><td>Martha Long</td><td>Electronics</td><td>Cashier</td><td>12.0</td><td>279.35</td><td>5.0</td><td>2022-12-14</td></tr><tr><td>Clothing</td><td>Tablet</td><td>BrandC</td><td>East</td><td>StoreZ</td><td>Franchise</td><td>Martha Long</td><td>Home</td><td>Sales Associate</td><td>33.67</td><td>272.49</td><td>null</td><td>2023-02-24</td></tr><tr><td>Clothing</td><td>Tablet</td><td>BrandA</td><td>South</td><td>StoreX</td><td>Retail</td><td>Emily Vazquez</td><td>Apparel</td><td>Cashier</td><td>33.67</td><td>484.75</td><td>15.0</td><td>2025-03-24</td></tr><tr><td>Electronics</td><td>Smartphone</td><td>BrandB</td><td>West</td><td>StoreY</td><td>Outlet</td><td>Charles Fields</td><td>Apparel</td><td>Cashier</td><td>26.0</td><td>205.74</td><td>10.0</td><td>2023-09-30</td></tr><tr><td>Furniture</td><td>T-shirt</td><td>BrandC</td><td>East</td><td>StoreZ</td><td>Outlet</td><td>Wendy Castillo</td><td>Home</td><td>Manager</td><td>46.0</td><td>20.25</td><td>5.0</td><td>2022-10-14</td></tr><tr><td>Furniture</td><td>T-shirt</td><td>BrandC</td><td>South</td><td>StoreY</td><td>Retail</td><td>Wendy Castillo</td><td>Home</td><td>Manager</td><td>22.5</td><td>361.06</td><td>10.0</td><td>2024-02-23</td></tr><tr><td>Clothing</td><td>T-shirt</td><td>BrandC</td><td>South</td><td>StoreY</td><td>Outlet</td><td>John Harris</td><td>Home</td><td>Cashier</td><td>37.0</td><td>492.65</td><td>5.0</td><td>2024-05-06</td></tr><tr><td>Electronics</td><td>Smartphone</td><td>BrandC</td><td>South</td><td>StoreX</td><td>Outlet</td><td>Charles Fields</td><td>Home</td><td>Sales Associate</td><td>37.0</td><td>293.87</td><td>15.0</td><td>2023-04-04</td></tr><tr><td>Clothing</td><td>Jeans</td><td>BrandA</td><td>South</td><td>StoreY</td><td>Retail</td><td>Wendy Castillo</td><td>Electronics</td><td>Manager</td><td>23.0</td><td>189.47</td><td>15.0</td><td>2022-12-26</td></tr><tr><td>Furniture</td><td>T-shirt</td><td>BrandB</td><td>East</td><td>StoreZ</td><td>Franchise</td><td>Charles Fields</td><td>Apparel</td><td>Manager</td><td>25.0</td><td>359.08</td><td>10.0</td><td>2022-10-28</td></tr><tr><td>Clothing</td><td>Desk</td><td>BrandC</td><td>South</td><td>StoreZ</td><td>Retail</td><td>Wendy Castillo</td><td>Home</td><td>Manager</td><td>33.67</td><td>438.28</td><td>null</td><td>2025-05-12</td></tr><tr><td>Clothing</td><td>Desk</td><td>BrandB</td><td>North</td><td>StoreZ</td><td>Retail</td><td>Kelly Moore</td><td>Apparel</td><td>Sales Associate</td><td>33.67</td><td>283.25</td><td>0.0</td><td>2024-11-14</td></tr><tr><td>Electronics</td><td>Tablet</td><td>BrandB</td><td>North</td><td>StoreX</td><td>Outlet</td><td>Kara Lewis</td><td>Electronics</td><td>Manager</td><td>26.0</td><td>490.01</td><td>null</td><td>2025-05-20</td></tr><tr><td>Furniture</td><td>Tablet</td><td>BrandC</td><td>East</td><td>StoreX</td><td>Retail</td><td>Emily Vazquez</td><td>Apparel</td><td>Manager</td><td>15.0</td><td>139.58</td><td>5.0</td><td>2023-11-09</td></tr><tr><td>Electronics</td><td>Chair</td><td>BrandA</td><td>West</td><td>StoreY</td><td>Franchise</td><td>James Austin</td><td>Electronics</td><td>Cashier</td><td>26.0</td><td>67.66</td><td>15.0</td><td>2025-03-27</td></tr><tr><td>Electronics</td><td>Desk</td><td>BrandA</td><td>East</td><td>StoreX</td><td>Franchise</td><td>Emily Vazquez</td><td>Home</td><td>Manager</td><td>19.0</td><td>330.2</td><td>10.0</td><td>2022-12-16</td></tr><tr><td>Furniture</td><td>T-shirt</td><td>BrandC</td><td>West</td><td>StoreY</td><td>Franchise</td><td>Martha Long</td><td>Home</td><td>Cashier</td><td>7.0</td><td>290.63</td><td>15.0</td><td>2022-07-28</td></tr><tr><td>Electronics</td><td>Desk</td><td>BrandC</td><td>North</td><td>StoreY</td><td>Outlet</td><td>Charles Fields</td><td>Home</td><td>Cashier</td><td>7.0</td><td>349.27</td><td>10.0</td><td>2022-07-04</td></tr><tr><td>Furniture</td><td>Jeans</td><td>BrandC</td><td>East</td><td>StoreZ</td><td>Franchise</td><td>Wendy Castillo</td><td>Home</td><td>Manager</td><td>22.5</td><td>267.61</td><td>0.0</td><td>2022-11-27</td></tr><tr><td>Electronics</td><td>Jeans</td><td>BrandB</td><td>East</td><td>StoreZ</td><td>Outlet</td><td>James Austin</td><td>Home</td><td>Manager</td><td>41.0</td><td>52.57</td><td>null</td><td>2025-03-16</td></tr><tr><td>Clothing</td><td>T-shirt</td><td>BrandB</td><td>East</td><td>StoreZ</td><td>Franchise</td><td>Kyle Lin</td><td>Electronics</td><td>Manager</td><td>33.67</td><td>85.99</td><td>0.0</td><td>2024-03-05</td></tr><tr><td>Electronics</td><td>T-shirt</td><td>BrandA</td><td>South</td><td>StoreX</td><td>Retail</td><td>Kelly Moore</td><td>Apparel</td><td>Sales Associate</td><td>26.0</td><td>293.87</td><td>5.0</td><td>2025-04-06</td></tr><tr><td>Furniture</td><td>Desk</td><td>BrandA</td><td>South</td><td>StoreZ</td><td>Retail</td><td>Billy Perez</td><td>Apparel</td><td>Sales Associate</td><td>22.0</td><td>444.29</td><td>null</td><td>2024-03-05</td></tr><tr><td>Clothing</td><td>Desk</td><td>BrandB</td><td>North</td><td>StoreX</td><td>Franchise</td><td>John Harris</td><td>Apparel</td><td>Manager</td><td>41.0</td><td>283.25</td><td>null</td><td>2023-02-06</td></tr><tr><td>Furniture</td><td>Desk</td><td>BrandA</td><td>North</td><td>StoreZ</td><td>Franchise</td><td>Charles Fields</td><td>Home</td><td>Cashier</td><td>16.0</td><td>238.49</td><td>0.0</td><td>2024-08-27</td></tr><tr><td>Clothing</td><td>Jeans</td><td>BrandC</td><td>North</td><td>StoreY</td><td>Retail</td><td>Kyle Lin</td><td>Electronics</td><td>Sales Associate</td><td>33.67</td><td>414.77</td><td>0.0</td><td>2023-01-18</td></tr><tr><td>Furniture</td><td>Smartphone</td><td>BrandC</td><td>West</td><td>StoreX</td><td>Retail</td><td>Kyle Lin</td><td>Home</td><td>Cashier</td><td>22.5</td><td>21.38</td><td>5.0</td><td>2022-10-11</td></tr><tr><td>Furniture</td><td>Desk</td><td>BrandB</td><td>West</td><td>StoreX</td><td>Outlet</td><td>John Harris</td><td>Electronics</td><td>Manager</td><td>22.5</td><td>279.35</td><td>null</td><td>2023-10-11</td></tr><tr><td>Furniture</td><td>Tablet</td><td>BrandA</td><td>South</td><td>StoreY</td><td>Retail</td><td>Billy Perez</td><td>Electronics</td><td>Cashier</td><td>37.0</td><td>415.6</td><td>15.0</td><td>2022-08-23</td></tr><tr><td>Furniture</td><td>Desk</td><td>BrandA</td><td>South</td><td>StoreZ</td><td>Franchise</td><td>Emily Vazquez</td><td>Electronics</td><td>Sales Associate</td><td>22.5</td><td>359.04</td><td>0.0</td><td>2024-01-20</td></tr></tbody></table></div>"
      ]
     },
     "metadata": {
      "application/vnd.databricks.v1+output": {
       "addedWidgets": {},
       "aggData": [],
       "aggError": "",
       "aggOverflow": false,
       "aggSchema": [],
       "aggSeriesLimitReached": false,
       "aggType": "",
       "arguments": {},
       "columnCustomDisplayInfos": {},
       "data": [
        [
         "Furniture",
         "T-shirt",
         "BrandB",
         "East",
         "StoreX",
         "Franchise",
         "Martha Long",
         "Electronics",
         "Cashier",
         12.0,
         279.35,
         5.0,
         "2022-12-14"
        ],
        [
         "Clothing",
         "Tablet",
         "BrandC",
         "East",
         "StoreZ",
         "Franchise",
         "Martha Long",
         "Home",
         "Sales Associate",
         33.67,
         272.49,
         null,
         "2023-02-24"
        ],
        [
         "Clothing",
         "Tablet",
         "BrandA",
         "South",
         "StoreX",
         "Retail",
         "Emily Vazquez",
         "Apparel",
         "Cashier",
         33.67,
         484.75,
         15.0,
         "2025-03-24"
        ],
        [
         "Electronics",
         "Smartphone",
         "BrandB",
         "West",
         "StoreY",
         "Outlet",
         "Charles Fields",
         "Apparel",
         "Cashier",
         26.0,
         205.74,
         10.0,
         "2023-09-30"
        ],
        [
         "Furniture",
         "T-shirt",
         "BrandC",
         "East",
         "StoreZ",
         "Outlet",
         "Wendy Castillo",
         "Home",
         "Manager",
         46.0,
         20.25,
         5.0,
         "2022-10-14"
        ],
        [
         "Furniture",
         "T-shirt",
         "BrandC",
         "South",
         "StoreY",
         "Retail",
         "Wendy Castillo",
         "Home",
         "Manager",
         22.5,
         361.06,
         10.0,
         "2024-02-23"
        ],
        [
         "Clothing",
         "T-shirt",
         "BrandC",
         "South",
         "StoreY",
         "Outlet",
         "John Harris",
         "Home",
         "Cashier",
         37.0,
         492.65,
         5.0,
         "2024-05-06"
        ],
        [
         "Electronics",
         "Smartphone",
         "BrandC",
         "South",
         "StoreX",
         "Outlet",
         "Charles Fields",
         "Home",
         "Sales Associate",
         37.0,
         293.87,
         15.0,
         "2023-04-04"
        ],
        [
         "Clothing",
         "Jeans",
         "BrandA",
         "South",
         "StoreY",
         "Retail",
         "Wendy Castillo",
         "Electronics",
         "Manager",
         23.0,
         189.47,
         15.0,
         "2022-12-26"
        ],
        [
         "Furniture",
         "T-shirt",
         "BrandB",
         "East",
         "StoreZ",
         "Franchise",
         "Charles Fields",
         "Apparel",
         "Manager",
         25.0,
         359.08,
         10.0,
         "2022-10-28"
        ],
        [
         "Clothing",
         "Desk",
         "BrandC",
         "South",
         "StoreZ",
         "Retail",
         "Wendy Castillo",
         "Home",
         "Manager",
         33.67,
         438.28,
         null,
         "2025-05-12"
        ],
        [
         "Clothing",
         "Desk",
         "BrandB",
         "North",
         "StoreZ",
         "Retail",
         "Kelly Moore",
         "Apparel",
         "Sales Associate",
         33.67,
         283.25,
         0.0,
         "2024-11-14"
        ],
        [
         "Electronics",
         "Tablet",
         "BrandB",
         "North",
         "StoreX",
         "Outlet",
         "Kara Lewis",
         "Electronics",
         "Manager",
         26.0,
         490.01,
         null,
         "2025-05-20"
        ],
        [
         "Furniture",
         "Tablet",
         "BrandC",
         "East",
         "StoreX",
         "Retail",
         "Emily Vazquez",
         "Apparel",
         "Manager",
         15.0,
         139.58,
         5.0,
         "2023-11-09"
        ],
        [
         "Electronics",
         "Chair",
         "BrandA",
         "West",
         "StoreY",
         "Franchise",
         "James Austin",
         "Electronics",
         "Cashier",
         26.0,
         67.66,
         15.0,
         "2025-03-27"
        ],
        [
         "Electronics",
         "Desk",
         "BrandA",
         "East",
         "StoreX",
         "Franchise",
         "Emily Vazquez",
         "Home",
         "Manager",
         19.0,
         330.2,
         10.0,
         "2022-12-16"
        ],
        [
         "Furniture",
         "T-shirt",
         "BrandC",
         "West",
         "StoreY",
         "Franchise",
         "Martha Long",
         "Home",
         "Cashier",
         7.0,
         290.63,
         15.0,
         "2022-07-28"
        ],
        [
         "Electronics",
         "Desk",
         "BrandC",
         "North",
         "StoreY",
         "Outlet",
         "Charles Fields",
         "Home",
         "Cashier",
         7.0,
         349.27,
         10.0,
         "2022-07-04"
        ],
        [
         "Furniture",
         "Jeans",
         "BrandC",
         "East",
         "StoreZ",
         "Franchise",
         "Wendy Castillo",
         "Home",
         "Manager",
         22.5,
         267.61,
         0.0,
         "2022-11-27"
        ],
        [
         "Electronics",
         "Jeans",
         "BrandB",
         "East",
         "StoreZ",
         "Outlet",
         "James Austin",
         "Home",
         "Manager",
         41.0,
         52.57,
         null,
         "2025-03-16"
        ],
        [
         "Clothing",
         "T-shirt",
         "BrandB",
         "East",
         "StoreZ",
         "Franchise",
         "Kyle Lin",
         "Electronics",
         "Manager",
         33.67,
         85.99,
         0.0,
         "2024-03-05"
        ],
        [
         "Electronics",
         "T-shirt",
         "BrandA",
         "South",
         "StoreX",
         "Retail",
         "Kelly Moore",
         "Apparel",
         "Sales Associate",
         26.0,
         293.87,
         5.0,
         "2025-04-06"
        ],
        [
         "Furniture",
         "Desk",
         "BrandA",
         "South",
         "StoreZ",
         "Retail",
         "Billy Perez",
         "Apparel",
         "Sales Associate",
         22.0,
         444.29,
         null,
         "2024-03-05"
        ],
        [
         "Clothing",
         "Desk",
         "BrandB",
         "North",
         "StoreX",
         "Franchise",
         "John Harris",
         "Apparel",
         "Manager",
         41.0,
         283.25,
         null,
         "2023-02-06"
        ],
        [
         "Furniture",
         "Desk",
         "BrandA",
         "North",
         "StoreZ",
         "Franchise",
         "Charles Fields",
         "Home",
         "Cashier",
         16.0,
         238.49,
         0.0,
         "2024-08-27"
        ],
        [
         "Clothing",
         "Jeans",
         "BrandC",
         "North",
         "StoreY",
         "Retail",
         "Kyle Lin",
         "Electronics",
         "Sales Associate",
         33.67,
         414.77,
         0.0,
         "2023-01-18"
        ],
        [
         "Furniture",
         "Smartphone",
         "BrandC",
         "West",
         "StoreX",
         "Retail",
         "Kyle Lin",
         "Home",
         "Cashier",
         22.5,
         21.38,
         5.0,
         "2022-10-11"
        ],
        [
         "Furniture",
         "Desk",
         "BrandB",
         "West",
         "StoreX",
         "Outlet",
         "John Harris",
         "Electronics",
         "Manager",
         22.5,
         279.35,
         null,
         "2023-10-11"
        ],
        [
         "Furniture",
         "Tablet",
         "BrandA",
         "South",
         "StoreY",
         "Retail",
         "Billy Perez",
         "Electronics",
         "Cashier",
         37.0,
         415.6,
         15.0,
         "2022-08-23"
        ],
        [
         "Furniture",
         "Desk",
         "BrandA",
         "South",
         "StoreZ",
         "Franchise",
         "Emily Vazquez",
         "Electronics",
         "Sales Associate",
         22.5,
         359.04,
         0.0,
         "2024-01-20"
        ]
       ],
       "datasetInfos": [],
       "dbfsResultPath": null,
       "isJsonSchema": true,
       "metadata": {},
       "overflow": false,
       "plotOptions": {
        "customPlotOptions": {},
        "displayType": "table",
        "pivotAggregation": null,
        "pivotColumns": null,
        "xColumns": null,
        "yColumns": null
       },
       "removedWidgets": [],
       "schema": [
        {
         "metadata": "{}",
         "name": "ProductCategory",
         "type": "\"string\""
        },
        {
         "metadata": "{}",
         "name": "ProductName",
         "type": "\"string\""
        },
        {
         "metadata": "{}",
         "name": "Brand",
         "type": "\"string\""
        },
        {
         "metadata": "{}",
         "name": "StoreRegion",
         "type": "\"string\""
        },
        {
         "metadata": "{}",
         "name": "StoreName",
         "type": "\"string\""
        },
        {
         "metadata": "{}",
         "name": "StoreType",
         "type": "\"string\""
        },
        {
         "metadata": "{}",
         "name": "SalesRep",
         "type": "\"string\""
        },
        {
         "metadata": "{}",
         "name": "Department",
         "type": "\"string\""
        },
        {
         "metadata": "{}",
         "name": "EmployeeRole",
         "type": "\"string\""
        },
        {
         "metadata": "{}",
         "name": "UnitsSold",
         "type": "\"double\""
        },
        {
         "metadata": "{}",
         "name": "UnitPrice",
         "type": "\"double\""
        },
        {
         "metadata": "{}",
         "name": "Discount",
         "type": "\"double\""
        },
        {
         "metadata": "{\"__detected_date_formats\":\"yyyy-M-d\"}",
         "name": "SaleDate",
         "type": "\"date\""
        }
       ],
       "type": "table"
      }
     },
     "output_type": "display_data"
    }
   ],
   "source": [
    "display(df)"
   ]
  },
  {
   "cell_type": "code",
   "execution_count": 0,
   "metadata": {
    "application/vnd.databricks.v1+cell": {
     "cellMetadata": {
      "byteLimit": 2048000,
      "rowLimit": 10000
     },
     "inputWidgets": {},
     "nuid": "77d99559-5ab6-427f-8100-197404a8b3a5",
     "showTitle": false,
     "tableResultSettingsMap": {},
     "title": ""
    }
   },
   "outputs": [],
   "source": [
    "df.write.format(\"delta\").mode(\"overwrite\").save(\"/delta/fact_sales_stage3\")"
   ]
  },
  {
   "cell_type": "code",
   "execution_count": 0,
   "metadata": {
    "application/vnd.databricks.v1+cell": {
     "cellMetadata": {
      "byteLimit": 2048000,
      "rowLimit": 10000
     },
     "inputWidgets": {},
     "nuid": "8a98f147-a919-48a3-b231-14fad2f1d9f1",
     "showTitle": false,
     "tableResultSettingsMap": {},
     "title": ""
    }
   },
   "outputs": [],
   "source": [
    "df = spark.read.format(\"delta\").load(\"/delta/fact_sales_stage3\")"
   ]
  },
  {
   "cell_type": "code",
   "execution_count": 0,
   "metadata": {
    "application/vnd.databricks.v1+cell": {
     "cellMetadata": {
      "byteLimit": 2048000,
      "rowLimit": 10000
     },
     "inputWidgets": {},
     "nuid": "d314a191-369a-464f-a289-f7309addef5b",
     "showTitle": false,
     "tableResultSettingsMap": {},
     "title": ""
    }
   },
   "outputs": [],
   "source": [
    "discount_median = df.groupBy(\"ProductCategory\").agg(F.expr(\"percentile_approx(Discount, 0.5)\").alias(\"median_discount\"))"
   ]
  },
  {
   "cell_type": "markdown",
   "metadata": {
    "application/vnd.databricks.v1+cell": {
     "cellMetadata": {},
     "inputWidgets": {},
     "nuid": "3d45a02d-a4a3-4cba-8363-99c55517cf0f",
     "showTitle": false,
     "tableResultSettingsMap": {},
     "title": ""
    }
   },
   "source": [
    "We use median to replace null in discount sections, however, we will get 0s after rounding to 2 decimel places as they are in the order of 0,5,10,15... \n"
   ]
  },
  {
   "cell_type": "code",
   "execution_count": 0,
   "metadata": {
    "application/vnd.databricks.v1+cell": {
     "cellMetadata": {
      "byteLimit": 2048000,
      "rowLimit": 10000
     },
     "inputWidgets": {},
     "nuid": "b040b735-f369-47da-a530-a01461371a90",
     "showTitle": false,
     "tableResultSettingsMap": {},
     "title": ""
    }
   },
   "outputs": [],
   "source": [
    "df = df.join(discount_median, on=\"ProductCategory\", how=\"left\") \\\n",
    "       .withColumn(\"Discount\", F.round(F.coalesce(\"Discount\", \"median_discount\"), 2)) \\\n",
    "       .drop(\"median_discount\")"
   ]
  },
  {
   "cell_type": "code",
   "execution_count": 0,
   "metadata": {
    "application/vnd.databricks.v1+cell": {
     "cellMetadata": {
      "byteLimit": 2048000,
      "rowLimit": 10000
     },
     "inputWidgets": {},
     "nuid": "4b30e686-3de5-4df3-8ccd-4a284eaeafd9",
     "showTitle": false,
     "tableResultSettingsMap": {},
     "title": ""
    }
   },
   "outputs": [
    {
     "output_type": "display_data",
     "data": {
      "text/html": [
       "<style scoped>\n",
       "  .table-result-container {\n",
       "    max-height: 300px;\n",
       "    overflow: auto;\n",
       "  }\n",
       "  table, th, td {\n",
       "    border: 1px solid black;\n",
       "    border-collapse: collapse;\n",
       "  }\n",
       "  th, td {\n",
       "    padding: 5px;\n",
       "  }\n",
       "  th {\n",
       "    text-align: left;\n",
       "  }\n",
       "</style><div class='table-result-container'><table class='table-result'><thead style='background-color: white'><tr><th>ProductCategory</th><th>ProductName</th><th>Brand</th><th>StoreRegion</th><th>StoreName</th><th>StoreType</th><th>SalesRep</th><th>Department</th><th>EmployeeRole</th><th>UnitsSold</th><th>UnitPrice</th><th>Discount</th><th>SaleDate</th></tr></thead><tbody><tr><td>Furniture</td><td>T-shirt</td><td>BrandB</td><td>East</td><td>StoreX</td><td>Franchise</td><td>Martha Long</td><td>Electronics</td><td>Cashier</td><td>12.0</td><td>279.35</td><td>5.0</td><td>2022-12-14</td></tr><tr><td>Clothing</td><td>Tablet</td><td>BrandC</td><td>East</td><td>StoreZ</td><td>Franchise</td><td>Martha Long</td><td>Home</td><td>Sales Associate</td><td>33.67</td><td>272.49</td><td>0.0</td><td>2023-02-24</td></tr><tr><td>Clothing</td><td>Tablet</td><td>BrandA</td><td>South</td><td>StoreX</td><td>Retail</td><td>Emily Vazquez</td><td>Apparel</td><td>Cashier</td><td>33.67</td><td>484.75</td><td>15.0</td><td>2025-03-24</td></tr><tr><td>Electronics</td><td>Smartphone</td><td>BrandB</td><td>West</td><td>StoreY</td><td>Outlet</td><td>Charles Fields</td><td>Apparel</td><td>Cashier</td><td>26.0</td><td>205.74</td><td>10.0</td><td>2023-09-30</td></tr><tr><td>Furniture</td><td>T-shirt</td><td>BrandC</td><td>East</td><td>StoreZ</td><td>Outlet</td><td>Wendy Castillo</td><td>Home</td><td>Manager</td><td>46.0</td><td>20.25</td><td>5.0</td><td>2022-10-14</td></tr><tr><td>Furniture</td><td>T-shirt</td><td>BrandC</td><td>South</td><td>StoreY</td><td>Retail</td><td>Wendy Castillo</td><td>Home</td><td>Manager</td><td>22.5</td><td>361.06</td><td>10.0</td><td>2024-02-23</td></tr><tr><td>Clothing</td><td>T-shirt</td><td>BrandC</td><td>South</td><td>StoreY</td><td>Outlet</td><td>John Harris</td><td>Home</td><td>Cashier</td><td>37.0</td><td>492.65</td><td>5.0</td><td>2024-05-06</td></tr><tr><td>Electronics</td><td>Smartphone</td><td>BrandC</td><td>South</td><td>StoreX</td><td>Outlet</td><td>Charles Fields</td><td>Home</td><td>Sales Associate</td><td>37.0</td><td>293.87</td><td>15.0</td><td>2023-04-04</td></tr><tr><td>Clothing</td><td>Jeans</td><td>BrandA</td><td>South</td><td>StoreY</td><td>Retail</td><td>Wendy Castillo</td><td>Electronics</td><td>Manager</td><td>23.0</td><td>189.47</td><td>15.0</td><td>2022-12-26</td></tr><tr><td>Furniture</td><td>T-shirt</td><td>BrandB</td><td>East</td><td>StoreZ</td><td>Franchise</td><td>Charles Fields</td><td>Apparel</td><td>Manager</td><td>25.0</td><td>359.08</td><td>10.0</td><td>2022-10-28</td></tr><tr><td>Clothing</td><td>Desk</td><td>BrandC</td><td>South</td><td>StoreZ</td><td>Retail</td><td>Wendy Castillo</td><td>Home</td><td>Manager</td><td>33.67</td><td>438.28</td><td>0.0</td><td>2025-05-12</td></tr><tr><td>Clothing</td><td>Desk</td><td>BrandB</td><td>North</td><td>StoreZ</td><td>Retail</td><td>Kelly Moore</td><td>Apparel</td><td>Sales Associate</td><td>33.67</td><td>283.25</td><td>0.0</td><td>2024-11-14</td></tr><tr><td>Electronics</td><td>Tablet</td><td>BrandB</td><td>North</td><td>StoreX</td><td>Outlet</td><td>Kara Lewis</td><td>Electronics</td><td>Manager</td><td>26.0</td><td>490.01</td><td>10.0</td><td>2025-05-20</td></tr><tr><td>Furniture</td><td>Tablet</td><td>BrandC</td><td>East</td><td>StoreX</td><td>Retail</td><td>Emily Vazquez</td><td>Apparel</td><td>Manager</td><td>15.0</td><td>139.58</td><td>5.0</td><td>2023-11-09</td></tr><tr><td>Electronics</td><td>Chair</td><td>BrandA</td><td>West</td><td>StoreY</td><td>Franchise</td><td>James Austin</td><td>Electronics</td><td>Cashier</td><td>26.0</td><td>67.66</td><td>15.0</td><td>2025-03-27</td></tr><tr><td>Electronics</td><td>Desk</td><td>BrandA</td><td>East</td><td>StoreX</td><td>Franchise</td><td>Emily Vazquez</td><td>Home</td><td>Manager</td><td>19.0</td><td>330.2</td><td>10.0</td><td>2022-12-16</td></tr><tr><td>Furniture</td><td>T-shirt</td><td>BrandC</td><td>West</td><td>StoreY</td><td>Franchise</td><td>Martha Long</td><td>Home</td><td>Cashier</td><td>7.0</td><td>290.63</td><td>15.0</td><td>2022-07-28</td></tr><tr><td>Electronics</td><td>Desk</td><td>BrandC</td><td>North</td><td>StoreY</td><td>Outlet</td><td>Charles Fields</td><td>Home</td><td>Cashier</td><td>7.0</td><td>349.27</td><td>10.0</td><td>2022-07-04</td></tr><tr><td>Furniture</td><td>Jeans</td><td>BrandC</td><td>East</td><td>StoreZ</td><td>Franchise</td><td>Wendy Castillo</td><td>Home</td><td>Manager</td><td>22.5</td><td>267.61</td><td>0.0</td><td>2022-11-27</td></tr><tr><td>Electronics</td><td>Jeans</td><td>BrandB</td><td>East</td><td>StoreZ</td><td>Outlet</td><td>James Austin</td><td>Home</td><td>Manager</td><td>41.0</td><td>52.57</td><td>10.0</td><td>2025-03-16</td></tr><tr><td>Clothing</td><td>T-shirt</td><td>BrandB</td><td>East</td><td>StoreZ</td><td>Franchise</td><td>Kyle Lin</td><td>Electronics</td><td>Manager</td><td>33.67</td><td>85.99</td><td>0.0</td><td>2024-03-05</td></tr><tr><td>Electronics</td><td>T-shirt</td><td>BrandA</td><td>South</td><td>StoreX</td><td>Retail</td><td>Kelly Moore</td><td>Apparel</td><td>Sales Associate</td><td>26.0</td><td>293.87</td><td>5.0</td><td>2025-04-06</td></tr><tr><td>Furniture</td><td>Desk</td><td>BrandA</td><td>South</td><td>StoreZ</td><td>Retail</td><td>Billy Perez</td><td>Apparel</td><td>Sales Associate</td><td>22.0</td><td>444.29</td><td>5.0</td><td>2024-03-05</td></tr><tr><td>Clothing</td><td>Desk</td><td>BrandB</td><td>North</td><td>StoreX</td><td>Franchise</td><td>John Harris</td><td>Apparel</td><td>Manager</td><td>41.0</td><td>283.25</td><td>0.0</td><td>2023-02-06</td></tr><tr><td>Furniture</td><td>Desk</td><td>BrandA</td><td>North</td><td>StoreZ</td><td>Franchise</td><td>Charles Fields</td><td>Home</td><td>Cashier</td><td>16.0</td><td>238.49</td><td>0.0</td><td>2024-08-27</td></tr><tr><td>Clothing</td><td>Jeans</td><td>BrandC</td><td>North</td><td>StoreY</td><td>Retail</td><td>Kyle Lin</td><td>Electronics</td><td>Sales Associate</td><td>33.67</td><td>414.77</td><td>0.0</td><td>2023-01-18</td></tr><tr><td>Furniture</td><td>Smartphone</td><td>BrandC</td><td>West</td><td>StoreX</td><td>Retail</td><td>Kyle Lin</td><td>Home</td><td>Cashier</td><td>22.5</td><td>21.38</td><td>5.0</td><td>2022-10-11</td></tr><tr><td>Furniture</td><td>Desk</td><td>BrandB</td><td>West</td><td>StoreX</td><td>Outlet</td><td>John Harris</td><td>Electronics</td><td>Manager</td><td>22.5</td><td>279.35</td><td>5.0</td><td>2023-10-11</td></tr><tr><td>Furniture</td><td>Tablet</td><td>BrandA</td><td>South</td><td>StoreY</td><td>Retail</td><td>Billy Perez</td><td>Electronics</td><td>Cashier</td><td>37.0</td><td>415.6</td><td>15.0</td><td>2022-08-23</td></tr><tr><td>Furniture</td><td>Desk</td><td>BrandA</td><td>South</td><td>StoreZ</td><td>Franchise</td><td>Emily Vazquez</td><td>Electronics</td><td>Sales Associate</td><td>22.5</td><td>359.04</td><td>0.0</td><td>2024-01-20</td></tr></tbody></table></div>"
      ]
     },
     "metadata": {
      "application/vnd.databricks.v1+output": {
       "addedWidgets": {},
       "aggData": [],
       "aggError": "",
       "aggOverflow": false,
       "aggSchema": [],
       "aggSeriesLimitReached": false,
       "aggType": "",
       "arguments": {},
       "columnCustomDisplayInfos": {},
       "data": [
        [
         "Furniture",
         "T-shirt",
         "BrandB",
         "East",
         "StoreX",
         "Franchise",
         "Martha Long",
         "Electronics",
         "Cashier",
         12.0,
         279.35,
         5.0,
         "2022-12-14"
        ],
        [
         "Clothing",
         "Tablet",
         "BrandC",
         "East",
         "StoreZ",
         "Franchise",
         "Martha Long",
         "Home",
         "Sales Associate",
         33.67,
         272.49,
         0.0,
         "2023-02-24"
        ],
        [
         "Clothing",
         "Tablet",
         "BrandA",
         "South",
         "StoreX",
         "Retail",
         "Emily Vazquez",
         "Apparel",
         "Cashier",
         33.67,
         484.75,
         15.0,
         "2025-03-24"
        ],
        [
         "Electronics",
         "Smartphone",
         "BrandB",
         "West",
         "StoreY",
         "Outlet",
         "Charles Fields",
         "Apparel",
         "Cashier",
         26.0,
         205.74,
         10.0,
         "2023-09-30"
        ],
        [
         "Furniture",
         "T-shirt",
         "BrandC",
         "East",
         "StoreZ",
         "Outlet",
         "Wendy Castillo",
         "Home",
         "Manager",
         46.0,
         20.25,
         5.0,
         "2022-10-14"
        ],
        [
         "Furniture",
         "T-shirt",
         "BrandC",
         "South",
         "StoreY",
         "Retail",
         "Wendy Castillo",
         "Home",
         "Manager",
         22.5,
         361.06,
         10.0,
         "2024-02-23"
        ],
        [
         "Clothing",
         "T-shirt",
         "BrandC",
         "South",
         "StoreY",
         "Outlet",
         "John Harris",
         "Home",
         "Cashier",
         37.0,
         492.65,
         5.0,
         "2024-05-06"
        ],
        [
         "Electronics",
         "Smartphone",
         "BrandC",
         "South",
         "StoreX",
         "Outlet",
         "Charles Fields",
         "Home",
         "Sales Associate",
         37.0,
         293.87,
         15.0,
         "2023-04-04"
        ],
        [
         "Clothing",
         "Jeans",
         "BrandA",
         "South",
         "StoreY",
         "Retail",
         "Wendy Castillo",
         "Electronics",
         "Manager",
         23.0,
         189.47,
         15.0,
         "2022-12-26"
        ],
        [
         "Furniture",
         "T-shirt",
         "BrandB",
         "East",
         "StoreZ",
         "Franchise",
         "Charles Fields",
         "Apparel",
         "Manager",
         25.0,
         359.08,
         10.0,
         "2022-10-28"
        ],
        [
         "Clothing",
         "Desk",
         "BrandC",
         "South",
         "StoreZ",
         "Retail",
         "Wendy Castillo",
         "Home",
         "Manager",
         33.67,
         438.28,
         0.0,
         "2025-05-12"
        ],
        [
         "Clothing",
         "Desk",
         "BrandB",
         "North",
         "StoreZ",
         "Retail",
         "Kelly Moore",
         "Apparel",
         "Sales Associate",
         33.67,
         283.25,
         0.0,
         "2024-11-14"
        ],
        [
         "Electronics",
         "Tablet",
         "BrandB",
         "North",
         "StoreX",
         "Outlet",
         "Kara Lewis",
         "Electronics",
         "Manager",
         26.0,
         490.01,
         10.0,
         "2025-05-20"
        ],
        [
         "Furniture",
         "Tablet",
         "BrandC",
         "East",
         "StoreX",
         "Retail",
         "Emily Vazquez",
         "Apparel",
         "Manager",
         15.0,
         139.58,
         5.0,
         "2023-11-09"
        ],
        [
         "Electronics",
         "Chair",
         "BrandA",
         "West",
         "StoreY",
         "Franchise",
         "James Austin",
         "Electronics",
         "Cashier",
         26.0,
         67.66,
         15.0,
         "2025-03-27"
        ],
        [
         "Electronics",
         "Desk",
         "BrandA",
         "East",
         "StoreX",
         "Franchise",
         "Emily Vazquez",
         "Home",
         "Manager",
         19.0,
         330.2,
         10.0,
         "2022-12-16"
        ],
        [
         "Furniture",
         "T-shirt",
         "BrandC",
         "West",
         "StoreY",
         "Franchise",
         "Martha Long",
         "Home",
         "Cashier",
         7.0,
         290.63,
         15.0,
         "2022-07-28"
        ],
        [
         "Electronics",
         "Desk",
         "BrandC",
         "North",
         "StoreY",
         "Outlet",
         "Charles Fields",
         "Home",
         "Cashier",
         7.0,
         349.27,
         10.0,
         "2022-07-04"
        ],
        [
         "Furniture",
         "Jeans",
         "BrandC",
         "East",
         "StoreZ",
         "Franchise",
         "Wendy Castillo",
         "Home",
         "Manager",
         22.5,
         267.61,
         0.0,
         "2022-11-27"
        ],
        [
         "Electronics",
         "Jeans",
         "BrandB",
         "East",
         "StoreZ",
         "Outlet",
         "James Austin",
         "Home",
         "Manager",
         41.0,
         52.57,
         10.0,
         "2025-03-16"
        ],
        [
         "Clothing",
         "T-shirt",
         "BrandB",
         "East",
         "StoreZ",
         "Franchise",
         "Kyle Lin",
         "Electronics",
         "Manager",
         33.67,
         85.99,
         0.0,
         "2024-03-05"
        ],
        [
         "Electronics",
         "T-shirt",
         "BrandA",
         "South",
         "StoreX",
         "Retail",
         "Kelly Moore",
         "Apparel",
         "Sales Associate",
         26.0,
         293.87,
         5.0,
         "2025-04-06"
        ],
        [
         "Furniture",
         "Desk",
         "BrandA",
         "South",
         "StoreZ",
         "Retail",
         "Billy Perez",
         "Apparel",
         "Sales Associate",
         22.0,
         444.29,
         5.0,
         "2024-03-05"
        ],
        [
         "Clothing",
         "Desk",
         "BrandB",
         "North",
         "StoreX",
         "Franchise",
         "John Harris",
         "Apparel",
         "Manager",
         41.0,
         283.25,
         0.0,
         "2023-02-06"
        ],
        [
         "Furniture",
         "Desk",
         "BrandA",
         "North",
         "StoreZ",
         "Franchise",
         "Charles Fields",
         "Home",
         "Cashier",
         16.0,
         238.49,
         0.0,
         "2024-08-27"
        ],
        [
         "Clothing",
         "Jeans",
         "BrandC",
         "North",
         "StoreY",
         "Retail",
         "Kyle Lin",
         "Electronics",
         "Sales Associate",
         33.67,
         414.77,
         0.0,
         "2023-01-18"
        ],
        [
         "Furniture",
         "Smartphone",
         "BrandC",
         "West",
         "StoreX",
         "Retail",
         "Kyle Lin",
         "Home",
         "Cashier",
         22.5,
         21.38,
         5.0,
         "2022-10-11"
        ],
        [
         "Furniture",
         "Desk",
         "BrandB",
         "West",
         "StoreX",
         "Outlet",
         "John Harris",
         "Electronics",
         "Manager",
         22.5,
         279.35,
         5.0,
         "2023-10-11"
        ],
        [
         "Furniture",
         "Tablet",
         "BrandA",
         "South",
         "StoreY",
         "Retail",
         "Billy Perez",
         "Electronics",
         "Cashier",
         37.0,
         415.6,
         15.0,
         "2022-08-23"
        ],
        [
         "Furniture",
         "Desk",
         "BrandA",
         "South",
         "StoreZ",
         "Franchise",
         "Emily Vazquez",
         "Electronics",
         "Sales Associate",
         22.5,
         359.04,
         0.0,
         "2024-01-20"
        ]
       ],
       "datasetInfos": [],
       "dbfsResultPath": null,
       "isJsonSchema": true,
       "metadata": {},
       "overflow": false,
       "plotOptions": {
        "customPlotOptions": {},
        "displayType": "table",
        "pivotAggregation": null,
        "pivotColumns": null,
        "xColumns": null,
        "yColumns": null
       },
       "removedWidgets": [],
       "schema": [
        {
         "metadata": "{}",
         "name": "ProductCategory",
         "type": "\"string\""
        },
        {
         "metadata": "{}",
         "name": "ProductName",
         "type": "\"string\""
        },
        {
         "metadata": "{}",
         "name": "Brand",
         "type": "\"string\""
        },
        {
         "metadata": "{}",
         "name": "StoreRegion",
         "type": "\"string\""
        },
        {
         "metadata": "{}",
         "name": "StoreName",
         "type": "\"string\""
        },
        {
         "metadata": "{}",
         "name": "StoreType",
         "type": "\"string\""
        },
        {
         "metadata": "{}",
         "name": "SalesRep",
         "type": "\"string\""
        },
        {
         "metadata": "{}",
         "name": "Department",
         "type": "\"string\""
        },
        {
         "metadata": "{}",
         "name": "EmployeeRole",
         "type": "\"string\""
        },
        {
         "metadata": "{}",
         "name": "UnitsSold",
         "type": "\"double\""
        },
        {
         "metadata": "{}",
         "name": "UnitPrice",
         "type": "\"double\""
        },
        {
         "metadata": "{}",
         "name": "Discount",
         "type": "\"double\""
        },
        {
         "metadata": "{\"__detected_date_formats\":\"yyyy-M-d\"}",
         "name": "SaleDate",
         "type": "\"date\""
        }
       ],
       "type": "table"
      }
     },
     "output_type": "display_data"
    }
   ],
   "source": [
    "display(df)"
   ]
  },
  {
   "cell_type": "code",
   "execution_count": 0,
   "metadata": {
    "application/vnd.databricks.v1+cell": {
     "cellMetadata": {
      "byteLimit": 2048000,
      "rowLimit": 10000
     },
     "inputWidgets": {},
     "nuid": "ecbc1c4f-5946-4309-9b07-0afdf8f9dedc",
     "showTitle": false,
     "tableResultSettingsMap": {},
     "title": ""
    }
   },
   "outputs": [],
   "source": [
    "df.write.format(\"delta\").mode(\"overwrite\").save(\"/delta/fact_sales_final\")"
   ]
  }
 ],
 "metadata": {
  "application/vnd.databricks.v1+notebook": {
   "computePreferences": null,
   "dashboards": [],
   "environmentMetadata": {
    "base_environment": "",
    "environment_version": "1"
   },
   "inputWidgetPreferences": null,
   "language": "python",
   "notebookMetadata": {
    "pythonIndentUnit": 4
   },
   "notebookName": "Fact_Sales 13:39:34",
   "widgets": {}
  }
 },
 "nbformat": 4,
 "nbformat_minor": 0
}