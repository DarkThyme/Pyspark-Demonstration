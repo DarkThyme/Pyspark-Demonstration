{
 "cells": [
  {
   "cell_type": "code",
   "execution_count": 0,
   "metadata": {
    "application/vnd.databricks.v1+cell": {
     "cellMetadata": {
      "byteLimit": 2048000,
      "rowLimit": 10000
     },
     "inputWidgets": {},
     "nuid": "eecb4c46-0e2f-464a-af9b-da653b593043",
     "showTitle": false,
     "tableResultSettingsMap": {},
     "title": ""
    }
   },
   "outputs": [],
   "source": [
    "from pyspark.sql import SparkSession "
   ]
  },
  {
   "cell_type": "code",
   "execution_count": 0,
   "metadata": {
    "application/vnd.databricks.v1+cell": {
     "cellMetadata": {
      "byteLimit": 2048000,
      "rowLimit": 10000
     },
     "inputWidgets": {},
     "nuid": "6c13f243-1d5c-4b00-9cc4-6ec9dc500b37",
     "showTitle": false,
     "tableResultSettingsMap": {},
     "title": ""
    }
   },
   "outputs": [],
   "source": [
    "from pyspark.sql import functions as F\n",
    "from pyspark.sql.window import Window\n",
    "from pyspark.sql.functions import sha2, concat_ws, upper\n",
    "from pyspark.sql.types import StructType, StructField, LongType, StringType, DateType, IntegerType"
   ]
  },
  {
   "cell_type": "code",
   "execution_count": 0,
   "metadata": {
    "application/vnd.databricks.v1+cell": {
     "cellMetadata": {
      "byteLimit": 2048000,
      "rowLimit": 10000
     },
     "inputWidgets": {},
     "nuid": "be64fb0b-db66-4c3c-abef-d0a150836330",
     "showTitle": false,
     "tableResultSettingsMap": {},
     "title": ""
    }
   },
   "outputs": [],
   "source": [
    "spark = SparkSession.builder.appName('FactSales2Dimensionality').getOrCreate()"
   ]
  },
  {
   "cell_type": "code",
   "execution_count": 0,
   "metadata": {
    "application/vnd.databricks.v1+cell": {
     "cellMetadata": {
      "byteLimit": 2048000,
      "rowLimit": 10000
     },
     "inputWidgets": {},
     "nuid": "28ba178e-2849-42d2-a572-672b4b196929",
     "showTitle": false,
     "tableResultSettingsMap": {},
     "title": ""
    }
   },
   "outputs": [],
   "source": [
    "df = spark.read.format(\"delta\").load(\"/delta/fact_sales_final\")"
   ]
  },
  {
   "cell_type": "code",
   "execution_count": 0,
   "metadata": {
    "application/vnd.databricks.v1+cell": {
     "cellMetadata": {
      "byteLimit": 2048000,
      "rowLimit": 10000
     },
     "inputWidgets": {},
     "nuid": "1773de9e-0bc6-4b63-8880-a7c378d9b7ae",
     "showTitle": false,
     "tableResultSettingsMap": {},
     "title": ""
    }
   },
   "outputs": [
    {
     "output_type": "stream",
     "name": "stdout",
     "output_type": "stream",
     "text": [
      "+---------------+-----------+------+-----------+---------+---------+--------------+-----------+---------------+---------+---------+--------+----------+\n|ProductCategory|ProductName| Brand|StoreRegion|StoreName|StoreType|      SalesRep| Department|   EmployeeRole|UnitsSold|UnitPrice|Discount|  SaleDate|\n+---------------+-----------+------+-----------+---------+---------+--------------+-----------+---------------+---------+---------+--------+----------+\n|      Furniture|    T-shirt|BrandB|       East|   StoreX|Franchise|   Martha Long|Electronics|        Cashier|     12.0|   279.35|     5.0|2022-12-14|\n|       Clothing|     Tablet|BrandC|       East|   StoreZ|Franchise|   Martha Long|       Home|Sales Associate|    33.67|   272.49|     0.0|2023-02-24|\n|       Clothing|     Tablet|BrandA|      South|   StoreX|   Retail| Emily Vazquez|    Apparel|        Cashier|    33.67|   484.75|    15.0|2025-03-24|\n|    Electronics| Smartphone|BrandB|       West|   StoreY|   Outlet|Charles Fields|    Apparel|        Cashier|     26.0|   205.74|    10.0|2023-09-30|\n|      Furniture|    T-shirt|BrandC|       East|   StoreZ|   Outlet|Wendy Castillo|       Home|        Manager|     46.0|    20.25|     5.0|2022-10-14|\n|      Furniture|    T-shirt|BrandC|      South|   StoreY|   Retail|Wendy Castillo|       Home|        Manager|     22.5|   361.06|    10.0|2024-02-23|\n|       Clothing|    T-shirt|BrandC|      South|   StoreY|   Outlet|   John Harris|       Home|        Cashier|     37.0|   492.65|     5.0|2024-05-06|\n|    Electronics| Smartphone|BrandC|      South|   StoreX|   Outlet|Charles Fields|       Home|Sales Associate|     37.0|   293.87|    15.0|2023-04-04|\n|       Clothing|      Jeans|BrandA|      South|   StoreY|   Retail|Wendy Castillo|Electronics|        Manager|     23.0|   189.47|    15.0|2022-12-26|\n|      Furniture|    T-shirt|BrandB|       East|   StoreZ|Franchise|Charles Fields|    Apparel|        Manager|     25.0|   359.08|    10.0|2022-10-28|\n|       Clothing|       Desk|BrandC|      South|   StoreZ|   Retail|Wendy Castillo|       Home|        Manager|    33.67|   438.28|     0.0|2025-05-12|\n|       Clothing|       Desk|BrandB|      North|   StoreZ|   Retail|   Kelly Moore|    Apparel|Sales Associate|    33.67|   283.25|     0.0|2024-11-14|\n|    Electronics|     Tablet|BrandB|      North|   StoreX|   Outlet|    Kara Lewis|Electronics|        Manager|     26.0|   490.01|    10.0|2025-05-20|\n|      Furniture|     Tablet|BrandC|       East|   StoreX|   Retail| Emily Vazquez|    Apparel|        Manager|     15.0|   139.58|     5.0|2023-11-09|\n|    Electronics|      Chair|BrandA|       West|   StoreY|Franchise|  James Austin|Electronics|        Cashier|     26.0|    67.66|    15.0|2025-03-27|\n|    Electronics|       Desk|BrandA|       East|   StoreX|Franchise| Emily Vazquez|       Home|        Manager|     19.0|    330.2|    10.0|2022-12-16|\n|      Furniture|    T-shirt|BrandC|       West|   StoreY|Franchise|   Martha Long|       Home|        Cashier|      7.0|   290.63|    15.0|2022-07-28|\n|    Electronics|       Desk|BrandC|      North|   StoreY|   Outlet|Charles Fields|       Home|        Cashier|      7.0|   349.27|    10.0|2022-07-04|\n|      Furniture|      Jeans|BrandC|       East|   StoreZ|Franchise|Wendy Castillo|       Home|        Manager|     22.5|   267.61|     0.0|2022-11-27|\n|    Electronics|      Jeans|BrandB|       East|   StoreZ|   Outlet|  James Austin|       Home|        Manager|     41.0|    52.57|    10.0|2025-03-16|\n+---------------+-----------+------+-----------+---------+---------+--------------+-----------+---------------+---------+---------+--------+----------+\nonly showing top 20 rows\n\n"
     ]
    }
   ],
   "source": [
    "df.show()"
   ]
  },
  {
   "cell_type": "code",
   "execution_count": 0,
   "metadata": {
    "application/vnd.databricks.v1+cell": {
     "cellMetadata": {
      "byteLimit": 2048000,
      "rowLimit": 10000
     },
     "inputWidgets": {},
     "nuid": "880f76f6-7451-4801-abe0-a7aaa7d16974",
     "showTitle": false,
     "tableResultSettingsMap": {},
     "title": ""
    }
   },
   "outputs": [],
   "source": [
    "dim_product = df.select(\"ProductCategory\", \"ProductName\", \"Brand\").distinct()\n",
    "\n",
    "dim_product = dim_product.withColumn(\"DIM_ProductId\",sha2(concat_ws(\"||\", \"ProductCategory\", \"ProductName\", \"Brand\"), 256))\n",
    "\n",
    "default_product = spark.createDataFrame([(\"N/A\", \"N/A\", \"N/A\")], [\"ProductCategory\", \"ProductName\", \"Brand\"])\n",
    "default_product = default_product.withColumn(\"DIM_ProductId\",\n",
    "    sha2(concat_ws(\"||\", \"ProductCategory\", \"ProductName\", \"Brand\"), 256))\n",
    "\n",
    "dim_product = dim_product.union(default_product)"
   ]
  },
  {
   "cell_type": "code",
   "execution_count": 0,
   "metadata": {
    "application/vnd.databricks.v1+cell": {
     "cellMetadata": {
      "byteLimit": 2048000,
      "rowLimit": 10000
     },
     "inputWidgets": {},
     "nuid": "1d29467d-b59a-4d86-a906-913f55437ebd",
     "showTitle": false,
     "tableResultSettingsMap": {},
     "title": ""
    }
   },
   "outputs": [
    {
     "output_type": "display_data",
     "data": {
      "text/html": [
       "<style scoped>\n",
       "  .table-result-container {\n",
       "    max-height: 300px;\n",
       "    overflow: auto;\n",
       "  }\n",
       "  table, th, td {\n",
       "    border: 1px solid black;\n",
       "    border-collapse: collapse;\n",
       "  }\n",
       "  th, td {\n",
       "    padding: 5px;\n",
       "  }\n",
       "  th {\n",
       "    text-align: left;\n",
       "  }\n",
       "</style><div class='table-result-container'><table class='table-result'><thead style='background-color: white'><tr><th>ProductCategory</th><th>ProductName</th><th>Brand</th><th>DIM_ProductId</th></tr></thead><tbody><tr><td>Electronics</td><td>Smartphone</td><td>BrandC</td><td>fc08e15f7ca6c6df9df7da9e4815aaf89a29e1e19459ee7d969019e8cbb37123</td></tr><tr><td>Electronics</td><td>Smartphone</td><td>BrandB</td><td>6a421110b266104bf1cf67be336c9ca4cfff1f897b231e0631948bb3f034677e</td></tr><tr><td>Electronics</td><td>T-shirt</td><td>BrandA</td><td>cd2f205a3b37acc265cf4867714abf35098ab215ba53c4864cd498abeda41f19</td></tr><tr><td>Electronics</td><td>Desk</td><td>BrandC</td><td>d77d44bf969beb3dbe1c220e980137a5a50d692fcb5488788dcab5776eea5935</td></tr><tr><td>Clothing</td><td>Tablet</td><td>BrandA</td><td>a8406b374712399cebdf16a3e8a8c56cf72bf72db75cb2ad0dc3a1ff71e61285</td></tr><tr><td>Electronics</td><td>Chair</td><td>BrandA</td><td>dcd1602d12efc29c8c4598b7843ec57a534683119f15c2042695e5fe71031ffd</td></tr><tr><td>Furniture</td><td>Desk</td><td>BrandA</td><td>b5c80882f8e29da43355e05bb4fef15d73e22fc3e8a99209a389132cb1eaa6f2</td></tr><tr><td>Furniture</td><td>Tablet</td><td>BrandA</td><td>1839298fc3616a7fb8581b8eb5373248e28632ab00dfdec326053bc309f58bca</td></tr><tr><td>Electronics</td><td>Desk</td><td>BrandA</td><td>27280aade539db2d7433159d56c762fc2f0d86f6c030d9edc55eaaf355997161</td></tr><tr><td>Electronics</td><td>Tablet</td><td>BrandB</td><td>36fc80bfe93a526d8a175456e8243770785451a22d4ce473e3bbf391080eeba1</td></tr><tr><td>Clothing</td><td>T-shirt</td><td>BrandC</td><td>86ebe6b6839b1f0b802dc9acb8b3ac28ed84edd9496e774602b4bb858ac1ee21</td></tr><tr><td>Furniture</td><td>Jeans</td><td>BrandC</td><td>4e83a8d47b66443b97bb7351dc7523efa2e559dc3007eaa8c4eab1eb916eb8a6</td></tr><tr><td>Clothing</td><td>Desk</td><td>BrandC</td><td>98a0a870ebb0f5e6b5b5cdf00b618fafcb2a3d33b41e56d92c57818ac224b5e7</td></tr><tr><td>Furniture</td><td>Tablet</td><td>BrandC</td><td>b24a9f4fedbb73a4cc882922b4a8823167815ae6edd96114e17f465303462ca3</td></tr><tr><td>Clothing</td><td>Jeans</td><td>BrandC</td><td>a50a4d5a998a5462879a924b0479b4172af8a18f7c0bf80be21a80403f297651</td></tr><tr><td>Furniture</td><td>Desk</td><td>BrandB</td><td>3534d46d31abd5365ea939799b6dbaeabf66cee5d270b2c1016af31d4a076ba2</td></tr><tr><td>Furniture</td><td>Smartphone</td><td>BrandC</td><td>c2d01848f52f9fc1a7a28d06ec3d1a8de97a80a450b8788db43999fe58fb954c</td></tr><tr><td>Clothing</td><td>Jeans</td><td>BrandA</td><td>807d270019a32fa7c40a2b8931312f136363e6bf9793576c7ab67fd901472887</td></tr><tr><td>Clothing</td><td>Desk</td><td>BrandB</td><td>238ae8d501ef46b11057593024310b28ca7a6704f4e6d676e5ae83fb2d7be6bb</td></tr><tr><td>Clothing</td><td>T-shirt</td><td>BrandB</td><td>9ae454dffe58b2f08d2b131a1c67ed011b6a9dcef7629f2d96ecf9689831e573</td></tr><tr><td>Clothing</td><td>Tablet</td><td>BrandC</td><td>c37d4ae373d30210c6e3b8760d2e14d3f1ce92979c432aa3ccef3493b5ef97b8</td></tr><tr><td>Furniture</td><td>T-shirt</td><td>BrandB</td><td>0ee892f6bcd5fe280d3d4ccfd72a138675d0514a58e1335c6a48b02823bb8156</td></tr><tr><td>Electronics</td><td>Jeans</td><td>BrandB</td><td>5982b0d5b073ed72c5439a49284e10435da5e94149484c89d95c921e494b63b0</td></tr><tr><td>Furniture</td><td>T-shirt</td><td>BrandC</td><td>8ff5e4961ecd6be9af8b4301fd055a9fb74cc9d9345e154247fdb1ba69cc53aa</td></tr><tr><td>N/A</td><td>N/A</td><td>N/A</td><td>363dcb41fa46f65932a8db70799eff0e4d450285e1b3d81f3d9d2cca4ffe70a3</td></tr></tbody></table></div>"
      ]
     },
     "metadata": {
      "application/vnd.databricks.v1+output": {
       "addedWidgets": {},
       "aggData": [],
       "aggError": "",
       "aggOverflow": false,
       "aggSchema": [],
       "aggSeriesLimitReached": false,
       "aggType": "",
       "arguments": {},
       "columnCustomDisplayInfos": {},
       "data": [
        [
         "Electronics",
         "Smartphone",
         "BrandC",
         "fc08e15f7ca6c6df9df7da9e4815aaf89a29e1e19459ee7d969019e8cbb37123"
        ],
        [
         "Electronics",
         "Smartphone",
         "BrandB",
         "6a421110b266104bf1cf67be336c9ca4cfff1f897b231e0631948bb3f034677e"
        ],
        [
         "Electronics",
         "T-shirt",
         "BrandA",
         "cd2f205a3b37acc265cf4867714abf35098ab215ba53c4864cd498abeda41f19"
        ],
        [
         "Electronics",
         "Desk",
         "BrandC",
         "d77d44bf969beb3dbe1c220e980137a5a50d692fcb5488788dcab5776eea5935"
        ],
        [
         "Clothing",
         "Tablet",
         "BrandA",
         "a8406b374712399cebdf16a3e8a8c56cf72bf72db75cb2ad0dc3a1ff71e61285"
        ],
        [
         "Electronics",
         "Chair",
         "BrandA",
         "dcd1602d12efc29c8c4598b7843ec57a534683119f15c2042695e5fe71031ffd"
        ],
        [
         "Furniture",
         "Desk",
         "BrandA",
         "b5c80882f8e29da43355e05bb4fef15d73e22fc3e8a99209a389132cb1eaa6f2"
        ],
        [
         "Furniture",
         "Tablet",
         "BrandA",
         "1839298fc3616a7fb8581b8eb5373248e28632ab00dfdec326053bc309f58bca"
        ],
        [
         "Electronics",
         "Desk",
         "BrandA",
         "27280aade539db2d7433159d56c762fc2f0d86f6c030d9edc55eaaf355997161"
        ],
        [
         "Electronics",
         "Tablet",
         "BrandB",
         "36fc80bfe93a526d8a175456e8243770785451a22d4ce473e3bbf391080eeba1"
        ],
        [
         "Clothing",
         "T-shirt",
         "BrandC",
         "86ebe6b6839b1f0b802dc9acb8b3ac28ed84edd9496e774602b4bb858ac1ee21"
        ],
        [
         "Furniture",
         "Jeans",
         "BrandC",
         "4e83a8d47b66443b97bb7351dc7523efa2e559dc3007eaa8c4eab1eb916eb8a6"
        ],
        [
         "Clothing",
         "Desk",
         "BrandC",
         "98a0a870ebb0f5e6b5b5cdf00b618fafcb2a3d33b41e56d92c57818ac224b5e7"
        ],
        [
         "Furniture",
         "Tablet",
         "BrandC",
         "b24a9f4fedbb73a4cc882922b4a8823167815ae6edd96114e17f465303462ca3"
        ],
        [
         "Clothing",
         "Jeans",
         "BrandC",
         "a50a4d5a998a5462879a924b0479b4172af8a18f7c0bf80be21a80403f297651"
        ],
        [
         "Furniture",
         "Desk",
         "BrandB",
         "3534d46d31abd5365ea939799b6dbaeabf66cee5d270b2c1016af31d4a076ba2"
        ],
        [
         "Furniture",
         "Smartphone",
         "BrandC",
         "c2d01848f52f9fc1a7a28d06ec3d1a8de97a80a450b8788db43999fe58fb954c"
        ],
        [
         "Clothing",
         "Jeans",
         "BrandA",
         "807d270019a32fa7c40a2b8931312f136363e6bf9793576c7ab67fd901472887"
        ],
        [
         "Clothing",
         "Desk",
         "BrandB",
         "238ae8d501ef46b11057593024310b28ca7a6704f4e6d676e5ae83fb2d7be6bb"
        ],
        [
         "Clothing",
         "T-shirt",
         "BrandB",
         "9ae454dffe58b2f08d2b131a1c67ed011b6a9dcef7629f2d96ecf9689831e573"
        ],
        [
         "Clothing",
         "Tablet",
         "BrandC",
         "c37d4ae373d30210c6e3b8760d2e14d3f1ce92979c432aa3ccef3493b5ef97b8"
        ],
        [
         "Furniture",
         "T-shirt",
         "BrandB",
         "0ee892f6bcd5fe280d3d4ccfd72a138675d0514a58e1335c6a48b02823bb8156"
        ],
        [
         "Electronics",
         "Jeans",
         "BrandB",
         "5982b0d5b073ed72c5439a49284e10435da5e94149484c89d95c921e494b63b0"
        ],
        [
         "Furniture",
         "T-shirt",
         "BrandC",
         "8ff5e4961ecd6be9af8b4301fd055a9fb74cc9d9345e154247fdb1ba69cc53aa"
        ],
        [
         "N/A",
         "N/A",
         "N/A",
         "363dcb41fa46f65932a8db70799eff0e4d450285e1b3d81f3d9d2cca4ffe70a3"
        ]
       ],
       "datasetInfos": [],
       "dbfsResultPath": null,
       "isJsonSchema": true,
       "metadata": {},
       "overflow": false,
       "plotOptions": {
        "customPlotOptions": {},
        "displayType": "table",
        "pivotAggregation": null,
        "pivotColumns": null,
        "xColumns": null,
        "yColumns": null
       },
       "removedWidgets": [],
       "schema": [
        {
         "metadata": "{}",
         "name": "ProductCategory",
         "type": "\"string\""
        },
        {
         "metadata": "{}",
         "name": "ProductName",
         "type": "\"string\""
        },
        {
         "metadata": "{}",
         "name": "Brand",
         "type": "\"string\""
        },
        {
         "metadata": "{}",
         "name": "DIM_ProductId",
         "type": "\"string\""
        }
       ],
       "type": "table"
      }
     },
     "output_type": "display_data"
    }
   ],
   "source": [
    "display(dim_product)"
   ]
  },
  {
   "cell_type": "code",
   "execution_count": 0,
   "metadata": {
    "application/vnd.databricks.v1+cell": {
     "cellMetadata": {
      "byteLimit": 2048000,
      "rowLimit": 10000
     },
     "inputWidgets": {},
     "nuid": "ba788557-6042-4464-b7fd-17d86c5b824e",
     "showTitle": false,
     "tableResultSettingsMap": {},
     "title": ""
    }
   },
   "outputs": [],
   "source": [
    "dim_store = df.select(\"StoreRegion\", \"StoreName\", \"StoreType\").distinct()\n",
    "dim_store = dim_store.withColumn(\"DIM_StoreId\",sha2(concat_ws(\"||\", \"StoreRegion\", \"StoreName\", \"StoreType\"), 256))\n",
    "default_store = spark.createDataFrame([(\"N/A\", \"N/A\", \"N/A\")],[\"StoreRegion\", \"StoreName\", \"StoreType\"]).withColumn(\"DIM_StoreId\",\n",
    "    sha2(concat_ws(\"||\", \"StoreRegion\", \"StoreName\", \"StoreType\"), 256))\n",
    "dim_store_final = dim_store.union(default_store)"
   ]
  },
  {
   "cell_type": "code",
   "execution_count": 0,
   "metadata": {
    "application/vnd.databricks.v1+cell": {
     "cellMetadata": {
      "byteLimit": 2048000,
      "rowLimit": 10000
     },
     "inputWidgets": {},
     "nuid": "80b62060-3cc9-4f3a-973f-6ed4443477bc",
     "showTitle": false,
     "tableResultSettingsMap": {},
     "title": ""
    }
   },
   "outputs": [
    {
     "output_type": "display_data",
     "data": {
      "text/html": [
       "<style scoped>\n",
       "  .table-result-container {\n",
       "    max-height: 300px;\n",
       "    overflow: auto;\n",
       "  }\n",
       "  table, th, td {\n",
       "    border: 1px solid black;\n",
       "    border-collapse: collapse;\n",
       "  }\n",
       "  th, td {\n",
       "    padding: 5px;\n",
       "  }\n",
       "  th {\n",
       "    text-align: left;\n",
       "  }\n",
       "</style><div class='table-result-container'><table class='table-result'><thead style='background-color: white'><tr><th>StoreRegion</th><th>StoreName</th><th>StoreType</th><th>DIM_StoreId</th></tr></thead><tbody><tr><td>North</td><td>StoreY</td><td>Outlet</td><td>94ba623007bdf38a8d9dd25b359ba7a49b0a434a8c49e2aaff76cc12c50a8a77</td></tr><tr><td>South</td><td>StoreY</td><td>Retail</td><td>24007c12903a7fd1b36a5faa4c4069a2be77b043fb7b335f4a558f650aa68072</td></tr><tr><td>East</td><td>StoreX</td><td>Retail</td><td>eaaa9336e570e385b77b0050a85962732193ca23004af89ae72f2889abd91bd3</td></tr><tr><td>North</td><td>StoreX</td><td>Outlet</td><td>cd1aac1b6cedfa5d51c325a3c19d2132ce133ac285ce754fdf436527f68ab882</td></tr><tr><td>North</td><td>StoreZ</td><td>Retail</td><td>30d46cf1deb74c2d33b4ea7e7f6798ae0623d5195c080721dbf022942ba48b72</td></tr><tr><td>South</td><td>StoreZ</td><td>Franchise</td><td>b697ea824f0541eb515498c5eb6f2ce43947880d645dbe09ee14075c732aef48</td></tr><tr><td>South</td><td>StoreZ</td><td>Retail</td><td>1120c453edb7620e31fdc4578bc15c8cb5aa664c7d30218eefcaec0b67e511ce</td></tr><tr><td>East</td><td>StoreX</td><td>Franchise</td><td>3c7aa2361bb113e0892437ecba18d0fca00119aefb95552a6b18bb7eee14759a</td></tr><tr><td>South</td><td>StoreX</td><td>Outlet</td><td>76868e571d2e34422cf3c39e724b18da8fe589d29e3bd589ee5390c548aaabd5</td></tr><tr><td>East</td><td>StoreZ</td><td>Franchise</td><td>20f1ebafb8d3513848d887c5554eb0ce0ea2cc393afc88041813c6f9714ee7df</td></tr><tr><td>West</td><td>StoreX</td><td>Retail</td><td>4d4ed5d27e052c65873ccf14e3fa6f04f7943793bef24189c4c991339564e646</td></tr><tr><td>North</td><td>StoreY</td><td>Retail</td><td>32ffe22289148a4b36d1d7ce2f1069e9f1640be9bc6c2d9c21142be14fd9f06a</td></tr><tr><td>West</td><td>StoreY</td><td>Outlet</td><td>84b0247bf1c9e21f1a7befa453f14c708b5be10d1f352da6b89183f8d691ecc2</td></tr><tr><td>North</td><td>StoreX</td><td>Franchise</td><td>7099b4f2df85bf9ad664e463e2249d680dea06f443cc29fa642b9c534af97176</td></tr><tr><td>West</td><td>StoreX</td><td>Outlet</td><td>52c169196a9953e61a83757f71b0f57da580026c1a2083b89b43e0451523fef3</td></tr><tr><td>South</td><td>StoreY</td><td>Outlet</td><td>411dea8e689cd912cd11682ee1f8b3ddbe7a4b413e89be652757c39f04f2ec60</td></tr><tr><td>West</td><td>StoreY</td><td>Franchise</td><td>3cc867d96e3527c321b9556c784adf270e1e17cd22966fad45385f46ea9f6b99</td></tr><tr><td>North</td><td>StoreZ</td><td>Franchise</td><td>4c6dd1ba6ec7b756e0b6aa652820371fda0dba62811e1a54b7e45a93fe237c50</td></tr><tr><td>South</td><td>StoreX</td><td>Retail</td><td>d99aca1849c5560475ec973a6220e019f1b32f02cf85be1fdad144ec31466970</td></tr><tr><td>East</td><td>StoreZ</td><td>Outlet</td><td>4bdb0c80a77b7ad25194de65cb257a855aef4714db3c3562712c670228caa9da</td></tr><tr><td>N/A</td><td>N/A</td><td>N/A</td><td>363dcb41fa46f65932a8db70799eff0e4d450285e1b3d81f3d9d2cca4ffe70a3</td></tr></tbody></table></div>"
      ]
     },
     "metadata": {
      "application/vnd.databricks.v1+output": {
       "addedWidgets": {},
       "aggData": [],
       "aggError": "",
       "aggOverflow": false,
       "aggSchema": [],
       "aggSeriesLimitReached": false,
       "aggType": "",
       "arguments": {},
       "columnCustomDisplayInfos": {},
       "data": [
        [
         "North",
         "StoreY",
         "Outlet",
         "94ba623007bdf38a8d9dd25b359ba7a49b0a434a8c49e2aaff76cc12c50a8a77"
        ],
        [
         "South",
         "StoreY",
         "Retail",
         "24007c12903a7fd1b36a5faa4c4069a2be77b043fb7b335f4a558f650aa68072"
        ],
        [
         "East",
         "StoreX",
         "Retail",
         "eaaa9336e570e385b77b0050a85962732193ca23004af89ae72f2889abd91bd3"
        ],
        [
         "North",
         "StoreX",
         "Outlet",
         "cd1aac1b6cedfa5d51c325a3c19d2132ce133ac285ce754fdf436527f68ab882"
        ],
        [
         "North",
         "StoreZ",
         "Retail",
         "30d46cf1deb74c2d33b4ea7e7f6798ae0623d5195c080721dbf022942ba48b72"
        ],
        [
         "South",
         "StoreZ",
         "Franchise",
         "b697ea824f0541eb515498c5eb6f2ce43947880d645dbe09ee14075c732aef48"
        ],
        [
         "South",
         "StoreZ",
         "Retail",
         "1120c453edb7620e31fdc4578bc15c8cb5aa664c7d30218eefcaec0b67e511ce"
        ],
        [
         "East",
         "StoreX",
         "Franchise",
         "3c7aa2361bb113e0892437ecba18d0fca00119aefb95552a6b18bb7eee14759a"
        ],
        [
         "South",
         "StoreX",
         "Outlet",
         "76868e571d2e34422cf3c39e724b18da8fe589d29e3bd589ee5390c548aaabd5"
        ],
        [
         "East",
         "StoreZ",
         "Franchise",
         "20f1ebafb8d3513848d887c5554eb0ce0ea2cc393afc88041813c6f9714ee7df"
        ],
        [
         "West",
         "StoreX",
         "Retail",
         "4d4ed5d27e052c65873ccf14e3fa6f04f7943793bef24189c4c991339564e646"
        ],
        [
         "North",
         "StoreY",
         "Retail",
         "32ffe22289148a4b36d1d7ce2f1069e9f1640be9bc6c2d9c21142be14fd9f06a"
        ],
        [
         "West",
         "StoreY",
         "Outlet",
         "84b0247bf1c9e21f1a7befa453f14c708b5be10d1f352da6b89183f8d691ecc2"
        ],
        [
         "North",
         "StoreX",
         "Franchise",
         "7099b4f2df85bf9ad664e463e2249d680dea06f443cc29fa642b9c534af97176"
        ],
        [
         "West",
         "StoreX",
         "Outlet",
         "52c169196a9953e61a83757f71b0f57da580026c1a2083b89b43e0451523fef3"
        ],
        [
         "South",
         "StoreY",
         "Outlet",
         "411dea8e689cd912cd11682ee1f8b3ddbe7a4b413e89be652757c39f04f2ec60"
        ],
        [
         "West",
         "StoreY",
         "Franchise",
         "3cc867d96e3527c321b9556c784adf270e1e17cd22966fad45385f46ea9f6b99"
        ],
        [
         "North",
         "StoreZ",
         "Franchise",
         "4c6dd1ba6ec7b756e0b6aa652820371fda0dba62811e1a54b7e45a93fe237c50"
        ],
        [
         "South",
         "StoreX",
         "Retail",
         "d99aca1849c5560475ec973a6220e019f1b32f02cf85be1fdad144ec31466970"
        ],
        [
         "East",
         "StoreZ",
         "Outlet",
         "4bdb0c80a77b7ad25194de65cb257a855aef4714db3c3562712c670228caa9da"
        ],
        [
         "N/A",
         "N/A",
         "N/A",
         "363dcb41fa46f65932a8db70799eff0e4d450285e1b3d81f3d9d2cca4ffe70a3"
        ]
       ],
       "datasetInfos": [],
       "dbfsResultPath": null,
       "isJsonSchema": true,
       "metadata": {},
       "overflow": false,
       "plotOptions": {
        "customPlotOptions": {},
        "displayType": "table",
        "pivotAggregation": null,
        "pivotColumns": null,
        "xColumns": null,
        "yColumns": null
       },
       "removedWidgets": [],
       "schema": [
        {
         "metadata": "{}",
         "name": "StoreRegion",
         "type": "\"string\""
        },
        {
         "metadata": "{}",
         "name": "StoreName",
         "type": "\"string\""
        },
        {
         "metadata": "{}",
         "name": "StoreType",
         "type": "\"string\""
        },
        {
         "metadata": "{}",
         "name": "DIM_StoreId",
         "type": "\"string\""
        }
       ],
       "type": "table"
      }
     },
     "output_type": "display_data"
    }
   ],
   "source": [
    "display(dim_store_final)"
   ]
  },
  {
   "cell_type": "code",
   "execution_count": 0,
   "metadata": {
    "application/vnd.databricks.v1+cell": {
     "cellMetadata": {
      "byteLimit": 2048000,
      "rowLimit": 10000
     },
     "inputWidgets": {},
     "nuid": "91100737-41fd-4597-a55b-3e547e2d697a",
     "showTitle": false,
     "tableResultSettingsMap": {},
     "title": ""
    }
   },
   "outputs": [],
   "source": [
    "dim_employee = df.select(\"SalesRep\", \"Department\", \"EmployeeRole\").distinct()\n",
    "dim_employee = dim_employee.withColumn(\"DIM_EmployeeId\",sha2(concat_ws(\"||\", \"SalesRep\", \"Department\", \"EmployeeRole\"), 256))\n",
    "default_employee = spark.createDataFrame([(\"N/A\", \"N/A\", \"N/A\")],[\"SalesRep\", \"Department\", \"EmployeeRole\"]).withColumn(\"DIM_EmployeeId\",\n",
    "    sha2(concat_ws(\"||\", \"SalesRep\", \"Department\", \"EmployeeRole\"), 256))\n",
    "dim_employee_final = dim_employee.union(default_employee)"
   ]
  },
  {
   "cell_type": "code",
   "execution_count": 0,
   "metadata": {
    "application/vnd.databricks.v1+cell": {
     "cellMetadata": {
      "byteLimit": 2048000,
      "rowLimit": 10000
     },
     "inputWidgets": {},
     "nuid": "90fa3ce5-5062-4876-87e3-f1bcffcd0d75",
     "showTitle": false,
     "tableResultSettingsMap": {},
     "title": ""
    }
   },
   "outputs": [
    {
     "output_type": "display_data",
     "data": {
      "text/html": [
       "<style scoped>\n",
       "  .table-result-container {\n",
       "    max-height: 300px;\n",
       "    overflow: auto;\n",
       "  }\n",
       "  table, th, td {\n",
       "    border: 1px solid black;\n",
       "    border-collapse: collapse;\n",
       "  }\n",
       "  th, td {\n",
       "    padding: 5px;\n",
       "  }\n",
       "  th {\n",
       "    text-align: left;\n",
       "  }\n",
       "</style><div class='table-result-container'><table class='table-result'><thead style='background-color: white'><tr><th>SalesRep</th><th>Department</th><th>EmployeeRole</th><th>DIM_EmployeeId</th></tr></thead><tbody><tr><td>Kyle Lin</td><td>Electronics</td><td>Sales Associate</td><td>b90eb8c52995b65d912ee69813964cf8b27d10fea22e5176a0efde3a2c331ad0</td></tr><tr><td>Charles Fields</td><td>Apparel</td><td>Manager</td><td>11e3df9450f3951d15425406cfd773e170e7e53297b071b8dfcfa87a688599c3</td></tr><tr><td>Wendy Castillo</td><td>Home</td><td>Manager</td><td>c4a16c19bcbaa9d8754690e3a800e18c1e1ee9c48dde85e5b64bcf7f30578cab</td></tr><tr><td>Wendy Castillo</td><td>Electronics</td><td>Manager</td><td>5b35a50e37f2fb896eef5da16148195eff3e208575ad22d8a6edfbff8511201c</td></tr><tr><td>Charles Fields</td><td>Home</td><td>Cashier</td><td>8b9d3284385f39a45911d6eb2bb4611a58d6ec152bee163ad1e886bd1083cd46</td></tr><tr><td>Kyle Lin</td><td>Home</td><td>Cashier</td><td>e3729a173a8c99d2fbdf176c56d695c1576bcc8e1a39a695a626c2fb1badb7a2</td></tr><tr><td>John Harris</td><td>Electronics</td><td>Manager</td><td>87ac6d5a4977bf75fdd34375ba02238b096ce6503cb4b6c9cd785114665a4d03</td></tr><tr><td>John Harris</td><td>Apparel</td><td>Manager</td><td>880162d4763b81e4ac57db4b957d788ae22f0ff2f3673c6d7c15f3a56a63ea54</td></tr><tr><td>Billy Perez</td><td>Electronics</td><td>Cashier</td><td>0b98f44b61cd1b506c8069d037184c4fde9d6b5b111aaa06ecb519d90d626be7</td></tr><tr><td>John Harris</td><td>Home</td><td>Cashier</td><td>fdedff2cb72a6a9be5669b3ceb5a76b5954802411dda3d1e83ddb183d5a86548</td></tr><tr><td>Emily Vazquez</td><td>Electronics</td><td>Sales Associate</td><td>790030832f4cf230a1582bbd8ae3645a73f6a8b1cfea54fb20961be4c49f39cd</td></tr><tr><td>Martha Long</td><td>Home</td><td>Sales Associate</td><td>0f0a2f01281855e40cd8674f9192e6736b34aa8fc5f0478d71361f8a8412ba56</td></tr><tr><td>Emily Vazquez</td><td>Home</td><td>Manager</td><td>897bf5eaa94f46613651029b33161e9f20a3b60c3f084b913e3c1fb19b720bf3</td></tr><tr><td>Charles Fields</td><td>Apparel</td><td>Cashier</td><td>c93c0a4829fd929a76a46896a25c78a5e14ba88c21b0e526dbc45c4e5378ea90</td></tr><tr><td>Emily Vazquez</td><td>Apparel</td><td>Cashier</td><td>fcabe27a77b7b0062b0c99723dbfa1e531629cccb118cb71f9c41d22a9aba099</td></tr><tr><td>Martha Long</td><td>Home</td><td>Cashier</td><td>20d4f2a553ffe62b74d0fe96b1d0ab439d1aa91793df5952dff41d967bf4dbe0</td></tr><tr><td>Kara Lewis</td><td>Electronics</td><td>Manager</td><td>974149aaad371da29abd2bd4c468eae5d3c2338b9123407191cce017a2080c9a</td></tr><tr><td>Kelly Moore</td><td>Apparel</td><td>Sales Associate</td><td>b835f9e7348786c13b9930e4f0a919905909ac6d8a4c5341d1131e7f0830f2a8</td></tr><tr><td>James Austin</td><td>Home</td><td>Manager</td><td>755aa136a266d35e2256de8ac6c7bdefcf4250ba3df6c3d855c840a80f7c5003</td></tr><tr><td>Emily Vazquez</td><td>Apparel</td><td>Manager</td><td>aa0c6ac3926bac87bb0fd31bd224316a0dc1b35d23854551724f009dd4112688</td></tr><tr><td>Kyle Lin</td><td>Electronics</td><td>Manager</td><td>8c50f7daf0f1874fd7161d15722ff921db0b280d233e9c5b71438dbd7a0b6160</td></tr><tr><td>Martha Long</td><td>Electronics</td><td>Cashier</td><td>7e6b7470e0c5045a1797405ca77f04a0ba3c1e2e2e88bf125d9a33d10b597eac</td></tr><tr><td>Charles Fields</td><td>Home</td><td>Sales Associate</td><td>27d0986b4172fcb4be66444087e6bced12fe736c8e1a53d6f5144aea5778742c</td></tr><tr><td>James Austin</td><td>Electronics</td><td>Cashier</td><td>c82a79bc8cfdc02531867ce5855ecbaa24d8c3796c6f1401f5e519bace6667b0</td></tr><tr><td>Billy Perez</td><td>Apparel</td><td>Sales Associate</td><td>d88343e0454464b75c638796b080b7c368ac3e9b1bdb7c02093294ee1adf62ea</td></tr><tr><td>N/A</td><td>N/A</td><td>N/A</td><td>363dcb41fa46f65932a8db70799eff0e4d450285e1b3d81f3d9d2cca4ffe70a3</td></tr></tbody></table></div>"
      ]
     },
     "metadata": {
      "application/vnd.databricks.v1+output": {
       "addedWidgets": {},
       "aggData": [],
       "aggError": "",
       "aggOverflow": false,
       "aggSchema": [],
       "aggSeriesLimitReached": false,
       "aggType": "",
       "arguments": {},
       "columnCustomDisplayInfos": {},
       "data": [
        [
         "Kyle Lin",
         "Electronics",
         "Sales Associate",
         "b90eb8c52995b65d912ee69813964cf8b27d10fea22e5176a0efde3a2c331ad0"
        ],
        [
         "Charles Fields",
         "Apparel",
         "Manager",
         "11e3df9450f3951d15425406cfd773e170e7e53297b071b8dfcfa87a688599c3"
        ],
        [
         "Wendy Castillo",
         "Home",
         "Manager",
         "c4a16c19bcbaa9d8754690e3a800e18c1e1ee9c48dde85e5b64bcf7f30578cab"
        ],
        [
         "Wendy Castillo",
         "Electronics",
         "Manager",
         "5b35a50e37f2fb896eef5da16148195eff3e208575ad22d8a6edfbff8511201c"
        ],
        [
         "Charles Fields",
         "Home",
         "Cashier",
         "8b9d3284385f39a45911d6eb2bb4611a58d6ec152bee163ad1e886bd1083cd46"
        ],
        [
         "Kyle Lin",
         "Home",
         "Cashier",
         "e3729a173a8c99d2fbdf176c56d695c1576bcc8e1a39a695a626c2fb1badb7a2"
        ],
        [
         "John Harris",
         "Electronics",
         "Manager",
         "87ac6d5a4977bf75fdd34375ba02238b096ce6503cb4b6c9cd785114665a4d03"
        ],
        [
         "John Harris",
         "Apparel",
         "Manager",
         "880162d4763b81e4ac57db4b957d788ae22f0ff2f3673c6d7c15f3a56a63ea54"
        ],
        [
         "Billy Perez",
         "Electronics",
         "Cashier",
         "0b98f44b61cd1b506c8069d037184c4fde9d6b5b111aaa06ecb519d90d626be7"
        ],
        [
         "John Harris",
         "Home",
         "Cashier",
         "fdedff2cb72a6a9be5669b3ceb5a76b5954802411dda3d1e83ddb183d5a86548"
        ],
        [
         "Emily Vazquez",
         "Electronics",
         "Sales Associate",
         "790030832f4cf230a1582bbd8ae3645a73f6a8b1cfea54fb20961be4c49f39cd"
        ],
        [
         "Martha Long",
         "Home",
         "Sales Associate",
         "0f0a2f01281855e40cd8674f9192e6736b34aa8fc5f0478d71361f8a8412ba56"
        ],
        [
         "Emily Vazquez",
         "Home",
         "Manager",
         "897bf5eaa94f46613651029b33161e9f20a3b60c3f084b913e3c1fb19b720bf3"
        ],
        [
         "Charles Fields",
         "Apparel",
         "Cashier",
         "c93c0a4829fd929a76a46896a25c78a5e14ba88c21b0e526dbc45c4e5378ea90"
        ],
        [
         "Emily Vazquez",
         "Apparel",
         "Cashier",
         "fcabe27a77b7b0062b0c99723dbfa1e531629cccb118cb71f9c41d22a9aba099"
        ],
        [
         "Martha Long",
         "Home",
         "Cashier",
         "20d4f2a553ffe62b74d0fe96b1d0ab439d1aa91793df5952dff41d967bf4dbe0"
        ],
        [
         "Kara Lewis",
         "Electronics",
         "Manager",
         "974149aaad371da29abd2bd4c468eae5d3c2338b9123407191cce017a2080c9a"
        ],
        [
         "Kelly Moore",
         "Apparel",
         "Sales Associate",
         "b835f9e7348786c13b9930e4f0a919905909ac6d8a4c5341d1131e7f0830f2a8"
        ],
        [
         "James Austin",
         "Home",
         "Manager",
         "755aa136a266d35e2256de8ac6c7bdefcf4250ba3df6c3d855c840a80f7c5003"
        ],
        [
         "Emily Vazquez",
         "Apparel",
         "Manager",
         "aa0c6ac3926bac87bb0fd31bd224316a0dc1b35d23854551724f009dd4112688"
        ],
        [
         "Kyle Lin",
         "Electronics",
         "Manager",
         "8c50f7daf0f1874fd7161d15722ff921db0b280d233e9c5b71438dbd7a0b6160"
        ],
        [
         "Martha Long",
         "Electronics",
         "Cashier",
         "7e6b7470e0c5045a1797405ca77f04a0ba3c1e2e2e88bf125d9a33d10b597eac"
        ],
        [
         "Charles Fields",
         "Home",
         "Sales Associate",
         "27d0986b4172fcb4be66444087e6bced12fe736c8e1a53d6f5144aea5778742c"
        ],
        [
         "James Austin",
         "Electronics",
         "Cashier",
         "c82a79bc8cfdc02531867ce5855ecbaa24d8c3796c6f1401f5e519bace6667b0"
        ],
        [
         "Billy Perez",
         "Apparel",
         "Sales Associate",
         "d88343e0454464b75c638796b080b7c368ac3e9b1bdb7c02093294ee1adf62ea"
        ],
        [
         "N/A",
         "N/A",
         "N/A",
         "363dcb41fa46f65932a8db70799eff0e4d450285e1b3d81f3d9d2cca4ffe70a3"
        ]
       ],
       "datasetInfos": [],
       "dbfsResultPath": null,
       "isJsonSchema": true,
       "metadata": {},
       "overflow": false,
       "plotOptions": {
        "customPlotOptions": {},
        "displayType": "table",
        "pivotAggregation": null,
        "pivotColumns": null,
        "xColumns": null,
        "yColumns": null
       },
       "removedWidgets": [],
       "schema": [
        {
         "metadata": "{}",
         "name": "SalesRep",
         "type": "\"string\""
        },
        {
         "metadata": "{}",
         "name": "Department",
         "type": "\"string\""
        },
        {
         "metadata": "{}",
         "name": "EmployeeRole",
         "type": "\"string\""
        },
        {
         "metadata": "{}",
         "name": "DIM_EmployeeId",
         "type": "\"string\""
        }
       ],
       "type": "table"
      }
     },
     "output_type": "display_data"
    }
   ],
   "source": [
    "display(dim_employee_final)"
   ]
  },
  {
   "cell_type": "code",
   "execution_count": 0,
   "metadata": {
    "application/vnd.databricks.v1+cell": {
     "cellMetadata": {
      "byteLimit": 2048000,
      "rowLimit": 10000
     },
     "inputWidgets": {},
     "nuid": "b26d3d8d-7506-46e4-910c-5be5ef2945f7",
     "showTitle": false,
     "tableResultSettingsMap": {},
     "title": ""
    }
   },
   "outputs": [],
   "source": [
    "\n",
    "dim_product.write.format(\"delta\").mode(\"overwrite\").option(\"overwriteSchema\", \"true\").save(\"/delta/dim_product\")\n",
    "\n",
    "dim_store_final.write \\\n",
    "    .format(\"delta\") \\\n",
    "    .option(\"overwriteSchema\", \"true\") \\\n",
    "    .mode(\"overwrite\") \\\n",
    "    .save(\"/delta/dim_store_final\")\n",
    "\n",
    "dim_employee_final.write \\\n",
    "    .format(\"delta\") \\\n",
    "    .option(\"overwriteSchema\", \"true\") \\\n",
    "    .mode(\"overwrite\") \\\n",
    "    .save(\"/delta/dim_employee_final\")"
   ]
  }
 ],
 "metadata": {
  "application/vnd.databricks.v1+notebook": {
   "computePreferences": null,
   "dashboards": [],
   "environmentMetadata": {
    "base_environment": "",
    "environment_version": "1"
   },
   "inputWidgetPreferences": null,
   "language": "python",
   "notebookMetadata": {
    "pythonIndentUnit": 4
   },
   "notebookName": "Dimensions Creation 15:03:33",
   "widgets": {}
  }
 },
 "nbformat": 4,
 "nbformat_minor": 0
}