{
 "cells": [
  {
   "cell_type": "code",
   "execution_count": 0,
   "metadata": {
    "application/vnd.databricks.v1+cell": {
     "cellMetadata": {
      "byteLimit": 2048000,
      "rowLimit": 10000
     },
     "inputWidgets": {},
     "nuid": "1d92e969-c336-4130-a953-62375a93697d",
     "showTitle": false,
     "tableResultSettingsMap": {},
     "title": ""
    }
   },
   "outputs": [],
   "source": [
    "from pyspark.sql import SparkSession "
   ]
  },
  {
   "cell_type": "code",
   "execution_count": 0,
   "metadata": {
    "application/vnd.databricks.v1+cell": {
     "cellMetadata": {
      "byteLimit": 2048000,
      "rowLimit": 10000
     },
     "inputWidgets": {},
     "nuid": "b8a03659-4e16-4a5c-b5a5-b6f17849ce3c",
     "showTitle": false,
     "tableResultSettingsMap": {},
     "title": ""
    }
   },
   "outputs": [],
   "source": [
    "from pyspark.sql import functions as F\n",
    "from pyspark.sql.window import Window\n",
    "from pyspark.sql.functions import sha2, concat_ws, upper, col, expr, monotonically_increasing_id\n",
    "from pyspark.sql.types import StructType, StructField, LongType, StringType, DateType, IntegerType"
   ]
  },
  {
   "cell_type": "code",
   "execution_count": 0,
   "metadata": {
    "application/vnd.databricks.v1+cell": {
     "cellMetadata": {
      "byteLimit": 2048000,
      "rowLimit": 10000
     },
     "inputWidgets": {},
     "nuid": "a59ddd75-5984-484f-b26f-15f43fa4cc6c",
     "showTitle": false,
     "tableResultSettingsMap": {},
     "title": ""
    }
   },
   "outputs": [],
   "source": [
    "spark = SparkSession.builder.appName('FactSales2Dimensionality').getOrCreate()"
   ]
  },
  {
   "cell_type": "code",
   "execution_count": 0,
   "metadata": {
    "application/vnd.databricks.v1+cell": {
     "cellMetadata": {
      "byteLimit": 2048000,
      "rowLimit": 10000
     },
     "inputWidgets": {},
     "nuid": "ea42b514-9351-40e0-9d6e-f25f414e10d7",
     "showTitle": false,
     "tableResultSettingsMap": {},
     "title": ""
    }
   },
   "outputs": [],
   "source": [
    "df_raw = spark.read.format(\"delta\").load(\"/delta/fact_sales_final\")"
   ]
  },
  {
   "cell_type": "code",
   "execution_count": 0,
   "metadata": {
    "application/vnd.databricks.v1+cell": {
     "cellMetadata": {
      "byteLimit": 2048000,
      "rowLimit": 10000
     },
     "inputWidgets": {},
     "nuid": "c1fa9de1-46fa-4a74-ba87-52f6c770e86f",
     "showTitle": false,
     "tableResultSettingsMap": {},
     "title": ""
    }
   },
   "outputs": [
    {
     "output_type": "display_data",
     "data": {
      "text/html": [
       "<style scoped>\n",
       "  .table-result-container {\n",
       "    max-height: 300px;\n",
       "    overflow: auto;\n",
       "  }\n",
       "  table, th, td {\n",
       "    border: 1px solid black;\n",
       "    border-collapse: collapse;\n",
       "  }\n",
       "  th, td {\n",
       "    padding: 5px;\n",
       "  }\n",
       "  th {\n",
       "    text-align: left;\n",
       "  }\n",
       "</style><div class='table-result-container'><table class='table-result'><thead style='background-color: white'><tr><th>ProductCategory</th><th>ProductName</th><th>Brand</th><th>StoreRegion</th><th>StoreName</th><th>StoreType</th><th>SalesRep</th><th>Department</th><th>EmployeeRole</th><th>UnitsSold</th><th>UnitPrice</th><th>Discount</th><th>SaleDate</th></tr></thead><tbody><tr><td>Furniture</td><td>T-shirt</td><td>BrandB</td><td>East</td><td>StoreX</td><td>Franchise</td><td>Martha Long</td><td>Electronics</td><td>Cashier</td><td>12.0</td><td>279.35</td><td>5.0</td><td>2022-12-14</td></tr><tr><td>Clothing</td><td>Tablet</td><td>BrandC</td><td>East</td><td>StoreZ</td><td>Franchise</td><td>Martha Long</td><td>Home</td><td>Sales Associate</td><td>33.67</td><td>272.49</td><td>0.0</td><td>2023-02-24</td></tr><tr><td>Clothing</td><td>Tablet</td><td>BrandA</td><td>South</td><td>StoreX</td><td>Retail</td><td>Emily Vazquez</td><td>Apparel</td><td>Cashier</td><td>33.67</td><td>484.75</td><td>15.0</td><td>2025-03-24</td></tr><tr><td>Electronics</td><td>Smartphone</td><td>BrandB</td><td>West</td><td>StoreY</td><td>Outlet</td><td>Charles Fields</td><td>Apparel</td><td>Cashier</td><td>26.0</td><td>205.74</td><td>10.0</td><td>2023-09-30</td></tr><tr><td>Furniture</td><td>T-shirt</td><td>BrandC</td><td>East</td><td>StoreZ</td><td>Outlet</td><td>Wendy Castillo</td><td>Home</td><td>Manager</td><td>46.0</td><td>20.25</td><td>5.0</td><td>2022-10-14</td></tr><tr><td>Furniture</td><td>T-shirt</td><td>BrandC</td><td>South</td><td>StoreY</td><td>Retail</td><td>Wendy Castillo</td><td>Home</td><td>Manager</td><td>22.5</td><td>361.06</td><td>10.0</td><td>2024-02-23</td></tr><tr><td>Clothing</td><td>T-shirt</td><td>BrandC</td><td>South</td><td>StoreY</td><td>Outlet</td><td>John Harris</td><td>Home</td><td>Cashier</td><td>37.0</td><td>492.65</td><td>5.0</td><td>2024-05-06</td></tr><tr><td>Electronics</td><td>Smartphone</td><td>BrandC</td><td>South</td><td>StoreX</td><td>Outlet</td><td>Charles Fields</td><td>Home</td><td>Sales Associate</td><td>37.0</td><td>293.87</td><td>15.0</td><td>2023-04-04</td></tr><tr><td>Clothing</td><td>Jeans</td><td>BrandA</td><td>South</td><td>StoreY</td><td>Retail</td><td>Wendy Castillo</td><td>Electronics</td><td>Manager</td><td>23.0</td><td>189.47</td><td>15.0</td><td>2022-12-26</td></tr><tr><td>Furniture</td><td>T-shirt</td><td>BrandB</td><td>East</td><td>StoreZ</td><td>Franchise</td><td>Charles Fields</td><td>Apparel</td><td>Manager</td><td>25.0</td><td>359.08</td><td>10.0</td><td>2022-10-28</td></tr><tr><td>Clothing</td><td>Desk</td><td>BrandC</td><td>South</td><td>StoreZ</td><td>Retail</td><td>Wendy Castillo</td><td>Home</td><td>Manager</td><td>33.67</td><td>438.28</td><td>0.0</td><td>2025-05-12</td></tr><tr><td>Clothing</td><td>Desk</td><td>BrandB</td><td>North</td><td>StoreZ</td><td>Retail</td><td>Kelly Moore</td><td>Apparel</td><td>Sales Associate</td><td>33.67</td><td>283.25</td><td>0.0</td><td>2024-11-14</td></tr><tr><td>Electronics</td><td>Tablet</td><td>BrandB</td><td>North</td><td>StoreX</td><td>Outlet</td><td>Kara Lewis</td><td>Electronics</td><td>Manager</td><td>26.0</td><td>490.01</td><td>10.0</td><td>2025-05-20</td></tr><tr><td>Furniture</td><td>Tablet</td><td>BrandC</td><td>East</td><td>StoreX</td><td>Retail</td><td>Emily Vazquez</td><td>Apparel</td><td>Manager</td><td>15.0</td><td>139.58</td><td>5.0</td><td>2023-11-09</td></tr><tr><td>Electronics</td><td>Chair</td><td>BrandA</td><td>West</td><td>StoreY</td><td>Franchise</td><td>James Austin</td><td>Electronics</td><td>Cashier</td><td>26.0</td><td>67.66</td><td>15.0</td><td>2025-03-27</td></tr><tr><td>Electronics</td><td>Desk</td><td>BrandA</td><td>East</td><td>StoreX</td><td>Franchise</td><td>Emily Vazquez</td><td>Home</td><td>Manager</td><td>19.0</td><td>330.2</td><td>10.0</td><td>2022-12-16</td></tr><tr><td>Furniture</td><td>T-shirt</td><td>BrandC</td><td>West</td><td>StoreY</td><td>Franchise</td><td>Martha Long</td><td>Home</td><td>Cashier</td><td>7.0</td><td>290.63</td><td>15.0</td><td>2022-07-28</td></tr><tr><td>Electronics</td><td>Desk</td><td>BrandC</td><td>North</td><td>StoreY</td><td>Outlet</td><td>Charles Fields</td><td>Home</td><td>Cashier</td><td>7.0</td><td>349.27</td><td>10.0</td><td>2022-07-04</td></tr><tr><td>Furniture</td><td>Jeans</td><td>BrandC</td><td>East</td><td>StoreZ</td><td>Franchise</td><td>Wendy Castillo</td><td>Home</td><td>Manager</td><td>22.5</td><td>267.61</td><td>0.0</td><td>2022-11-27</td></tr><tr><td>Electronics</td><td>Jeans</td><td>BrandB</td><td>East</td><td>StoreZ</td><td>Outlet</td><td>James Austin</td><td>Home</td><td>Manager</td><td>41.0</td><td>52.57</td><td>10.0</td><td>2025-03-16</td></tr><tr><td>Clothing</td><td>T-shirt</td><td>BrandB</td><td>East</td><td>StoreZ</td><td>Franchise</td><td>Kyle Lin</td><td>Electronics</td><td>Manager</td><td>33.67</td><td>85.99</td><td>0.0</td><td>2024-03-05</td></tr><tr><td>Electronics</td><td>T-shirt</td><td>BrandA</td><td>South</td><td>StoreX</td><td>Retail</td><td>Kelly Moore</td><td>Apparel</td><td>Sales Associate</td><td>26.0</td><td>293.87</td><td>5.0</td><td>2025-04-06</td></tr><tr><td>Furniture</td><td>Desk</td><td>BrandA</td><td>South</td><td>StoreZ</td><td>Retail</td><td>Billy Perez</td><td>Apparel</td><td>Sales Associate</td><td>22.0</td><td>444.29</td><td>5.0</td><td>2024-03-05</td></tr><tr><td>Clothing</td><td>Desk</td><td>BrandB</td><td>North</td><td>StoreX</td><td>Franchise</td><td>John Harris</td><td>Apparel</td><td>Manager</td><td>41.0</td><td>283.25</td><td>0.0</td><td>2023-02-06</td></tr><tr><td>Furniture</td><td>Desk</td><td>BrandA</td><td>North</td><td>StoreZ</td><td>Franchise</td><td>Charles Fields</td><td>Home</td><td>Cashier</td><td>16.0</td><td>238.49</td><td>0.0</td><td>2024-08-27</td></tr><tr><td>Clothing</td><td>Jeans</td><td>BrandC</td><td>North</td><td>StoreY</td><td>Retail</td><td>Kyle Lin</td><td>Electronics</td><td>Sales Associate</td><td>33.67</td><td>414.77</td><td>0.0</td><td>2023-01-18</td></tr><tr><td>Furniture</td><td>Smartphone</td><td>BrandC</td><td>West</td><td>StoreX</td><td>Retail</td><td>Kyle Lin</td><td>Home</td><td>Cashier</td><td>22.5</td><td>21.38</td><td>5.0</td><td>2022-10-11</td></tr><tr><td>Furniture</td><td>Desk</td><td>BrandB</td><td>West</td><td>StoreX</td><td>Outlet</td><td>John Harris</td><td>Electronics</td><td>Manager</td><td>22.5</td><td>279.35</td><td>5.0</td><td>2023-10-11</td></tr><tr><td>Furniture</td><td>Tablet</td><td>BrandA</td><td>South</td><td>StoreY</td><td>Retail</td><td>Billy Perez</td><td>Electronics</td><td>Cashier</td><td>37.0</td><td>415.6</td><td>15.0</td><td>2022-08-23</td></tr><tr><td>Furniture</td><td>Desk</td><td>BrandA</td><td>South</td><td>StoreZ</td><td>Franchise</td><td>Emily Vazquez</td><td>Electronics</td><td>Sales Associate</td><td>22.5</td><td>359.04</td><td>0.0</td><td>2024-01-20</td></tr></tbody></table></div>"
      ]
     },
     "metadata": {
      "application/vnd.databricks.v1+output": {
       "addedWidgets": {},
       "aggData": [],
       "aggError": "",
       "aggOverflow": false,
       "aggSchema": [],
       "aggSeriesLimitReached": false,
       "aggType": "",
       "arguments": {},
       "columnCustomDisplayInfos": {},
       "data": [
        [
         "Furniture",
         "T-shirt",
         "BrandB",
         "East",
         "StoreX",
         "Franchise",
         "Martha Long",
         "Electronics",
         "Cashier",
         12.0,
         279.35,
         5.0,
         "2022-12-14"
        ],
        [
         "Clothing",
         "Tablet",
         "BrandC",
         "East",
         "StoreZ",
         "Franchise",
         "Martha Long",
         "Home",
         "Sales Associate",
         33.67,
         272.49,
         0.0,
         "2023-02-24"
        ],
        [
         "Clothing",
         "Tablet",
         "BrandA",
         "South",
         "StoreX",
         "Retail",
         "Emily Vazquez",
         "Apparel",
         "Cashier",
         33.67,
         484.75,
         15.0,
         "2025-03-24"
        ],
        [
         "Electronics",
         "Smartphone",
         "BrandB",
         "West",
         "StoreY",
         "Outlet",
         "Charles Fields",
         "Apparel",
         "Cashier",
         26.0,
         205.74,
         10.0,
         "2023-09-30"
        ],
        [
         "Furniture",
         "T-shirt",
         "BrandC",
         "East",
         "StoreZ",
         "Outlet",
         "Wendy Castillo",
         "Home",
         "Manager",
         46.0,
         20.25,
         5.0,
         "2022-10-14"
        ],
        [
         "Furniture",
         "T-shirt",
         "BrandC",
         "South",
         "StoreY",
         "Retail",
         "Wendy Castillo",
         "Home",
         "Manager",
         22.5,
         361.06,
         10.0,
         "2024-02-23"
        ],
        [
         "Clothing",
         "T-shirt",
         "BrandC",
         "South",
         "StoreY",
         "Outlet",
         "John Harris",
         "Home",
         "Cashier",
         37.0,
         492.65,
         5.0,
         "2024-05-06"
        ],
        [
         "Electronics",
         "Smartphone",
         "BrandC",
         "South",
         "StoreX",
         "Outlet",
         "Charles Fields",
         "Home",
         "Sales Associate",
         37.0,
         293.87,
         15.0,
         "2023-04-04"
        ],
        [
         "Clothing",
         "Jeans",
         "BrandA",
         "South",
         "StoreY",
         "Retail",
         "Wendy Castillo",
         "Electronics",
         "Manager",
         23.0,
         189.47,
         15.0,
         "2022-12-26"
        ],
        [
         "Furniture",
         "T-shirt",
         "BrandB",
         "East",
         "StoreZ",
         "Franchise",
         "Charles Fields",
         "Apparel",
         "Manager",
         25.0,
         359.08,
         10.0,
         "2022-10-28"
        ],
        [
         "Clothing",
         "Desk",
         "BrandC",
         "South",
         "StoreZ",
         "Retail",
         "Wendy Castillo",
         "Home",
         "Manager",
         33.67,
         438.28,
         0.0,
         "2025-05-12"
        ],
        [
         "Clothing",
         "Desk",
         "BrandB",
         "North",
         "StoreZ",
         "Retail",
         "Kelly Moore",
         "Apparel",
         "Sales Associate",
         33.67,
         283.25,
         0.0,
         "2024-11-14"
        ],
        [
         "Electronics",
         "Tablet",
         "BrandB",
         "North",
         "StoreX",
         "Outlet",
         "Kara Lewis",
         "Electronics",
         "Manager",
         26.0,
         490.01,
         10.0,
         "2025-05-20"
        ],
        [
         "Furniture",
         "Tablet",
         "BrandC",
         "East",
         "StoreX",
         "Retail",
         "Emily Vazquez",
         "Apparel",
         "Manager",
         15.0,
         139.58,
         5.0,
         "2023-11-09"
        ],
        [
         "Electronics",
         "Chair",
         "BrandA",
         "West",
         "StoreY",
         "Franchise",
         "James Austin",
         "Electronics",
         "Cashier",
         26.0,
         67.66,
         15.0,
         "2025-03-27"
        ],
        [
         "Electronics",
         "Desk",
         "BrandA",
         "East",
         "StoreX",
         "Franchise",
         "Emily Vazquez",
         "Home",
         "Manager",
         19.0,
         330.2,
         10.0,
         "2022-12-16"
        ],
        [
         "Furniture",
         "T-shirt",
         "BrandC",
         "West",
         "StoreY",
         "Franchise",
         "Martha Long",
         "Home",
         "Cashier",
         7.0,
         290.63,
         15.0,
         "2022-07-28"
        ],
        [
         "Electronics",
         "Desk",
         "BrandC",
         "North",
         "StoreY",
         "Outlet",
         "Charles Fields",
         "Home",
         "Cashier",
         7.0,
         349.27,
         10.0,
         "2022-07-04"
        ],
        [
         "Furniture",
         "Jeans",
         "BrandC",
         "East",
         "StoreZ",
         "Franchise",
         "Wendy Castillo",
         "Home",
         "Manager",
         22.5,
         267.61,
         0.0,
         "2022-11-27"
        ],
        [
         "Electronics",
         "Jeans",
         "BrandB",
         "East",
         "StoreZ",
         "Outlet",
         "James Austin",
         "Home",
         "Manager",
         41.0,
         52.57,
         10.0,
         "2025-03-16"
        ],
        [
         "Clothing",
         "T-shirt",
         "BrandB",
         "East",
         "StoreZ",
         "Franchise",
         "Kyle Lin",
         "Electronics",
         "Manager",
         33.67,
         85.99,
         0.0,
         "2024-03-05"
        ],
        [
         "Electronics",
         "T-shirt",
         "BrandA",
         "South",
         "StoreX",
         "Retail",
         "Kelly Moore",
         "Apparel",
         "Sales Associate",
         26.0,
         293.87,
         5.0,
         "2025-04-06"
        ],
        [
         "Furniture",
         "Desk",
         "BrandA",
         "South",
         "StoreZ",
         "Retail",
         "Billy Perez",
         "Apparel",
         "Sales Associate",
         22.0,
         444.29,
         5.0,
         "2024-03-05"
        ],
        [
         "Clothing",
         "Desk",
         "BrandB",
         "North",
         "StoreX",
         "Franchise",
         "John Harris",
         "Apparel",
         "Manager",
         41.0,
         283.25,
         0.0,
         "2023-02-06"
        ],
        [
         "Furniture",
         "Desk",
         "BrandA",
         "North",
         "StoreZ",
         "Franchise",
         "Charles Fields",
         "Home",
         "Cashier",
         16.0,
         238.49,
         0.0,
         "2024-08-27"
        ],
        [
         "Clothing",
         "Jeans",
         "BrandC",
         "North",
         "StoreY",
         "Retail",
         "Kyle Lin",
         "Electronics",
         "Sales Associate",
         33.67,
         414.77,
         0.0,
         "2023-01-18"
        ],
        [
         "Furniture",
         "Smartphone",
         "BrandC",
         "West",
         "StoreX",
         "Retail",
         "Kyle Lin",
         "Home",
         "Cashier",
         22.5,
         21.38,
         5.0,
         "2022-10-11"
        ],
        [
         "Furniture",
         "Desk",
         "BrandB",
         "West",
         "StoreX",
         "Outlet",
         "John Harris",
         "Electronics",
         "Manager",
         22.5,
         279.35,
         5.0,
         "2023-10-11"
        ],
        [
         "Furniture",
         "Tablet",
         "BrandA",
         "South",
         "StoreY",
         "Retail",
         "Billy Perez",
         "Electronics",
         "Cashier",
         37.0,
         415.6,
         15.0,
         "2022-08-23"
        ],
        [
         "Furniture",
         "Desk",
         "BrandA",
         "South",
         "StoreZ",
         "Franchise",
         "Emily Vazquez",
         "Electronics",
         "Sales Associate",
         22.5,
         359.04,
         0.0,
         "2024-01-20"
        ]
       ],
       "datasetInfos": [],
       "dbfsResultPath": null,
       "isJsonSchema": true,
       "metadata": {},
       "overflow": false,
       "plotOptions": {
        "customPlotOptions": {},
        "displayType": "table",
        "pivotAggregation": null,
        "pivotColumns": null,
        "xColumns": null,
        "yColumns": null
       },
       "removedWidgets": [],
       "schema": [
        {
         "metadata": "{}",
         "name": "ProductCategory",
         "type": "\"string\""
        },
        {
         "metadata": "{}",
         "name": "ProductName",
         "type": "\"string\""
        },
        {
         "metadata": "{}",
         "name": "Brand",
         "type": "\"string\""
        },
        {
         "metadata": "{}",
         "name": "StoreRegion",
         "type": "\"string\""
        },
        {
         "metadata": "{}",
         "name": "StoreName",
         "type": "\"string\""
        },
        {
         "metadata": "{}",
         "name": "StoreType",
         "type": "\"string\""
        },
        {
         "metadata": "{}",
         "name": "SalesRep",
         "type": "\"string\""
        },
        {
         "metadata": "{}",
         "name": "Department",
         "type": "\"string\""
        },
        {
         "metadata": "{}",
         "name": "EmployeeRole",
         "type": "\"string\""
        },
        {
         "metadata": "{}",
         "name": "UnitsSold",
         "type": "\"double\""
        },
        {
         "metadata": "{}",
         "name": "UnitPrice",
         "type": "\"double\""
        },
        {
         "metadata": "{}",
         "name": "Discount",
         "type": "\"double\""
        },
        {
         "metadata": "{\"__detected_date_formats\":\"yyyy-M-d\"}",
         "name": "SaleDate",
         "type": "\"date\""
        }
       ],
       "type": "table"
      }
     },
     "output_type": "display_data"
    }
   ],
   "source": [
    "display(df_raw)"
   ]
  },
  {
   "cell_type": "code",
   "execution_count": 0,
   "metadata": {
    "application/vnd.databricks.v1+cell": {
     "cellMetadata": {
      "byteLimit": 2048000,
      "rowLimit": 10000
     },
     "inputWidgets": {},
     "nuid": "ace9d47d-6daa-4abb-8607-c72f3fb62233",
     "showTitle": false,
     "tableResultSettingsMap": {},
     "title": ""
    }
   },
   "outputs": [],
   "source": [
    "df_cleaned = spark.read.format(\"delta\").load(\"/delta/df_fact_cleaned\")"
   ]
  },
  {
   "cell_type": "code",
   "execution_count": 0,
   "metadata": {
    "application/vnd.databricks.v1+cell": {
     "cellMetadata": {
      "byteLimit": 2048000,
      "rowLimit": 10000
     },
     "inputWidgets": {},
     "nuid": "d45c36a3-8d9f-4501-a496-4552279b0bdb",
     "showTitle": false,
     "tableResultSettingsMap": {},
     "title": ""
    }
   },
   "outputs": [
    {
     "output_type": "display_data",
     "data": {
      "text/html": [
       "<style scoped>\n",
       "  .table-result-container {\n",
       "    max-height: 300px;\n",
       "    overflow: auto;\n",
       "  }\n",
       "  table, th, td {\n",
       "    border: 1px solid black;\n",
       "    border-collapse: collapse;\n",
       "  }\n",
       "  th, td {\n",
       "    padding: 5px;\n",
       "  }\n",
       "  th {\n",
       "    text-align: left;\n",
       "  }\n",
       "</style><div class='table-result-container'><table class='table-result'><thead style='background-color: white'><tr><th>DIM_ProductId</th><th>DIM_StoreId</th><th>DIM_EmployeeId</th><th>UnitsSold</th><th>UnitPrice</th><th>Discount</th><th>SaleDate</th><th>NetRevenue</th></tr></thead><tbody><tr><td>0ee892f6bcd5fe280d3d4ccfd72a138675d0514a58e1335c6a48b02823bb8156</td><td>3c7aa2361bb113e0892437ecba18d0fca00119aefb95552a6b18bb7eee14759a</td><td>7e6b7470e0c5045a1797405ca77f04a0ba3c1e2e2e88bf125d9a33d10b597eac</td><td>12.0</td><td>279.35</td><td>5.0</td><td>2022-12-14</td><td>-13408.800000000001</td></tr><tr><td>c37d4ae373d30210c6e3b8760d2e14d3f1ce92979c432aa3ccef3493b5ef97b8</td><td>20f1ebafb8d3513848d887c5554eb0ce0ea2cc393afc88041813c6f9714ee7df</td><td>0f0a2f01281855e40cd8674f9192e6736b34aa8fc5f0478d71361f8a8412ba56</td><td>33.67</td><td>272.49</td><td>0.0</td><td>2023-02-24</td><td>9174.7383</td></tr><tr><td>a8406b374712399cebdf16a3e8a8c56cf72bf72db75cb2ad0dc3a1ff71e61285</td><td>d99aca1849c5560475ec973a6220e019f1b32f02cf85be1fdad144ec31466970</td><td>fcabe27a77b7b0062b0c99723dbfa1e531629cccb118cb71f9c41d22a9aba099</td><td>33.67</td><td>484.75</td><td>15.0</td><td>2025-03-24</td><td>-228501.45500000002</td></tr><tr><td>6a421110b266104bf1cf67be336c9ca4cfff1f897b231e0631948bb3f034677e</td><td>84b0247bf1c9e21f1a7befa453f14c708b5be10d1f352da6b89183f8d691ecc2</td><td>c93c0a4829fd929a76a46896a25c78a5e14ba88c21b0e526dbc45c4e5378ea90</td><td>26.0</td><td>205.74</td><td>10.0</td><td>2023-09-30</td><td>-48143.159999999996</td></tr><tr><td>8ff5e4961ecd6be9af8b4301fd055a9fb74cc9d9345e154247fdb1ba69cc53aa</td><td>4bdb0c80a77b7ad25194de65cb257a855aef4714db3c3562712c670228caa9da</td><td>c4a16c19bcbaa9d8754690e3a800e18c1e1ee9c48dde85e5b64bcf7f30578cab</td><td>46.0</td><td>20.25</td><td>5.0</td><td>2022-10-14</td><td>-3726.0</td></tr><tr><td>8ff5e4961ecd6be9af8b4301fd055a9fb74cc9d9345e154247fdb1ba69cc53aa</td><td>24007c12903a7fd1b36a5faa4c4069a2be77b043fb7b335f4a558f650aa68072</td><td>c4a16c19bcbaa9d8754690e3a800e18c1e1ee9c48dde85e5b64bcf7f30578cab</td><td>22.5</td><td>361.06</td><td>10.0</td><td>2024-02-23</td><td>-73114.65000000001</td></tr><tr><td>86ebe6b6839b1f0b802dc9acb8b3ac28ed84edd9496e774602b4bb858ac1ee21</td><td>411dea8e689cd912cd11682ee1f8b3ddbe7a4b413e89be652757c39f04f2ec60</td><td>fdedff2cb72a6a9be5669b3ceb5a76b5954802411dda3d1e83ddb183d5a86548</td><td>37.0</td><td>492.65</td><td>5.0</td><td>2024-05-06</td><td>-72912.2</td></tr><tr><td>fc08e15f7ca6c6df9df7da9e4815aaf89a29e1e19459ee7d969019e8cbb37123</td><td>76868e571d2e34422cf3c39e724b18da8fe589d29e3bd589ee5390c548aaabd5</td><td>27d0986b4172fcb4be66444087e6bced12fe736c8e1a53d6f5144aea5778742c</td><td>37.0</td><td>293.87</td><td>15.0</td><td>2023-04-04</td><td>-152224.66</td></tr><tr><td>807d270019a32fa7c40a2b8931312f136363e6bf9793576c7ab67fd901472887</td><td>24007c12903a7fd1b36a5faa4c4069a2be77b043fb7b335f4a558f650aa68072</td><td>5b35a50e37f2fb896eef5da16148195eff3e208575ad22d8a6edfbff8511201c</td><td>23.0</td><td>189.47</td><td>15.0</td><td>2022-12-26</td><td>-61009.340000000004</td></tr><tr><td>0ee892f6bcd5fe280d3d4ccfd72a138675d0514a58e1335c6a48b02823bb8156</td><td>20f1ebafb8d3513848d887c5554eb0ce0ea2cc393afc88041813c6f9714ee7df</td><td>11e3df9450f3951d15425406cfd773e170e7e53297b071b8dfcfa87a688599c3</td><td>25.0</td><td>359.08</td><td>10.0</td><td>2022-10-28</td><td>-80793.0</td></tr><tr><td>98a0a870ebb0f5e6b5b5cdf00b618fafcb2a3d33b41e56d92c57818ac224b5e7</td><td>1120c453edb7620e31fdc4578bc15c8cb5aa664c7d30218eefcaec0b67e511ce</td><td>c4a16c19bcbaa9d8754690e3a800e18c1e1ee9c48dde85e5b64bcf7f30578cab</td><td>33.67</td><td>438.28</td><td>0.0</td><td>2025-05-12</td><td>14756.8876</td></tr><tr><td>238ae8d501ef46b11057593024310b28ca7a6704f4e6d676e5ae83fb2d7be6bb</td><td>30d46cf1deb74c2d33b4ea7e7f6798ae0623d5195c080721dbf022942ba48b72</td><td>b835f9e7348786c13b9930e4f0a919905909ac6d8a4c5341d1131e7f0830f2a8</td><td>33.67</td><td>283.25</td><td>0.0</td><td>2024-11-14</td><td>9537.0275</td></tr><tr><td>36fc80bfe93a526d8a175456e8243770785451a22d4ce473e3bbf391080eeba1</td><td>cd1aac1b6cedfa5d51c325a3c19d2132ce133ac285ce754fdf436527f68ab882</td><td>974149aaad371da29abd2bd4c468eae5d3c2338b9123407191cce017a2080c9a</td><td>26.0</td><td>490.01</td><td>10.0</td><td>2025-05-20</td><td>-114662.34</td></tr><tr><td>b24a9f4fedbb73a4cc882922b4a8823167815ae6edd96114e17f465303462ca3</td><td>eaaa9336e570e385b77b0050a85962732193ca23004af89ae72f2889abd91bd3</td><td>aa0c6ac3926bac87bb0fd31bd224316a0dc1b35d23854551724f009dd4112688</td><td>15.0</td><td>139.58</td><td>5.0</td><td>2023-11-09</td><td>-8374.800000000001</td></tr><tr><td>dcd1602d12efc29c8c4598b7843ec57a534683119f15c2042695e5fe71031ffd</td><td>3cc867d96e3527c321b9556c784adf270e1e17cd22966fad45385f46ea9f6b99</td><td>c82a79bc8cfdc02531867ce5855ecbaa24d8c3796c6f1401f5e519bace6667b0</td><td>26.0</td><td>67.66</td><td>15.0</td><td>2025-03-27</td><td>-24628.239999999998</td></tr><tr><td>27280aade539db2d7433159d56c762fc2f0d86f6c030d9edc55eaaf355997161</td><td>3c7aa2361bb113e0892437ecba18d0fca00119aefb95552a6b18bb7eee14759a</td><td>897bf5eaa94f46613651029b33161e9f20a3b60c3f084b913e3c1fb19b720bf3</td><td>19.0</td><td>330.2</td><td>10.0</td><td>2022-12-16</td><td>-56464.200000000004</td></tr><tr><td>8ff5e4961ecd6be9af8b4301fd055a9fb74cc9d9345e154247fdb1ba69cc53aa</td><td>3cc867d96e3527c321b9556c784adf270e1e17cd22966fad45385f46ea9f6b99</td><td>20d4f2a553ffe62b74d0fe96b1d0ab439d1aa91793df5952dff41d967bf4dbe0</td><td>7.0</td><td>290.63</td><td>15.0</td><td>2022-07-28</td><td>-28481.739999999998</td></tr><tr><td>d77d44bf969beb3dbe1c220e980137a5a50d692fcb5488788dcab5776eea5935</td><td>94ba623007bdf38a8d9dd25b359ba7a49b0a434a8c49e2aaff76cc12c50a8a77</td><td>8b9d3284385f39a45911d6eb2bb4611a58d6ec152bee163ad1e886bd1083cd46</td><td>7.0</td><td>349.27</td><td>10.0</td><td>2022-07-04</td><td>-22004.01</td></tr><tr><td>4e83a8d47b66443b97bb7351dc7523efa2e559dc3007eaa8c4eab1eb916eb8a6</td><td>20f1ebafb8d3513848d887c5554eb0ce0ea2cc393afc88041813c6f9714ee7df</td><td>c4a16c19bcbaa9d8754690e3a800e18c1e1ee9c48dde85e5b64bcf7f30578cab</td><td>22.5</td><td>267.61</td><td>0.0</td><td>2022-11-27</td><td>6021.225</td></tr><tr><td>5982b0d5b073ed72c5439a49284e10435da5e94149484c89d95c921e494b63b0</td><td>4bdb0c80a77b7ad25194de65cb257a855aef4714db3c3562712c670228caa9da</td><td>755aa136a266d35e2256de8ac6c7bdefcf4250ba3df6c3d855c840a80f7c5003</td><td>41.0</td><td>52.57</td><td>10.0</td><td>2025-03-16</td><td>-19398.329999999998</td></tr><tr><td>9ae454dffe58b2f08d2b131a1c67ed011b6a9dcef7629f2d96ecf9689831e573</td><td>20f1ebafb8d3513848d887c5554eb0ce0ea2cc393afc88041813c6f9714ee7df</td><td>8c50f7daf0f1874fd7161d15722ff921db0b280d233e9c5b71438dbd7a0b6160</td><td>33.67</td><td>85.99</td><td>0.0</td><td>2024-03-05</td><td>2895.2833</td></tr><tr><td>cd2f205a3b37acc265cf4867714abf35098ab215ba53c4864cd498abeda41f19</td><td>d99aca1849c5560475ec973a6220e019f1b32f02cf85be1fdad144ec31466970</td><td>b835f9e7348786c13b9930e4f0a919905909ac6d8a4c5341d1131e7f0830f2a8</td><td>26.0</td><td>293.87</td><td>5.0</td><td>2025-04-06</td><td>-30562.48</td></tr><tr><td>b5c80882f8e29da43355e05bb4fef15d73e22fc3e8a99209a389132cb1eaa6f2</td><td>1120c453edb7620e31fdc4578bc15c8cb5aa664c7d30218eefcaec0b67e511ce</td><td>d88343e0454464b75c638796b080b7c368ac3e9b1bdb7c02093294ee1adf62ea</td><td>22.0</td><td>444.29</td><td>5.0</td><td>2024-03-05</td><td>-39097.520000000004</td></tr><tr><td>238ae8d501ef46b11057593024310b28ca7a6704f4e6d676e5ae83fb2d7be6bb</td><td>7099b4f2df85bf9ad664e463e2249d680dea06f443cc29fa642b9c534af97176</td><td>880162d4763b81e4ac57db4b957d788ae22f0ff2f3673c6d7c15f3a56a63ea54</td><td>41.0</td><td>283.25</td><td>0.0</td><td>2023-02-06</td><td>11613.25</td></tr><tr><td>b5c80882f8e29da43355e05bb4fef15d73e22fc3e8a99209a389132cb1eaa6f2</td><td>4c6dd1ba6ec7b756e0b6aa652820371fda0dba62811e1a54b7e45a93fe237c50</td><td>8b9d3284385f39a45911d6eb2bb4611a58d6ec152bee163ad1e886bd1083cd46</td><td>16.0</td><td>238.49</td><td>0.0</td><td>2024-08-27</td><td>3815.84</td></tr><tr><td>a50a4d5a998a5462879a924b0479b4172af8a18f7c0bf80be21a80403f297651</td><td>32ffe22289148a4b36d1d7ce2f1069e9f1640be9bc6c2d9c21142be14fd9f06a</td><td>b90eb8c52995b65d912ee69813964cf8b27d10fea22e5176a0efde3a2c331ad0</td><td>33.67</td><td>414.77</td><td>0.0</td><td>2023-01-18</td><td>13965.3059</td></tr><tr><td>c2d01848f52f9fc1a7a28d06ec3d1a8de97a80a450b8788db43999fe58fb954c</td><td>4d4ed5d27e052c65873ccf14e3fa6f04f7943793bef24189c4c991339564e646</td><td>e3729a173a8c99d2fbdf176c56d695c1576bcc8e1a39a695a626c2fb1badb7a2</td><td>22.5</td><td>21.38</td><td>5.0</td><td>2022-10-11</td><td>-1924.1999999999998</td></tr><tr><td>3534d46d31abd5365ea939799b6dbaeabf66cee5d270b2c1016af31d4a076ba2</td><td>52c169196a9953e61a83757f71b0f57da580026c1a2083b89b43e0451523fef3</td><td>87ac6d5a4977bf75fdd34375ba02238b096ce6503cb4b6c9cd785114665a4d03</td><td>22.5</td><td>279.35</td><td>5.0</td><td>2023-10-11</td><td>-25141.500000000004</td></tr><tr><td>1839298fc3616a7fb8581b8eb5373248e28632ab00dfdec326053bc309f58bca</td><td>24007c12903a7fd1b36a5faa4c4069a2be77b043fb7b335f4a558f650aa68072</td><td>0b98f44b61cd1b506c8069d037184c4fde9d6b5b111aaa06ecb519d90d626be7</td><td>37.0</td><td>415.6</td><td>15.0</td><td>2022-08-23</td><td>-215280.80000000002</td></tr><tr><td>b5c80882f8e29da43355e05bb4fef15d73e22fc3e8a99209a389132cb1eaa6f2</td><td>b697ea824f0541eb515498c5eb6f2ce43947880d645dbe09ee14075c732aef48</td><td>790030832f4cf230a1582bbd8ae3645a73f6a8b1cfea54fb20961be4c49f39cd</td><td>22.5</td><td>359.04</td><td>0.0</td><td>2024-01-20</td><td>8078.400000000001</td></tr></tbody></table></div>"
      ]
     },
     "metadata": {
      "application/vnd.databricks.v1+output": {
       "addedWidgets": {},
       "aggData": [],
       "aggError": "",
       "aggOverflow": false,
       "aggSchema": [],
       "aggSeriesLimitReached": false,
       "aggType": "",
       "arguments": {},
       "columnCustomDisplayInfos": {},
       "data": [
        [
         "0ee892f6bcd5fe280d3d4ccfd72a138675d0514a58e1335c6a48b02823bb8156",
         "3c7aa2361bb113e0892437ecba18d0fca00119aefb95552a6b18bb7eee14759a",
         "7e6b7470e0c5045a1797405ca77f04a0ba3c1e2e2e88bf125d9a33d10b597eac",
         12.0,
         279.35,
         5.0,
         "2022-12-14",
         -13408.800000000001
        ],
        [
         "c37d4ae373d30210c6e3b8760d2e14d3f1ce92979c432aa3ccef3493b5ef97b8",
         "20f1ebafb8d3513848d887c5554eb0ce0ea2cc393afc88041813c6f9714ee7df",
         "0f0a2f01281855e40cd8674f9192e6736b34aa8fc5f0478d71361f8a8412ba56",
         33.67,
         272.49,
         0.0,
         "2023-02-24",
         9174.7383
        ],
        [
         "a8406b374712399cebdf16a3e8a8c56cf72bf72db75cb2ad0dc3a1ff71e61285",
         "d99aca1849c5560475ec973a6220e019f1b32f02cf85be1fdad144ec31466970",
         "fcabe27a77b7b0062b0c99723dbfa1e531629cccb118cb71f9c41d22a9aba099",
         33.67,
         484.75,
         15.0,
         "2025-03-24",
         -228501.45500000002
        ],
        [
         "6a421110b266104bf1cf67be336c9ca4cfff1f897b231e0631948bb3f034677e",
         "84b0247bf1c9e21f1a7befa453f14c708b5be10d1f352da6b89183f8d691ecc2",
         "c93c0a4829fd929a76a46896a25c78a5e14ba88c21b0e526dbc45c4e5378ea90",
         26.0,
         205.74,
         10.0,
         "2023-09-30",
         -48143.159999999996
        ],
        [
         "8ff5e4961ecd6be9af8b4301fd055a9fb74cc9d9345e154247fdb1ba69cc53aa",
         "4bdb0c80a77b7ad25194de65cb257a855aef4714db3c3562712c670228caa9da",
         "c4a16c19bcbaa9d8754690e3a800e18c1e1ee9c48dde85e5b64bcf7f30578cab",
         46.0,
         20.25,
         5.0,
         "2022-10-14",
         -3726.0
        ],
        [
         "8ff5e4961ecd6be9af8b4301fd055a9fb74cc9d9345e154247fdb1ba69cc53aa",
         "24007c12903a7fd1b36a5faa4c4069a2be77b043fb7b335f4a558f650aa68072",
         "c4a16c19bcbaa9d8754690e3a800e18c1e1ee9c48dde85e5b64bcf7f30578cab",
         22.5,
         361.06,
         10.0,
         "2024-02-23",
         -73114.65000000001
        ],
        [
         "86ebe6b6839b1f0b802dc9acb8b3ac28ed84edd9496e774602b4bb858ac1ee21",
         "411dea8e689cd912cd11682ee1f8b3ddbe7a4b413e89be652757c39f04f2ec60",
         "fdedff2cb72a6a9be5669b3ceb5a76b5954802411dda3d1e83ddb183d5a86548",
         37.0,
         492.65,
         5.0,
         "2024-05-06",
         -72912.2
        ],
        [
         "fc08e15f7ca6c6df9df7da9e4815aaf89a29e1e19459ee7d969019e8cbb37123",
         "76868e571d2e34422cf3c39e724b18da8fe589d29e3bd589ee5390c548aaabd5",
         "27d0986b4172fcb4be66444087e6bced12fe736c8e1a53d6f5144aea5778742c",
         37.0,
         293.87,
         15.0,
         "2023-04-04",
         -152224.66
        ],
        [
         "807d270019a32fa7c40a2b8931312f136363e6bf9793576c7ab67fd901472887",
         "24007c12903a7fd1b36a5faa4c4069a2be77b043fb7b335f4a558f650aa68072",
         "5b35a50e37f2fb896eef5da16148195eff3e208575ad22d8a6edfbff8511201c",
         23.0,
         189.47,
         15.0,
         "2022-12-26",
         -61009.340000000004
        ],
        [
         "0ee892f6bcd5fe280d3d4ccfd72a138675d0514a58e1335c6a48b02823bb8156",
         "20f1ebafb8d3513848d887c5554eb0ce0ea2cc393afc88041813c6f9714ee7df",
         "11e3df9450f3951d15425406cfd773e170e7e53297b071b8dfcfa87a688599c3",
         25.0,
         359.08,
         10.0,
         "2022-10-28",
         -80793.0
        ],
        [
         "98a0a870ebb0f5e6b5b5cdf00b618fafcb2a3d33b41e56d92c57818ac224b5e7",
         "1120c453edb7620e31fdc4578bc15c8cb5aa664c7d30218eefcaec0b67e511ce",
         "c4a16c19bcbaa9d8754690e3a800e18c1e1ee9c48dde85e5b64bcf7f30578cab",
         33.67,
         438.28,
         0.0,
         "2025-05-12",
         14756.8876
        ],
        [
         "238ae8d501ef46b11057593024310b28ca7a6704f4e6d676e5ae83fb2d7be6bb",
         "30d46cf1deb74c2d33b4ea7e7f6798ae0623d5195c080721dbf022942ba48b72",
         "b835f9e7348786c13b9930e4f0a919905909ac6d8a4c5341d1131e7f0830f2a8",
         33.67,
         283.25,
         0.0,
         "2024-11-14",
         9537.0275
        ],
        [
         "36fc80bfe93a526d8a175456e8243770785451a22d4ce473e3bbf391080eeba1",
         "cd1aac1b6cedfa5d51c325a3c19d2132ce133ac285ce754fdf436527f68ab882",
         "974149aaad371da29abd2bd4c468eae5d3c2338b9123407191cce017a2080c9a",
         26.0,
         490.01,
         10.0,
         "2025-05-20",
         -114662.34
        ],
        [
         "b24a9f4fedbb73a4cc882922b4a8823167815ae6edd96114e17f465303462ca3",
         "eaaa9336e570e385b77b0050a85962732193ca23004af89ae72f2889abd91bd3",
         "aa0c6ac3926bac87bb0fd31bd224316a0dc1b35d23854551724f009dd4112688",
         15.0,
         139.58,
         5.0,
         "2023-11-09",
         -8374.800000000001
        ],
        [
         "dcd1602d12efc29c8c4598b7843ec57a534683119f15c2042695e5fe71031ffd",
         "3cc867d96e3527c321b9556c784adf270e1e17cd22966fad45385f46ea9f6b99",
         "c82a79bc8cfdc02531867ce5855ecbaa24d8c3796c6f1401f5e519bace6667b0",
         26.0,
         67.66,
         15.0,
         "2025-03-27",
         -24628.239999999998
        ],
        [
         "27280aade539db2d7433159d56c762fc2f0d86f6c030d9edc55eaaf355997161",
         "3c7aa2361bb113e0892437ecba18d0fca00119aefb95552a6b18bb7eee14759a",
         "897bf5eaa94f46613651029b33161e9f20a3b60c3f084b913e3c1fb19b720bf3",
         19.0,
         330.2,
         10.0,
         "2022-12-16",
         -56464.200000000004
        ],
        [
         "8ff5e4961ecd6be9af8b4301fd055a9fb74cc9d9345e154247fdb1ba69cc53aa",
         "3cc867d96e3527c321b9556c784adf270e1e17cd22966fad45385f46ea9f6b99",
         "20d4f2a553ffe62b74d0fe96b1d0ab439d1aa91793df5952dff41d967bf4dbe0",
         7.0,
         290.63,
         15.0,
         "2022-07-28",
         -28481.739999999998
        ],
        [
         "d77d44bf969beb3dbe1c220e980137a5a50d692fcb5488788dcab5776eea5935",
         "94ba623007bdf38a8d9dd25b359ba7a49b0a434a8c49e2aaff76cc12c50a8a77",
         "8b9d3284385f39a45911d6eb2bb4611a58d6ec152bee163ad1e886bd1083cd46",
         7.0,
         349.27,
         10.0,
         "2022-07-04",
         -22004.01
        ],
        [
         "4e83a8d47b66443b97bb7351dc7523efa2e559dc3007eaa8c4eab1eb916eb8a6",
         "20f1ebafb8d3513848d887c5554eb0ce0ea2cc393afc88041813c6f9714ee7df",
         "c4a16c19bcbaa9d8754690e3a800e18c1e1ee9c48dde85e5b64bcf7f30578cab",
         22.5,
         267.61,
         0.0,
         "2022-11-27",
         6021.225
        ],
        [
         "5982b0d5b073ed72c5439a49284e10435da5e94149484c89d95c921e494b63b0",
         "4bdb0c80a77b7ad25194de65cb257a855aef4714db3c3562712c670228caa9da",
         "755aa136a266d35e2256de8ac6c7bdefcf4250ba3df6c3d855c840a80f7c5003",
         41.0,
         52.57,
         10.0,
         "2025-03-16",
         -19398.329999999998
        ],
        [
         "9ae454dffe58b2f08d2b131a1c67ed011b6a9dcef7629f2d96ecf9689831e573",
         "20f1ebafb8d3513848d887c5554eb0ce0ea2cc393afc88041813c6f9714ee7df",
         "8c50f7daf0f1874fd7161d15722ff921db0b280d233e9c5b71438dbd7a0b6160",
         33.67,
         85.99,
         0.0,
         "2024-03-05",
         2895.2833
        ],
        [
         "cd2f205a3b37acc265cf4867714abf35098ab215ba53c4864cd498abeda41f19",
         "d99aca1849c5560475ec973a6220e019f1b32f02cf85be1fdad144ec31466970",
         "b835f9e7348786c13b9930e4f0a919905909ac6d8a4c5341d1131e7f0830f2a8",
         26.0,
         293.87,
         5.0,
         "2025-04-06",
         -30562.48
        ],
        [
         "b5c80882f8e29da43355e05bb4fef15d73e22fc3e8a99209a389132cb1eaa6f2",
         "1120c453edb7620e31fdc4578bc15c8cb5aa664c7d30218eefcaec0b67e511ce",
         "d88343e0454464b75c638796b080b7c368ac3e9b1bdb7c02093294ee1adf62ea",
         22.0,
         444.29,
         5.0,
         "2024-03-05",
         -39097.520000000004
        ],
        [
         "238ae8d501ef46b11057593024310b28ca7a6704f4e6d676e5ae83fb2d7be6bb",
         "7099b4f2df85bf9ad664e463e2249d680dea06f443cc29fa642b9c534af97176",
         "880162d4763b81e4ac57db4b957d788ae22f0ff2f3673c6d7c15f3a56a63ea54",
         41.0,
         283.25,
         0.0,
         "2023-02-06",
         11613.25
        ],
        [
         "b5c80882f8e29da43355e05bb4fef15d73e22fc3e8a99209a389132cb1eaa6f2",
         "4c6dd1ba6ec7b756e0b6aa652820371fda0dba62811e1a54b7e45a93fe237c50",
         "8b9d3284385f39a45911d6eb2bb4611a58d6ec152bee163ad1e886bd1083cd46",
         16.0,
         238.49,
         0.0,
         "2024-08-27",
         3815.84
        ],
        [
         "a50a4d5a998a5462879a924b0479b4172af8a18f7c0bf80be21a80403f297651",
         "32ffe22289148a4b36d1d7ce2f1069e9f1640be9bc6c2d9c21142be14fd9f06a",
         "b90eb8c52995b65d912ee69813964cf8b27d10fea22e5176a0efde3a2c331ad0",
         33.67,
         414.77,
         0.0,
         "2023-01-18",
         13965.3059
        ],
        [
         "c2d01848f52f9fc1a7a28d06ec3d1a8de97a80a450b8788db43999fe58fb954c",
         "4d4ed5d27e052c65873ccf14e3fa6f04f7943793bef24189c4c991339564e646",
         "e3729a173a8c99d2fbdf176c56d695c1576bcc8e1a39a695a626c2fb1badb7a2",
         22.5,
         21.38,
         5.0,
         "2022-10-11",
         -1924.1999999999998
        ],
        [
         "3534d46d31abd5365ea939799b6dbaeabf66cee5d270b2c1016af31d4a076ba2",
         "52c169196a9953e61a83757f71b0f57da580026c1a2083b89b43e0451523fef3",
         "87ac6d5a4977bf75fdd34375ba02238b096ce6503cb4b6c9cd785114665a4d03",
         22.5,
         279.35,
         5.0,
         "2023-10-11",
         -25141.500000000004
        ],
        [
         "1839298fc3616a7fb8581b8eb5373248e28632ab00dfdec326053bc309f58bca",
         "24007c12903a7fd1b36a5faa4c4069a2be77b043fb7b335f4a558f650aa68072",
         "0b98f44b61cd1b506c8069d037184c4fde9d6b5b111aaa06ecb519d90d626be7",
         37.0,
         415.6,
         15.0,
         "2022-08-23",
         -215280.80000000002
        ],
        [
         "b5c80882f8e29da43355e05bb4fef15d73e22fc3e8a99209a389132cb1eaa6f2",
         "b697ea824f0541eb515498c5eb6f2ce43947880d645dbe09ee14075c732aef48",
         "790030832f4cf230a1582bbd8ae3645a73f6a8b1cfea54fb20961be4c49f39cd",
         22.5,
         359.04,
         0.0,
         "2024-01-20",
         8078.400000000001
        ]
       ],
       "datasetInfos": [],
       "dbfsResultPath": null,
       "isJsonSchema": true,
       "metadata": {},
       "overflow": false,
       "plotOptions": {
        "customPlotOptions": {},
        "displayType": "table",
        "pivotAggregation": null,
        "pivotColumns": null,
        "xColumns": null,
        "yColumns": null
       },
       "removedWidgets": [],
       "schema": [
        {
         "metadata": "{}",
         "name": "DIM_ProductId",
         "type": "\"string\""
        },
        {
         "metadata": "{}",
         "name": "DIM_StoreId",
         "type": "\"string\""
        },
        {
         "metadata": "{}",
         "name": "DIM_EmployeeId",
         "type": "\"string\""
        },
        {
         "metadata": "{}",
         "name": "UnitsSold",
         "type": "\"double\""
        },
        {
         "metadata": "{}",
         "name": "UnitPrice",
         "type": "\"double\""
        },
        {
         "metadata": "{}",
         "name": "Discount",
         "type": "\"double\""
        },
        {
         "metadata": "{\"__detected_date_formats\":\"yyyy-M-d\"}",
         "name": "SaleDate",
         "type": "\"date\""
        },
        {
         "metadata": "{}",
         "name": "NetRevenue",
         "type": "\"double\""
        }
       ],
       "type": "table"
      }
     },
     "output_type": "display_data"
    }
   ],
   "source": [
    "display(df_cleaned)"
   ]
  },
  {
   "cell_type": "markdown",
   "metadata": {
    "application/vnd.databricks.v1+cell": {
     "cellMetadata": {},
     "inputWidgets": {},
     "nuid": "190b9cb9-6634-429b-9cb0-1ae77342f8bb",
     "showTitle": false,
     "tableResultSettingsMap": {},
     "title": ""
    }
   },
   "source": [
    "Selecting only columns that are common in both"
   ]
  },
  {
   "cell_type": "code",
   "execution_count": 0,
   "metadata": {
    "application/vnd.databricks.v1+cell": {
     "cellMetadata": {
      "byteLimit": 2048000,
      "rowLimit": 10000
     },
     "inputWidgets": {},
     "nuid": "d1db9410-2346-493a-9f8b-4d05c0641c71",
     "showTitle": false,
     "tableResultSettingsMap": {},
     "title": ""
    }
   },
   "outputs": [],
   "source": [
    "fact_columns = [\"UnitsSold\", \"UnitPrice\", \"Discount\", \"SaleDate\"]\n",
    "df_raw_selected = df_raw.select(fact_columns)\n",
    "df_cleaned_selected = df_cleaned.select(fact_columns)"
   ]
  },
  {
   "cell_type": "code",
   "execution_count": 0,
   "metadata": {
    "application/vnd.databricks.v1+cell": {
     "cellMetadata": {
      "byteLimit": 2048000,
      "rowLimit": 10000
     },
     "inputWidgets": {},
     "nuid": "00d7fa91-20b5-4565-95d2-29836c882ab3",
     "showTitle": false,
     "tableResultSettingsMap": {},
     "title": ""
    }
   },
   "outputs": [],
   "source": [
    "df_raw_selected = df_raw_selected.withColumn(\"row_id\", monotonically_increasing_id())\n",
    "df_cleaned_selected = df_cleaned_selected.withColumn(\"row_id\", monotonically_increasing_id())"
   ]
  },
  {
   "cell_type": "code",
   "execution_count": 0,
   "metadata": {
    "application/vnd.databricks.v1+cell": {
     "cellMetadata": {
      "byteLimit": 2048000,
      "rowLimit": 10000
     },
     "inputWidgets": {},
     "nuid": "ca2adff8-d333-405c-9f5d-cd00848dd4fd",
     "showTitle": false,
     "tableResultSettingsMap": {},
     "title": ""
    }
   },
   "outputs": [
    {
     "output_type": "stream",
     "name": "stdout",
     "output_type": "stream",
     "text": [
      "+------+---------+---------+--------+--------+---------+---------+--------+--------+\n|row_id|UnitsSold|UnitPrice|Discount|SaleDate|UnitsSold|UnitPrice|Discount|SaleDate|\n+------+---------+---------+--------+--------+---------+---------+--------+--------+\n+------+---------+---------+--------+--------+---------+---------+--------+--------+\n\n"
     ]
    }
   ],
   "source": [
    "df_compare = df_raw_selected.alias(\"raw\").join(\n",
    "    df_cleaned_selected.alias(\"cleaned\"),\n",
    "    on=\"row_id\",\n",
    "    how=\"inner\"\n",
    ")\n",
    "\n",
    "df_mismatch = df_compare.filter(\n",
    "    (col(\"raw.UnitsSold\") != col(\"cleaned.UnitsSold\")) |\n",
    "    (col(\"raw.UnitPrice\") != col(\"cleaned.UnitPrice\")) |\n",
    "    (col(\"raw.Discount\") != col(\"cleaned.Discount\")) |\n",
    "    (col(\"raw.SaleDate\") != col(\"cleaned.SaleDate\"))\n",
    ")\n",
    "\n",
    "df_mismatch.show(truncate=False)"
   ]
  },
  {
   "cell_type": "markdown",
   "metadata": {
    "application/vnd.databricks.v1+cell": {
     "cellMetadata": {},
     "inputWidgets": {},
     "nuid": "e35a87b1-e8a5-4af2-8e08-a9e5cd9a520b",
     "showTitle": false,
     "tableResultSettingsMap": {},
     "title": ""
    }
   },
   "source": [
    "Seems there are no mismatch, lets print it out for usability."
   ]
  },
  {
   "cell_type": "code",
   "execution_count": 0,
   "metadata": {
    "application/vnd.databricks.v1+cell": {
     "cellMetadata": {
      "byteLimit": 2048000,
      "rowLimit": 10000
     },
     "inputWidgets": {},
     "nuid": "0611cf37-c2f1-4a66-af90-54a6a1cea018",
     "showTitle": false,
     "tableResultSettingsMap": {},
     "title": ""
    }
   },
   "outputs": [
    {
     "output_type": "stream",
     "name": "stdout",
     "output_type": "stream",
     "text": [
      "Total Rows Compared: 30\nMismatched Rows: 0\n"
     ]
    }
   ],
   "source": [
    "print(\"Total Rows Compared:\", df_compare.count())\n",
    "print(\"Mismatched Rows:\", df_mismatch.count())"
   ]
  }
 ],
 "metadata": {
  "application/vnd.databricks.v1+notebook": {
   "computePreferences": null,
   "dashboards": [],
   "environmentMetadata": {
    "base_environment": "",
    "environment_version": "1"
   },
   "inputWidgetPreferences": null,
   "language": "python",
   "notebookMetadata": {
    "pythonIndentUnit": 4
   },
   "notebookName": "Fact_sales-QA 20:51:53",
   "widgets": {}
  }
 },
 "nbformat": 4,
 "nbformat_minor": 0
}