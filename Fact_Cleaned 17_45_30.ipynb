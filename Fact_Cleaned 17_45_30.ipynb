{
 "cells": [
  {
   "cell_type": "code",
   "execution_count": 0,
   "metadata": {
    "application/vnd.databricks.v1+cell": {
     "cellMetadata": {
      "byteLimit": 2048000,
      "rowLimit": 10000
     },
     "inputWidgets": {},
     "nuid": "e4e84bfd-3869-447a-be23-7518cb589c66",
     "showTitle": false,
     "tableResultSettingsMap": {},
     "title": ""
    }
   },
   "outputs": [],
   "source": [
    "from pyspark.sql import SparkSession "
   ]
  },
  {
   "cell_type": "code",
   "execution_count": 0,
   "metadata": {
    "application/vnd.databricks.v1+cell": {
     "cellMetadata": {
      "byteLimit": 2048000,
      "rowLimit": 10000
     },
     "inputWidgets": {},
     "nuid": "d0967930-4ad3-424f-a1ab-b192cf29f844",
     "showTitle": false,
     "tableResultSettingsMap": {},
     "title": ""
    }
   },
   "outputs": [],
   "source": [
    "from pyspark.sql import functions as F\n",
    "from pyspark.sql.window import Window\n",
    "from pyspark.sql.functions import sha2, concat_ws, upper, col, expr\n",
    "from pyspark.sql.types import StructType, StructField, LongType, StringType, DateType, IntegerType"
   ]
  },
  {
   "cell_type": "code",
   "execution_count": 0,
   "metadata": {
    "application/vnd.databricks.v1+cell": {
     "cellMetadata": {
      "byteLimit": 2048000,
      "rowLimit": 10000
     },
     "inputWidgets": {},
     "nuid": "39df7354-ef33-42a9-a2f9-0cc7bfbb27dc",
     "showTitle": false,
     "tableResultSettingsMap": {},
     "title": ""
    }
   },
   "outputs": [],
   "source": [
    "spark = SparkSession.builder.appName('FactSales2Dimensionality').getOrCreate()"
   ]
  },
  {
   "cell_type": "code",
   "execution_count": 0,
   "metadata": {
    "application/vnd.databricks.v1+cell": {
     "cellMetadata": {
      "byteLimit": 2048000,
      "rowLimit": 10000
     },
     "inputWidgets": {},
     "nuid": "7c945940-4c10-4171-a652-6e26d68dc887",
     "showTitle": false,
     "tableResultSettingsMap": {},
     "title": ""
    }
   },
   "outputs": [],
   "source": [
    "df = spark.read.format(\"delta\").load(\"/delta/fact_sales_final\")"
   ]
  },
  {
   "cell_type": "code",
   "execution_count": 0,
   "metadata": {
    "application/vnd.databricks.v1+cell": {
     "cellMetadata": {
      "byteLimit": 2048000,
      "rowLimit": 10000
     },
     "inputWidgets": {},
     "nuid": "494fffa9-0c6a-465a-a9ed-af796182e51a",
     "showTitle": false,
     "tableResultSettingsMap": {},
     "title": ""
    }
   },
   "outputs": [
    {
     "output_type": "display_data",
     "data": {
      "text/html": [
       "<style scoped>\n",
       "  .table-result-container {\n",
       "    max-height: 300px;\n",
       "    overflow: auto;\n",
       "  }\n",
       "  table, th, td {\n",
       "    border: 1px solid black;\n",
       "    border-collapse: collapse;\n",
       "  }\n",
       "  th, td {\n",
       "    padding: 5px;\n",
       "  }\n",
       "  th {\n",
       "    text-align: left;\n",
       "  }\n",
       "</style><div class='table-result-container'><table class='table-result'><thead style='background-color: white'><tr><th>ProductCategory</th><th>ProductName</th><th>Brand</th><th>StoreRegion</th><th>StoreName</th><th>StoreType</th><th>SalesRep</th><th>Department</th><th>EmployeeRole</th><th>UnitsSold</th><th>UnitPrice</th><th>Discount</th><th>SaleDate</th></tr></thead><tbody><tr><td>Furniture</td><td>T-shirt</td><td>BrandB</td><td>East</td><td>StoreX</td><td>Franchise</td><td>Martha Long</td><td>Electronics</td><td>Cashier</td><td>12.0</td><td>279.35</td><td>5.0</td><td>2022-12-14</td></tr><tr><td>Clothing</td><td>Tablet</td><td>BrandC</td><td>East</td><td>StoreZ</td><td>Franchise</td><td>Martha Long</td><td>Home</td><td>Sales Associate</td><td>33.67</td><td>272.49</td><td>0.0</td><td>2023-02-24</td></tr><tr><td>Clothing</td><td>Tablet</td><td>BrandA</td><td>South</td><td>StoreX</td><td>Retail</td><td>Emily Vazquez</td><td>Apparel</td><td>Cashier</td><td>33.67</td><td>484.75</td><td>15.0</td><td>2025-03-24</td></tr><tr><td>Electronics</td><td>Smartphone</td><td>BrandB</td><td>West</td><td>StoreY</td><td>Outlet</td><td>Charles Fields</td><td>Apparel</td><td>Cashier</td><td>26.0</td><td>205.74</td><td>10.0</td><td>2023-09-30</td></tr><tr><td>Furniture</td><td>T-shirt</td><td>BrandC</td><td>East</td><td>StoreZ</td><td>Outlet</td><td>Wendy Castillo</td><td>Home</td><td>Manager</td><td>46.0</td><td>20.25</td><td>5.0</td><td>2022-10-14</td></tr><tr><td>Furniture</td><td>T-shirt</td><td>BrandC</td><td>South</td><td>StoreY</td><td>Retail</td><td>Wendy Castillo</td><td>Home</td><td>Manager</td><td>22.5</td><td>361.06</td><td>10.0</td><td>2024-02-23</td></tr><tr><td>Clothing</td><td>T-shirt</td><td>BrandC</td><td>South</td><td>StoreY</td><td>Outlet</td><td>John Harris</td><td>Home</td><td>Cashier</td><td>37.0</td><td>492.65</td><td>5.0</td><td>2024-05-06</td></tr><tr><td>Electronics</td><td>Smartphone</td><td>BrandC</td><td>South</td><td>StoreX</td><td>Outlet</td><td>Charles Fields</td><td>Home</td><td>Sales Associate</td><td>37.0</td><td>293.87</td><td>15.0</td><td>2023-04-04</td></tr><tr><td>Clothing</td><td>Jeans</td><td>BrandA</td><td>South</td><td>StoreY</td><td>Retail</td><td>Wendy Castillo</td><td>Electronics</td><td>Manager</td><td>23.0</td><td>189.47</td><td>15.0</td><td>2022-12-26</td></tr><tr><td>Furniture</td><td>T-shirt</td><td>BrandB</td><td>East</td><td>StoreZ</td><td>Franchise</td><td>Charles Fields</td><td>Apparel</td><td>Manager</td><td>25.0</td><td>359.08</td><td>10.0</td><td>2022-10-28</td></tr><tr><td>Clothing</td><td>Desk</td><td>BrandC</td><td>South</td><td>StoreZ</td><td>Retail</td><td>Wendy Castillo</td><td>Home</td><td>Manager</td><td>33.67</td><td>438.28</td><td>0.0</td><td>2025-05-12</td></tr><tr><td>Clothing</td><td>Desk</td><td>BrandB</td><td>North</td><td>StoreZ</td><td>Retail</td><td>Kelly Moore</td><td>Apparel</td><td>Sales Associate</td><td>33.67</td><td>283.25</td><td>0.0</td><td>2024-11-14</td></tr><tr><td>Electronics</td><td>Tablet</td><td>BrandB</td><td>North</td><td>StoreX</td><td>Outlet</td><td>Kara Lewis</td><td>Electronics</td><td>Manager</td><td>26.0</td><td>490.01</td><td>10.0</td><td>2025-05-20</td></tr><tr><td>Furniture</td><td>Tablet</td><td>BrandC</td><td>East</td><td>StoreX</td><td>Retail</td><td>Emily Vazquez</td><td>Apparel</td><td>Manager</td><td>15.0</td><td>139.58</td><td>5.0</td><td>2023-11-09</td></tr><tr><td>Electronics</td><td>Chair</td><td>BrandA</td><td>West</td><td>StoreY</td><td>Franchise</td><td>James Austin</td><td>Electronics</td><td>Cashier</td><td>26.0</td><td>67.66</td><td>15.0</td><td>2025-03-27</td></tr><tr><td>Electronics</td><td>Desk</td><td>BrandA</td><td>East</td><td>StoreX</td><td>Franchise</td><td>Emily Vazquez</td><td>Home</td><td>Manager</td><td>19.0</td><td>330.2</td><td>10.0</td><td>2022-12-16</td></tr><tr><td>Furniture</td><td>T-shirt</td><td>BrandC</td><td>West</td><td>StoreY</td><td>Franchise</td><td>Martha Long</td><td>Home</td><td>Cashier</td><td>7.0</td><td>290.63</td><td>15.0</td><td>2022-07-28</td></tr><tr><td>Electronics</td><td>Desk</td><td>BrandC</td><td>North</td><td>StoreY</td><td>Outlet</td><td>Charles Fields</td><td>Home</td><td>Cashier</td><td>7.0</td><td>349.27</td><td>10.0</td><td>2022-07-04</td></tr><tr><td>Furniture</td><td>Jeans</td><td>BrandC</td><td>East</td><td>StoreZ</td><td>Franchise</td><td>Wendy Castillo</td><td>Home</td><td>Manager</td><td>22.5</td><td>267.61</td><td>0.0</td><td>2022-11-27</td></tr><tr><td>Electronics</td><td>Jeans</td><td>BrandB</td><td>East</td><td>StoreZ</td><td>Outlet</td><td>James Austin</td><td>Home</td><td>Manager</td><td>41.0</td><td>52.57</td><td>10.0</td><td>2025-03-16</td></tr><tr><td>Clothing</td><td>T-shirt</td><td>BrandB</td><td>East</td><td>StoreZ</td><td>Franchise</td><td>Kyle Lin</td><td>Electronics</td><td>Manager</td><td>33.67</td><td>85.99</td><td>0.0</td><td>2024-03-05</td></tr><tr><td>Electronics</td><td>T-shirt</td><td>BrandA</td><td>South</td><td>StoreX</td><td>Retail</td><td>Kelly Moore</td><td>Apparel</td><td>Sales Associate</td><td>26.0</td><td>293.87</td><td>5.0</td><td>2025-04-06</td></tr><tr><td>Furniture</td><td>Desk</td><td>BrandA</td><td>South</td><td>StoreZ</td><td>Retail</td><td>Billy Perez</td><td>Apparel</td><td>Sales Associate</td><td>22.0</td><td>444.29</td><td>5.0</td><td>2024-03-05</td></tr><tr><td>Clothing</td><td>Desk</td><td>BrandB</td><td>North</td><td>StoreX</td><td>Franchise</td><td>John Harris</td><td>Apparel</td><td>Manager</td><td>41.0</td><td>283.25</td><td>0.0</td><td>2023-02-06</td></tr><tr><td>Furniture</td><td>Desk</td><td>BrandA</td><td>North</td><td>StoreZ</td><td>Franchise</td><td>Charles Fields</td><td>Home</td><td>Cashier</td><td>16.0</td><td>238.49</td><td>0.0</td><td>2024-08-27</td></tr><tr><td>Clothing</td><td>Jeans</td><td>BrandC</td><td>North</td><td>StoreY</td><td>Retail</td><td>Kyle Lin</td><td>Electronics</td><td>Sales Associate</td><td>33.67</td><td>414.77</td><td>0.0</td><td>2023-01-18</td></tr><tr><td>Furniture</td><td>Smartphone</td><td>BrandC</td><td>West</td><td>StoreX</td><td>Retail</td><td>Kyle Lin</td><td>Home</td><td>Cashier</td><td>22.5</td><td>21.38</td><td>5.0</td><td>2022-10-11</td></tr><tr><td>Furniture</td><td>Desk</td><td>BrandB</td><td>West</td><td>StoreX</td><td>Outlet</td><td>John Harris</td><td>Electronics</td><td>Manager</td><td>22.5</td><td>279.35</td><td>5.0</td><td>2023-10-11</td></tr><tr><td>Furniture</td><td>Tablet</td><td>BrandA</td><td>South</td><td>StoreY</td><td>Retail</td><td>Billy Perez</td><td>Electronics</td><td>Cashier</td><td>37.0</td><td>415.6</td><td>15.0</td><td>2022-08-23</td></tr><tr><td>Furniture</td><td>Desk</td><td>BrandA</td><td>South</td><td>StoreZ</td><td>Franchise</td><td>Emily Vazquez</td><td>Electronics</td><td>Sales Associate</td><td>22.5</td><td>359.04</td><td>0.0</td><td>2024-01-20</td></tr></tbody></table></div>"
      ]
     },
     "metadata": {
      "application/vnd.databricks.v1+output": {
       "addedWidgets": {},
       "aggData": [],
       "aggError": "",
       "aggOverflow": false,
       "aggSchema": [],
       "aggSeriesLimitReached": false,
       "aggType": "",
       "arguments": {},
       "columnCustomDisplayInfos": {},
       "data": [
        [
         "Furniture",
         "T-shirt",
         "BrandB",
         "East",
         "StoreX",
         "Franchise",
         "Martha Long",
         "Electronics",
         "Cashier",
         12.0,
         279.35,
         5.0,
         "2022-12-14"
        ],
        [
         "Clothing",
         "Tablet",
         "BrandC",
         "East",
         "StoreZ",
         "Franchise",
         "Martha Long",
         "Home",
         "Sales Associate",
         33.67,
         272.49,
         0.0,
         "2023-02-24"
        ],
        [
         "Clothing",
         "Tablet",
         "BrandA",
         "South",
         "StoreX",
         "Retail",
         "Emily Vazquez",
         "Apparel",
         "Cashier",
         33.67,
         484.75,
         15.0,
         "2025-03-24"
        ],
        [
         "Electronics",
         "Smartphone",
         "BrandB",
         "West",
         "StoreY",
         "Outlet",
         "Charles Fields",
         "Apparel",
         "Cashier",
         26.0,
         205.74,
         10.0,
         "2023-09-30"
        ],
        [
         "Furniture",
         "T-shirt",
         "BrandC",
         "East",
         "StoreZ",
         "Outlet",
         "Wendy Castillo",
         "Home",
         "Manager",
         46.0,
         20.25,
         5.0,
         "2022-10-14"
        ],
        [
         "Furniture",
         "T-shirt",
         "BrandC",
         "South",
         "StoreY",
         "Retail",
         "Wendy Castillo",
         "Home",
         "Manager",
         22.5,
         361.06,
         10.0,
         "2024-02-23"
        ],
        [
         "Clothing",
         "T-shirt",
         "BrandC",
         "South",
         "StoreY",
         "Outlet",
         "John Harris",
         "Home",
         "Cashier",
         37.0,
         492.65,
         5.0,
         "2024-05-06"
        ],
        [
         "Electronics",
         "Smartphone",
         "BrandC",
         "South",
         "StoreX",
         "Outlet",
         "Charles Fields",
         "Home",
         "Sales Associate",
         37.0,
         293.87,
         15.0,
         "2023-04-04"
        ],
        [
         "Clothing",
         "Jeans",
         "BrandA",
         "South",
         "StoreY",
         "Retail",
         "Wendy Castillo",
         "Electronics",
         "Manager",
         23.0,
         189.47,
         15.0,
         "2022-12-26"
        ],
        [
         "Furniture",
         "T-shirt",
         "BrandB",
         "East",
         "StoreZ",
         "Franchise",
         "Charles Fields",
         "Apparel",
         "Manager",
         25.0,
         359.08,
         10.0,
         "2022-10-28"
        ],
        [
         "Clothing",
         "Desk",
         "BrandC",
         "South",
         "StoreZ",
         "Retail",
         "Wendy Castillo",
         "Home",
         "Manager",
         33.67,
         438.28,
         0.0,
         "2025-05-12"
        ],
        [
         "Clothing",
         "Desk",
         "BrandB",
         "North",
         "StoreZ",
         "Retail",
         "Kelly Moore",
         "Apparel",
         "Sales Associate",
         33.67,
         283.25,
         0.0,
         "2024-11-14"
        ],
        [
         "Electronics",
         "Tablet",
         "BrandB",
         "North",
         "StoreX",
         "Outlet",
         "Kara Lewis",
         "Electronics",
         "Manager",
         26.0,
         490.01,
         10.0,
         "2025-05-20"
        ],
        [
         "Furniture",
         "Tablet",
         "BrandC",
         "East",
         "StoreX",
         "Retail",
         "Emily Vazquez",
         "Apparel",
         "Manager",
         15.0,
         139.58,
         5.0,
         "2023-11-09"
        ],
        [
         "Electronics",
         "Chair",
         "BrandA",
         "West",
         "StoreY",
         "Franchise",
         "James Austin",
         "Electronics",
         "Cashier",
         26.0,
         67.66,
         15.0,
         "2025-03-27"
        ],
        [
         "Electronics",
         "Desk",
         "BrandA",
         "East",
         "StoreX",
         "Franchise",
         "Emily Vazquez",
         "Home",
         "Manager",
         19.0,
         330.2,
         10.0,
         "2022-12-16"
        ],
        [
         "Furniture",
         "T-shirt",
         "BrandC",
         "West",
         "StoreY",
         "Franchise",
         "Martha Long",
         "Home",
         "Cashier",
         7.0,
         290.63,
         15.0,
         "2022-07-28"
        ],
        [
         "Electronics",
         "Desk",
         "BrandC",
         "North",
         "StoreY",
         "Outlet",
         "Charles Fields",
         "Home",
         "Cashier",
         7.0,
         349.27,
         10.0,
         "2022-07-04"
        ],
        [
         "Furniture",
         "Jeans",
         "BrandC",
         "East",
         "StoreZ",
         "Franchise",
         "Wendy Castillo",
         "Home",
         "Manager",
         22.5,
         267.61,
         0.0,
         "2022-11-27"
        ],
        [
         "Electronics",
         "Jeans",
         "BrandB",
         "East",
         "StoreZ",
         "Outlet",
         "James Austin",
         "Home",
         "Manager",
         41.0,
         52.57,
         10.0,
         "2025-03-16"
        ],
        [
         "Clothing",
         "T-shirt",
         "BrandB",
         "East",
         "StoreZ",
         "Franchise",
         "Kyle Lin",
         "Electronics",
         "Manager",
         33.67,
         85.99,
         0.0,
         "2024-03-05"
        ],
        [
         "Electronics",
         "T-shirt",
         "BrandA",
         "South",
         "StoreX",
         "Retail",
         "Kelly Moore",
         "Apparel",
         "Sales Associate",
         26.0,
         293.87,
         5.0,
         "2025-04-06"
        ],
        [
         "Furniture",
         "Desk",
         "BrandA",
         "South",
         "StoreZ",
         "Retail",
         "Billy Perez",
         "Apparel",
         "Sales Associate",
         22.0,
         444.29,
         5.0,
         "2024-03-05"
        ],
        [
         "Clothing",
         "Desk",
         "BrandB",
         "North",
         "StoreX",
         "Franchise",
         "John Harris",
         "Apparel",
         "Manager",
         41.0,
         283.25,
         0.0,
         "2023-02-06"
        ],
        [
         "Furniture",
         "Desk",
         "BrandA",
         "North",
         "StoreZ",
         "Franchise",
         "Charles Fields",
         "Home",
         "Cashier",
         16.0,
         238.49,
         0.0,
         "2024-08-27"
        ],
        [
         "Clothing",
         "Jeans",
         "BrandC",
         "North",
         "StoreY",
         "Retail",
         "Kyle Lin",
         "Electronics",
         "Sales Associate",
         33.67,
         414.77,
         0.0,
         "2023-01-18"
        ],
        [
         "Furniture",
         "Smartphone",
         "BrandC",
         "West",
         "StoreX",
         "Retail",
         "Kyle Lin",
         "Home",
         "Cashier",
         22.5,
         21.38,
         5.0,
         "2022-10-11"
        ],
        [
         "Furniture",
         "Desk",
         "BrandB",
         "West",
         "StoreX",
         "Outlet",
         "John Harris",
         "Electronics",
         "Manager",
         22.5,
         279.35,
         5.0,
         "2023-10-11"
        ],
        [
         "Furniture",
         "Tablet",
         "BrandA",
         "South",
         "StoreY",
         "Retail",
         "Billy Perez",
         "Electronics",
         "Cashier",
         37.0,
         415.6,
         15.0,
         "2022-08-23"
        ],
        [
         "Furniture",
         "Desk",
         "BrandA",
         "South",
         "StoreZ",
         "Franchise",
         "Emily Vazquez",
         "Electronics",
         "Sales Associate",
         22.5,
         359.04,
         0.0,
         "2024-01-20"
        ]
       ],
       "datasetInfos": [],
       "dbfsResultPath": null,
       "isJsonSchema": true,
       "metadata": {},
       "overflow": false,
       "plotOptions": {
        "customPlotOptions": {},
        "displayType": "table",
        "pivotAggregation": null,
        "pivotColumns": null,
        "xColumns": null,
        "yColumns": null
       },
       "removedWidgets": [],
       "schema": [
        {
         "metadata": "{}",
         "name": "ProductCategory",
         "type": "\"string\""
        },
        {
         "metadata": "{}",
         "name": "ProductName",
         "type": "\"string\""
        },
        {
         "metadata": "{}",
         "name": "Brand",
         "type": "\"string\""
        },
        {
         "metadata": "{}",
         "name": "StoreRegion",
         "type": "\"string\""
        },
        {
         "metadata": "{}",
         "name": "StoreName",
         "type": "\"string\""
        },
        {
         "metadata": "{}",
         "name": "StoreType",
         "type": "\"string\""
        },
        {
         "metadata": "{}",
         "name": "SalesRep",
         "type": "\"string\""
        },
        {
         "metadata": "{}",
         "name": "Department",
         "type": "\"string\""
        },
        {
         "metadata": "{}",
         "name": "EmployeeRole",
         "type": "\"string\""
        },
        {
         "metadata": "{}",
         "name": "UnitsSold",
         "type": "\"double\""
        },
        {
         "metadata": "{}",
         "name": "UnitPrice",
         "type": "\"double\""
        },
        {
         "metadata": "{}",
         "name": "Discount",
         "type": "\"double\""
        },
        {
         "metadata": "{\"__detected_date_formats\":\"yyyy-M-d\"}",
         "name": "SaleDate",
         "type": "\"date\""
        }
       ],
       "type": "table"
      }
     },
     "output_type": "display_data"
    }
   ],
   "source": [
    "display(df)"
   ]
  },
  {
   "cell_type": "code",
   "execution_count": 0,
   "metadata": {
    "application/vnd.databricks.v1+cell": {
     "cellMetadata": {
      "byteLimit": 2048000,
      "rowLimit": 10000
     },
     "inputWidgets": {},
     "nuid": "363c9cee-d68b-4613-aea0-d84054025e09",
     "showTitle": false,
     "tableResultSettingsMap": {},
     "title": ""
    }
   },
   "outputs": [],
   "source": [
    "df1 = spark.read.format(\"delta\").load(\"/delta/dim_product\")\n"
   ]
  },
  {
   "cell_type": "code",
   "execution_count": 0,
   "metadata": {
    "application/vnd.databricks.v1+cell": {
     "cellMetadata": {
      "byteLimit": 2048000,
      "rowLimit": 10000
     },
     "inputWidgets": {},
     "nuid": "f91fe558-f0f7-4339-b65c-3156ad22ed21",
     "showTitle": false,
     "tableResultSettingsMap": {},
     "title": ""
    }
   },
   "outputs": [
    {
     "output_type": "display_data",
     "data": {
      "text/html": [
       "<style scoped>\n",
       "  .table-result-container {\n",
       "    max-height: 300px;\n",
       "    overflow: auto;\n",
       "  }\n",
       "  table, th, td {\n",
       "    border: 1px solid black;\n",
       "    border-collapse: collapse;\n",
       "  }\n",
       "  th, td {\n",
       "    padding: 5px;\n",
       "  }\n",
       "  th {\n",
       "    text-align: left;\n",
       "  }\n",
       "</style><div class='table-result-container'><table class='table-result'><thead style='background-color: white'><tr><th>ProductCategory</th><th>ProductName</th><th>Brand</th><th>DIM_ProductId</th></tr></thead><tbody><tr><td>Electronics</td><td>Smartphone</td><td>BrandC</td><td>fc08e15f7ca6c6df9df7da9e4815aaf89a29e1e19459ee7d969019e8cbb37123</td></tr><tr><td>Electronics</td><td>Smartphone</td><td>BrandB</td><td>6a421110b266104bf1cf67be336c9ca4cfff1f897b231e0631948bb3f034677e</td></tr><tr><td>Electronics</td><td>T-shirt</td><td>BrandA</td><td>cd2f205a3b37acc265cf4867714abf35098ab215ba53c4864cd498abeda41f19</td></tr><tr><td>Electronics</td><td>Desk</td><td>BrandC</td><td>d77d44bf969beb3dbe1c220e980137a5a50d692fcb5488788dcab5776eea5935</td></tr><tr><td>Clothing</td><td>Tablet</td><td>BrandA</td><td>a8406b374712399cebdf16a3e8a8c56cf72bf72db75cb2ad0dc3a1ff71e61285</td></tr><tr><td>Electronics</td><td>Chair</td><td>BrandA</td><td>dcd1602d12efc29c8c4598b7843ec57a534683119f15c2042695e5fe71031ffd</td></tr><tr><td>Furniture</td><td>Desk</td><td>BrandA</td><td>b5c80882f8e29da43355e05bb4fef15d73e22fc3e8a99209a389132cb1eaa6f2</td></tr><tr><td>Furniture</td><td>Tablet</td><td>BrandA</td><td>1839298fc3616a7fb8581b8eb5373248e28632ab00dfdec326053bc309f58bca</td></tr><tr><td>Electronics</td><td>Desk</td><td>BrandA</td><td>27280aade539db2d7433159d56c762fc2f0d86f6c030d9edc55eaaf355997161</td></tr><tr><td>Electronics</td><td>Tablet</td><td>BrandB</td><td>36fc80bfe93a526d8a175456e8243770785451a22d4ce473e3bbf391080eeba1</td></tr><tr><td>Clothing</td><td>T-shirt</td><td>BrandC</td><td>86ebe6b6839b1f0b802dc9acb8b3ac28ed84edd9496e774602b4bb858ac1ee21</td></tr><tr><td>Furniture</td><td>Jeans</td><td>BrandC</td><td>4e83a8d47b66443b97bb7351dc7523efa2e559dc3007eaa8c4eab1eb916eb8a6</td></tr><tr><td>Clothing</td><td>Desk</td><td>BrandC</td><td>98a0a870ebb0f5e6b5b5cdf00b618fafcb2a3d33b41e56d92c57818ac224b5e7</td></tr><tr><td>Furniture</td><td>Tablet</td><td>BrandC</td><td>b24a9f4fedbb73a4cc882922b4a8823167815ae6edd96114e17f465303462ca3</td></tr><tr><td>Clothing</td><td>Jeans</td><td>BrandC</td><td>a50a4d5a998a5462879a924b0479b4172af8a18f7c0bf80be21a80403f297651</td></tr><tr><td>Furniture</td><td>Desk</td><td>BrandB</td><td>3534d46d31abd5365ea939799b6dbaeabf66cee5d270b2c1016af31d4a076ba2</td></tr><tr><td>Furniture</td><td>Smartphone</td><td>BrandC</td><td>c2d01848f52f9fc1a7a28d06ec3d1a8de97a80a450b8788db43999fe58fb954c</td></tr><tr><td>Clothing</td><td>Jeans</td><td>BrandA</td><td>807d270019a32fa7c40a2b8931312f136363e6bf9793576c7ab67fd901472887</td></tr><tr><td>Clothing</td><td>Desk</td><td>BrandB</td><td>238ae8d501ef46b11057593024310b28ca7a6704f4e6d676e5ae83fb2d7be6bb</td></tr><tr><td>Clothing</td><td>T-shirt</td><td>BrandB</td><td>9ae454dffe58b2f08d2b131a1c67ed011b6a9dcef7629f2d96ecf9689831e573</td></tr><tr><td>Clothing</td><td>Tablet</td><td>BrandC</td><td>c37d4ae373d30210c6e3b8760d2e14d3f1ce92979c432aa3ccef3493b5ef97b8</td></tr><tr><td>Furniture</td><td>T-shirt</td><td>BrandB</td><td>0ee892f6bcd5fe280d3d4ccfd72a138675d0514a58e1335c6a48b02823bb8156</td></tr><tr><td>Electronics</td><td>Jeans</td><td>BrandB</td><td>5982b0d5b073ed72c5439a49284e10435da5e94149484c89d95c921e494b63b0</td></tr><tr><td>Furniture</td><td>T-shirt</td><td>BrandC</td><td>8ff5e4961ecd6be9af8b4301fd055a9fb74cc9d9345e154247fdb1ba69cc53aa</td></tr><tr><td>N/A</td><td>N/A</td><td>N/A</td><td>363dcb41fa46f65932a8db70799eff0e4d450285e1b3d81f3d9d2cca4ffe70a3</td></tr></tbody></table></div>"
      ]
     },
     "metadata": {
      "application/vnd.databricks.v1+output": {
       "addedWidgets": {},
       "aggData": [],
       "aggError": "",
       "aggOverflow": false,
       "aggSchema": [],
       "aggSeriesLimitReached": false,
       "aggType": "",
       "arguments": {},
       "columnCustomDisplayInfos": {},
       "data": [
        [
         "Electronics",
         "Smartphone",
         "BrandC",
         "fc08e15f7ca6c6df9df7da9e4815aaf89a29e1e19459ee7d969019e8cbb37123"
        ],
        [
         "Electronics",
         "Smartphone",
         "BrandB",
         "6a421110b266104bf1cf67be336c9ca4cfff1f897b231e0631948bb3f034677e"
        ],
        [
         "Electronics",
         "T-shirt",
         "BrandA",
         "cd2f205a3b37acc265cf4867714abf35098ab215ba53c4864cd498abeda41f19"
        ],
        [
         "Electronics",
         "Desk",
         "BrandC",
         "d77d44bf969beb3dbe1c220e980137a5a50d692fcb5488788dcab5776eea5935"
        ],
        [
         "Clothing",
         "Tablet",
         "BrandA",
         "a8406b374712399cebdf16a3e8a8c56cf72bf72db75cb2ad0dc3a1ff71e61285"
        ],
        [
         "Electronics",
         "Chair",
         "BrandA",
         "dcd1602d12efc29c8c4598b7843ec57a534683119f15c2042695e5fe71031ffd"
        ],
        [
         "Furniture",
         "Desk",
         "BrandA",
         "b5c80882f8e29da43355e05bb4fef15d73e22fc3e8a99209a389132cb1eaa6f2"
        ],
        [
         "Furniture",
         "Tablet",
         "BrandA",
         "1839298fc3616a7fb8581b8eb5373248e28632ab00dfdec326053bc309f58bca"
        ],
        [
         "Electronics",
         "Desk",
         "BrandA",
         "27280aade539db2d7433159d56c762fc2f0d86f6c030d9edc55eaaf355997161"
        ],
        [
         "Electronics",
         "Tablet",
         "BrandB",
         "36fc80bfe93a526d8a175456e8243770785451a22d4ce473e3bbf391080eeba1"
        ],
        [
         "Clothing",
         "T-shirt",
         "BrandC",
         "86ebe6b6839b1f0b802dc9acb8b3ac28ed84edd9496e774602b4bb858ac1ee21"
        ],
        [
         "Furniture",
         "Jeans",
         "BrandC",
         "4e83a8d47b66443b97bb7351dc7523efa2e559dc3007eaa8c4eab1eb916eb8a6"
        ],
        [
         "Clothing",
         "Desk",
         "BrandC",
         "98a0a870ebb0f5e6b5b5cdf00b618fafcb2a3d33b41e56d92c57818ac224b5e7"
        ],
        [
         "Furniture",
         "Tablet",
         "BrandC",
         "b24a9f4fedbb73a4cc882922b4a8823167815ae6edd96114e17f465303462ca3"
        ],
        [
         "Clothing",
         "Jeans",
         "BrandC",
         "a50a4d5a998a5462879a924b0479b4172af8a18f7c0bf80be21a80403f297651"
        ],
        [
         "Furniture",
         "Desk",
         "BrandB",
         "3534d46d31abd5365ea939799b6dbaeabf66cee5d270b2c1016af31d4a076ba2"
        ],
        [
         "Furniture",
         "Smartphone",
         "BrandC",
         "c2d01848f52f9fc1a7a28d06ec3d1a8de97a80a450b8788db43999fe58fb954c"
        ],
        [
         "Clothing",
         "Jeans",
         "BrandA",
         "807d270019a32fa7c40a2b8931312f136363e6bf9793576c7ab67fd901472887"
        ],
        [
         "Clothing",
         "Desk",
         "BrandB",
         "238ae8d501ef46b11057593024310b28ca7a6704f4e6d676e5ae83fb2d7be6bb"
        ],
        [
         "Clothing",
         "T-shirt",
         "BrandB",
         "9ae454dffe58b2f08d2b131a1c67ed011b6a9dcef7629f2d96ecf9689831e573"
        ],
        [
         "Clothing",
         "Tablet",
         "BrandC",
         "c37d4ae373d30210c6e3b8760d2e14d3f1ce92979c432aa3ccef3493b5ef97b8"
        ],
        [
         "Furniture",
         "T-shirt",
         "BrandB",
         "0ee892f6bcd5fe280d3d4ccfd72a138675d0514a58e1335c6a48b02823bb8156"
        ],
        [
         "Electronics",
         "Jeans",
         "BrandB",
         "5982b0d5b073ed72c5439a49284e10435da5e94149484c89d95c921e494b63b0"
        ],
        [
         "Furniture",
         "T-shirt",
         "BrandC",
         "8ff5e4961ecd6be9af8b4301fd055a9fb74cc9d9345e154247fdb1ba69cc53aa"
        ],
        [
         "N/A",
         "N/A",
         "N/A",
         "363dcb41fa46f65932a8db70799eff0e4d450285e1b3d81f3d9d2cca4ffe70a3"
        ]
       ],
       "datasetInfos": [],
       "dbfsResultPath": null,
       "isJsonSchema": true,
       "metadata": {},
       "overflow": false,
       "plotOptions": {
        "customPlotOptions": {},
        "displayType": "table",
        "pivotAggregation": null,
        "pivotColumns": null,
        "xColumns": null,
        "yColumns": null
       },
       "removedWidgets": [],
       "schema": [
        {
         "metadata": "{}",
         "name": "ProductCategory",
         "type": "\"string\""
        },
        {
         "metadata": "{}",
         "name": "ProductName",
         "type": "\"string\""
        },
        {
         "metadata": "{}",
         "name": "Brand",
         "type": "\"string\""
        },
        {
         "metadata": "{}",
         "name": "DIM_ProductId",
         "type": "\"string\""
        }
       ],
       "type": "table"
      }
     },
     "output_type": "display_data"
    }
   ],
   "source": [
    "display(df1)"
   ]
  },
  {
   "cell_type": "code",
   "execution_count": 0,
   "metadata": {
    "application/vnd.databricks.v1+cell": {
     "cellMetadata": {
      "byteLimit": 2048000,
      "rowLimit": 10000
     },
     "inputWidgets": {},
     "nuid": "9ff115c1-f580-415f-a4fb-8385b38440d3",
     "showTitle": false,
     "tableResultSettingsMap": {},
     "title": ""
    }
   },
   "outputs": [],
   "source": [
    "df2 = spark.read.format(\"delta\").load(\"/delta/dim_store_final\")"
   ]
  },
  {
   "cell_type": "code",
   "execution_count": 0,
   "metadata": {
    "application/vnd.databricks.v1+cell": {
     "cellMetadata": {
      "byteLimit": 2048000,
      "rowLimit": 10000
     },
     "inputWidgets": {},
     "nuid": "d97e26ca-3ccb-4661-887a-bd2280b72690",
     "showTitle": false,
     "tableResultSettingsMap": {},
     "title": ""
    }
   },
   "outputs": [
    {
     "output_type": "display_data",
     "data": {
      "text/html": [
       "<style scoped>\n",
       "  .table-result-container {\n",
       "    max-height: 300px;\n",
       "    overflow: auto;\n",
       "  }\n",
       "  table, th, td {\n",
       "    border: 1px solid black;\n",
       "    border-collapse: collapse;\n",
       "  }\n",
       "  th, td {\n",
       "    padding: 5px;\n",
       "  }\n",
       "  th {\n",
       "    text-align: left;\n",
       "  }\n",
       "</style><div class='table-result-container'><table class='table-result'><thead style='background-color: white'><tr><th>StoreRegion</th><th>StoreName</th><th>StoreType</th><th>DIM_StoreId</th></tr></thead><tbody><tr><td>North</td><td>StoreY</td><td>Outlet</td><td>94ba623007bdf38a8d9dd25b359ba7a49b0a434a8c49e2aaff76cc12c50a8a77</td></tr><tr><td>South</td><td>StoreY</td><td>Retail</td><td>24007c12903a7fd1b36a5faa4c4069a2be77b043fb7b335f4a558f650aa68072</td></tr><tr><td>East</td><td>StoreX</td><td>Retail</td><td>eaaa9336e570e385b77b0050a85962732193ca23004af89ae72f2889abd91bd3</td></tr><tr><td>North</td><td>StoreX</td><td>Outlet</td><td>cd1aac1b6cedfa5d51c325a3c19d2132ce133ac285ce754fdf436527f68ab882</td></tr><tr><td>North</td><td>StoreZ</td><td>Retail</td><td>30d46cf1deb74c2d33b4ea7e7f6798ae0623d5195c080721dbf022942ba48b72</td></tr><tr><td>South</td><td>StoreZ</td><td>Franchise</td><td>b697ea824f0541eb515498c5eb6f2ce43947880d645dbe09ee14075c732aef48</td></tr><tr><td>South</td><td>StoreZ</td><td>Retail</td><td>1120c453edb7620e31fdc4578bc15c8cb5aa664c7d30218eefcaec0b67e511ce</td></tr><tr><td>East</td><td>StoreX</td><td>Franchise</td><td>3c7aa2361bb113e0892437ecba18d0fca00119aefb95552a6b18bb7eee14759a</td></tr><tr><td>South</td><td>StoreX</td><td>Outlet</td><td>76868e571d2e34422cf3c39e724b18da8fe589d29e3bd589ee5390c548aaabd5</td></tr><tr><td>East</td><td>StoreZ</td><td>Franchise</td><td>20f1ebafb8d3513848d887c5554eb0ce0ea2cc393afc88041813c6f9714ee7df</td></tr><tr><td>West</td><td>StoreX</td><td>Retail</td><td>4d4ed5d27e052c65873ccf14e3fa6f04f7943793bef24189c4c991339564e646</td></tr><tr><td>North</td><td>StoreY</td><td>Retail</td><td>32ffe22289148a4b36d1d7ce2f1069e9f1640be9bc6c2d9c21142be14fd9f06a</td></tr><tr><td>West</td><td>StoreY</td><td>Outlet</td><td>84b0247bf1c9e21f1a7befa453f14c708b5be10d1f352da6b89183f8d691ecc2</td></tr><tr><td>North</td><td>StoreX</td><td>Franchise</td><td>7099b4f2df85bf9ad664e463e2249d680dea06f443cc29fa642b9c534af97176</td></tr><tr><td>West</td><td>StoreX</td><td>Outlet</td><td>52c169196a9953e61a83757f71b0f57da580026c1a2083b89b43e0451523fef3</td></tr><tr><td>South</td><td>StoreY</td><td>Outlet</td><td>411dea8e689cd912cd11682ee1f8b3ddbe7a4b413e89be652757c39f04f2ec60</td></tr><tr><td>West</td><td>StoreY</td><td>Franchise</td><td>3cc867d96e3527c321b9556c784adf270e1e17cd22966fad45385f46ea9f6b99</td></tr><tr><td>North</td><td>StoreZ</td><td>Franchise</td><td>4c6dd1ba6ec7b756e0b6aa652820371fda0dba62811e1a54b7e45a93fe237c50</td></tr><tr><td>South</td><td>StoreX</td><td>Retail</td><td>d99aca1849c5560475ec973a6220e019f1b32f02cf85be1fdad144ec31466970</td></tr><tr><td>East</td><td>StoreZ</td><td>Outlet</td><td>4bdb0c80a77b7ad25194de65cb257a855aef4714db3c3562712c670228caa9da</td></tr><tr><td>N/A</td><td>N/A</td><td>N/A</td><td>363dcb41fa46f65932a8db70799eff0e4d450285e1b3d81f3d9d2cca4ffe70a3</td></tr></tbody></table></div>"
      ]
     },
     "metadata": {
      "application/vnd.databricks.v1+output": {
       "addedWidgets": {},
       "aggData": [],
       "aggError": "",
       "aggOverflow": false,
       "aggSchema": [],
       "aggSeriesLimitReached": false,
       "aggType": "",
       "arguments": {},
       "columnCustomDisplayInfos": {},
       "data": [
        [
         "North",
         "StoreY",
         "Outlet",
         "94ba623007bdf38a8d9dd25b359ba7a49b0a434a8c49e2aaff76cc12c50a8a77"
        ],
        [
         "South",
         "StoreY",
         "Retail",
         "24007c12903a7fd1b36a5faa4c4069a2be77b043fb7b335f4a558f650aa68072"
        ],
        [
         "East",
         "StoreX",
         "Retail",
         "eaaa9336e570e385b77b0050a85962732193ca23004af89ae72f2889abd91bd3"
        ],
        [
         "North",
         "StoreX",
         "Outlet",
         "cd1aac1b6cedfa5d51c325a3c19d2132ce133ac285ce754fdf436527f68ab882"
        ],
        [
         "North",
         "StoreZ",
         "Retail",
         "30d46cf1deb74c2d33b4ea7e7f6798ae0623d5195c080721dbf022942ba48b72"
        ],
        [
         "South",
         "StoreZ",
         "Franchise",
         "b697ea824f0541eb515498c5eb6f2ce43947880d645dbe09ee14075c732aef48"
        ],
        [
         "South",
         "StoreZ",
         "Retail",
         "1120c453edb7620e31fdc4578bc15c8cb5aa664c7d30218eefcaec0b67e511ce"
        ],
        [
         "East",
         "StoreX",
         "Franchise",
         "3c7aa2361bb113e0892437ecba18d0fca00119aefb95552a6b18bb7eee14759a"
        ],
        [
         "South",
         "StoreX",
         "Outlet",
         "76868e571d2e34422cf3c39e724b18da8fe589d29e3bd589ee5390c548aaabd5"
        ],
        [
         "East",
         "StoreZ",
         "Franchise",
         "20f1ebafb8d3513848d887c5554eb0ce0ea2cc393afc88041813c6f9714ee7df"
        ],
        [
         "West",
         "StoreX",
         "Retail",
         "4d4ed5d27e052c65873ccf14e3fa6f04f7943793bef24189c4c991339564e646"
        ],
        [
         "North",
         "StoreY",
         "Retail",
         "32ffe22289148a4b36d1d7ce2f1069e9f1640be9bc6c2d9c21142be14fd9f06a"
        ],
        [
         "West",
         "StoreY",
         "Outlet",
         "84b0247bf1c9e21f1a7befa453f14c708b5be10d1f352da6b89183f8d691ecc2"
        ],
        [
         "North",
         "StoreX",
         "Franchise",
         "7099b4f2df85bf9ad664e463e2249d680dea06f443cc29fa642b9c534af97176"
        ],
        [
         "West",
         "StoreX",
         "Outlet",
         "52c169196a9953e61a83757f71b0f57da580026c1a2083b89b43e0451523fef3"
        ],
        [
         "South",
         "StoreY",
         "Outlet",
         "411dea8e689cd912cd11682ee1f8b3ddbe7a4b413e89be652757c39f04f2ec60"
        ],
        [
         "West",
         "StoreY",
         "Franchise",
         "3cc867d96e3527c321b9556c784adf270e1e17cd22966fad45385f46ea9f6b99"
        ],
        [
         "North",
         "StoreZ",
         "Franchise",
         "4c6dd1ba6ec7b756e0b6aa652820371fda0dba62811e1a54b7e45a93fe237c50"
        ],
        [
         "South",
         "StoreX",
         "Retail",
         "d99aca1849c5560475ec973a6220e019f1b32f02cf85be1fdad144ec31466970"
        ],
        [
         "East",
         "StoreZ",
         "Outlet",
         "4bdb0c80a77b7ad25194de65cb257a855aef4714db3c3562712c670228caa9da"
        ],
        [
         "N/A",
         "N/A",
         "N/A",
         "363dcb41fa46f65932a8db70799eff0e4d450285e1b3d81f3d9d2cca4ffe70a3"
        ]
       ],
       "datasetInfos": [],
       "dbfsResultPath": null,
       "isJsonSchema": true,
       "metadata": {},
       "overflow": false,
       "plotOptions": {
        "customPlotOptions": {},
        "displayType": "table",
        "pivotAggregation": null,
        "pivotColumns": null,
        "xColumns": null,
        "yColumns": null
       },
       "removedWidgets": [],
       "schema": [
        {
         "metadata": "{}",
         "name": "StoreRegion",
         "type": "\"string\""
        },
        {
         "metadata": "{}",
         "name": "StoreName",
         "type": "\"string\""
        },
        {
         "metadata": "{}",
         "name": "StoreType",
         "type": "\"string\""
        },
        {
         "metadata": "{}",
         "name": "DIM_StoreId",
         "type": "\"string\""
        }
       ],
       "type": "table"
      }
     },
     "output_type": "display_data"
    }
   ],
   "source": [
    "display(df2)"
   ]
  },
  {
   "cell_type": "code",
   "execution_count": 0,
   "metadata": {
    "application/vnd.databricks.v1+cell": {
     "cellMetadata": {
      "byteLimit": 2048000,
      "rowLimit": 10000
     },
     "inputWidgets": {},
     "nuid": "a69038c4-836c-48cf-8b05-feee808d1b59",
     "showTitle": false,
     "tableResultSettingsMap": {},
     "title": ""
    }
   },
   "outputs": [],
   "source": [
    "df3 = spark.read.format(\"delta\").load(\"/delta/dim_employee_final\")"
   ]
  },
  {
   "cell_type": "code",
   "execution_count": 0,
   "metadata": {
    "application/vnd.databricks.v1+cell": {
     "cellMetadata": {
      "byteLimit": 2048000,
      "rowLimit": 10000
     },
     "inputWidgets": {},
     "nuid": "ab81282a-f6c0-43aa-a50b-d84e03274268",
     "showTitle": false,
     "tableResultSettingsMap": {},
     "title": ""
    }
   },
   "outputs": [
    {
     "output_type": "display_data",
     "data": {
      "text/html": [
       "<style scoped>\n",
       "  .table-result-container {\n",
       "    max-height: 300px;\n",
       "    overflow: auto;\n",
       "  }\n",
       "  table, th, td {\n",
       "    border: 1px solid black;\n",
       "    border-collapse: collapse;\n",
       "  }\n",
       "  th, td {\n",
       "    padding: 5px;\n",
       "  }\n",
       "  th {\n",
       "    text-align: left;\n",
       "  }\n",
       "</style><div class='table-result-container'><table class='table-result'><thead style='background-color: white'><tr><th>SalesRep</th><th>Department</th><th>EmployeeRole</th><th>DIM_EmployeeId</th></tr></thead><tbody><tr><td>Kyle Lin</td><td>Electronics</td><td>Sales Associate</td><td>b90eb8c52995b65d912ee69813964cf8b27d10fea22e5176a0efde3a2c331ad0</td></tr><tr><td>Charles Fields</td><td>Apparel</td><td>Manager</td><td>11e3df9450f3951d15425406cfd773e170e7e53297b071b8dfcfa87a688599c3</td></tr><tr><td>Wendy Castillo</td><td>Home</td><td>Manager</td><td>c4a16c19bcbaa9d8754690e3a800e18c1e1ee9c48dde85e5b64bcf7f30578cab</td></tr><tr><td>Wendy Castillo</td><td>Electronics</td><td>Manager</td><td>5b35a50e37f2fb896eef5da16148195eff3e208575ad22d8a6edfbff8511201c</td></tr><tr><td>Charles Fields</td><td>Home</td><td>Cashier</td><td>8b9d3284385f39a45911d6eb2bb4611a58d6ec152bee163ad1e886bd1083cd46</td></tr><tr><td>Kyle Lin</td><td>Home</td><td>Cashier</td><td>e3729a173a8c99d2fbdf176c56d695c1576bcc8e1a39a695a626c2fb1badb7a2</td></tr><tr><td>John Harris</td><td>Electronics</td><td>Manager</td><td>87ac6d5a4977bf75fdd34375ba02238b096ce6503cb4b6c9cd785114665a4d03</td></tr><tr><td>John Harris</td><td>Apparel</td><td>Manager</td><td>880162d4763b81e4ac57db4b957d788ae22f0ff2f3673c6d7c15f3a56a63ea54</td></tr><tr><td>Billy Perez</td><td>Electronics</td><td>Cashier</td><td>0b98f44b61cd1b506c8069d037184c4fde9d6b5b111aaa06ecb519d90d626be7</td></tr><tr><td>John Harris</td><td>Home</td><td>Cashier</td><td>fdedff2cb72a6a9be5669b3ceb5a76b5954802411dda3d1e83ddb183d5a86548</td></tr><tr><td>Emily Vazquez</td><td>Electronics</td><td>Sales Associate</td><td>790030832f4cf230a1582bbd8ae3645a73f6a8b1cfea54fb20961be4c49f39cd</td></tr><tr><td>Martha Long</td><td>Home</td><td>Sales Associate</td><td>0f0a2f01281855e40cd8674f9192e6736b34aa8fc5f0478d71361f8a8412ba56</td></tr><tr><td>Emily Vazquez</td><td>Home</td><td>Manager</td><td>897bf5eaa94f46613651029b33161e9f20a3b60c3f084b913e3c1fb19b720bf3</td></tr><tr><td>Charles Fields</td><td>Apparel</td><td>Cashier</td><td>c93c0a4829fd929a76a46896a25c78a5e14ba88c21b0e526dbc45c4e5378ea90</td></tr><tr><td>Emily Vazquez</td><td>Apparel</td><td>Cashier</td><td>fcabe27a77b7b0062b0c99723dbfa1e531629cccb118cb71f9c41d22a9aba099</td></tr><tr><td>Martha Long</td><td>Home</td><td>Cashier</td><td>20d4f2a553ffe62b74d0fe96b1d0ab439d1aa91793df5952dff41d967bf4dbe0</td></tr><tr><td>Kara Lewis</td><td>Electronics</td><td>Manager</td><td>974149aaad371da29abd2bd4c468eae5d3c2338b9123407191cce017a2080c9a</td></tr><tr><td>Kelly Moore</td><td>Apparel</td><td>Sales Associate</td><td>b835f9e7348786c13b9930e4f0a919905909ac6d8a4c5341d1131e7f0830f2a8</td></tr><tr><td>James Austin</td><td>Home</td><td>Manager</td><td>755aa136a266d35e2256de8ac6c7bdefcf4250ba3df6c3d855c840a80f7c5003</td></tr><tr><td>Emily Vazquez</td><td>Apparel</td><td>Manager</td><td>aa0c6ac3926bac87bb0fd31bd224316a0dc1b35d23854551724f009dd4112688</td></tr><tr><td>Kyle Lin</td><td>Electronics</td><td>Manager</td><td>8c50f7daf0f1874fd7161d15722ff921db0b280d233e9c5b71438dbd7a0b6160</td></tr><tr><td>Martha Long</td><td>Electronics</td><td>Cashier</td><td>7e6b7470e0c5045a1797405ca77f04a0ba3c1e2e2e88bf125d9a33d10b597eac</td></tr><tr><td>Charles Fields</td><td>Home</td><td>Sales Associate</td><td>27d0986b4172fcb4be66444087e6bced12fe736c8e1a53d6f5144aea5778742c</td></tr><tr><td>James Austin</td><td>Electronics</td><td>Cashier</td><td>c82a79bc8cfdc02531867ce5855ecbaa24d8c3796c6f1401f5e519bace6667b0</td></tr><tr><td>Billy Perez</td><td>Apparel</td><td>Sales Associate</td><td>d88343e0454464b75c638796b080b7c368ac3e9b1bdb7c02093294ee1adf62ea</td></tr><tr><td>N/A</td><td>N/A</td><td>N/A</td><td>363dcb41fa46f65932a8db70799eff0e4d450285e1b3d81f3d9d2cca4ffe70a3</td></tr></tbody></table></div>"
      ]
     },
     "metadata": {
      "application/vnd.databricks.v1+output": {
       "addedWidgets": {},
       "aggData": [],
       "aggError": "",
       "aggOverflow": false,
       "aggSchema": [],
       "aggSeriesLimitReached": false,
       "aggType": "",
       "arguments": {},
       "columnCustomDisplayInfos": {},
       "data": [
        [
         "Kyle Lin",
         "Electronics",
         "Sales Associate",
         "b90eb8c52995b65d912ee69813964cf8b27d10fea22e5176a0efde3a2c331ad0"
        ],
        [
         "Charles Fields",
         "Apparel",
         "Manager",
         "11e3df9450f3951d15425406cfd773e170e7e53297b071b8dfcfa87a688599c3"
        ],
        [
         "Wendy Castillo",
         "Home",
         "Manager",
         "c4a16c19bcbaa9d8754690e3a800e18c1e1ee9c48dde85e5b64bcf7f30578cab"
        ],
        [
         "Wendy Castillo",
         "Electronics",
         "Manager",
         "5b35a50e37f2fb896eef5da16148195eff3e208575ad22d8a6edfbff8511201c"
        ],
        [
         "Charles Fields",
         "Home",
         "Cashier",
         "8b9d3284385f39a45911d6eb2bb4611a58d6ec152bee163ad1e886bd1083cd46"
        ],
        [
         "Kyle Lin",
         "Home",
         "Cashier",
         "e3729a173a8c99d2fbdf176c56d695c1576bcc8e1a39a695a626c2fb1badb7a2"
        ],
        [
         "John Harris",
         "Electronics",
         "Manager",
         "87ac6d5a4977bf75fdd34375ba02238b096ce6503cb4b6c9cd785114665a4d03"
        ],
        [
         "John Harris",
         "Apparel",
         "Manager",
         "880162d4763b81e4ac57db4b957d788ae22f0ff2f3673c6d7c15f3a56a63ea54"
        ],
        [
         "Billy Perez",
         "Electronics",
         "Cashier",
         "0b98f44b61cd1b506c8069d037184c4fde9d6b5b111aaa06ecb519d90d626be7"
        ],
        [
         "John Harris",
         "Home",
         "Cashier",
         "fdedff2cb72a6a9be5669b3ceb5a76b5954802411dda3d1e83ddb183d5a86548"
        ],
        [
         "Emily Vazquez",
         "Electronics",
         "Sales Associate",
         "790030832f4cf230a1582bbd8ae3645a73f6a8b1cfea54fb20961be4c49f39cd"
        ],
        [
         "Martha Long",
         "Home",
         "Sales Associate",
         "0f0a2f01281855e40cd8674f9192e6736b34aa8fc5f0478d71361f8a8412ba56"
        ],
        [
         "Emily Vazquez",
         "Home",
         "Manager",
         "897bf5eaa94f46613651029b33161e9f20a3b60c3f084b913e3c1fb19b720bf3"
        ],
        [
         "Charles Fields",
         "Apparel",
         "Cashier",
         "c93c0a4829fd929a76a46896a25c78a5e14ba88c21b0e526dbc45c4e5378ea90"
        ],
        [
         "Emily Vazquez",
         "Apparel",
         "Cashier",
         "fcabe27a77b7b0062b0c99723dbfa1e531629cccb118cb71f9c41d22a9aba099"
        ],
        [
         "Martha Long",
         "Home",
         "Cashier",
         "20d4f2a553ffe62b74d0fe96b1d0ab439d1aa91793df5952dff41d967bf4dbe0"
        ],
        [
         "Kara Lewis",
         "Electronics",
         "Manager",
         "974149aaad371da29abd2bd4c468eae5d3c2338b9123407191cce017a2080c9a"
        ],
        [
         "Kelly Moore",
         "Apparel",
         "Sales Associate",
         "b835f9e7348786c13b9930e4f0a919905909ac6d8a4c5341d1131e7f0830f2a8"
        ],
        [
         "James Austin",
         "Home",
         "Manager",
         "755aa136a266d35e2256de8ac6c7bdefcf4250ba3df6c3d855c840a80f7c5003"
        ],
        [
         "Emily Vazquez",
         "Apparel",
         "Manager",
         "aa0c6ac3926bac87bb0fd31bd224316a0dc1b35d23854551724f009dd4112688"
        ],
        [
         "Kyle Lin",
         "Electronics",
         "Manager",
         "8c50f7daf0f1874fd7161d15722ff921db0b280d233e9c5b71438dbd7a0b6160"
        ],
        [
         "Martha Long",
         "Electronics",
         "Cashier",
         "7e6b7470e0c5045a1797405ca77f04a0ba3c1e2e2e88bf125d9a33d10b597eac"
        ],
        [
         "Charles Fields",
         "Home",
         "Sales Associate",
         "27d0986b4172fcb4be66444087e6bced12fe736c8e1a53d6f5144aea5778742c"
        ],
        [
         "James Austin",
         "Electronics",
         "Cashier",
         "c82a79bc8cfdc02531867ce5855ecbaa24d8c3796c6f1401f5e519bace6667b0"
        ],
        [
         "Billy Perez",
         "Apparel",
         "Sales Associate",
         "d88343e0454464b75c638796b080b7c368ac3e9b1bdb7c02093294ee1adf62ea"
        ],
        [
         "N/A",
         "N/A",
         "N/A",
         "363dcb41fa46f65932a8db70799eff0e4d450285e1b3d81f3d9d2cca4ffe70a3"
        ]
       ],
       "datasetInfos": [],
       "dbfsResultPath": null,
       "isJsonSchema": true,
       "metadata": {},
       "overflow": false,
       "plotOptions": {
        "customPlotOptions": {},
        "displayType": "table",
        "pivotAggregation": null,
        "pivotColumns": null,
        "xColumns": null,
        "yColumns": null
       },
       "removedWidgets": [],
       "schema": [
        {
         "metadata": "{}",
         "name": "SalesRep",
         "type": "\"string\""
        },
        {
         "metadata": "{}",
         "name": "Department",
         "type": "\"string\""
        },
        {
         "metadata": "{}",
         "name": "EmployeeRole",
         "type": "\"string\""
        },
        {
         "metadata": "{}",
         "name": "DIM_EmployeeId",
         "type": "\"string\""
        }
       ],
       "type": "table"
      }
     },
     "output_type": "display_data"
    }
   ],
   "source": [
    "display(df3)"
   ]
  },
  {
   "cell_type": "code",
   "execution_count": 0,
   "metadata": {
    "application/vnd.databricks.v1+cell": {
     "cellMetadata": {
      "byteLimit": 2048000,
      "rowLimit": 10000
     },
     "inputWidgets": {},
     "nuid": "ee6cdfa1-f310-414e-8b84-a5f0990364ed",
     "showTitle": false,
     "tableResultSettingsMap": {},
     "title": ""
    }
   },
   "outputs": [],
   "source": [
    "#Start with base fact table\n",
    "df_fact = df\n",
    "\n",
    "#1. Join with Product Dimension to get DIM_ProductId\n",
    "df_fact = df_fact.join(\n",
    "    df1.select(\"ProductCategory\", \"ProductName\", \"Brand\", \"DIM_ProductId\"),\n",
    "    on=[\"ProductCategory\", \"ProductName\", \"Brand\"],\n",
    "    how=\"left\"\n",
    ")\n",
    "\n",
    "#2. Join with Store Dimension to get DIM_StoreId\n",
    "df_fact = df_fact.join(\n",
    "    df2.select(\"StoreRegion\", \"StoreName\", \"StoreType\", \"DIM_StoreId\"),\n",
    "    on=[\"StoreRegion\", \"StoreName\", \"StoreType\"],\n",
    "    how=\"left\"\n",
    ")\n",
    "\n",
    "#3. Join with Employee Dimension to get DIM_EmployeeId\n",
    "df_fact = df_fact.join(\n",
    "    df3.select(\"SalesRep\", \"Department\", \"EmployeeRole\", \"DIM_EmployeeId\"),\n",
    "    on=[\"SalesRep\", \"Department\", \"EmployeeRole\"],\n",
    "    how=\"left\"\n",
    ")"
   ]
  },
  {
   "cell_type": "code",
   "execution_count": 0,
   "metadata": {
    "application/vnd.databricks.v1+cell": {
     "cellMetadata": {
      "byteLimit": 2048000,
      "rowLimit": 10000
     },
     "inputWidgets": {},
     "nuid": "45d3e844-be18-48f5-8bc5-b0ea45df8c89",
     "showTitle": false,
     "tableResultSettingsMap": {},
     "title": ""
    }
   },
   "outputs": [
    {
     "output_type": "display_data",
     "data": {
      "text/html": [
       "<style scoped>\n",
       "  .table-result-container {\n",
       "    max-height: 300px;\n",
       "    overflow: auto;\n",
       "  }\n",
       "  table, th, td {\n",
       "    border: 1px solid black;\n",
       "    border-collapse: collapse;\n",
       "  }\n",
       "  th, td {\n",
       "    padding: 5px;\n",
       "  }\n",
       "  th {\n",
       "    text-align: left;\n",
       "  }\n",
       "</style><div class='table-result-container'><table class='table-result'><thead style='background-color: white'><tr><th>SalesRep</th><th>Department</th><th>EmployeeRole</th><th>StoreRegion</th><th>StoreName</th><th>StoreType</th><th>ProductCategory</th><th>ProductName</th><th>Brand</th><th>UnitsSold</th><th>UnitPrice</th><th>Discount</th><th>SaleDate</th><th>DIM_ProductId</th><th>DIM_StoreId</th><th>DIM_EmployeeId</th></tr></thead><tbody><tr><td>Martha Long</td><td>Electronics</td><td>Cashier</td><td>East</td><td>StoreX</td><td>Franchise</td><td>Furniture</td><td>T-shirt</td><td>BrandB</td><td>12.0</td><td>279.35</td><td>5.0</td><td>2022-12-14</td><td>0ee892f6bcd5fe280d3d4ccfd72a138675d0514a58e1335c6a48b02823bb8156</td><td>3c7aa2361bb113e0892437ecba18d0fca00119aefb95552a6b18bb7eee14759a</td><td>7e6b7470e0c5045a1797405ca77f04a0ba3c1e2e2e88bf125d9a33d10b597eac</td></tr><tr><td>Martha Long</td><td>Home</td><td>Sales Associate</td><td>East</td><td>StoreZ</td><td>Franchise</td><td>Clothing</td><td>Tablet</td><td>BrandC</td><td>33.67</td><td>272.49</td><td>0.0</td><td>2023-02-24</td><td>c37d4ae373d30210c6e3b8760d2e14d3f1ce92979c432aa3ccef3493b5ef97b8</td><td>20f1ebafb8d3513848d887c5554eb0ce0ea2cc393afc88041813c6f9714ee7df</td><td>0f0a2f01281855e40cd8674f9192e6736b34aa8fc5f0478d71361f8a8412ba56</td></tr><tr><td>Emily Vazquez</td><td>Apparel</td><td>Cashier</td><td>South</td><td>StoreX</td><td>Retail</td><td>Clothing</td><td>Tablet</td><td>BrandA</td><td>33.67</td><td>484.75</td><td>15.0</td><td>2025-03-24</td><td>a8406b374712399cebdf16a3e8a8c56cf72bf72db75cb2ad0dc3a1ff71e61285</td><td>d99aca1849c5560475ec973a6220e019f1b32f02cf85be1fdad144ec31466970</td><td>fcabe27a77b7b0062b0c99723dbfa1e531629cccb118cb71f9c41d22a9aba099</td></tr><tr><td>Charles Fields</td><td>Apparel</td><td>Cashier</td><td>West</td><td>StoreY</td><td>Outlet</td><td>Electronics</td><td>Smartphone</td><td>BrandB</td><td>26.0</td><td>205.74</td><td>10.0</td><td>2023-09-30</td><td>6a421110b266104bf1cf67be336c9ca4cfff1f897b231e0631948bb3f034677e</td><td>84b0247bf1c9e21f1a7befa453f14c708b5be10d1f352da6b89183f8d691ecc2</td><td>c93c0a4829fd929a76a46896a25c78a5e14ba88c21b0e526dbc45c4e5378ea90</td></tr><tr><td>Wendy Castillo</td><td>Home</td><td>Manager</td><td>East</td><td>StoreZ</td><td>Outlet</td><td>Furniture</td><td>T-shirt</td><td>BrandC</td><td>46.0</td><td>20.25</td><td>5.0</td><td>2022-10-14</td><td>8ff5e4961ecd6be9af8b4301fd055a9fb74cc9d9345e154247fdb1ba69cc53aa</td><td>4bdb0c80a77b7ad25194de65cb257a855aef4714db3c3562712c670228caa9da</td><td>c4a16c19bcbaa9d8754690e3a800e18c1e1ee9c48dde85e5b64bcf7f30578cab</td></tr><tr><td>Wendy Castillo</td><td>Home</td><td>Manager</td><td>South</td><td>StoreY</td><td>Retail</td><td>Furniture</td><td>T-shirt</td><td>BrandC</td><td>22.5</td><td>361.06</td><td>10.0</td><td>2024-02-23</td><td>8ff5e4961ecd6be9af8b4301fd055a9fb74cc9d9345e154247fdb1ba69cc53aa</td><td>24007c12903a7fd1b36a5faa4c4069a2be77b043fb7b335f4a558f650aa68072</td><td>c4a16c19bcbaa9d8754690e3a800e18c1e1ee9c48dde85e5b64bcf7f30578cab</td></tr><tr><td>John Harris</td><td>Home</td><td>Cashier</td><td>South</td><td>StoreY</td><td>Outlet</td><td>Clothing</td><td>T-shirt</td><td>BrandC</td><td>37.0</td><td>492.65</td><td>5.0</td><td>2024-05-06</td><td>86ebe6b6839b1f0b802dc9acb8b3ac28ed84edd9496e774602b4bb858ac1ee21</td><td>411dea8e689cd912cd11682ee1f8b3ddbe7a4b413e89be652757c39f04f2ec60</td><td>fdedff2cb72a6a9be5669b3ceb5a76b5954802411dda3d1e83ddb183d5a86548</td></tr><tr><td>Charles Fields</td><td>Home</td><td>Sales Associate</td><td>South</td><td>StoreX</td><td>Outlet</td><td>Electronics</td><td>Smartphone</td><td>BrandC</td><td>37.0</td><td>293.87</td><td>15.0</td><td>2023-04-04</td><td>fc08e15f7ca6c6df9df7da9e4815aaf89a29e1e19459ee7d969019e8cbb37123</td><td>76868e571d2e34422cf3c39e724b18da8fe589d29e3bd589ee5390c548aaabd5</td><td>27d0986b4172fcb4be66444087e6bced12fe736c8e1a53d6f5144aea5778742c</td></tr><tr><td>Wendy Castillo</td><td>Electronics</td><td>Manager</td><td>South</td><td>StoreY</td><td>Retail</td><td>Clothing</td><td>Jeans</td><td>BrandA</td><td>23.0</td><td>189.47</td><td>15.0</td><td>2022-12-26</td><td>807d270019a32fa7c40a2b8931312f136363e6bf9793576c7ab67fd901472887</td><td>24007c12903a7fd1b36a5faa4c4069a2be77b043fb7b335f4a558f650aa68072</td><td>5b35a50e37f2fb896eef5da16148195eff3e208575ad22d8a6edfbff8511201c</td></tr><tr><td>Charles Fields</td><td>Apparel</td><td>Manager</td><td>East</td><td>StoreZ</td><td>Franchise</td><td>Furniture</td><td>T-shirt</td><td>BrandB</td><td>25.0</td><td>359.08</td><td>10.0</td><td>2022-10-28</td><td>0ee892f6bcd5fe280d3d4ccfd72a138675d0514a58e1335c6a48b02823bb8156</td><td>20f1ebafb8d3513848d887c5554eb0ce0ea2cc393afc88041813c6f9714ee7df</td><td>11e3df9450f3951d15425406cfd773e170e7e53297b071b8dfcfa87a688599c3</td></tr><tr><td>Wendy Castillo</td><td>Home</td><td>Manager</td><td>South</td><td>StoreZ</td><td>Retail</td><td>Clothing</td><td>Desk</td><td>BrandC</td><td>33.67</td><td>438.28</td><td>0.0</td><td>2025-05-12</td><td>98a0a870ebb0f5e6b5b5cdf00b618fafcb2a3d33b41e56d92c57818ac224b5e7</td><td>1120c453edb7620e31fdc4578bc15c8cb5aa664c7d30218eefcaec0b67e511ce</td><td>c4a16c19bcbaa9d8754690e3a800e18c1e1ee9c48dde85e5b64bcf7f30578cab</td></tr><tr><td>Kelly Moore</td><td>Apparel</td><td>Sales Associate</td><td>North</td><td>StoreZ</td><td>Retail</td><td>Clothing</td><td>Desk</td><td>BrandB</td><td>33.67</td><td>283.25</td><td>0.0</td><td>2024-11-14</td><td>238ae8d501ef46b11057593024310b28ca7a6704f4e6d676e5ae83fb2d7be6bb</td><td>30d46cf1deb74c2d33b4ea7e7f6798ae0623d5195c080721dbf022942ba48b72</td><td>b835f9e7348786c13b9930e4f0a919905909ac6d8a4c5341d1131e7f0830f2a8</td></tr><tr><td>Kara Lewis</td><td>Electronics</td><td>Manager</td><td>North</td><td>StoreX</td><td>Outlet</td><td>Electronics</td><td>Tablet</td><td>BrandB</td><td>26.0</td><td>490.01</td><td>10.0</td><td>2025-05-20</td><td>36fc80bfe93a526d8a175456e8243770785451a22d4ce473e3bbf391080eeba1</td><td>cd1aac1b6cedfa5d51c325a3c19d2132ce133ac285ce754fdf436527f68ab882</td><td>974149aaad371da29abd2bd4c468eae5d3c2338b9123407191cce017a2080c9a</td></tr><tr><td>Emily Vazquez</td><td>Apparel</td><td>Manager</td><td>East</td><td>StoreX</td><td>Retail</td><td>Furniture</td><td>Tablet</td><td>BrandC</td><td>15.0</td><td>139.58</td><td>5.0</td><td>2023-11-09</td><td>b24a9f4fedbb73a4cc882922b4a8823167815ae6edd96114e17f465303462ca3</td><td>eaaa9336e570e385b77b0050a85962732193ca23004af89ae72f2889abd91bd3</td><td>aa0c6ac3926bac87bb0fd31bd224316a0dc1b35d23854551724f009dd4112688</td></tr><tr><td>James Austin</td><td>Electronics</td><td>Cashier</td><td>West</td><td>StoreY</td><td>Franchise</td><td>Electronics</td><td>Chair</td><td>BrandA</td><td>26.0</td><td>67.66</td><td>15.0</td><td>2025-03-27</td><td>dcd1602d12efc29c8c4598b7843ec57a534683119f15c2042695e5fe71031ffd</td><td>3cc867d96e3527c321b9556c784adf270e1e17cd22966fad45385f46ea9f6b99</td><td>c82a79bc8cfdc02531867ce5855ecbaa24d8c3796c6f1401f5e519bace6667b0</td></tr><tr><td>Emily Vazquez</td><td>Home</td><td>Manager</td><td>East</td><td>StoreX</td><td>Franchise</td><td>Electronics</td><td>Desk</td><td>BrandA</td><td>19.0</td><td>330.2</td><td>10.0</td><td>2022-12-16</td><td>27280aade539db2d7433159d56c762fc2f0d86f6c030d9edc55eaaf355997161</td><td>3c7aa2361bb113e0892437ecba18d0fca00119aefb95552a6b18bb7eee14759a</td><td>897bf5eaa94f46613651029b33161e9f20a3b60c3f084b913e3c1fb19b720bf3</td></tr><tr><td>Martha Long</td><td>Home</td><td>Cashier</td><td>West</td><td>StoreY</td><td>Franchise</td><td>Furniture</td><td>T-shirt</td><td>BrandC</td><td>7.0</td><td>290.63</td><td>15.0</td><td>2022-07-28</td><td>8ff5e4961ecd6be9af8b4301fd055a9fb74cc9d9345e154247fdb1ba69cc53aa</td><td>3cc867d96e3527c321b9556c784adf270e1e17cd22966fad45385f46ea9f6b99</td><td>20d4f2a553ffe62b74d0fe96b1d0ab439d1aa91793df5952dff41d967bf4dbe0</td></tr><tr><td>Charles Fields</td><td>Home</td><td>Cashier</td><td>North</td><td>StoreY</td><td>Outlet</td><td>Electronics</td><td>Desk</td><td>BrandC</td><td>7.0</td><td>349.27</td><td>10.0</td><td>2022-07-04</td><td>d77d44bf969beb3dbe1c220e980137a5a50d692fcb5488788dcab5776eea5935</td><td>94ba623007bdf38a8d9dd25b359ba7a49b0a434a8c49e2aaff76cc12c50a8a77</td><td>8b9d3284385f39a45911d6eb2bb4611a58d6ec152bee163ad1e886bd1083cd46</td></tr><tr><td>Wendy Castillo</td><td>Home</td><td>Manager</td><td>East</td><td>StoreZ</td><td>Franchise</td><td>Furniture</td><td>Jeans</td><td>BrandC</td><td>22.5</td><td>267.61</td><td>0.0</td><td>2022-11-27</td><td>4e83a8d47b66443b97bb7351dc7523efa2e559dc3007eaa8c4eab1eb916eb8a6</td><td>20f1ebafb8d3513848d887c5554eb0ce0ea2cc393afc88041813c6f9714ee7df</td><td>c4a16c19bcbaa9d8754690e3a800e18c1e1ee9c48dde85e5b64bcf7f30578cab</td></tr><tr><td>James Austin</td><td>Home</td><td>Manager</td><td>East</td><td>StoreZ</td><td>Outlet</td><td>Electronics</td><td>Jeans</td><td>BrandB</td><td>41.0</td><td>52.57</td><td>10.0</td><td>2025-03-16</td><td>5982b0d5b073ed72c5439a49284e10435da5e94149484c89d95c921e494b63b0</td><td>4bdb0c80a77b7ad25194de65cb257a855aef4714db3c3562712c670228caa9da</td><td>755aa136a266d35e2256de8ac6c7bdefcf4250ba3df6c3d855c840a80f7c5003</td></tr><tr><td>Kyle Lin</td><td>Electronics</td><td>Manager</td><td>East</td><td>StoreZ</td><td>Franchise</td><td>Clothing</td><td>T-shirt</td><td>BrandB</td><td>33.67</td><td>85.99</td><td>0.0</td><td>2024-03-05</td><td>9ae454dffe58b2f08d2b131a1c67ed011b6a9dcef7629f2d96ecf9689831e573</td><td>20f1ebafb8d3513848d887c5554eb0ce0ea2cc393afc88041813c6f9714ee7df</td><td>8c50f7daf0f1874fd7161d15722ff921db0b280d233e9c5b71438dbd7a0b6160</td></tr><tr><td>Kelly Moore</td><td>Apparel</td><td>Sales Associate</td><td>South</td><td>StoreX</td><td>Retail</td><td>Electronics</td><td>T-shirt</td><td>BrandA</td><td>26.0</td><td>293.87</td><td>5.0</td><td>2025-04-06</td><td>cd2f205a3b37acc265cf4867714abf35098ab215ba53c4864cd498abeda41f19</td><td>d99aca1849c5560475ec973a6220e019f1b32f02cf85be1fdad144ec31466970</td><td>b835f9e7348786c13b9930e4f0a919905909ac6d8a4c5341d1131e7f0830f2a8</td></tr><tr><td>Billy Perez</td><td>Apparel</td><td>Sales Associate</td><td>South</td><td>StoreZ</td><td>Retail</td><td>Furniture</td><td>Desk</td><td>BrandA</td><td>22.0</td><td>444.29</td><td>5.0</td><td>2024-03-05</td><td>b5c80882f8e29da43355e05bb4fef15d73e22fc3e8a99209a389132cb1eaa6f2</td><td>1120c453edb7620e31fdc4578bc15c8cb5aa664c7d30218eefcaec0b67e511ce</td><td>d88343e0454464b75c638796b080b7c368ac3e9b1bdb7c02093294ee1adf62ea</td></tr><tr><td>John Harris</td><td>Apparel</td><td>Manager</td><td>North</td><td>StoreX</td><td>Franchise</td><td>Clothing</td><td>Desk</td><td>BrandB</td><td>41.0</td><td>283.25</td><td>0.0</td><td>2023-02-06</td><td>238ae8d501ef46b11057593024310b28ca7a6704f4e6d676e5ae83fb2d7be6bb</td><td>7099b4f2df85bf9ad664e463e2249d680dea06f443cc29fa642b9c534af97176</td><td>880162d4763b81e4ac57db4b957d788ae22f0ff2f3673c6d7c15f3a56a63ea54</td></tr><tr><td>Charles Fields</td><td>Home</td><td>Cashier</td><td>North</td><td>StoreZ</td><td>Franchise</td><td>Furniture</td><td>Desk</td><td>BrandA</td><td>16.0</td><td>238.49</td><td>0.0</td><td>2024-08-27</td><td>b5c80882f8e29da43355e05bb4fef15d73e22fc3e8a99209a389132cb1eaa6f2</td><td>4c6dd1ba6ec7b756e0b6aa652820371fda0dba62811e1a54b7e45a93fe237c50</td><td>8b9d3284385f39a45911d6eb2bb4611a58d6ec152bee163ad1e886bd1083cd46</td></tr><tr><td>Kyle Lin</td><td>Electronics</td><td>Sales Associate</td><td>North</td><td>StoreY</td><td>Retail</td><td>Clothing</td><td>Jeans</td><td>BrandC</td><td>33.67</td><td>414.77</td><td>0.0</td><td>2023-01-18</td><td>a50a4d5a998a5462879a924b0479b4172af8a18f7c0bf80be21a80403f297651</td><td>32ffe22289148a4b36d1d7ce2f1069e9f1640be9bc6c2d9c21142be14fd9f06a</td><td>b90eb8c52995b65d912ee69813964cf8b27d10fea22e5176a0efde3a2c331ad0</td></tr><tr><td>Kyle Lin</td><td>Home</td><td>Cashier</td><td>West</td><td>StoreX</td><td>Retail</td><td>Furniture</td><td>Smartphone</td><td>BrandC</td><td>22.5</td><td>21.38</td><td>5.0</td><td>2022-10-11</td><td>c2d01848f52f9fc1a7a28d06ec3d1a8de97a80a450b8788db43999fe58fb954c</td><td>4d4ed5d27e052c65873ccf14e3fa6f04f7943793bef24189c4c991339564e646</td><td>e3729a173a8c99d2fbdf176c56d695c1576bcc8e1a39a695a626c2fb1badb7a2</td></tr><tr><td>John Harris</td><td>Electronics</td><td>Manager</td><td>West</td><td>StoreX</td><td>Outlet</td><td>Furniture</td><td>Desk</td><td>BrandB</td><td>22.5</td><td>279.35</td><td>5.0</td><td>2023-10-11</td><td>3534d46d31abd5365ea939799b6dbaeabf66cee5d270b2c1016af31d4a076ba2</td><td>52c169196a9953e61a83757f71b0f57da580026c1a2083b89b43e0451523fef3</td><td>87ac6d5a4977bf75fdd34375ba02238b096ce6503cb4b6c9cd785114665a4d03</td></tr><tr><td>Billy Perez</td><td>Electronics</td><td>Cashier</td><td>South</td><td>StoreY</td><td>Retail</td><td>Furniture</td><td>Tablet</td><td>BrandA</td><td>37.0</td><td>415.6</td><td>15.0</td><td>2022-08-23</td><td>1839298fc3616a7fb8581b8eb5373248e28632ab00dfdec326053bc309f58bca</td><td>24007c12903a7fd1b36a5faa4c4069a2be77b043fb7b335f4a558f650aa68072</td><td>0b98f44b61cd1b506c8069d037184c4fde9d6b5b111aaa06ecb519d90d626be7</td></tr><tr><td>Emily Vazquez</td><td>Electronics</td><td>Sales Associate</td><td>South</td><td>StoreZ</td><td>Franchise</td><td>Furniture</td><td>Desk</td><td>BrandA</td><td>22.5</td><td>359.04</td><td>0.0</td><td>2024-01-20</td><td>b5c80882f8e29da43355e05bb4fef15d73e22fc3e8a99209a389132cb1eaa6f2</td><td>b697ea824f0541eb515498c5eb6f2ce43947880d645dbe09ee14075c732aef48</td><td>790030832f4cf230a1582bbd8ae3645a73f6a8b1cfea54fb20961be4c49f39cd</td></tr></tbody></table></div>"
      ]
     },
     "metadata": {
      "application/vnd.databricks.v1+output": {
       "addedWidgets": {},
       "aggData": [],
       "aggError": "",
       "aggOverflow": false,
       "aggSchema": [],
       "aggSeriesLimitReached": false,
       "aggType": "",
       "arguments": {},
       "columnCustomDisplayInfos": {},
       "data": [
        [
         "Martha Long",
         "Electronics",
         "Cashier",
         "East",
         "StoreX",
         "Franchise",
         "Furniture",
         "T-shirt",
         "BrandB",
         12.0,
         279.35,
         5.0,
         "2022-12-14",
         "0ee892f6bcd5fe280d3d4ccfd72a138675d0514a58e1335c6a48b02823bb8156",
         "3c7aa2361bb113e0892437ecba18d0fca00119aefb95552a6b18bb7eee14759a",
         "7e6b7470e0c5045a1797405ca77f04a0ba3c1e2e2e88bf125d9a33d10b597eac"
        ],
        [
         "Martha Long",
         "Home",
         "Sales Associate",
         "East",
         "StoreZ",
         "Franchise",
         "Clothing",
         "Tablet",
         "BrandC",
         33.67,
         272.49,
         0.0,
         "2023-02-24",
         "c37d4ae373d30210c6e3b8760d2e14d3f1ce92979c432aa3ccef3493b5ef97b8",
         "20f1ebafb8d3513848d887c5554eb0ce0ea2cc393afc88041813c6f9714ee7df",
         "0f0a2f01281855e40cd8674f9192e6736b34aa8fc5f0478d71361f8a8412ba56"
        ],
        [
         "Emily Vazquez",
         "Apparel",
         "Cashier",
         "South",
         "StoreX",
         "Retail",
         "Clothing",
         "Tablet",
         "BrandA",
         33.67,
         484.75,
         15.0,
         "2025-03-24",
         "a8406b374712399cebdf16a3e8a8c56cf72bf72db75cb2ad0dc3a1ff71e61285",
         "d99aca1849c5560475ec973a6220e019f1b32f02cf85be1fdad144ec31466970",
         "fcabe27a77b7b0062b0c99723dbfa1e531629cccb118cb71f9c41d22a9aba099"
        ],
        [
         "Charles Fields",
         "Apparel",
         "Cashier",
         "West",
         "StoreY",
         "Outlet",
         "Electronics",
         "Smartphone",
         "BrandB",
         26.0,
         205.74,
         10.0,
         "2023-09-30",
         "6a421110b266104bf1cf67be336c9ca4cfff1f897b231e0631948bb3f034677e",
         "84b0247bf1c9e21f1a7befa453f14c708b5be10d1f352da6b89183f8d691ecc2",
         "c93c0a4829fd929a76a46896a25c78a5e14ba88c21b0e526dbc45c4e5378ea90"
        ],
        [
         "Wendy Castillo",
         "Home",
         "Manager",
         "East",
         "StoreZ",
         "Outlet",
         "Furniture",
         "T-shirt",
         "BrandC",
         46.0,
         20.25,
         5.0,
         "2022-10-14",
         "8ff5e4961ecd6be9af8b4301fd055a9fb74cc9d9345e154247fdb1ba69cc53aa",
         "4bdb0c80a77b7ad25194de65cb257a855aef4714db3c3562712c670228caa9da",
         "c4a16c19bcbaa9d8754690e3a800e18c1e1ee9c48dde85e5b64bcf7f30578cab"
        ],
        [
         "Wendy Castillo",
         "Home",
         "Manager",
         "South",
         "StoreY",
         "Retail",
         "Furniture",
         "T-shirt",
         "BrandC",
         22.5,
         361.06,
         10.0,
         "2024-02-23",
         "8ff5e4961ecd6be9af8b4301fd055a9fb74cc9d9345e154247fdb1ba69cc53aa",
         "24007c12903a7fd1b36a5faa4c4069a2be77b043fb7b335f4a558f650aa68072",
         "c4a16c19bcbaa9d8754690e3a800e18c1e1ee9c48dde85e5b64bcf7f30578cab"
        ],
        [
         "John Harris",
         "Home",
         "Cashier",
         "South",
         "StoreY",
         "Outlet",
         "Clothing",
         "T-shirt",
         "BrandC",
         37.0,
         492.65,
         5.0,
         "2024-05-06",
         "86ebe6b6839b1f0b802dc9acb8b3ac28ed84edd9496e774602b4bb858ac1ee21",
         "411dea8e689cd912cd11682ee1f8b3ddbe7a4b413e89be652757c39f04f2ec60",
         "fdedff2cb72a6a9be5669b3ceb5a76b5954802411dda3d1e83ddb183d5a86548"
        ],
        [
         "Charles Fields",
         "Home",
         "Sales Associate",
         "South",
         "StoreX",
         "Outlet",
         "Electronics",
         "Smartphone",
         "BrandC",
         37.0,
         293.87,
         15.0,
         "2023-04-04",
         "fc08e15f7ca6c6df9df7da9e4815aaf89a29e1e19459ee7d969019e8cbb37123",
         "76868e571d2e34422cf3c39e724b18da8fe589d29e3bd589ee5390c548aaabd5",
         "27d0986b4172fcb4be66444087e6bced12fe736c8e1a53d6f5144aea5778742c"
        ],
        [
         "Wendy Castillo",
         "Electronics",
         "Manager",
         "South",
         "StoreY",
         "Retail",
         "Clothing",
         "Jeans",
         "BrandA",
         23.0,
         189.47,
         15.0,
         "2022-12-26",
         "807d270019a32fa7c40a2b8931312f136363e6bf9793576c7ab67fd901472887",
         "24007c12903a7fd1b36a5faa4c4069a2be77b043fb7b335f4a558f650aa68072",
         "5b35a50e37f2fb896eef5da16148195eff3e208575ad22d8a6edfbff8511201c"
        ],
        [
         "Charles Fields",
         "Apparel",
         "Manager",
         "East",
         "StoreZ",
         "Franchise",
         "Furniture",
         "T-shirt",
         "BrandB",
         25.0,
         359.08,
         10.0,
         "2022-10-28",
         "0ee892f6bcd5fe280d3d4ccfd72a138675d0514a58e1335c6a48b02823bb8156",
         "20f1ebafb8d3513848d887c5554eb0ce0ea2cc393afc88041813c6f9714ee7df",
         "11e3df9450f3951d15425406cfd773e170e7e53297b071b8dfcfa87a688599c3"
        ],
        [
         "Wendy Castillo",
         "Home",
         "Manager",
         "South",
         "StoreZ",
         "Retail",
         "Clothing",
         "Desk",
         "BrandC",
         33.67,
         438.28,
         0.0,
         "2025-05-12",
         "98a0a870ebb0f5e6b5b5cdf00b618fafcb2a3d33b41e56d92c57818ac224b5e7",
         "1120c453edb7620e31fdc4578bc15c8cb5aa664c7d30218eefcaec0b67e511ce",
         "c4a16c19bcbaa9d8754690e3a800e18c1e1ee9c48dde85e5b64bcf7f30578cab"
        ],
        [
         "Kelly Moore",
         "Apparel",
         "Sales Associate",
         "North",
         "StoreZ",
         "Retail",
         "Clothing",
         "Desk",
         "BrandB",
         33.67,
         283.25,
         0.0,
         "2024-11-14",
         "238ae8d501ef46b11057593024310b28ca7a6704f4e6d676e5ae83fb2d7be6bb",
         "30d46cf1deb74c2d33b4ea7e7f6798ae0623d5195c080721dbf022942ba48b72",
         "b835f9e7348786c13b9930e4f0a919905909ac6d8a4c5341d1131e7f0830f2a8"
        ],
        [
         "Kara Lewis",
         "Electronics",
         "Manager",
         "North",
         "StoreX",
         "Outlet",
         "Electronics",
         "Tablet",
         "BrandB",
         26.0,
         490.01,
         10.0,
         "2025-05-20",
         "36fc80bfe93a526d8a175456e8243770785451a22d4ce473e3bbf391080eeba1",
         "cd1aac1b6cedfa5d51c325a3c19d2132ce133ac285ce754fdf436527f68ab882",
         "974149aaad371da29abd2bd4c468eae5d3c2338b9123407191cce017a2080c9a"
        ],
        [
         "Emily Vazquez",
         "Apparel",
         "Manager",
         "East",
         "StoreX",
         "Retail",
         "Furniture",
         "Tablet",
         "BrandC",
         15.0,
         139.58,
         5.0,
         "2023-11-09",
         "b24a9f4fedbb73a4cc882922b4a8823167815ae6edd96114e17f465303462ca3",
         "eaaa9336e570e385b77b0050a85962732193ca23004af89ae72f2889abd91bd3",
         "aa0c6ac3926bac87bb0fd31bd224316a0dc1b35d23854551724f009dd4112688"
        ],
        [
         "James Austin",
         "Electronics",
         "Cashier",
         "West",
         "StoreY",
         "Franchise",
         "Electronics",
         "Chair",
         "BrandA",
         26.0,
         67.66,
         15.0,
         "2025-03-27",
         "dcd1602d12efc29c8c4598b7843ec57a534683119f15c2042695e5fe71031ffd",
         "3cc867d96e3527c321b9556c784adf270e1e17cd22966fad45385f46ea9f6b99",
         "c82a79bc8cfdc02531867ce5855ecbaa24d8c3796c6f1401f5e519bace6667b0"
        ],
        [
         "Emily Vazquez",
         "Home",
         "Manager",
         "East",
         "StoreX",
         "Franchise",
         "Electronics",
         "Desk",
         "BrandA",
         19.0,
         330.2,
         10.0,
         "2022-12-16",
         "27280aade539db2d7433159d56c762fc2f0d86f6c030d9edc55eaaf355997161",
         "3c7aa2361bb113e0892437ecba18d0fca00119aefb95552a6b18bb7eee14759a",
         "897bf5eaa94f46613651029b33161e9f20a3b60c3f084b913e3c1fb19b720bf3"
        ],
        [
         "Martha Long",
         "Home",
         "Cashier",
         "West",
         "StoreY",
         "Franchise",
         "Furniture",
         "T-shirt",
         "BrandC",
         7.0,
         290.63,
         15.0,
         "2022-07-28",
         "8ff5e4961ecd6be9af8b4301fd055a9fb74cc9d9345e154247fdb1ba69cc53aa",
         "3cc867d96e3527c321b9556c784adf270e1e17cd22966fad45385f46ea9f6b99",
         "20d4f2a553ffe62b74d0fe96b1d0ab439d1aa91793df5952dff41d967bf4dbe0"
        ],
        [
         "Charles Fields",
         "Home",
         "Cashier",
         "North",
         "StoreY",
         "Outlet",
         "Electronics",
         "Desk",
         "BrandC",
         7.0,
         349.27,
         10.0,
         "2022-07-04",
         "d77d44bf969beb3dbe1c220e980137a5a50d692fcb5488788dcab5776eea5935",
         "94ba623007bdf38a8d9dd25b359ba7a49b0a434a8c49e2aaff76cc12c50a8a77",
         "8b9d3284385f39a45911d6eb2bb4611a58d6ec152bee163ad1e886bd1083cd46"
        ],
        [
         "Wendy Castillo",
         "Home",
         "Manager",
         "East",
         "StoreZ",
         "Franchise",
         "Furniture",
         "Jeans",
         "BrandC",
         22.5,
         267.61,
         0.0,
         "2022-11-27",
         "4e83a8d47b66443b97bb7351dc7523efa2e559dc3007eaa8c4eab1eb916eb8a6",
         "20f1ebafb8d3513848d887c5554eb0ce0ea2cc393afc88041813c6f9714ee7df",
         "c4a16c19bcbaa9d8754690e3a800e18c1e1ee9c48dde85e5b64bcf7f30578cab"
        ],
        [
         "James Austin",
         "Home",
         "Manager",
         "East",
         "StoreZ",
         "Outlet",
         "Electronics",
         "Jeans",
         "BrandB",
         41.0,
         52.57,
         10.0,
         "2025-03-16",
         "5982b0d5b073ed72c5439a49284e10435da5e94149484c89d95c921e494b63b0",
         "4bdb0c80a77b7ad25194de65cb257a855aef4714db3c3562712c670228caa9da",
         "755aa136a266d35e2256de8ac6c7bdefcf4250ba3df6c3d855c840a80f7c5003"
        ],
        [
         "Kyle Lin",
         "Electronics",
         "Manager",
         "East",
         "StoreZ",
         "Franchise",
         "Clothing",
         "T-shirt",
         "BrandB",
         33.67,
         85.99,
         0.0,
         "2024-03-05",
         "9ae454dffe58b2f08d2b131a1c67ed011b6a9dcef7629f2d96ecf9689831e573",
         "20f1ebafb8d3513848d887c5554eb0ce0ea2cc393afc88041813c6f9714ee7df",
         "8c50f7daf0f1874fd7161d15722ff921db0b280d233e9c5b71438dbd7a0b6160"
        ],
        [
         "Kelly Moore",
         "Apparel",
         "Sales Associate",
         "South",
         "StoreX",
         "Retail",
         "Electronics",
         "T-shirt",
         "BrandA",
         26.0,
         293.87,
         5.0,
         "2025-04-06",
         "cd2f205a3b37acc265cf4867714abf35098ab215ba53c4864cd498abeda41f19",
         "d99aca1849c5560475ec973a6220e019f1b32f02cf85be1fdad144ec31466970",
         "b835f9e7348786c13b9930e4f0a919905909ac6d8a4c5341d1131e7f0830f2a8"
        ],
        [
         "Billy Perez",
         "Apparel",
         "Sales Associate",
         "South",
         "StoreZ",
         "Retail",
         "Furniture",
         "Desk",
         "BrandA",
         22.0,
         444.29,
         5.0,
         "2024-03-05",
         "b5c80882f8e29da43355e05bb4fef15d73e22fc3e8a99209a389132cb1eaa6f2",
         "1120c453edb7620e31fdc4578bc15c8cb5aa664c7d30218eefcaec0b67e511ce",
         "d88343e0454464b75c638796b080b7c368ac3e9b1bdb7c02093294ee1adf62ea"
        ],
        [
         "John Harris",
         "Apparel",
         "Manager",
         "North",
         "StoreX",
         "Franchise",
         "Clothing",
         "Desk",
         "BrandB",
         41.0,
         283.25,
         0.0,
         "2023-02-06",
         "238ae8d501ef46b11057593024310b28ca7a6704f4e6d676e5ae83fb2d7be6bb",
         "7099b4f2df85bf9ad664e463e2249d680dea06f443cc29fa642b9c534af97176",
         "880162d4763b81e4ac57db4b957d788ae22f0ff2f3673c6d7c15f3a56a63ea54"
        ],
        [
         "Charles Fields",
         "Home",
         "Cashier",
         "North",
         "StoreZ",
         "Franchise",
         "Furniture",
         "Desk",
         "BrandA",
         16.0,
         238.49,
         0.0,
         "2024-08-27",
         "b5c80882f8e29da43355e05bb4fef15d73e22fc3e8a99209a389132cb1eaa6f2",
         "4c6dd1ba6ec7b756e0b6aa652820371fda0dba62811e1a54b7e45a93fe237c50",
         "8b9d3284385f39a45911d6eb2bb4611a58d6ec152bee163ad1e886bd1083cd46"
        ],
        [
         "Kyle Lin",
         "Electronics",
         "Sales Associate",
         "North",
         "StoreY",
         "Retail",
         "Clothing",
         "Jeans",
         "BrandC",
         33.67,
         414.77,
         0.0,
         "2023-01-18",
         "a50a4d5a998a5462879a924b0479b4172af8a18f7c0bf80be21a80403f297651",
         "32ffe22289148a4b36d1d7ce2f1069e9f1640be9bc6c2d9c21142be14fd9f06a",
         "b90eb8c52995b65d912ee69813964cf8b27d10fea22e5176a0efde3a2c331ad0"
        ],
        [
         "Kyle Lin",
         "Home",
         "Cashier",
         "West",
         "StoreX",
         "Retail",
         "Furniture",
         "Smartphone",
         "BrandC",
         22.5,
         21.38,
         5.0,
         "2022-10-11",
         "c2d01848f52f9fc1a7a28d06ec3d1a8de97a80a450b8788db43999fe58fb954c",
         "4d4ed5d27e052c65873ccf14e3fa6f04f7943793bef24189c4c991339564e646",
         "e3729a173a8c99d2fbdf176c56d695c1576bcc8e1a39a695a626c2fb1badb7a2"
        ],
        [
         "John Harris",
         "Electronics",
         "Manager",
         "West",
         "StoreX",
         "Outlet",
         "Furniture",
         "Desk",
         "BrandB",
         22.5,
         279.35,
         5.0,
         "2023-10-11",
         "3534d46d31abd5365ea939799b6dbaeabf66cee5d270b2c1016af31d4a076ba2",
         "52c169196a9953e61a83757f71b0f57da580026c1a2083b89b43e0451523fef3",
         "87ac6d5a4977bf75fdd34375ba02238b096ce6503cb4b6c9cd785114665a4d03"
        ],
        [
         "Billy Perez",
         "Electronics",
         "Cashier",
         "South",
         "StoreY",
         "Retail",
         "Furniture",
         "Tablet",
         "BrandA",
         37.0,
         415.6,
         15.0,
         "2022-08-23",
         "1839298fc3616a7fb8581b8eb5373248e28632ab00dfdec326053bc309f58bca",
         "24007c12903a7fd1b36a5faa4c4069a2be77b043fb7b335f4a558f650aa68072",
         "0b98f44b61cd1b506c8069d037184c4fde9d6b5b111aaa06ecb519d90d626be7"
        ],
        [
         "Emily Vazquez",
         "Electronics",
         "Sales Associate",
         "South",
         "StoreZ",
         "Franchise",
         "Furniture",
         "Desk",
         "BrandA",
         22.5,
         359.04,
         0.0,
         "2024-01-20",
         "b5c80882f8e29da43355e05bb4fef15d73e22fc3e8a99209a389132cb1eaa6f2",
         "b697ea824f0541eb515498c5eb6f2ce43947880d645dbe09ee14075c732aef48",
         "790030832f4cf230a1582bbd8ae3645a73f6a8b1cfea54fb20961be4c49f39cd"
        ]
       ],
       "datasetInfos": [],
       "dbfsResultPath": null,
       "isJsonSchema": true,
       "metadata": {},
       "overflow": false,
       "plotOptions": {
        "customPlotOptions": {},
        "displayType": "table",
        "pivotAggregation": null,
        "pivotColumns": null,
        "xColumns": null,
        "yColumns": null
       },
       "removedWidgets": [],
       "schema": [
        {
         "metadata": "{}",
         "name": "SalesRep",
         "type": "\"string\""
        },
        {
         "metadata": "{}",
         "name": "Department",
         "type": "\"string\""
        },
        {
         "metadata": "{}",
         "name": "EmployeeRole",
         "type": "\"string\""
        },
        {
         "metadata": "{}",
         "name": "StoreRegion",
         "type": "\"string\""
        },
        {
         "metadata": "{}",
         "name": "StoreName",
         "type": "\"string\""
        },
        {
         "metadata": "{}",
         "name": "StoreType",
         "type": "\"string\""
        },
        {
         "metadata": "{}",
         "name": "ProductCategory",
         "type": "\"string\""
        },
        {
         "metadata": "{}",
         "name": "ProductName",
         "type": "\"string\""
        },
        {
         "metadata": "{}",
         "name": "Brand",
         "type": "\"string\""
        },
        {
         "metadata": "{}",
         "name": "UnitsSold",
         "type": "\"double\""
        },
        {
         "metadata": "{}",
         "name": "UnitPrice",
         "type": "\"double\""
        },
        {
         "metadata": "{}",
         "name": "Discount",
         "type": "\"double\""
        },
        {
         "metadata": "{\"__detected_date_formats\":\"yyyy-M-d\"}",
         "name": "SaleDate",
         "type": "\"date\""
        },
        {
         "metadata": "{}",
         "name": "DIM_ProductId",
         "type": "\"string\""
        },
        {
         "metadata": "{}",
         "name": "DIM_StoreId",
         "type": "\"string\""
        },
        {
         "metadata": "{}",
         "name": "DIM_EmployeeId",
         "type": "\"string\""
        }
       ],
       "type": "table"
      }
     },
     "output_type": "display_data"
    }
   ],
   "source": [
    "display(df_fact)"
   ]
  },
  {
   "cell_type": "code",
   "execution_count": 0,
   "metadata": {
    "application/vnd.databricks.v1+cell": {
     "cellMetadata": {
      "byteLimit": 2048000,
      "rowLimit": 10000
     },
     "inputWidgets": {},
     "nuid": "1ba1092f-6c21-4588-85ea-35e0a488f709",
     "showTitle": false,
     "tableResultSettingsMap": {},
     "title": ""
    }
   },
   "outputs": [
    {
     "output_type": "stream",
     "name": "stdout",
     "output_type": "stream",
     "text": [
      "Out[30]: StructType([StructField('SalesRep', StringType(), True), StructField('Department', StringType(), True), StructField('EmployeeRole', StringType(), True), StructField('StoreRegion', StringType(), True), StructField('StoreName', StringType(), True), StructField('StoreType', StringType(), True), StructField('ProductCategory', StringType(), True), StructField('ProductName', StringType(), True), StructField('Brand', StringType(), True), StructField('UnitsSold', DoubleType(), True), StructField('UnitPrice', DoubleType(), True), StructField('Discount', DoubleType(), True), StructField('SaleDate', DateType(), True), StructField('DIM_ProductId', StringType(), True), StructField('DIM_StoreId', StringType(), True), StructField('DIM_EmployeeId', StringType(), True)])"
     ]
    }
   ],
   "source": [
    "df_fact.schema"
   ]
  },
  {
   "cell_type": "code",
   "execution_count": 0,
   "metadata": {
    "application/vnd.databricks.v1+cell": {
     "cellMetadata": {
      "byteLimit": 2048000,
      "rowLimit": 10000
     },
     "inputWidgets": {},
     "nuid": "b26b519d-d13c-4d35-88f5-4c6e936dfc2e",
     "showTitle": false,
     "tableResultSettingsMap": {},
     "title": ""
    }
   },
   "outputs": [],
   "source": [
    "df_fact.write.format(\"delta\").mode(\"overwrite\").option(\"overwriteSchema\", \"true\").save(\"/delta/df_fact\")"
   ]
  },
  {
   "cell_type": "code",
   "execution_count": 0,
   "metadata": {
    "application/vnd.databricks.v1+cell": {
     "cellMetadata": {
      "byteLimit": 2048000,
      "rowLimit": 10000
     },
     "inputWidgets": {},
     "nuid": "caa0241f-4e8e-436c-b02c-50543d9f08af",
     "showTitle": false,
     "tableResultSettingsMap": {},
     "title": ""
    }
   },
   "outputs": [],
   "source": [
    "df_fact_cleaned = df_fact.select(\n",
    "    \"DIM_ProductId\",\n",
    "    \"DIM_StoreId\",\n",
    "    \"DIM_EmployeeId\",\n",
    "    \"UnitsSold\",\n",
    "    \"UnitPrice\",\n",
    "    \"Discount\",\n",
    "    \"SaleDate\"\n",
    ")"
   ]
  },
  {
   "cell_type": "code",
   "execution_count": 0,
   "metadata": {
    "application/vnd.databricks.v1+cell": {
     "cellMetadata": {
      "byteLimit": 2048000,
      "rowLimit": 10000
     },
     "inputWidgets": {},
     "nuid": "34f27be1-3e20-47a2-aaaa-4343e819e659",
     "showTitle": false,
     "tableResultSettingsMap": {},
     "title": ""
    }
   },
   "outputs": [
    {
     "output_type": "display_data",
     "data": {
      "text/html": [
       "<style scoped>\n",
       "  .table-result-container {\n",
       "    max-height: 300px;\n",
       "    overflow: auto;\n",
       "  }\n",
       "  table, th, td {\n",
       "    border: 1px solid black;\n",
       "    border-collapse: collapse;\n",
       "  }\n",
       "  th, td {\n",
       "    padding: 5px;\n",
       "  }\n",
       "  th {\n",
       "    text-align: left;\n",
       "  }\n",
       "</style><div class='table-result-container'><table class='table-result'><thead style='background-color: white'><tr><th>DIM_ProductId</th><th>DIM_StoreId</th><th>DIM_EmployeeId</th><th>UnitsSold</th><th>UnitPrice</th><th>Discount</th><th>SaleDate</th></tr></thead><tbody><tr><td>0ee892f6bcd5fe280d3d4ccfd72a138675d0514a58e1335c6a48b02823bb8156</td><td>3c7aa2361bb113e0892437ecba18d0fca00119aefb95552a6b18bb7eee14759a</td><td>7e6b7470e0c5045a1797405ca77f04a0ba3c1e2e2e88bf125d9a33d10b597eac</td><td>12.0</td><td>279.35</td><td>5.0</td><td>2022-12-14</td></tr><tr><td>c37d4ae373d30210c6e3b8760d2e14d3f1ce92979c432aa3ccef3493b5ef97b8</td><td>20f1ebafb8d3513848d887c5554eb0ce0ea2cc393afc88041813c6f9714ee7df</td><td>0f0a2f01281855e40cd8674f9192e6736b34aa8fc5f0478d71361f8a8412ba56</td><td>33.67</td><td>272.49</td><td>0.0</td><td>2023-02-24</td></tr><tr><td>a8406b374712399cebdf16a3e8a8c56cf72bf72db75cb2ad0dc3a1ff71e61285</td><td>d99aca1849c5560475ec973a6220e019f1b32f02cf85be1fdad144ec31466970</td><td>fcabe27a77b7b0062b0c99723dbfa1e531629cccb118cb71f9c41d22a9aba099</td><td>33.67</td><td>484.75</td><td>15.0</td><td>2025-03-24</td></tr><tr><td>6a421110b266104bf1cf67be336c9ca4cfff1f897b231e0631948bb3f034677e</td><td>84b0247bf1c9e21f1a7befa453f14c708b5be10d1f352da6b89183f8d691ecc2</td><td>c93c0a4829fd929a76a46896a25c78a5e14ba88c21b0e526dbc45c4e5378ea90</td><td>26.0</td><td>205.74</td><td>10.0</td><td>2023-09-30</td></tr><tr><td>8ff5e4961ecd6be9af8b4301fd055a9fb74cc9d9345e154247fdb1ba69cc53aa</td><td>4bdb0c80a77b7ad25194de65cb257a855aef4714db3c3562712c670228caa9da</td><td>c4a16c19bcbaa9d8754690e3a800e18c1e1ee9c48dde85e5b64bcf7f30578cab</td><td>46.0</td><td>20.25</td><td>5.0</td><td>2022-10-14</td></tr><tr><td>8ff5e4961ecd6be9af8b4301fd055a9fb74cc9d9345e154247fdb1ba69cc53aa</td><td>24007c12903a7fd1b36a5faa4c4069a2be77b043fb7b335f4a558f650aa68072</td><td>c4a16c19bcbaa9d8754690e3a800e18c1e1ee9c48dde85e5b64bcf7f30578cab</td><td>22.5</td><td>361.06</td><td>10.0</td><td>2024-02-23</td></tr><tr><td>86ebe6b6839b1f0b802dc9acb8b3ac28ed84edd9496e774602b4bb858ac1ee21</td><td>411dea8e689cd912cd11682ee1f8b3ddbe7a4b413e89be652757c39f04f2ec60</td><td>fdedff2cb72a6a9be5669b3ceb5a76b5954802411dda3d1e83ddb183d5a86548</td><td>37.0</td><td>492.65</td><td>5.0</td><td>2024-05-06</td></tr><tr><td>fc08e15f7ca6c6df9df7da9e4815aaf89a29e1e19459ee7d969019e8cbb37123</td><td>76868e571d2e34422cf3c39e724b18da8fe589d29e3bd589ee5390c548aaabd5</td><td>27d0986b4172fcb4be66444087e6bced12fe736c8e1a53d6f5144aea5778742c</td><td>37.0</td><td>293.87</td><td>15.0</td><td>2023-04-04</td></tr><tr><td>807d270019a32fa7c40a2b8931312f136363e6bf9793576c7ab67fd901472887</td><td>24007c12903a7fd1b36a5faa4c4069a2be77b043fb7b335f4a558f650aa68072</td><td>5b35a50e37f2fb896eef5da16148195eff3e208575ad22d8a6edfbff8511201c</td><td>23.0</td><td>189.47</td><td>15.0</td><td>2022-12-26</td></tr><tr><td>0ee892f6bcd5fe280d3d4ccfd72a138675d0514a58e1335c6a48b02823bb8156</td><td>20f1ebafb8d3513848d887c5554eb0ce0ea2cc393afc88041813c6f9714ee7df</td><td>11e3df9450f3951d15425406cfd773e170e7e53297b071b8dfcfa87a688599c3</td><td>25.0</td><td>359.08</td><td>10.0</td><td>2022-10-28</td></tr><tr><td>98a0a870ebb0f5e6b5b5cdf00b618fafcb2a3d33b41e56d92c57818ac224b5e7</td><td>1120c453edb7620e31fdc4578bc15c8cb5aa664c7d30218eefcaec0b67e511ce</td><td>c4a16c19bcbaa9d8754690e3a800e18c1e1ee9c48dde85e5b64bcf7f30578cab</td><td>33.67</td><td>438.28</td><td>0.0</td><td>2025-05-12</td></tr><tr><td>238ae8d501ef46b11057593024310b28ca7a6704f4e6d676e5ae83fb2d7be6bb</td><td>30d46cf1deb74c2d33b4ea7e7f6798ae0623d5195c080721dbf022942ba48b72</td><td>b835f9e7348786c13b9930e4f0a919905909ac6d8a4c5341d1131e7f0830f2a8</td><td>33.67</td><td>283.25</td><td>0.0</td><td>2024-11-14</td></tr><tr><td>36fc80bfe93a526d8a175456e8243770785451a22d4ce473e3bbf391080eeba1</td><td>cd1aac1b6cedfa5d51c325a3c19d2132ce133ac285ce754fdf436527f68ab882</td><td>974149aaad371da29abd2bd4c468eae5d3c2338b9123407191cce017a2080c9a</td><td>26.0</td><td>490.01</td><td>10.0</td><td>2025-05-20</td></tr><tr><td>b24a9f4fedbb73a4cc882922b4a8823167815ae6edd96114e17f465303462ca3</td><td>eaaa9336e570e385b77b0050a85962732193ca23004af89ae72f2889abd91bd3</td><td>aa0c6ac3926bac87bb0fd31bd224316a0dc1b35d23854551724f009dd4112688</td><td>15.0</td><td>139.58</td><td>5.0</td><td>2023-11-09</td></tr><tr><td>dcd1602d12efc29c8c4598b7843ec57a534683119f15c2042695e5fe71031ffd</td><td>3cc867d96e3527c321b9556c784adf270e1e17cd22966fad45385f46ea9f6b99</td><td>c82a79bc8cfdc02531867ce5855ecbaa24d8c3796c6f1401f5e519bace6667b0</td><td>26.0</td><td>67.66</td><td>15.0</td><td>2025-03-27</td></tr><tr><td>27280aade539db2d7433159d56c762fc2f0d86f6c030d9edc55eaaf355997161</td><td>3c7aa2361bb113e0892437ecba18d0fca00119aefb95552a6b18bb7eee14759a</td><td>897bf5eaa94f46613651029b33161e9f20a3b60c3f084b913e3c1fb19b720bf3</td><td>19.0</td><td>330.2</td><td>10.0</td><td>2022-12-16</td></tr><tr><td>8ff5e4961ecd6be9af8b4301fd055a9fb74cc9d9345e154247fdb1ba69cc53aa</td><td>3cc867d96e3527c321b9556c784adf270e1e17cd22966fad45385f46ea9f6b99</td><td>20d4f2a553ffe62b74d0fe96b1d0ab439d1aa91793df5952dff41d967bf4dbe0</td><td>7.0</td><td>290.63</td><td>15.0</td><td>2022-07-28</td></tr><tr><td>d77d44bf969beb3dbe1c220e980137a5a50d692fcb5488788dcab5776eea5935</td><td>94ba623007bdf38a8d9dd25b359ba7a49b0a434a8c49e2aaff76cc12c50a8a77</td><td>8b9d3284385f39a45911d6eb2bb4611a58d6ec152bee163ad1e886bd1083cd46</td><td>7.0</td><td>349.27</td><td>10.0</td><td>2022-07-04</td></tr><tr><td>4e83a8d47b66443b97bb7351dc7523efa2e559dc3007eaa8c4eab1eb916eb8a6</td><td>20f1ebafb8d3513848d887c5554eb0ce0ea2cc393afc88041813c6f9714ee7df</td><td>c4a16c19bcbaa9d8754690e3a800e18c1e1ee9c48dde85e5b64bcf7f30578cab</td><td>22.5</td><td>267.61</td><td>0.0</td><td>2022-11-27</td></tr><tr><td>5982b0d5b073ed72c5439a49284e10435da5e94149484c89d95c921e494b63b0</td><td>4bdb0c80a77b7ad25194de65cb257a855aef4714db3c3562712c670228caa9da</td><td>755aa136a266d35e2256de8ac6c7bdefcf4250ba3df6c3d855c840a80f7c5003</td><td>41.0</td><td>52.57</td><td>10.0</td><td>2025-03-16</td></tr><tr><td>9ae454dffe58b2f08d2b131a1c67ed011b6a9dcef7629f2d96ecf9689831e573</td><td>20f1ebafb8d3513848d887c5554eb0ce0ea2cc393afc88041813c6f9714ee7df</td><td>8c50f7daf0f1874fd7161d15722ff921db0b280d233e9c5b71438dbd7a0b6160</td><td>33.67</td><td>85.99</td><td>0.0</td><td>2024-03-05</td></tr><tr><td>cd2f205a3b37acc265cf4867714abf35098ab215ba53c4864cd498abeda41f19</td><td>d99aca1849c5560475ec973a6220e019f1b32f02cf85be1fdad144ec31466970</td><td>b835f9e7348786c13b9930e4f0a919905909ac6d8a4c5341d1131e7f0830f2a8</td><td>26.0</td><td>293.87</td><td>5.0</td><td>2025-04-06</td></tr><tr><td>b5c80882f8e29da43355e05bb4fef15d73e22fc3e8a99209a389132cb1eaa6f2</td><td>1120c453edb7620e31fdc4578bc15c8cb5aa664c7d30218eefcaec0b67e511ce</td><td>d88343e0454464b75c638796b080b7c368ac3e9b1bdb7c02093294ee1adf62ea</td><td>22.0</td><td>444.29</td><td>5.0</td><td>2024-03-05</td></tr><tr><td>238ae8d501ef46b11057593024310b28ca7a6704f4e6d676e5ae83fb2d7be6bb</td><td>7099b4f2df85bf9ad664e463e2249d680dea06f443cc29fa642b9c534af97176</td><td>880162d4763b81e4ac57db4b957d788ae22f0ff2f3673c6d7c15f3a56a63ea54</td><td>41.0</td><td>283.25</td><td>0.0</td><td>2023-02-06</td></tr><tr><td>b5c80882f8e29da43355e05bb4fef15d73e22fc3e8a99209a389132cb1eaa6f2</td><td>4c6dd1ba6ec7b756e0b6aa652820371fda0dba62811e1a54b7e45a93fe237c50</td><td>8b9d3284385f39a45911d6eb2bb4611a58d6ec152bee163ad1e886bd1083cd46</td><td>16.0</td><td>238.49</td><td>0.0</td><td>2024-08-27</td></tr><tr><td>a50a4d5a998a5462879a924b0479b4172af8a18f7c0bf80be21a80403f297651</td><td>32ffe22289148a4b36d1d7ce2f1069e9f1640be9bc6c2d9c21142be14fd9f06a</td><td>b90eb8c52995b65d912ee69813964cf8b27d10fea22e5176a0efde3a2c331ad0</td><td>33.67</td><td>414.77</td><td>0.0</td><td>2023-01-18</td></tr><tr><td>c2d01848f52f9fc1a7a28d06ec3d1a8de97a80a450b8788db43999fe58fb954c</td><td>4d4ed5d27e052c65873ccf14e3fa6f04f7943793bef24189c4c991339564e646</td><td>e3729a173a8c99d2fbdf176c56d695c1576bcc8e1a39a695a626c2fb1badb7a2</td><td>22.5</td><td>21.38</td><td>5.0</td><td>2022-10-11</td></tr><tr><td>3534d46d31abd5365ea939799b6dbaeabf66cee5d270b2c1016af31d4a076ba2</td><td>52c169196a9953e61a83757f71b0f57da580026c1a2083b89b43e0451523fef3</td><td>87ac6d5a4977bf75fdd34375ba02238b096ce6503cb4b6c9cd785114665a4d03</td><td>22.5</td><td>279.35</td><td>5.0</td><td>2023-10-11</td></tr><tr><td>1839298fc3616a7fb8581b8eb5373248e28632ab00dfdec326053bc309f58bca</td><td>24007c12903a7fd1b36a5faa4c4069a2be77b043fb7b335f4a558f650aa68072</td><td>0b98f44b61cd1b506c8069d037184c4fde9d6b5b111aaa06ecb519d90d626be7</td><td>37.0</td><td>415.6</td><td>15.0</td><td>2022-08-23</td></tr><tr><td>b5c80882f8e29da43355e05bb4fef15d73e22fc3e8a99209a389132cb1eaa6f2</td><td>b697ea824f0541eb515498c5eb6f2ce43947880d645dbe09ee14075c732aef48</td><td>790030832f4cf230a1582bbd8ae3645a73f6a8b1cfea54fb20961be4c49f39cd</td><td>22.5</td><td>359.04</td><td>0.0</td><td>2024-01-20</td></tr></tbody></table></div>"
      ]
     },
     "metadata": {
      "application/vnd.databricks.v1+output": {
       "addedWidgets": {},
       "aggData": [],
       "aggError": "",
       "aggOverflow": false,
       "aggSchema": [],
       "aggSeriesLimitReached": false,
       "aggType": "",
       "arguments": {},
       "columnCustomDisplayInfos": {},
       "data": [
        [
         "0ee892f6bcd5fe280d3d4ccfd72a138675d0514a58e1335c6a48b02823bb8156",
         "3c7aa2361bb113e0892437ecba18d0fca00119aefb95552a6b18bb7eee14759a",
         "7e6b7470e0c5045a1797405ca77f04a0ba3c1e2e2e88bf125d9a33d10b597eac",
         12.0,
         279.35,
         5.0,
         "2022-12-14"
        ],
        [
         "c37d4ae373d30210c6e3b8760d2e14d3f1ce92979c432aa3ccef3493b5ef97b8",
         "20f1ebafb8d3513848d887c5554eb0ce0ea2cc393afc88041813c6f9714ee7df",
         "0f0a2f01281855e40cd8674f9192e6736b34aa8fc5f0478d71361f8a8412ba56",
         33.67,
         272.49,
         0.0,
         "2023-02-24"
        ],
        [
         "a8406b374712399cebdf16a3e8a8c56cf72bf72db75cb2ad0dc3a1ff71e61285",
         "d99aca1849c5560475ec973a6220e019f1b32f02cf85be1fdad144ec31466970",
         "fcabe27a77b7b0062b0c99723dbfa1e531629cccb118cb71f9c41d22a9aba099",
         33.67,
         484.75,
         15.0,
         "2025-03-24"
        ],
        [
         "6a421110b266104bf1cf67be336c9ca4cfff1f897b231e0631948bb3f034677e",
         "84b0247bf1c9e21f1a7befa453f14c708b5be10d1f352da6b89183f8d691ecc2",
         "c93c0a4829fd929a76a46896a25c78a5e14ba88c21b0e526dbc45c4e5378ea90",
         26.0,
         205.74,
         10.0,
         "2023-09-30"
        ],
        [
         "8ff5e4961ecd6be9af8b4301fd055a9fb74cc9d9345e154247fdb1ba69cc53aa",
         "4bdb0c80a77b7ad25194de65cb257a855aef4714db3c3562712c670228caa9da",
         "c4a16c19bcbaa9d8754690e3a800e18c1e1ee9c48dde85e5b64bcf7f30578cab",
         46.0,
         20.25,
         5.0,
         "2022-10-14"
        ],
        [
         "8ff5e4961ecd6be9af8b4301fd055a9fb74cc9d9345e154247fdb1ba69cc53aa",
         "24007c12903a7fd1b36a5faa4c4069a2be77b043fb7b335f4a558f650aa68072",
         "c4a16c19bcbaa9d8754690e3a800e18c1e1ee9c48dde85e5b64bcf7f30578cab",
         22.5,
         361.06,
         10.0,
         "2024-02-23"
        ],
        [
         "86ebe6b6839b1f0b802dc9acb8b3ac28ed84edd9496e774602b4bb858ac1ee21",
         "411dea8e689cd912cd11682ee1f8b3ddbe7a4b413e89be652757c39f04f2ec60",
         "fdedff2cb72a6a9be5669b3ceb5a76b5954802411dda3d1e83ddb183d5a86548",
         37.0,
         492.65,
         5.0,
         "2024-05-06"
        ],
        [
         "fc08e15f7ca6c6df9df7da9e4815aaf89a29e1e19459ee7d969019e8cbb37123",
         "76868e571d2e34422cf3c39e724b18da8fe589d29e3bd589ee5390c548aaabd5",
         "27d0986b4172fcb4be66444087e6bced12fe736c8e1a53d6f5144aea5778742c",
         37.0,
         293.87,
         15.0,
         "2023-04-04"
        ],
        [
         "807d270019a32fa7c40a2b8931312f136363e6bf9793576c7ab67fd901472887",
         "24007c12903a7fd1b36a5faa4c4069a2be77b043fb7b335f4a558f650aa68072",
         "5b35a50e37f2fb896eef5da16148195eff3e208575ad22d8a6edfbff8511201c",
         23.0,
         189.47,
         15.0,
         "2022-12-26"
        ],
        [
         "0ee892f6bcd5fe280d3d4ccfd72a138675d0514a58e1335c6a48b02823bb8156",
         "20f1ebafb8d3513848d887c5554eb0ce0ea2cc393afc88041813c6f9714ee7df",
         "11e3df9450f3951d15425406cfd773e170e7e53297b071b8dfcfa87a688599c3",
         25.0,
         359.08,
         10.0,
         "2022-10-28"
        ],
        [
         "98a0a870ebb0f5e6b5b5cdf00b618fafcb2a3d33b41e56d92c57818ac224b5e7",
         "1120c453edb7620e31fdc4578bc15c8cb5aa664c7d30218eefcaec0b67e511ce",
         "c4a16c19bcbaa9d8754690e3a800e18c1e1ee9c48dde85e5b64bcf7f30578cab",
         33.67,
         438.28,
         0.0,
         "2025-05-12"
        ],
        [
         "238ae8d501ef46b11057593024310b28ca7a6704f4e6d676e5ae83fb2d7be6bb",
         "30d46cf1deb74c2d33b4ea7e7f6798ae0623d5195c080721dbf022942ba48b72",
         "b835f9e7348786c13b9930e4f0a919905909ac6d8a4c5341d1131e7f0830f2a8",
         33.67,
         283.25,
         0.0,
         "2024-11-14"
        ],
        [
         "36fc80bfe93a526d8a175456e8243770785451a22d4ce473e3bbf391080eeba1",
         "cd1aac1b6cedfa5d51c325a3c19d2132ce133ac285ce754fdf436527f68ab882",
         "974149aaad371da29abd2bd4c468eae5d3c2338b9123407191cce017a2080c9a",
         26.0,
         490.01,
         10.0,
         "2025-05-20"
        ],
        [
         "b24a9f4fedbb73a4cc882922b4a8823167815ae6edd96114e17f465303462ca3",
         "eaaa9336e570e385b77b0050a85962732193ca23004af89ae72f2889abd91bd3",
         "aa0c6ac3926bac87bb0fd31bd224316a0dc1b35d23854551724f009dd4112688",
         15.0,
         139.58,
         5.0,
         "2023-11-09"
        ],
        [
         "dcd1602d12efc29c8c4598b7843ec57a534683119f15c2042695e5fe71031ffd",
         "3cc867d96e3527c321b9556c784adf270e1e17cd22966fad45385f46ea9f6b99",
         "c82a79bc8cfdc02531867ce5855ecbaa24d8c3796c6f1401f5e519bace6667b0",
         26.0,
         67.66,
         15.0,
         "2025-03-27"
        ],
        [
         "27280aade539db2d7433159d56c762fc2f0d86f6c030d9edc55eaaf355997161",
         "3c7aa2361bb113e0892437ecba18d0fca00119aefb95552a6b18bb7eee14759a",
         "897bf5eaa94f46613651029b33161e9f20a3b60c3f084b913e3c1fb19b720bf3",
         19.0,
         330.2,
         10.0,
         "2022-12-16"
        ],
        [
         "8ff5e4961ecd6be9af8b4301fd055a9fb74cc9d9345e154247fdb1ba69cc53aa",
         "3cc867d96e3527c321b9556c784adf270e1e17cd22966fad45385f46ea9f6b99",
         "20d4f2a553ffe62b74d0fe96b1d0ab439d1aa91793df5952dff41d967bf4dbe0",
         7.0,
         290.63,
         15.0,
         "2022-07-28"
        ],
        [
         "d77d44bf969beb3dbe1c220e980137a5a50d692fcb5488788dcab5776eea5935",
         "94ba623007bdf38a8d9dd25b359ba7a49b0a434a8c49e2aaff76cc12c50a8a77",
         "8b9d3284385f39a45911d6eb2bb4611a58d6ec152bee163ad1e886bd1083cd46",
         7.0,
         349.27,
         10.0,
         "2022-07-04"
        ],
        [
         "4e83a8d47b66443b97bb7351dc7523efa2e559dc3007eaa8c4eab1eb916eb8a6",
         "20f1ebafb8d3513848d887c5554eb0ce0ea2cc393afc88041813c6f9714ee7df",
         "c4a16c19bcbaa9d8754690e3a800e18c1e1ee9c48dde85e5b64bcf7f30578cab",
         22.5,
         267.61,
         0.0,
         "2022-11-27"
        ],
        [
         "5982b0d5b073ed72c5439a49284e10435da5e94149484c89d95c921e494b63b0",
         "4bdb0c80a77b7ad25194de65cb257a855aef4714db3c3562712c670228caa9da",
         "755aa136a266d35e2256de8ac6c7bdefcf4250ba3df6c3d855c840a80f7c5003",
         41.0,
         52.57,
         10.0,
         "2025-03-16"
        ],
        [
         "9ae454dffe58b2f08d2b131a1c67ed011b6a9dcef7629f2d96ecf9689831e573",
         "20f1ebafb8d3513848d887c5554eb0ce0ea2cc393afc88041813c6f9714ee7df",
         "8c50f7daf0f1874fd7161d15722ff921db0b280d233e9c5b71438dbd7a0b6160",
         33.67,
         85.99,
         0.0,
         "2024-03-05"
        ],
        [
         "cd2f205a3b37acc265cf4867714abf35098ab215ba53c4864cd498abeda41f19",
         "d99aca1849c5560475ec973a6220e019f1b32f02cf85be1fdad144ec31466970",
         "b835f9e7348786c13b9930e4f0a919905909ac6d8a4c5341d1131e7f0830f2a8",
         26.0,
         293.87,
         5.0,
         "2025-04-06"
        ],
        [
         "b5c80882f8e29da43355e05bb4fef15d73e22fc3e8a99209a389132cb1eaa6f2",
         "1120c453edb7620e31fdc4578bc15c8cb5aa664c7d30218eefcaec0b67e511ce",
         "d88343e0454464b75c638796b080b7c368ac3e9b1bdb7c02093294ee1adf62ea",
         22.0,
         444.29,
         5.0,
         "2024-03-05"
        ],
        [
         "238ae8d501ef46b11057593024310b28ca7a6704f4e6d676e5ae83fb2d7be6bb",
         "7099b4f2df85bf9ad664e463e2249d680dea06f443cc29fa642b9c534af97176",
         "880162d4763b81e4ac57db4b957d788ae22f0ff2f3673c6d7c15f3a56a63ea54",
         41.0,
         283.25,
         0.0,
         "2023-02-06"
        ],
        [
         "b5c80882f8e29da43355e05bb4fef15d73e22fc3e8a99209a389132cb1eaa6f2",
         "4c6dd1ba6ec7b756e0b6aa652820371fda0dba62811e1a54b7e45a93fe237c50",
         "8b9d3284385f39a45911d6eb2bb4611a58d6ec152bee163ad1e886bd1083cd46",
         16.0,
         238.49,
         0.0,
         "2024-08-27"
        ],
        [
         "a50a4d5a998a5462879a924b0479b4172af8a18f7c0bf80be21a80403f297651",
         "32ffe22289148a4b36d1d7ce2f1069e9f1640be9bc6c2d9c21142be14fd9f06a",
         "b90eb8c52995b65d912ee69813964cf8b27d10fea22e5176a0efde3a2c331ad0",
         33.67,
         414.77,
         0.0,
         "2023-01-18"
        ],
        [
         "c2d01848f52f9fc1a7a28d06ec3d1a8de97a80a450b8788db43999fe58fb954c",
         "4d4ed5d27e052c65873ccf14e3fa6f04f7943793bef24189c4c991339564e646",
         "e3729a173a8c99d2fbdf176c56d695c1576bcc8e1a39a695a626c2fb1badb7a2",
         22.5,
         21.38,
         5.0,
         "2022-10-11"
        ],
        [
         "3534d46d31abd5365ea939799b6dbaeabf66cee5d270b2c1016af31d4a076ba2",
         "52c169196a9953e61a83757f71b0f57da580026c1a2083b89b43e0451523fef3",
         "87ac6d5a4977bf75fdd34375ba02238b096ce6503cb4b6c9cd785114665a4d03",
         22.5,
         279.35,
         5.0,
         "2023-10-11"
        ],
        [
         "1839298fc3616a7fb8581b8eb5373248e28632ab00dfdec326053bc309f58bca",
         "24007c12903a7fd1b36a5faa4c4069a2be77b043fb7b335f4a558f650aa68072",
         "0b98f44b61cd1b506c8069d037184c4fde9d6b5b111aaa06ecb519d90d626be7",
         37.0,
         415.6,
         15.0,
         "2022-08-23"
        ],
        [
         "b5c80882f8e29da43355e05bb4fef15d73e22fc3e8a99209a389132cb1eaa6f2",
         "b697ea824f0541eb515498c5eb6f2ce43947880d645dbe09ee14075c732aef48",
         "790030832f4cf230a1582bbd8ae3645a73f6a8b1cfea54fb20961be4c49f39cd",
         22.5,
         359.04,
         0.0,
         "2024-01-20"
        ]
       ],
       "datasetInfos": [],
       "dbfsResultPath": null,
       "isJsonSchema": true,
       "metadata": {},
       "overflow": false,
       "plotOptions": {
        "customPlotOptions": {},
        "displayType": "table",
        "pivotAggregation": null,
        "pivotColumns": null,
        "xColumns": null,
        "yColumns": null
       },
       "removedWidgets": [],
       "schema": [
        {
         "metadata": "{}",
         "name": "DIM_ProductId",
         "type": "\"string\""
        },
        {
         "metadata": "{}",
         "name": "DIM_StoreId",
         "type": "\"string\""
        },
        {
         "metadata": "{}",
         "name": "DIM_EmployeeId",
         "type": "\"string\""
        },
        {
         "metadata": "{}",
         "name": "UnitsSold",
         "type": "\"double\""
        },
        {
         "metadata": "{}",
         "name": "UnitPrice",
         "type": "\"double\""
        },
        {
         "metadata": "{}",
         "name": "Discount",
         "type": "\"double\""
        },
        {
         "metadata": "{\"__detected_date_formats\":\"yyyy-M-d\"}",
         "name": "SaleDate",
         "type": "\"date\""
        }
       ],
       "type": "table"
      }
     },
     "output_type": "display_data"
    }
   ],
   "source": [
    "display(df_fact_cleaned)"
   ]
  },
  {
   "cell_type": "code",
   "execution_count": 0,
   "metadata": {
    "application/vnd.databricks.v1+cell": {
     "cellMetadata": {
      "byteLimit": 2048000,
      "rowLimit": 10000
     },
     "inputWidgets": {},
     "nuid": "4b9dbf22-dbec-4bd6-a458-766d83b25be5",
     "showTitle": false,
     "tableResultSettingsMap": {},
     "title": ""
    }
   },
   "outputs": [],
   "source": [
    "df_fact_cleaned.write.format(\"delta\").mode(\"overwrite\").option(\"overwriteSchema\", \"true\").save(\"/delta/df_fact_cleaned\")\n"
   ]
  },
  {
   "cell_type": "code",
   "execution_count": 0,
   "metadata": {
    "application/vnd.databricks.v1+cell": {
     "cellMetadata": {
      "byteLimit": 2048000,
      "rowLimit": 10000
     },
     "inputWidgets": {},
     "nuid": "8a0ff58d-14a1-4831-ac5a-c5e4133a31b9",
     "showTitle": false,
     "tableResultSettingsMap": {},
     "title": ""
    }
   },
   "outputs": [],
   "source": [
    "df_fact_cleaned = df_fact_cleaned.withColumn(\"NetRevenue\",(col(\"UnitsSold\") * col(\"UnitPrice\") * (1 - col(\"Discount\"))))"
   ]
  },
  {
   "cell_type": "code",
   "execution_count": 0,
   "metadata": {
    "application/vnd.databricks.v1+cell": {
     "cellMetadata": {
      "byteLimit": 2048000,
      "rowLimit": 10000
     },
     "inputWidgets": {},
     "nuid": "59a697bb-9d2b-4bea-96b4-e4268ad86cb6",
     "showTitle": false,
     "tableResultSettingsMap": {},
     "title": ""
    }
   },
   "outputs": [
    {
     "output_type": "display_data",
     "data": {
      "text/html": [
       "<style scoped>\n",
       "  .table-result-container {\n",
       "    max-height: 300px;\n",
       "    overflow: auto;\n",
       "  }\n",
       "  table, th, td {\n",
       "    border: 1px solid black;\n",
       "    border-collapse: collapse;\n",
       "  }\n",
       "  th, td {\n",
       "    padding: 5px;\n",
       "  }\n",
       "  th {\n",
       "    text-align: left;\n",
       "  }\n",
       "</style><div class='table-result-container'><table class='table-result'><thead style='background-color: white'><tr><th>DIM_ProductId</th><th>DIM_StoreId</th><th>DIM_EmployeeId</th><th>UnitsSold</th><th>UnitPrice</th><th>Discount</th><th>SaleDate</th><th>NetRevenue</th></tr></thead><tbody><tr><td>0ee892f6bcd5fe280d3d4ccfd72a138675d0514a58e1335c6a48b02823bb8156</td><td>3c7aa2361bb113e0892437ecba18d0fca00119aefb95552a6b18bb7eee14759a</td><td>7e6b7470e0c5045a1797405ca77f04a0ba3c1e2e2e88bf125d9a33d10b597eac</td><td>12.0</td><td>279.35</td><td>5.0</td><td>2022-12-14</td><td>-13408.800000000001</td></tr><tr><td>c37d4ae373d30210c6e3b8760d2e14d3f1ce92979c432aa3ccef3493b5ef97b8</td><td>20f1ebafb8d3513848d887c5554eb0ce0ea2cc393afc88041813c6f9714ee7df</td><td>0f0a2f01281855e40cd8674f9192e6736b34aa8fc5f0478d71361f8a8412ba56</td><td>33.67</td><td>272.49</td><td>0.0</td><td>2023-02-24</td><td>9174.7383</td></tr><tr><td>a8406b374712399cebdf16a3e8a8c56cf72bf72db75cb2ad0dc3a1ff71e61285</td><td>d99aca1849c5560475ec973a6220e019f1b32f02cf85be1fdad144ec31466970</td><td>fcabe27a77b7b0062b0c99723dbfa1e531629cccb118cb71f9c41d22a9aba099</td><td>33.67</td><td>484.75</td><td>15.0</td><td>2025-03-24</td><td>-228501.45500000002</td></tr><tr><td>6a421110b266104bf1cf67be336c9ca4cfff1f897b231e0631948bb3f034677e</td><td>84b0247bf1c9e21f1a7befa453f14c708b5be10d1f352da6b89183f8d691ecc2</td><td>c93c0a4829fd929a76a46896a25c78a5e14ba88c21b0e526dbc45c4e5378ea90</td><td>26.0</td><td>205.74</td><td>10.0</td><td>2023-09-30</td><td>-48143.159999999996</td></tr><tr><td>8ff5e4961ecd6be9af8b4301fd055a9fb74cc9d9345e154247fdb1ba69cc53aa</td><td>4bdb0c80a77b7ad25194de65cb257a855aef4714db3c3562712c670228caa9da</td><td>c4a16c19bcbaa9d8754690e3a800e18c1e1ee9c48dde85e5b64bcf7f30578cab</td><td>46.0</td><td>20.25</td><td>5.0</td><td>2022-10-14</td><td>-3726.0</td></tr><tr><td>8ff5e4961ecd6be9af8b4301fd055a9fb74cc9d9345e154247fdb1ba69cc53aa</td><td>24007c12903a7fd1b36a5faa4c4069a2be77b043fb7b335f4a558f650aa68072</td><td>c4a16c19bcbaa9d8754690e3a800e18c1e1ee9c48dde85e5b64bcf7f30578cab</td><td>22.5</td><td>361.06</td><td>10.0</td><td>2024-02-23</td><td>-73114.65000000001</td></tr><tr><td>86ebe6b6839b1f0b802dc9acb8b3ac28ed84edd9496e774602b4bb858ac1ee21</td><td>411dea8e689cd912cd11682ee1f8b3ddbe7a4b413e89be652757c39f04f2ec60</td><td>fdedff2cb72a6a9be5669b3ceb5a76b5954802411dda3d1e83ddb183d5a86548</td><td>37.0</td><td>492.65</td><td>5.0</td><td>2024-05-06</td><td>-72912.2</td></tr><tr><td>fc08e15f7ca6c6df9df7da9e4815aaf89a29e1e19459ee7d969019e8cbb37123</td><td>76868e571d2e34422cf3c39e724b18da8fe589d29e3bd589ee5390c548aaabd5</td><td>27d0986b4172fcb4be66444087e6bced12fe736c8e1a53d6f5144aea5778742c</td><td>37.0</td><td>293.87</td><td>15.0</td><td>2023-04-04</td><td>-152224.66</td></tr><tr><td>807d270019a32fa7c40a2b8931312f136363e6bf9793576c7ab67fd901472887</td><td>24007c12903a7fd1b36a5faa4c4069a2be77b043fb7b335f4a558f650aa68072</td><td>5b35a50e37f2fb896eef5da16148195eff3e208575ad22d8a6edfbff8511201c</td><td>23.0</td><td>189.47</td><td>15.0</td><td>2022-12-26</td><td>-61009.340000000004</td></tr><tr><td>0ee892f6bcd5fe280d3d4ccfd72a138675d0514a58e1335c6a48b02823bb8156</td><td>20f1ebafb8d3513848d887c5554eb0ce0ea2cc393afc88041813c6f9714ee7df</td><td>11e3df9450f3951d15425406cfd773e170e7e53297b071b8dfcfa87a688599c3</td><td>25.0</td><td>359.08</td><td>10.0</td><td>2022-10-28</td><td>-80793.0</td></tr><tr><td>98a0a870ebb0f5e6b5b5cdf00b618fafcb2a3d33b41e56d92c57818ac224b5e7</td><td>1120c453edb7620e31fdc4578bc15c8cb5aa664c7d30218eefcaec0b67e511ce</td><td>c4a16c19bcbaa9d8754690e3a800e18c1e1ee9c48dde85e5b64bcf7f30578cab</td><td>33.67</td><td>438.28</td><td>0.0</td><td>2025-05-12</td><td>14756.8876</td></tr><tr><td>238ae8d501ef46b11057593024310b28ca7a6704f4e6d676e5ae83fb2d7be6bb</td><td>30d46cf1deb74c2d33b4ea7e7f6798ae0623d5195c080721dbf022942ba48b72</td><td>b835f9e7348786c13b9930e4f0a919905909ac6d8a4c5341d1131e7f0830f2a8</td><td>33.67</td><td>283.25</td><td>0.0</td><td>2024-11-14</td><td>9537.0275</td></tr><tr><td>36fc80bfe93a526d8a175456e8243770785451a22d4ce473e3bbf391080eeba1</td><td>cd1aac1b6cedfa5d51c325a3c19d2132ce133ac285ce754fdf436527f68ab882</td><td>974149aaad371da29abd2bd4c468eae5d3c2338b9123407191cce017a2080c9a</td><td>26.0</td><td>490.01</td><td>10.0</td><td>2025-05-20</td><td>-114662.34</td></tr><tr><td>b24a9f4fedbb73a4cc882922b4a8823167815ae6edd96114e17f465303462ca3</td><td>eaaa9336e570e385b77b0050a85962732193ca23004af89ae72f2889abd91bd3</td><td>aa0c6ac3926bac87bb0fd31bd224316a0dc1b35d23854551724f009dd4112688</td><td>15.0</td><td>139.58</td><td>5.0</td><td>2023-11-09</td><td>-8374.800000000001</td></tr><tr><td>dcd1602d12efc29c8c4598b7843ec57a534683119f15c2042695e5fe71031ffd</td><td>3cc867d96e3527c321b9556c784adf270e1e17cd22966fad45385f46ea9f6b99</td><td>c82a79bc8cfdc02531867ce5855ecbaa24d8c3796c6f1401f5e519bace6667b0</td><td>26.0</td><td>67.66</td><td>15.0</td><td>2025-03-27</td><td>-24628.239999999998</td></tr><tr><td>27280aade539db2d7433159d56c762fc2f0d86f6c030d9edc55eaaf355997161</td><td>3c7aa2361bb113e0892437ecba18d0fca00119aefb95552a6b18bb7eee14759a</td><td>897bf5eaa94f46613651029b33161e9f20a3b60c3f084b913e3c1fb19b720bf3</td><td>19.0</td><td>330.2</td><td>10.0</td><td>2022-12-16</td><td>-56464.200000000004</td></tr><tr><td>8ff5e4961ecd6be9af8b4301fd055a9fb74cc9d9345e154247fdb1ba69cc53aa</td><td>3cc867d96e3527c321b9556c784adf270e1e17cd22966fad45385f46ea9f6b99</td><td>20d4f2a553ffe62b74d0fe96b1d0ab439d1aa91793df5952dff41d967bf4dbe0</td><td>7.0</td><td>290.63</td><td>15.0</td><td>2022-07-28</td><td>-28481.739999999998</td></tr><tr><td>d77d44bf969beb3dbe1c220e980137a5a50d692fcb5488788dcab5776eea5935</td><td>94ba623007bdf38a8d9dd25b359ba7a49b0a434a8c49e2aaff76cc12c50a8a77</td><td>8b9d3284385f39a45911d6eb2bb4611a58d6ec152bee163ad1e886bd1083cd46</td><td>7.0</td><td>349.27</td><td>10.0</td><td>2022-07-04</td><td>-22004.01</td></tr><tr><td>4e83a8d47b66443b97bb7351dc7523efa2e559dc3007eaa8c4eab1eb916eb8a6</td><td>20f1ebafb8d3513848d887c5554eb0ce0ea2cc393afc88041813c6f9714ee7df</td><td>c4a16c19bcbaa9d8754690e3a800e18c1e1ee9c48dde85e5b64bcf7f30578cab</td><td>22.5</td><td>267.61</td><td>0.0</td><td>2022-11-27</td><td>6021.225</td></tr><tr><td>5982b0d5b073ed72c5439a49284e10435da5e94149484c89d95c921e494b63b0</td><td>4bdb0c80a77b7ad25194de65cb257a855aef4714db3c3562712c670228caa9da</td><td>755aa136a266d35e2256de8ac6c7bdefcf4250ba3df6c3d855c840a80f7c5003</td><td>41.0</td><td>52.57</td><td>10.0</td><td>2025-03-16</td><td>-19398.329999999998</td></tr><tr><td>9ae454dffe58b2f08d2b131a1c67ed011b6a9dcef7629f2d96ecf9689831e573</td><td>20f1ebafb8d3513848d887c5554eb0ce0ea2cc393afc88041813c6f9714ee7df</td><td>8c50f7daf0f1874fd7161d15722ff921db0b280d233e9c5b71438dbd7a0b6160</td><td>33.67</td><td>85.99</td><td>0.0</td><td>2024-03-05</td><td>2895.2833</td></tr><tr><td>cd2f205a3b37acc265cf4867714abf35098ab215ba53c4864cd498abeda41f19</td><td>d99aca1849c5560475ec973a6220e019f1b32f02cf85be1fdad144ec31466970</td><td>b835f9e7348786c13b9930e4f0a919905909ac6d8a4c5341d1131e7f0830f2a8</td><td>26.0</td><td>293.87</td><td>5.0</td><td>2025-04-06</td><td>-30562.48</td></tr><tr><td>b5c80882f8e29da43355e05bb4fef15d73e22fc3e8a99209a389132cb1eaa6f2</td><td>1120c453edb7620e31fdc4578bc15c8cb5aa664c7d30218eefcaec0b67e511ce</td><td>d88343e0454464b75c638796b080b7c368ac3e9b1bdb7c02093294ee1adf62ea</td><td>22.0</td><td>444.29</td><td>5.0</td><td>2024-03-05</td><td>-39097.520000000004</td></tr><tr><td>238ae8d501ef46b11057593024310b28ca7a6704f4e6d676e5ae83fb2d7be6bb</td><td>7099b4f2df85bf9ad664e463e2249d680dea06f443cc29fa642b9c534af97176</td><td>880162d4763b81e4ac57db4b957d788ae22f0ff2f3673c6d7c15f3a56a63ea54</td><td>41.0</td><td>283.25</td><td>0.0</td><td>2023-02-06</td><td>11613.25</td></tr><tr><td>b5c80882f8e29da43355e05bb4fef15d73e22fc3e8a99209a389132cb1eaa6f2</td><td>4c6dd1ba6ec7b756e0b6aa652820371fda0dba62811e1a54b7e45a93fe237c50</td><td>8b9d3284385f39a45911d6eb2bb4611a58d6ec152bee163ad1e886bd1083cd46</td><td>16.0</td><td>238.49</td><td>0.0</td><td>2024-08-27</td><td>3815.84</td></tr><tr><td>a50a4d5a998a5462879a924b0479b4172af8a18f7c0bf80be21a80403f297651</td><td>32ffe22289148a4b36d1d7ce2f1069e9f1640be9bc6c2d9c21142be14fd9f06a</td><td>b90eb8c52995b65d912ee69813964cf8b27d10fea22e5176a0efde3a2c331ad0</td><td>33.67</td><td>414.77</td><td>0.0</td><td>2023-01-18</td><td>13965.3059</td></tr><tr><td>c2d01848f52f9fc1a7a28d06ec3d1a8de97a80a450b8788db43999fe58fb954c</td><td>4d4ed5d27e052c65873ccf14e3fa6f04f7943793bef24189c4c991339564e646</td><td>e3729a173a8c99d2fbdf176c56d695c1576bcc8e1a39a695a626c2fb1badb7a2</td><td>22.5</td><td>21.38</td><td>5.0</td><td>2022-10-11</td><td>-1924.1999999999998</td></tr><tr><td>3534d46d31abd5365ea939799b6dbaeabf66cee5d270b2c1016af31d4a076ba2</td><td>52c169196a9953e61a83757f71b0f57da580026c1a2083b89b43e0451523fef3</td><td>87ac6d5a4977bf75fdd34375ba02238b096ce6503cb4b6c9cd785114665a4d03</td><td>22.5</td><td>279.35</td><td>5.0</td><td>2023-10-11</td><td>-25141.500000000004</td></tr><tr><td>1839298fc3616a7fb8581b8eb5373248e28632ab00dfdec326053bc309f58bca</td><td>24007c12903a7fd1b36a5faa4c4069a2be77b043fb7b335f4a558f650aa68072</td><td>0b98f44b61cd1b506c8069d037184c4fde9d6b5b111aaa06ecb519d90d626be7</td><td>37.0</td><td>415.6</td><td>15.0</td><td>2022-08-23</td><td>-215280.80000000002</td></tr><tr><td>b5c80882f8e29da43355e05bb4fef15d73e22fc3e8a99209a389132cb1eaa6f2</td><td>b697ea824f0541eb515498c5eb6f2ce43947880d645dbe09ee14075c732aef48</td><td>790030832f4cf230a1582bbd8ae3645a73f6a8b1cfea54fb20961be4c49f39cd</td><td>22.5</td><td>359.04</td><td>0.0</td><td>2024-01-20</td><td>8078.400000000001</td></tr></tbody></table></div>"
      ]
     },
     "metadata": {
      "application/vnd.databricks.v1+output": {
       "addedWidgets": {},
       "aggData": [],
       "aggError": "",
       "aggOverflow": false,
       "aggSchema": [],
       "aggSeriesLimitReached": false,
       "aggType": "",
       "arguments": {},
       "columnCustomDisplayInfos": {},
       "data": [
        [
         "0ee892f6bcd5fe280d3d4ccfd72a138675d0514a58e1335c6a48b02823bb8156",
         "3c7aa2361bb113e0892437ecba18d0fca00119aefb95552a6b18bb7eee14759a",
         "7e6b7470e0c5045a1797405ca77f04a0ba3c1e2e2e88bf125d9a33d10b597eac",
         12.0,
         279.35,
         5.0,
         "2022-12-14",
         -13408.800000000001
        ],
        [
         "c37d4ae373d30210c6e3b8760d2e14d3f1ce92979c432aa3ccef3493b5ef97b8",
         "20f1ebafb8d3513848d887c5554eb0ce0ea2cc393afc88041813c6f9714ee7df",
         "0f0a2f01281855e40cd8674f9192e6736b34aa8fc5f0478d71361f8a8412ba56",
         33.67,
         272.49,
         0.0,
         "2023-02-24",
         9174.7383
        ],
        [
         "a8406b374712399cebdf16a3e8a8c56cf72bf72db75cb2ad0dc3a1ff71e61285",
         "d99aca1849c5560475ec973a6220e019f1b32f02cf85be1fdad144ec31466970",
         "fcabe27a77b7b0062b0c99723dbfa1e531629cccb118cb71f9c41d22a9aba099",
         33.67,
         484.75,
         15.0,
         "2025-03-24",
         -228501.45500000002
        ],
        [
         "6a421110b266104bf1cf67be336c9ca4cfff1f897b231e0631948bb3f034677e",
         "84b0247bf1c9e21f1a7befa453f14c708b5be10d1f352da6b89183f8d691ecc2",
         "c93c0a4829fd929a76a46896a25c78a5e14ba88c21b0e526dbc45c4e5378ea90",
         26.0,
         205.74,
         10.0,
         "2023-09-30",
         -48143.159999999996
        ],
        [
         "8ff5e4961ecd6be9af8b4301fd055a9fb74cc9d9345e154247fdb1ba69cc53aa",
         "4bdb0c80a77b7ad25194de65cb257a855aef4714db3c3562712c670228caa9da",
         "c4a16c19bcbaa9d8754690e3a800e18c1e1ee9c48dde85e5b64bcf7f30578cab",
         46.0,
         20.25,
         5.0,
         "2022-10-14",
         -3726.0
        ],
        [
         "8ff5e4961ecd6be9af8b4301fd055a9fb74cc9d9345e154247fdb1ba69cc53aa",
         "24007c12903a7fd1b36a5faa4c4069a2be77b043fb7b335f4a558f650aa68072",
         "c4a16c19bcbaa9d8754690e3a800e18c1e1ee9c48dde85e5b64bcf7f30578cab",
         22.5,
         361.06,
         10.0,
         "2024-02-23",
         -73114.65000000001
        ],
        [
         "86ebe6b6839b1f0b802dc9acb8b3ac28ed84edd9496e774602b4bb858ac1ee21",
         "411dea8e689cd912cd11682ee1f8b3ddbe7a4b413e89be652757c39f04f2ec60",
         "fdedff2cb72a6a9be5669b3ceb5a76b5954802411dda3d1e83ddb183d5a86548",
         37.0,
         492.65,
         5.0,
         "2024-05-06",
         -72912.2
        ],
        [
         "fc08e15f7ca6c6df9df7da9e4815aaf89a29e1e19459ee7d969019e8cbb37123",
         "76868e571d2e34422cf3c39e724b18da8fe589d29e3bd589ee5390c548aaabd5",
         "27d0986b4172fcb4be66444087e6bced12fe736c8e1a53d6f5144aea5778742c",
         37.0,
         293.87,
         15.0,
         "2023-04-04",
         -152224.66
        ],
        [
         "807d270019a32fa7c40a2b8931312f136363e6bf9793576c7ab67fd901472887",
         "24007c12903a7fd1b36a5faa4c4069a2be77b043fb7b335f4a558f650aa68072",
         "5b35a50e37f2fb896eef5da16148195eff3e208575ad22d8a6edfbff8511201c",
         23.0,
         189.47,
         15.0,
         "2022-12-26",
         -61009.340000000004
        ],
        [
         "0ee892f6bcd5fe280d3d4ccfd72a138675d0514a58e1335c6a48b02823bb8156",
         "20f1ebafb8d3513848d887c5554eb0ce0ea2cc393afc88041813c6f9714ee7df",
         "11e3df9450f3951d15425406cfd773e170e7e53297b071b8dfcfa87a688599c3",
         25.0,
         359.08,
         10.0,
         "2022-10-28",
         -80793.0
        ],
        [
         "98a0a870ebb0f5e6b5b5cdf00b618fafcb2a3d33b41e56d92c57818ac224b5e7",
         "1120c453edb7620e31fdc4578bc15c8cb5aa664c7d30218eefcaec0b67e511ce",
         "c4a16c19bcbaa9d8754690e3a800e18c1e1ee9c48dde85e5b64bcf7f30578cab",
         33.67,
         438.28,
         0.0,
         "2025-05-12",
         14756.8876
        ],
        [
         "238ae8d501ef46b11057593024310b28ca7a6704f4e6d676e5ae83fb2d7be6bb",
         "30d46cf1deb74c2d33b4ea7e7f6798ae0623d5195c080721dbf022942ba48b72",
         "b835f9e7348786c13b9930e4f0a919905909ac6d8a4c5341d1131e7f0830f2a8",
         33.67,
         283.25,
         0.0,
         "2024-11-14",
         9537.0275
        ],
        [
         "36fc80bfe93a526d8a175456e8243770785451a22d4ce473e3bbf391080eeba1",
         "cd1aac1b6cedfa5d51c325a3c19d2132ce133ac285ce754fdf436527f68ab882",
         "974149aaad371da29abd2bd4c468eae5d3c2338b9123407191cce017a2080c9a",
         26.0,
         490.01,
         10.0,
         "2025-05-20",
         -114662.34
        ],
        [
         "b24a9f4fedbb73a4cc882922b4a8823167815ae6edd96114e17f465303462ca3",
         "eaaa9336e570e385b77b0050a85962732193ca23004af89ae72f2889abd91bd3",
         "aa0c6ac3926bac87bb0fd31bd224316a0dc1b35d23854551724f009dd4112688",
         15.0,
         139.58,
         5.0,
         "2023-11-09",
         -8374.800000000001
        ],
        [
         "dcd1602d12efc29c8c4598b7843ec57a534683119f15c2042695e5fe71031ffd",
         "3cc867d96e3527c321b9556c784adf270e1e17cd22966fad45385f46ea9f6b99",
         "c82a79bc8cfdc02531867ce5855ecbaa24d8c3796c6f1401f5e519bace6667b0",
         26.0,
         67.66,
         15.0,
         "2025-03-27",
         -24628.239999999998
        ],
        [
         "27280aade539db2d7433159d56c762fc2f0d86f6c030d9edc55eaaf355997161",
         "3c7aa2361bb113e0892437ecba18d0fca00119aefb95552a6b18bb7eee14759a",
         "897bf5eaa94f46613651029b33161e9f20a3b60c3f084b913e3c1fb19b720bf3",
         19.0,
         330.2,
         10.0,
         "2022-12-16",
         -56464.200000000004
        ],
        [
         "8ff5e4961ecd6be9af8b4301fd055a9fb74cc9d9345e154247fdb1ba69cc53aa",
         "3cc867d96e3527c321b9556c784adf270e1e17cd22966fad45385f46ea9f6b99",
         "20d4f2a553ffe62b74d0fe96b1d0ab439d1aa91793df5952dff41d967bf4dbe0",
         7.0,
         290.63,
         15.0,
         "2022-07-28",
         -28481.739999999998
        ],
        [
         "d77d44bf969beb3dbe1c220e980137a5a50d692fcb5488788dcab5776eea5935",
         "94ba623007bdf38a8d9dd25b359ba7a49b0a434a8c49e2aaff76cc12c50a8a77",
         "8b9d3284385f39a45911d6eb2bb4611a58d6ec152bee163ad1e886bd1083cd46",
         7.0,
         349.27,
         10.0,
         "2022-07-04",
         -22004.01
        ],
        [
         "4e83a8d47b66443b97bb7351dc7523efa2e559dc3007eaa8c4eab1eb916eb8a6",
         "20f1ebafb8d3513848d887c5554eb0ce0ea2cc393afc88041813c6f9714ee7df",
         "c4a16c19bcbaa9d8754690e3a800e18c1e1ee9c48dde85e5b64bcf7f30578cab",
         22.5,
         267.61,
         0.0,
         "2022-11-27",
         6021.225
        ],
        [
         "5982b0d5b073ed72c5439a49284e10435da5e94149484c89d95c921e494b63b0",
         "4bdb0c80a77b7ad25194de65cb257a855aef4714db3c3562712c670228caa9da",
         "755aa136a266d35e2256de8ac6c7bdefcf4250ba3df6c3d855c840a80f7c5003",
         41.0,
         52.57,
         10.0,
         "2025-03-16",
         -19398.329999999998
        ],
        [
         "9ae454dffe58b2f08d2b131a1c67ed011b6a9dcef7629f2d96ecf9689831e573",
         "20f1ebafb8d3513848d887c5554eb0ce0ea2cc393afc88041813c6f9714ee7df",
         "8c50f7daf0f1874fd7161d15722ff921db0b280d233e9c5b71438dbd7a0b6160",
         33.67,
         85.99,
         0.0,
         "2024-03-05",
         2895.2833
        ],
        [
         "cd2f205a3b37acc265cf4867714abf35098ab215ba53c4864cd498abeda41f19",
         "d99aca1849c5560475ec973a6220e019f1b32f02cf85be1fdad144ec31466970",
         "b835f9e7348786c13b9930e4f0a919905909ac6d8a4c5341d1131e7f0830f2a8",
         26.0,
         293.87,
         5.0,
         "2025-04-06",
         -30562.48
        ],
        [
         "b5c80882f8e29da43355e05bb4fef15d73e22fc3e8a99209a389132cb1eaa6f2",
         "1120c453edb7620e31fdc4578bc15c8cb5aa664c7d30218eefcaec0b67e511ce",
         "d88343e0454464b75c638796b080b7c368ac3e9b1bdb7c02093294ee1adf62ea",
         22.0,
         444.29,
         5.0,
         "2024-03-05",
         -39097.520000000004
        ],
        [
         "238ae8d501ef46b11057593024310b28ca7a6704f4e6d676e5ae83fb2d7be6bb",
         "7099b4f2df85bf9ad664e463e2249d680dea06f443cc29fa642b9c534af97176",
         "880162d4763b81e4ac57db4b957d788ae22f0ff2f3673c6d7c15f3a56a63ea54",
         41.0,
         283.25,
         0.0,
         "2023-02-06",
         11613.25
        ],
        [
         "b5c80882f8e29da43355e05bb4fef15d73e22fc3e8a99209a389132cb1eaa6f2",
         "4c6dd1ba6ec7b756e0b6aa652820371fda0dba62811e1a54b7e45a93fe237c50",
         "8b9d3284385f39a45911d6eb2bb4611a58d6ec152bee163ad1e886bd1083cd46",
         16.0,
         238.49,
         0.0,
         "2024-08-27",
         3815.84
        ],
        [
         "a50a4d5a998a5462879a924b0479b4172af8a18f7c0bf80be21a80403f297651",
         "32ffe22289148a4b36d1d7ce2f1069e9f1640be9bc6c2d9c21142be14fd9f06a",
         "b90eb8c52995b65d912ee69813964cf8b27d10fea22e5176a0efde3a2c331ad0",
         33.67,
         414.77,
         0.0,
         "2023-01-18",
         13965.3059
        ],
        [
         "c2d01848f52f9fc1a7a28d06ec3d1a8de97a80a450b8788db43999fe58fb954c",
         "4d4ed5d27e052c65873ccf14e3fa6f04f7943793bef24189c4c991339564e646",
         "e3729a173a8c99d2fbdf176c56d695c1576bcc8e1a39a695a626c2fb1badb7a2",
         22.5,
         21.38,
         5.0,
         "2022-10-11",
         -1924.1999999999998
        ],
        [
         "3534d46d31abd5365ea939799b6dbaeabf66cee5d270b2c1016af31d4a076ba2",
         "52c169196a9953e61a83757f71b0f57da580026c1a2083b89b43e0451523fef3",
         "87ac6d5a4977bf75fdd34375ba02238b096ce6503cb4b6c9cd785114665a4d03",
         22.5,
         279.35,
         5.0,
         "2023-10-11",
         -25141.500000000004
        ],
        [
         "1839298fc3616a7fb8581b8eb5373248e28632ab00dfdec326053bc309f58bca",
         "24007c12903a7fd1b36a5faa4c4069a2be77b043fb7b335f4a558f650aa68072",
         "0b98f44b61cd1b506c8069d037184c4fde9d6b5b111aaa06ecb519d90d626be7",
         37.0,
         415.6,
         15.0,
         "2022-08-23",
         -215280.80000000002
        ],
        [
         "b5c80882f8e29da43355e05bb4fef15d73e22fc3e8a99209a389132cb1eaa6f2",
         "b697ea824f0541eb515498c5eb6f2ce43947880d645dbe09ee14075c732aef48",
         "790030832f4cf230a1582bbd8ae3645a73f6a8b1cfea54fb20961be4c49f39cd",
         22.5,
         359.04,
         0.0,
         "2024-01-20",
         8078.400000000001
        ]
       ],
       "datasetInfos": [],
       "dbfsResultPath": null,
       "isJsonSchema": true,
       "metadata": {},
       "overflow": false,
       "plotOptions": {
        "customPlotOptions": {},
        "displayType": "table",
        "pivotAggregation": null,
        "pivotColumns": null,
        "xColumns": null,
        "yColumns": null
       },
       "removedWidgets": [],
       "schema": [
        {
         "metadata": "{}",
         "name": "DIM_ProductId",
         "type": "\"string\""
        },
        {
         "metadata": "{}",
         "name": "DIM_StoreId",
         "type": "\"string\""
        },
        {
         "metadata": "{}",
         "name": "DIM_EmployeeId",
         "type": "\"string\""
        },
        {
         "metadata": "{}",
         "name": "UnitsSold",
         "type": "\"double\""
        },
        {
         "metadata": "{}",
         "name": "UnitPrice",
         "type": "\"double\""
        },
        {
         "metadata": "{}",
         "name": "Discount",
         "type": "\"double\""
        },
        {
         "metadata": "{\"__detected_date_formats\":\"yyyy-M-d\"}",
         "name": "SaleDate",
         "type": "\"date\""
        },
        {
         "metadata": "{}",
         "name": "NetRevenue",
         "type": "\"double\""
        }
       ],
       "type": "table"
      }
     },
     "output_type": "display_data"
    }
   ],
   "source": [
    "display(df_fact_cleaned)"
   ]
  },
  {
   "cell_type": "code",
   "execution_count": 0,
   "metadata": {
    "application/vnd.databricks.v1+cell": {
     "cellMetadata": {
      "byteLimit": 2048000,
      "rowLimit": 10000
     },
     "inputWidgets": {},
     "nuid": "59730450-b43e-4d1f-8829-a641a70a3b24",
     "showTitle": false,
     "tableResultSettingsMap": {},
     "title": ""
    }
   },
   "outputs": [],
   "source": [
    "df_fact_cleaned.write.format(\"delta\").mode(\"overwrite\").option(\"overwriteSchema\", \"true\").save(\"/delta/df_fact_cleaned\")\n"
   ]
  },
  {
   "cell_type": "code",
   "execution_count": 0,
   "metadata": {
    "application/vnd.databricks.v1+cell": {
     "cellMetadata": {
      "byteLimit": 2048000,
      "rowLimit": 10000
     },
     "inputWidgets": {},
     "nuid": "0fdf9827-ae20-438c-a309-d62f99749a99",
     "showTitle": false,
     "tableResultSettingsMap": {},
     "title": ""
    }
   },
   "outputs": [
    {
     "output_type": "stream",
     "name": "stdout",
     "output_type": "stream",
     "text": [
      "Invalid DIM_ProductId rows in FACT:\n+-------------+-----------+--------------+---------+---------+--------+--------+----------+\n|DIM_ProductId|DIM_StoreId|DIM_EmployeeId|UnitsSold|UnitPrice|Discount|SaleDate|NetRevenue|\n+-------------+-----------+--------------+---------+---------+--------+--------+----------+\n+-------------+-----------+--------------+---------+---------+--------+--------+----------+\n\n"
     ]
    }
   ],
   "source": [
    "invalid_products = df_fact_cleaned.join(\n",
    "    df1.select(\"DIM_ProductId\"),\n",
    "    on=\"DIM_ProductId\",\n",
    "    how=\"left_anti\"\n",
    ")\n",
    "\n",
    "print(\"Invalid DIM_ProductId rows in FACT:\")\n",
    "invalid_products.show()"
   ]
  },
  {
   "cell_type": "code",
   "execution_count": 0,
   "metadata": {
    "application/vnd.databricks.v1+cell": {
     "cellMetadata": {
      "byteLimit": 2048000,
      "rowLimit": 10000
     },
     "inputWidgets": {},
     "nuid": "427e77ee-b5bd-4c69-b5fb-941952ca0a1e",
     "showTitle": false,
     "tableResultSettingsMap": {},
     "title": ""
    }
   },
   "outputs": [
    {
     "output_type": "stream",
     "name": "stdout",
     "output_type": "stream",
     "text": [
      "Invalid DIM_StoreId rows in FACT:\n+-----------+-------------+--------------+---------+---------+--------+--------+----------+\n|DIM_StoreId|DIM_ProductId|DIM_EmployeeId|UnitsSold|UnitPrice|Discount|SaleDate|NetRevenue|\n+-----------+-------------+--------------+---------+---------+--------+--------+----------+\n+-----------+-------------+--------------+---------+---------+--------+--------+----------+\n\n"
     ]
    }
   ],
   "source": [
    "invalid_stores = df_fact_cleaned.join(\n",
    "    df2.select(\"DIM_StoreId\"),\n",
    "    on=\"DIM_StoreId\",\n",
    "    how=\"left_anti\"\n",
    ")\n",
    "\n",
    "print(\"Invalid DIM_StoreId rows in FACT:\")\n",
    "invalid_stores.show()"
   ]
  },
  {
   "cell_type": "code",
   "execution_count": 0,
   "metadata": {
    "application/vnd.databricks.v1+cell": {
     "cellMetadata": {
      "byteLimit": 2048000,
      "rowLimit": 10000
     },
     "inputWidgets": {},
     "nuid": "8e670950-774d-4fd7-9050-f54891c839b3",
     "showTitle": false,
     "tableResultSettingsMap": {},
     "title": ""
    }
   },
   "outputs": [
    {
     "output_type": "stream",
     "name": "stdout",
     "output_type": "stream",
     "text": [
      "Invalid DIM_EmployeeId rows in FACT:\n+--------------+-------------+-----------+---------+---------+--------+--------+----------+\n|DIM_EmployeeId|DIM_ProductId|DIM_StoreId|UnitsSold|UnitPrice|Discount|SaleDate|NetRevenue|\n+--------------+-------------+-----------+---------+---------+--------+--------+----------+\n+--------------+-------------+-----------+---------+---------+--------+--------+----------+\n\n"
     ]
    }
   ],
   "source": [
    "invalid_employees = df_fact_cleaned.join(\n",
    "    df3.select(\"DIM_EmployeeId\"),\n",
    "    on=\"DIM_EmployeeId\",\n",
    "    how=\"left_anti\"\n",
    ")\n",
    "\n",
    "print(\"Invalid DIM_EmployeeId rows in FACT:\")\n",
    "invalid_employees.show()"
   ]
  },
  {
   "cell_type": "markdown",
   "metadata": {
    "application/vnd.databricks.v1+cell": {
     "cellMetadata": {},
     "inputWidgets": {},
     "nuid": "1cac57c7-3948-4bfb-90eb-18e7feadca96",
     "showTitle": false,
     "tableResultSettingsMap": {},
     "title": ""
    }
   },
   "source": [
    "Every table showed empty columns and only header which shows all surrogate keys in df_fact_cleaned match correctly with their respective dimension tables.\n",
    "This is because :\n",
    "||left_anti join is empty\t Passed\t Every DIM_*Id in FACT exists in the respective DIM table||\n",
    "||No missing keys\tPassed\tsuccessfully replaced natural keys with surrogate keys||\n",
    "||Data integrity preserved\tConfirmed\tForeign key relationships are correctly established||\n"
   ]
  }
 ],
 "metadata": {
  "application/vnd.databricks.v1+notebook": {
   "computePreferences": null,
   "dashboards": [],
   "environmentMetadata": {
    "base_environment": "",
    "environment_version": "1"
   },
   "inputWidgetPreferences": null,
   "language": "python",
   "notebookMetadata": {
    "pythonIndentUnit": 4
   },
   "notebookName": "Fact_Cleaned 17:45:30",
   "widgets": {}
  }
 },
 "nbformat": 4,
 "nbformat_minor": 0
}